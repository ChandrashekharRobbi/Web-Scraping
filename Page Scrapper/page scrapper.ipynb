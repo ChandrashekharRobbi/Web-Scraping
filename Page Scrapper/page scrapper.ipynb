{
 "cells": [
  {
   "cell_type": "markdown",
   "id": "154aebdf",
   "metadata": {},
   "source": [
    "# Page Scrapper\n",
    "\n",
    "we are going to scrape the data from below website\n",
    "\n",
    "> https://quotes.toscrape.com/\n",
    "    \n"
   ]
  },
  {
   "cell_type": "code",
   "execution_count": 2,
   "id": "5ea9ad46",
   "metadata": {},
   "outputs": [],
   "source": [
    "import requests\n",
    "from bs4 import BeautifulSoup\n",
    "import pandas as pd"
   ]
  },
  {
   "cell_type": "code",
   "execution_count": 3,
   "id": "6ba32741",
   "metadata": {},
   "outputs": [],
   "source": [
    "link = 'https://quotes.toscrape.com/'"
   ]
  },
  {
   "cell_type": "code",
   "execution_count": 4,
   "id": "9e4b1f4f",
   "metadata": {},
   "outputs": [
    {
     "data": {
      "text/plain": [
       "'https://quotes.toscrape.com/'"
      ]
     },
     "execution_count": 4,
     "metadata": {},
     "output_type": "execute_result"
    }
   ],
   "source": [
    "link"
   ]
  },
  {
   "cell_type": "code",
   "execution_count": 5,
   "id": "ea477993",
   "metadata": {},
   "outputs": [],
   "source": [
    "res = requests.get(link)"
   ]
  },
  {
   "cell_type": "code",
   "execution_count": 6,
   "id": "32ebcc52",
   "metadata": {},
   "outputs": [],
   "source": [
    "html = res.text"
   ]
  },
  {
   "cell_type": "code",
   "execution_count": 7,
   "id": "291c3347",
   "metadata": {},
   "outputs": [
    {
     "data": {
      "text/plain": [
       "str"
      ]
     },
     "execution_count": 7,
     "metadata": {},
     "output_type": "execute_result"
    }
   ],
   "source": [
    "type(html)"
   ]
  },
  {
   "cell_type": "code",
   "execution_count": 8,
   "id": "2455a9bb",
   "metadata": {},
   "outputs": [],
   "source": [
    "with open('main.html', 'w' , encoding=\"utf-8\") as main:\n",
    "    main.write(html)"
   ]
  },
  {
   "cell_type": "markdown",
   "id": "df294040",
   "metadata": {},
   "source": [
    "## Scrapping Articles"
   ]
  },
  {
   "cell_type": "code",
   "execution_count": 9,
   "id": "3fcfca97",
   "metadata": {},
   "outputs": [],
   "source": [
    "res = requests.get(link)\n"
   ]
  },
  {
   "cell_type": "code",
   "execution_count": 10,
   "id": "9030d0ae",
   "metadata": {},
   "outputs": [],
   "source": [
    "soup = BeautifulSoup(res.text, 'html.parser')"
   ]
  },
  {
   "cell_type": "code",
   "execution_count": 11,
   "id": "41ad172f",
   "metadata": {},
   "outputs": [
    {
     "data": {
      "text/plain": [
       "<!DOCTYPE html>\n",
       "\n",
       "<html lang=\"en\">\n",
       "<head>\n",
       "<meta charset=\"utf-8\"/>\n",
       "<title>Quotes to Scrape</title>\n",
       "<link href=\"/static/bootstrap.min.css\" rel=\"stylesheet\"/>\n",
       "<link href=\"/static/main.css\" rel=\"stylesheet\"/>\n",
       "</head>\n",
       "<body>\n",
       "<div class=\"container\">\n",
       "<div class=\"row header-box\">\n",
       "<div class=\"col-md-8\">\n",
       "<h1>\n",
       "<a href=\"/\" style=\"text-decoration: none\">Quotes to Scrape</a>\n",
       "</h1>\n",
       "</div>\n",
       "<div class=\"col-md-4\">\n",
       "<p>\n",
       "<a href=\"/login\">Login</a>\n",
       "</p>\n",
       "</div>\n",
       "</div>\n",
       "<div class=\"row\">\n",
       "<div class=\"col-md-8\">\n",
       "<div class=\"quote\" itemscope=\"\" itemtype=\"http://schema.org/CreativeWork\">\n",
       "<span class=\"text\" itemprop=\"text\">“The world as we have created it is a process of our thinking. It cannot be changed without changing our thinking.”</span>\n",
       "<span>by <small class=\"author\" itemprop=\"author\">Albert Einstein</small>\n",
       "<a href=\"/author/Albert-Einstein\">(about)</a>\n",
       "</span>\n",
       "<div class=\"tags\">\n",
       "            Tags:\n",
       "            <meta class=\"keywords\" content=\"change,deep-thoughts,thinking,world\" itemprop=\"keywords\"/>\n",
       "<a class=\"tag\" href=\"/tag/change/page/1/\">change</a>\n",
       "<a class=\"tag\" href=\"/tag/deep-thoughts/page/1/\">deep-thoughts</a>\n",
       "<a class=\"tag\" href=\"/tag/thinking/page/1/\">thinking</a>\n",
       "<a class=\"tag\" href=\"/tag/world/page/1/\">world</a>\n",
       "</div>\n",
       "</div>\n",
       "<div class=\"quote\" itemscope=\"\" itemtype=\"http://schema.org/CreativeWork\">\n",
       "<span class=\"text\" itemprop=\"text\">“It is our choices, Harry, that show what we truly are, far more than our abilities.”</span>\n",
       "<span>by <small class=\"author\" itemprop=\"author\">J.K. Rowling</small>\n",
       "<a href=\"/author/J-K-Rowling\">(about)</a>\n",
       "</span>\n",
       "<div class=\"tags\">\n",
       "            Tags:\n",
       "            <meta class=\"keywords\" content=\"abilities,choices\" itemprop=\"keywords\"/>\n",
       "<a class=\"tag\" href=\"/tag/abilities/page/1/\">abilities</a>\n",
       "<a class=\"tag\" href=\"/tag/choices/page/1/\">choices</a>\n",
       "</div>\n",
       "</div>\n",
       "<div class=\"quote\" itemscope=\"\" itemtype=\"http://schema.org/CreativeWork\">\n",
       "<span class=\"text\" itemprop=\"text\">“There are only two ways to live your life. One is as though nothing is a miracle. The other is as though everything is a miracle.”</span>\n",
       "<span>by <small class=\"author\" itemprop=\"author\">Albert Einstein</small>\n",
       "<a href=\"/author/Albert-Einstein\">(about)</a>\n",
       "</span>\n",
       "<div class=\"tags\">\n",
       "            Tags:\n",
       "            <meta class=\"keywords\" content=\"inspirational,life,live,miracle,miracles\" itemprop=\"keywords\"/>\n",
       "<a class=\"tag\" href=\"/tag/inspirational/page/1/\">inspirational</a>\n",
       "<a class=\"tag\" href=\"/tag/life/page/1/\">life</a>\n",
       "<a class=\"tag\" href=\"/tag/live/page/1/\">live</a>\n",
       "<a class=\"tag\" href=\"/tag/miracle/page/1/\">miracle</a>\n",
       "<a class=\"tag\" href=\"/tag/miracles/page/1/\">miracles</a>\n",
       "</div>\n",
       "</div>\n",
       "<div class=\"quote\" itemscope=\"\" itemtype=\"http://schema.org/CreativeWork\">\n",
       "<span class=\"text\" itemprop=\"text\">“The person, be it gentleman or lady, who has not pleasure in a good novel, must be intolerably stupid.”</span>\n",
       "<span>by <small class=\"author\" itemprop=\"author\">Jane Austen</small>\n",
       "<a href=\"/author/Jane-Austen\">(about)</a>\n",
       "</span>\n",
       "<div class=\"tags\">\n",
       "            Tags:\n",
       "            <meta class=\"keywords\" content=\"aliteracy,books,classic,humor\" itemprop=\"keywords\"/>\n",
       "<a class=\"tag\" href=\"/tag/aliteracy/page/1/\">aliteracy</a>\n",
       "<a class=\"tag\" href=\"/tag/books/page/1/\">books</a>\n",
       "<a class=\"tag\" href=\"/tag/classic/page/1/\">classic</a>\n",
       "<a class=\"tag\" href=\"/tag/humor/page/1/\">humor</a>\n",
       "</div>\n",
       "</div>\n",
       "<div class=\"quote\" itemscope=\"\" itemtype=\"http://schema.org/CreativeWork\">\n",
       "<span class=\"text\" itemprop=\"text\">“Imperfection is beauty, madness is genius and it's better to be absolutely ridiculous than absolutely boring.”</span>\n",
       "<span>by <small class=\"author\" itemprop=\"author\">Marilyn Monroe</small>\n",
       "<a href=\"/author/Marilyn-Monroe\">(about)</a>\n",
       "</span>\n",
       "<div class=\"tags\">\n",
       "            Tags:\n",
       "            <meta class=\"keywords\" content=\"be-yourself,inspirational\" itemprop=\"keywords\"/>\n",
       "<a class=\"tag\" href=\"/tag/be-yourself/page/1/\">be-yourself</a>\n",
       "<a class=\"tag\" href=\"/tag/inspirational/page/1/\">inspirational</a>\n",
       "</div>\n",
       "</div>\n",
       "<div class=\"quote\" itemscope=\"\" itemtype=\"http://schema.org/CreativeWork\">\n",
       "<span class=\"text\" itemprop=\"text\">“Try not to become a man of success. Rather become a man of value.”</span>\n",
       "<span>by <small class=\"author\" itemprop=\"author\">Albert Einstein</small>\n",
       "<a href=\"/author/Albert-Einstein\">(about)</a>\n",
       "</span>\n",
       "<div class=\"tags\">\n",
       "            Tags:\n",
       "            <meta class=\"keywords\" content=\"adulthood,success,value\" itemprop=\"keywords\"/>\n",
       "<a class=\"tag\" href=\"/tag/adulthood/page/1/\">adulthood</a>\n",
       "<a class=\"tag\" href=\"/tag/success/page/1/\">success</a>\n",
       "<a class=\"tag\" href=\"/tag/value/page/1/\">value</a>\n",
       "</div>\n",
       "</div>\n",
       "<div class=\"quote\" itemscope=\"\" itemtype=\"http://schema.org/CreativeWork\">\n",
       "<span class=\"text\" itemprop=\"text\">“It is better to be hated for what you are than to be loved for what you are not.”</span>\n",
       "<span>by <small class=\"author\" itemprop=\"author\">André Gide</small>\n",
       "<a href=\"/author/Andre-Gide\">(about)</a>\n",
       "</span>\n",
       "<div class=\"tags\">\n",
       "            Tags:\n",
       "            <meta class=\"keywords\" content=\"life,love\" itemprop=\"keywords\"/>\n",
       "<a class=\"tag\" href=\"/tag/life/page/1/\">life</a>\n",
       "<a class=\"tag\" href=\"/tag/love/page/1/\">love</a>\n",
       "</div>\n",
       "</div>\n",
       "<div class=\"quote\" itemscope=\"\" itemtype=\"http://schema.org/CreativeWork\">\n",
       "<span class=\"text\" itemprop=\"text\">“I have not failed. I've just found 10,000 ways that won't work.”</span>\n",
       "<span>by <small class=\"author\" itemprop=\"author\">Thomas A. Edison</small>\n",
       "<a href=\"/author/Thomas-A-Edison\">(about)</a>\n",
       "</span>\n",
       "<div class=\"tags\">\n",
       "            Tags:\n",
       "            <meta class=\"keywords\" content=\"edison,failure,inspirational,paraphrased\" itemprop=\"keywords\"/>\n",
       "<a class=\"tag\" href=\"/tag/edison/page/1/\">edison</a>\n",
       "<a class=\"tag\" href=\"/tag/failure/page/1/\">failure</a>\n",
       "<a class=\"tag\" href=\"/tag/inspirational/page/1/\">inspirational</a>\n",
       "<a class=\"tag\" href=\"/tag/paraphrased/page/1/\">paraphrased</a>\n",
       "</div>\n",
       "</div>\n",
       "<div class=\"quote\" itemscope=\"\" itemtype=\"http://schema.org/CreativeWork\">\n",
       "<span class=\"text\" itemprop=\"text\">“A woman is like a tea bag; you never know how strong it is until it's in hot water.”</span>\n",
       "<span>by <small class=\"author\" itemprop=\"author\">Eleanor Roosevelt</small>\n",
       "<a href=\"/author/Eleanor-Roosevelt\">(about)</a>\n",
       "</span>\n",
       "<div class=\"tags\">\n",
       "            Tags:\n",
       "            <meta class=\"keywords\" content=\"misattributed-eleanor-roosevelt\" itemprop=\"keywords\"/>\n",
       "<a class=\"tag\" href=\"/tag/misattributed-eleanor-roosevelt/page/1/\">misattributed-eleanor-roosevelt</a>\n",
       "</div>\n",
       "</div>\n",
       "<div class=\"quote\" itemscope=\"\" itemtype=\"http://schema.org/CreativeWork\">\n",
       "<span class=\"text\" itemprop=\"text\">“A day without sunshine is like, you know, night.”</span>\n",
       "<span>by <small class=\"author\" itemprop=\"author\">Steve Martin</small>\n",
       "<a href=\"/author/Steve-Martin\">(about)</a>\n",
       "</span>\n",
       "<div class=\"tags\">\n",
       "            Tags:\n",
       "            <meta class=\"keywords\" content=\"humor,obvious,simile\" itemprop=\"keywords\"/>\n",
       "<a class=\"tag\" href=\"/tag/humor/page/1/\">humor</a>\n",
       "<a class=\"tag\" href=\"/tag/obvious/page/1/\">obvious</a>\n",
       "<a class=\"tag\" href=\"/tag/simile/page/1/\">simile</a>\n",
       "</div>\n",
       "</div>\n",
       "<nav>\n",
       "<ul class=\"pager\">\n",
       "<li class=\"next\">\n",
       "<a href=\"/page/2/\">Next <span aria-hidden=\"true\">→</span></a>\n",
       "</li>\n",
       "</ul>\n",
       "</nav>\n",
       "</div>\n",
       "<div class=\"col-md-4 tags-box\">\n",
       "<h2>Top Ten tags</h2>\n",
       "<span class=\"tag-item\">\n",
       "<a class=\"tag\" href=\"/tag/love/\" style=\"font-size: 28px\">love</a>\n",
       "</span>\n",
       "<span class=\"tag-item\">\n",
       "<a class=\"tag\" href=\"/tag/inspirational/\" style=\"font-size: 26px\">inspirational</a>\n",
       "</span>\n",
       "<span class=\"tag-item\">\n",
       "<a class=\"tag\" href=\"/tag/life/\" style=\"font-size: 26px\">life</a>\n",
       "</span>\n",
       "<span class=\"tag-item\">\n",
       "<a class=\"tag\" href=\"/tag/humor/\" style=\"font-size: 24px\">humor</a>\n",
       "</span>\n",
       "<span class=\"tag-item\">\n",
       "<a class=\"tag\" href=\"/tag/books/\" style=\"font-size: 22px\">books</a>\n",
       "</span>\n",
       "<span class=\"tag-item\">\n",
       "<a class=\"tag\" href=\"/tag/reading/\" style=\"font-size: 14px\">reading</a>\n",
       "</span>\n",
       "<span class=\"tag-item\">\n",
       "<a class=\"tag\" href=\"/tag/friendship/\" style=\"font-size: 10px\">friendship</a>\n",
       "</span>\n",
       "<span class=\"tag-item\">\n",
       "<a class=\"tag\" href=\"/tag/friends/\" style=\"font-size: 8px\">friends</a>\n",
       "</span>\n",
       "<span class=\"tag-item\">\n",
       "<a class=\"tag\" href=\"/tag/truth/\" style=\"font-size: 8px\">truth</a>\n",
       "</span>\n",
       "<span class=\"tag-item\">\n",
       "<a class=\"tag\" href=\"/tag/simile/\" style=\"font-size: 6px\">simile</a>\n",
       "</span>\n",
       "</div>\n",
       "</div>\n",
       "</div>\n",
       "<footer class=\"footer\">\n",
       "<div class=\"container\">\n",
       "<p class=\"text-muted\">\n",
       "                Quotes by: <a href=\"https://www.goodreads.com/quotes\">GoodReads.com</a>\n",
       "</p>\n",
       "<p class=\"copyright\">\n",
       "                Made with <span class=\"sh-red\">❤</span> by <a href=\"https://scrapinghub.com\">Scrapinghub</a>\n",
       "</p>\n",
       "</div>\n",
       "</footer>\n",
       "</body>\n",
       "</html>"
      ]
     },
     "execution_count": 11,
     "metadata": {},
     "output_type": "execute_result"
    }
   ],
   "source": [
    "soup"
   ]
  },
  {
   "cell_type": "code",
   "execution_count": 12,
   "id": "5335dc42",
   "metadata": {},
   "outputs": [
    {
     "name": "stdout",
     "output_type": "stream",
     "text": [
      "The world as we have created it is a process of our thinking. It cannot be changed without changing our thinking.\n"
     ]
    }
   ],
   "source": [
    "print(soup.find('span' , class_='text').text[1:-1])"
   ]
  },
  {
   "cell_type": "code",
   "execution_count": 13,
   "id": "403e3f54",
   "metadata": {},
   "outputs": [
    {
     "data": {
      "text/plain": [
       "[<span class=\"text\" itemprop=\"text\">“The world as we have created it is a process of our thinking. It cannot be changed without changing our thinking.”</span>,\n",
       " <span class=\"text\" itemprop=\"text\">“It is our choices, Harry, that show what we truly are, far more than our abilities.”</span>,\n",
       " <span class=\"text\" itemprop=\"text\">“There are only two ways to live your life. One is as though nothing is a miracle. The other is as though everything is a miracle.”</span>,\n",
       " <span class=\"text\" itemprop=\"text\">“The person, be it gentleman or lady, who has not pleasure in a good novel, must be intolerably stupid.”</span>,\n",
       " <span class=\"text\" itemprop=\"text\">“Imperfection is beauty, madness is genius and it's better to be absolutely ridiculous than absolutely boring.”</span>,\n",
       " <span class=\"text\" itemprop=\"text\">“Try not to become a man of success. Rather become a man of value.”</span>,\n",
       " <span class=\"text\" itemprop=\"text\">“It is better to be hated for what you are than to be loved for what you are not.”</span>,\n",
       " <span class=\"text\" itemprop=\"text\">“I have not failed. I've just found 10,000 ways that won't work.”</span>,\n",
       " <span class=\"text\" itemprop=\"text\">“A woman is like a tea bag; you never know how strong it is until it's in hot water.”</span>,\n",
       " <span class=\"text\" itemprop=\"text\">“A day without sunshine is like, you know, night.”</span>]"
      ]
     },
     "execution_count": 13,
     "metadata": {},
     "output_type": "execute_result"
    }
   ],
   "source": [
    "soup.find_all('span' , class_='text')"
   ]
  },
  {
   "cell_type": "code",
   "execution_count": 14,
   "id": "fd00b14c",
   "metadata": {},
   "outputs": [
    {
     "name": "stdout",
     "output_type": "stream",
     "text": [
      "The world as we have created it is a process of our thinking. It cannot be changed without changing our thinking.\n",
      "--\n",
      "It is our choices, Harry, that show what we truly are, far more than our abilities.\n",
      "--\n",
      "There are only two ways to live your life. One is as though nothing is a miracle. The other is as though everything is a miracle.\n",
      "--\n",
      "The person, be it gentleman or lady, who has not pleasure in a good novel, must be intolerably stupid.\n",
      "--\n",
      "Imperfection is beauty, madness is genius and it's better to be absolutely ridiculous than absolutely boring.\n",
      "--\n",
      "Try not to become a man of success. Rather become a man of value.\n",
      "--\n",
      "It is better to be hated for what you are than to be loved for what you are not.\n",
      "--\n",
      "I have not failed. I've just found 10,000 ways that won't work.\n",
      "--\n",
      "A woman is like a tea bag; you never know how strong it is until it's in hot water.\n",
      "--\n",
      "A day without sunshine is like, you know, night.\n",
      "--\n"
     ]
    }
   ],
   "source": [
    "for i in soup.find_all('span' , class_='text'):\n",
    "    print(i.text[1:-1])\n",
    "    print(\"--\")"
   ]
  },
  {
   "cell_type": "code",
   "execution_count": 15,
   "id": "25639062",
   "metadata": {},
   "outputs": [],
   "source": [
    "quotes = []\n",
    "\n",
    "for quote in soup.find_all('span', class_='text'):\n",
    "    quotes.append(quote.text[1:-1])"
   ]
  },
  {
   "cell_type": "code",
   "execution_count": 16,
   "id": "a84380c7",
   "metadata": {},
   "outputs": [
    {
     "data": {
      "text/plain": [
       "['The world as we have created it is a process of our thinking. It cannot be changed without changing our thinking.',\n",
       " 'It is our choices, Harry, that show what we truly are, far more than our abilities.',\n",
       " 'There are only two ways to live your life. One is as though nothing is a miracle. The other is as though everything is a miracle.',\n",
       " 'The person, be it gentleman or lady, who has not pleasure in a good novel, must be intolerably stupid.',\n",
       " \"Imperfection is beauty, madness is genius and it's better to be absolutely ridiculous than absolutely boring.\",\n",
       " 'Try not to become a man of success. Rather become a man of value.',\n",
       " 'It is better to be hated for what you are than to be loved for what you are not.',\n",
       " \"I have not failed. I've just found 10,000 ways that won't work.\",\n",
       " \"A woman is like a tea bag; you never know how strong it is until it's in hot water.\",\n",
       " 'A day without sunshine is like, you know, night.']"
      ]
     },
     "execution_count": 16,
     "metadata": {},
     "output_type": "execute_result"
    }
   ],
   "source": [
    "quotes"
   ]
  },
  {
   "cell_type": "markdown",
   "id": "ee9093e6",
   "metadata": {},
   "source": [
    "## Scraping Quotes with Author Details"
   ]
  },
  {
   "cell_type": "code",
   "execution_count": 17,
   "id": "74091cfe",
   "metadata": {},
   "outputs": [
    {
     "data": {
      "text/plain": [
       "[<div class=\"quote\" itemscope=\"\" itemtype=\"http://schema.org/CreativeWork\">\n",
       " <span class=\"text\" itemprop=\"text\">“The world as we have created it is a process of our thinking. It cannot be changed without changing our thinking.”</span>\n",
       " <span>by <small class=\"author\" itemprop=\"author\">Albert Einstein</small>\n",
       " <a href=\"/author/Albert-Einstein\">(about)</a>\n",
       " </span>\n",
       " <div class=\"tags\">\n",
       "             Tags:\n",
       "             <meta class=\"keywords\" content=\"change,deep-thoughts,thinking,world\" itemprop=\"keywords\"/>\n",
       " <a class=\"tag\" href=\"/tag/change/page/1/\">change</a>\n",
       " <a class=\"tag\" href=\"/tag/deep-thoughts/page/1/\">deep-thoughts</a>\n",
       " <a class=\"tag\" href=\"/tag/thinking/page/1/\">thinking</a>\n",
       " <a class=\"tag\" href=\"/tag/world/page/1/\">world</a>\n",
       " </div>\n",
       " </div>,\n",
       " <div class=\"quote\" itemscope=\"\" itemtype=\"http://schema.org/CreativeWork\">\n",
       " <span class=\"text\" itemprop=\"text\">“It is our choices, Harry, that show what we truly are, far more than our abilities.”</span>\n",
       " <span>by <small class=\"author\" itemprop=\"author\">J.K. Rowling</small>\n",
       " <a href=\"/author/J-K-Rowling\">(about)</a>\n",
       " </span>\n",
       " <div class=\"tags\">\n",
       "             Tags:\n",
       "             <meta class=\"keywords\" content=\"abilities,choices\" itemprop=\"keywords\"/>\n",
       " <a class=\"tag\" href=\"/tag/abilities/page/1/\">abilities</a>\n",
       " <a class=\"tag\" href=\"/tag/choices/page/1/\">choices</a>\n",
       " </div>\n",
       " </div>,\n",
       " <div class=\"quote\" itemscope=\"\" itemtype=\"http://schema.org/CreativeWork\">\n",
       " <span class=\"text\" itemprop=\"text\">“There are only two ways to live your life. One is as though nothing is a miracle. The other is as though everything is a miracle.”</span>\n",
       " <span>by <small class=\"author\" itemprop=\"author\">Albert Einstein</small>\n",
       " <a href=\"/author/Albert-Einstein\">(about)</a>\n",
       " </span>\n",
       " <div class=\"tags\">\n",
       "             Tags:\n",
       "             <meta class=\"keywords\" content=\"inspirational,life,live,miracle,miracles\" itemprop=\"keywords\"/>\n",
       " <a class=\"tag\" href=\"/tag/inspirational/page/1/\">inspirational</a>\n",
       " <a class=\"tag\" href=\"/tag/life/page/1/\">life</a>\n",
       " <a class=\"tag\" href=\"/tag/live/page/1/\">live</a>\n",
       " <a class=\"tag\" href=\"/tag/miracle/page/1/\">miracle</a>\n",
       " <a class=\"tag\" href=\"/tag/miracles/page/1/\">miracles</a>\n",
       " </div>\n",
       " </div>,\n",
       " <div class=\"quote\" itemscope=\"\" itemtype=\"http://schema.org/CreativeWork\">\n",
       " <span class=\"text\" itemprop=\"text\">“The person, be it gentleman or lady, who has not pleasure in a good novel, must be intolerably stupid.”</span>\n",
       " <span>by <small class=\"author\" itemprop=\"author\">Jane Austen</small>\n",
       " <a href=\"/author/Jane-Austen\">(about)</a>\n",
       " </span>\n",
       " <div class=\"tags\">\n",
       "             Tags:\n",
       "             <meta class=\"keywords\" content=\"aliteracy,books,classic,humor\" itemprop=\"keywords\"/>\n",
       " <a class=\"tag\" href=\"/tag/aliteracy/page/1/\">aliteracy</a>\n",
       " <a class=\"tag\" href=\"/tag/books/page/1/\">books</a>\n",
       " <a class=\"tag\" href=\"/tag/classic/page/1/\">classic</a>\n",
       " <a class=\"tag\" href=\"/tag/humor/page/1/\">humor</a>\n",
       " </div>\n",
       " </div>,\n",
       " <div class=\"quote\" itemscope=\"\" itemtype=\"http://schema.org/CreativeWork\">\n",
       " <span class=\"text\" itemprop=\"text\">“Imperfection is beauty, madness is genius and it's better to be absolutely ridiculous than absolutely boring.”</span>\n",
       " <span>by <small class=\"author\" itemprop=\"author\">Marilyn Monroe</small>\n",
       " <a href=\"/author/Marilyn-Monroe\">(about)</a>\n",
       " </span>\n",
       " <div class=\"tags\">\n",
       "             Tags:\n",
       "             <meta class=\"keywords\" content=\"be-yourself,inspirational\" itemprop=\"keywords\"/>\n",
       " <a class=\"tag\" href=\"/tag/be-yourself/page/1/\">be-yourself</a>\n",
       " <a class=\"tag\" href=\"/tag/inspirational/page/1/\">inspirational</a>\n",
       " </div>\n",
       " </div>,\n",
       " <div class=\"quote\" itemscope=\"\" itemtype=\"http://schema.org/CreativeWork\">\n",
       " <span class=\"text\" itemprop=\"text\">“Try not to become a man of success. Rather become a man of value.”</span>\n",
       " <span>by <small class=\"author\" itemprop=\"author\">Albert Einstein</small>\n",
       " <a href=\"/author/Albert-Einstein\">(about)</a>\n",
       " </span>\n",
       " <div class=\"tags\">\n",
       "             Tags:\n",
       "             <meta class=\"keywords\" content=\"adulthood,success,value\" itemprop=\"keywords\"/>\n",
       " <a class=\"tag\" href=\"/tag/adulthood/page/1/\">adulthood</a>\n",
       " <a class=\"tag\" href=\"/tag/success/page/1/\">success</a>\n",
       " <a class=\"tag\" href=\"/tag/value/page/1/\">value</a>\n",
       " </div>\n",
       " </div>,\n",
       " <div class=\"quote\" itemscope=\"\" itemtype=\"http://schema.org/CreativeWork\">\n",
       " <span class=\"text\" itemprop=\"text\">“It is better to be hated for what you are than to be loved for what you are not.”</span>\n",
       " <span>by <small class=\"author\" itemprop=\"author\">André Gide</small>\n",
       " <a href=\"/author/Andre-Gide\">(about)</a>\n",
       " </span>\n",
       " <div class=\"tags\">\n",
       "             Tags:\n",
       "             <meta class=\"keywords\" content=\"life,love\" itemprop=\"keywords\"/>\n",
       " <a class=\"tag\" href=\"/tag/life/page/1/\">life</a>\n",
       " <a class=\"tag\" href=\"/tag/love/page/1/\">love</a>\n",
       " </div>\n",
       " </div>,\n",
       " <div class=\"quote\" itemscope=\"\" itemtype=\"http://schema.org/CreativeWork\">\n",
       " <span class=\"text\" itemprop=\"text\">“I have not failed. I've just found 10,000 ways that won't work.”</span>\n",
       " <span>by <small class=\"author\" itemprop=\"author\">Thomas A. Edison</small>\n",
       " <a href=\"/author/Thomas-A-Edison\">(about)</a>\n",
       " </span>\n",
       " <div class=\"tags\">\n",
       "             Tags:\n",
       "             <meta class=\"keywords\" content=\"edison,failure,inspirational,paraphrased\" itemprop=\"keywords\"/>\n",
       " <a class=\"tag\" href=\"/tag/edison/page/1/\">edison</a>\n",
       " <a class=\"tag\" href=\"/tag/failure/page/1/\">failure</a>\n",
       " <a class=\"tag\" href=\"/tag/inspirational/page/1/\">inspirational</a>\n",
       " <a class=\"tag\" href=\"/tag/paraphrased/page/1/\">paraphrased</a>\n",
       " </div>\n",
       " </div>,\n",
       " <div class=\"quote\" itemscope=\"\" itemtype=\"http://schema.org/CreativeWork\">\n",
       " <span class=\"text\" itemprop=\"text\">“A woman is like a tea bag; you never know how strong it is until it's in hot water.”</span>\n",
       " <span>by <small class=\"author\" itemprop=\"author\">Eleanor Roosevelt</small>\n",
       " <a href=\"/author/Eleanor-Roosevelt\">(about)</a>\n",
       " </span>\n",
       " <div class=\"tags\">\n",
       "             Tags:\n",
       "             <meta class=\"keywords\" content=\"misattributed-eleanor-roosevelt\" itemprop=\"keywords\"/>\n",
       " <a class=\"tag\" href=\"/tag/misattributed-eleanor-roosevelt/page/1/\">misattributed-eleanor-roosevelt</a>\n",
       " </div>\n",
       " </div>,\n",
       " <div class=\"quote\" itemscope=\"\" itemtype=\"http://schema.org/CreativeWork\">\n",
       " <span class=\"text\" itemprop=\"text\">“A day without sunshine is like, you know, night.”</span>\n",
       " <span>by <small class=\"author\" itemprop=\"author\">Steve Martin</small>\n",
       " <a href=\"/author/Steve-Martin\">(about)</a>\n",
       " </span>\n",
       " <div class=\"tags\">\n",
       "             Tags:\n",
       "             <meta class=\"keywords\" content=\"humor,obvious,simile\" itemprop=\"keywords\"/>\n",
       " <a class=\"tag\" href=\"/tag/humor/page/1/\">humor</a>\n",
       " <a class=\"tag\" href=\"/tag/obvious/page/1/\">obvious</a>\n",
       " <a class=\"tag\" href=\"/tag/simile/page/1/\">simile</a>\n",
       " </div>\n",
       " </div>]"
      ]
     },
     "execution_count": 17,
     "metadata": {},
     "output_type": "execute_result"
    }
   ],
   "source": [
    "soup.find_all('div', class_='quote')"
   ]
  },
  {
   "cell_type": "code",
   "execution_count": 18,
   "id": "a06a1218",
   "metadata": {},
   "outputs": [],
   "source": [
    "data = []\n",
    "\n",
    "\n",
    "for sp in soup.find_all('div', class_ = 'quote'):\n",
    "    quote = sp.find('span', class_='text').text[1:-1]\n",
    "    author = sp.find('small',class_=\"author\").text\n",
    "    author_id = sp.find('a').get('href')\n",
    "    tags = []\n",
    "    \n",
    "    for tag in sp.find_all('a', class_='tag'):\n",
    "        tags.append(tag.text)\n",
    "        \n",
    "    tagsName = ','.join(tags)\n",
    "    \n",
    "    data.append([quote, author, author_id, tagsName])"
   ]
  },
  {
   "cell_type": "code",
   "execution_count": 19,
   "id": "c702a0af",
   "metadata": {},
   "outputs": [
    {
     "data": {
      "text/plain": [
       "[['The world as we have created it is a process of our thinking. It cannot be changed without changing our thinking.',\n",
       "  'Albert Einstein',\n",
       "  '/author/Albert-Einstein',\n",
       "  'change,deep-thoughts,thinking,world'],\n",
       " ['It is our choices, Harry, that show what we truly are, far more than our abilities.',\n",
       "  'J.K. Rowling',\n",
       "  '/author/J-K-Rowling',\n",
       "  'abilities,choices'],\n",
       " ['There are only two ways to live your life. One is as though nothing is a miracle. The other is as though everything is a miracle.',\n",
       "  'Albert Einstein',\n",
       "  '/author/Albert-Einstein',\n",
       "  'inspirational,life,live,miracle,miracles'],\n",
       " ['The person, be it gentleman or lady, who has not pleasure in a good novel, must be intolerably stupid.',\n",
       "  'Jane Austen',\n",
       "  '/author/Jane-Austen',\n",
       "  'aliteracy,books,classic,humor'],\n",
       " [\"Imperfection is beauty, madness is genius and it's better to be absolutely ridiculous than absolutely boring.\",\n",
       "  'Marilyn Monroe',\n",
       "  '/author/Marilyn-Monroe',\n",
       "  'be-yourself,inspirational'],\n",
       " ['Try not to become a man of success. Rather become a man of value.',\n",
       "  'Albert Einstein',\n",
       "  '/author/Albert-Einstein',\n",
       "  'adulthood,success,value'],\n",
       " ['It is better to be hated for what you are than to be loved for what you are not.',\n",
       "  'André Gide',\n",
       "  '/author/Andre-Gide',\n",
       "  'life,love'],\n",
       " [\"I have not failed. I've just found 10,000 ways that won't work.\",\n",
       "  'Thomas A. Edison',\n",
       "  '/author/Thomas-A-Edison',\n",
       "  'edison,failure,inspirational,paraphrased'],\n",
       " [\"A woman is like a tea bag; you never know how strong it is until it's in hot water.\",\n",
       "  'Eleanor Roosevelt',\n",
       "  '/author/Eleanor-Roosevelt',\n",
       "  'misattributed-eleanor-roosevelt'],\n",
       " ['A day without sunshine is like, you know, night.',\n",
       "  'Steve Martin',\n",
       "  '/author/Steve-Martin',\n",
       "  'humor,obvious,simile']]"
      ]
     },
     "execution_count": 19,
     "metadata": {},
     "output_type": "execute_result"
    }
   ],
   "source": [
    "data"
   ]
  },
  {
   "cell_type": "code",
   "execution_count": 20,
   "id": "92fb4817",
   "metadata": {},
   "outputs": [],
   "source": [
    "df = pd.DataFrame(data, columns=['Quotes', 'Author', 'Author ID', 'Tags Name'])"
   ]
  },
  {
   "cell_type": "code",
   "execution_count": 21,
   "id": "0e3d33fa",
   "metadata": {},
   "outputs": [
    {
     "data": {
      "text/html": [
       "<div>\n",
       "<style scoped>\n",
       "    .dataframe tbody tr th:only-of-type {\n",
       "        vertical-align: middle;\n",
       "    }\n",
       "\n",
       "    .dataframe tbody tr th {\n",
       "        vertical-align: top;\n",
       "    }\n",
       "\n",
       "    .dataframe thead th {\n",
       "        text-align: right;\n",
       "    }\n",
       "</style>\n",
       "<table border=\"1\" class=\"dataframe\">\n",
       "  <thead>\n",
       "    <tr style=\"text-align: right;\">\n",
       "      <th></th>\n",
       "      <th>Quotes</th>\n",
       "      <th>Author</th>\n",
       "      <th>Author ID</th>\n",
       "      <th>Tags Name</th>\n",
       "    </tr>\n",
       "  </thead>\n",
       "  <tbody>\n",
       "    <tr>\n",
       "      <th>0</th>\n",
       "      <td>The world as we have created it is a process o...</td>\n",
       "      <td>Albert Einstein</td>\n",
       "      <td>/author/Albert-Einstein</td>\n",
       "      <td>change,deep-thoughts,thinking,world</td>\n",
       "    </tr>\n",
       "    <tr>\n",
       "      <th>1</th>\n",
       "      <td>It is our choices, Harry, that show what we tr...</td>\n",
       "      <td>J.K. Rowling</td>\n",
       "      <td>/author/J-K-Rowling</td>\n",
       "      <td>abilities,choices</td>\n",
       "    </tr>\n",
       "    <tr>\n",
       "      <th>2</th>\n",
       "      <td>There are only two ways to live your life. One...</td>\n",
       "      <td>Albert Einstein</td>\n",
       "      <td>/author/Albert-Einstein</td>\n",
       "      <td>inspirational,life,live,miracle,miracles</td>\n",
       "    </tr>\n",
       "    <tr>\n",
       "      <th>3</th>\n",
       "      <td>The person, be it gentleman or lady, who has n...</td>\n",
       "      <td>Jane Austen</td>\n",
       "      <td>/author/Jane-Austen</td>\n",
       "      <td>aliteracy,books,classic,humor</td>\n",
       "    </tr>\n",
       "    <tr>\n",
       "      <th>4</th>\n",
       "      <td>Imperfection is beauty, madness is genius and ...</td>\n",
       "      <td>Marilyn Monroe</td>\n",
       "      <td>/author/Marilyn-Monroe</td>\n",
       "      <td>be-yourself,inspirational</td>\n",
       "    </tr>\n",
       "    <tr>\n",
       "      <th>5</th>\n",
       "      <td>Try not to become a man of success. Rather bec...</td>\n",
       "      <td>Albert Einstein</td>\n",
       "      <td>/author/Albert-Einstein</td>\n",
       "      <td>adulthood,success,value</td>\n",
       "    </tr>\n",
       "    <tr>\n",
       "      <th>6</th>\n",
       "      <td>It is better to be hated for what you are than...</td>\n",
       "      <td>André Gide</td>\n",
       "      <td>/author/Andre-Gide</td>\n",
       "      <td>life,love</td>\n",
       "    </tr>\n",
       "    <tr>\n",
       "      <th>7</th>\n",
       "      <td>I have not failed. I've just found 10,000 ways...</td>\n",
       "      <td>Thomas A. Edison</td>\n",
       "      <td>/author/Thomas-A-Edison</td>\n",
       "      <td>edison,failure,inspirational,paraphrased</td>\n",
       "    </tr>\n",
       "    <tr>\n",
       "      <th>8</th>\n",
       "      <td>A woman is like a tea bag; you never know how ...</td>\n",
       "      <td>Eleanor Roosevelt</td>\n",
       "      <td>/author/Eleanor-Roosevelt</td>\n",
       "      <td>misattributed-eleanor-roosevelt</td>\n",
       "    </tr>\n",
       "    <tr>\n",
       "      <th>9</th>\n",
       "      <td>A day without sunshine is like, you know, night.</td>\n",
       "      <td>Steve Martin</td>\n",
       "      <td>/author/Steve-Martin</td>\n",
       "      <td>humor,obvious,simile</td>\n",
       "    </tr>\n",
       "  </tbody>\n",
       "</table>\n",
       "</div>"
      ],
      "text/plain": [
       "                                              Quotes             Author  \\\n",
       "0  The world as we have created it is a process o...    Albert Einstein   \n",
       "1  It is our choices, Harry, that show what we tr...       J.K. Rowling   \n",
       "2  There are only two ways to live your life. One...    Albert Einstein   \n",
       "3  The person, be it gentleman or lady, who has n...        Jane Austen   \n",
       "4  Imperfection is beauty, madness is genius and ...     Marilyn Monroe   \n",
       "5  Try not to become a man of success. Rather bec...    Albert Einstein   \n",
       "6  It is better to be hated for what you are than...         André Gide   \n",
       "7  I have not failed. I've just found 10,000 ways...   Thomas A. Edison   \n",
       "8  A woman is like a tea bag; you never know how ...  Eleanor Roosevelt   \n",
       "9   A day without sunshine is like, you know, night.       Steve Martin   \n",
       "\n",
       "                   Author ID                                 Tags Name  \n",
       "0    /author/Albert-Einstein       change,deep-thoughts,thinking,world  \n",
       "1        /author/J-K-Rowling                         abilities,choices  \n",
       "2    /author/Albert-Einstein  inspirational,life,live,miracle,miracles  \n",
       "3        /author/Jane-Austen             aliteracy,books,classic,humor  \n",
       "4     /author/Marilyn-Monroe                 be-yourself,inspirational  \n",
       "5    /author/Albert-Einstein                   adulthood,success,value  \n",
       "6         /author/Andre-Gide                                 life,love  \n",
       "7    /author/Thomas-A-Edison  edison,failure,inspirational,paraphrased  \n",
       "8  /author/Eleanor-Roosevelt           misattributed-eleanor-roosevelt  \n",
       "9       /author/Steve-Martin                      humor,obvious,simile  "
      ]
     },
     "execution_count": 21,
     "metadata": {},
     "output_type": "execute_result"
    }
   ],
   "source": [
    "df"
   ]
  },
  {
   "cell_type": "code",
   "execution_count": 22,
   "id": "96591a9c",
   "metadata": {},
   "outputs": [],
   "source": [
    "df.to_csv('Scraping Quotes with Author Details.csv')"
   ]
  },
  {
   "cell_type": "code",
   "execution_count": null,
   "id": "c52f2030",
   "metadata": {},
   "outputs": [],
   "source": []
  },
  {
   "cell_type": "code",
   "execution_count": null,
   "id": "2a1f3819",
   "metadata": {},
   "outputs": [],
   "source": []
  },
  {
   "cell_type": "code",
   "execution_count": null,
   "id": "7a229249",
   "metadata": {},
   "outputs": [],
   "source": []
  },
  {
   "cell_type": "code",
   "execution_count": null,
   "id": "6f8bad59",
   "metadata": {},
   "outputs": [],
   "source": []
  },
  {
   "cell_type": "code",
   "execution_count": null,
   "id": "8e8b6137",
   "metadata": {},
   "outputs": [],
   "source": []
  },
  {
   "cell_type": "code",
   "execution_count": null,
   "id": "1ac58db0",
   "metadata": {},
   "outputs": [],
   "source": []
  },
  {
   "cell_type": "code",
   "execution_count": null,
   "id": "39eae2a9",
   "metadata": {},
   "outputs": [],
   "source": []
  },
  {
   "cell_type": "code",
   "execution_count": null,
   "id": "3f5f3506",
   "metadata": {},
   "outputs": [],
   "source": []
  },
  {
   "cell_type": "code",
   "execution_count": null,
   "id": "373b97df",
   "metadata": {},
   "outputs": [],
   "source": []
  },
  {
   "cell_type": "code",
   "execution_count": null,
   "id": "23524dfe",
   "metadata": {},
   "outputs": [],
   "source": []
  },
  {
   "cell_type": "code",
   "execution_count": null,
   "id": "2fa3bb6c",
   "metadata": {},
   "outputs": [],
   "source": []
  },
  {
   "cell_type": "code",
   "execution_count": null,
   "id": "73c645a0",
   "metadata": {},
   "outputs": [],
   "source": []
  },
  {
   "cell_type": "code",
   "execution_count": null,
   "id": "e4d1461a",
   "metadata": {},
   "outputs": [],
   "source": []
  },
  {
   "cell_type": "code",
   "execution_count": null,
   "id": "58b76b87",
   "metadata": {},
   "outputs": [],
   "source": []
  },
  {
   "cell_type": "code",
   "execution_count": null,
   "id": "b72cb969",
   "metadata": {},
   "outputs": [],
   "source": []
  },
  {
   "cell_type": "code",
   "execution_count": null,
   "id": "21abf1c2",
   "metadata": {},
   "outputs": [],
   "source": []
  },
  {
   "cell_type": "code",
   "execution_count": null,
   "id": "9faaf1fb",
   "metadata": {},
   "outputs": [],
   "source": []
  },
  {
   "cell_type": "code",
   "execution_count": null,
   "id": "6adbdce7",
   "metadata": {},
   "outputs": [],
   "source": []
  },
  {
   "cell_type": "code",
   "execution_count": null,
   "id": "de2db771",
   "metadata": {},
   "outputs": [],
   "source": []
  },
  {
   "cell_type": "code",
   "execution_count": null,
   "id": "09bbce66",
   "metadata": {},
   "outputs": [],
   "source": []
  },
  {
   "cell_type": "code",
   "execution_count": null,
   "id": "3add5955",
   "metadata": {},
   "outputs": [],
   "source": []
  },
  {
   "cell_type": "code",
   "execution_count": null,
   "id": "1f46a3e2",
   "metadata": {},
   "outputs": [],
   "source": []
  },
  {
   "cell_type": "code",
   "execution_count": null,
   "id": "aab6ef71",
   "metadata": {},
   "outputs": [],
   "source": []
  },
  {
   "cell_type": "code",
   "execution_count": null,
   "id": "b9059a81",
   "metadata": {},
   "outputs": [],
   "source": []
  },
  {
   "cell_type": "code",
   "execution_count": null,
   "id": "9f9f486c",
   "metadata": {},
   "outputs": [],
   "source": []
  },
  {
   "cell_type": "code",
   "execution_count": null,
   "id": "dff0104a",
   "metadata": {},
   "outputs": [],
   "source": []
  },
  {
   "cell_type": "code",
   "execution_count": null,
   "id": "5c9449cc",
   "metadata": {},
   "outputs": [],
   "source": []
  },
  {
   "cell_type": "code",
   "execution_count": null,
   "id": "49dfdd34",
   "metadata": {},
   "outputs": [],
   "source": []
  },
  {
   "cell_type": "code",
   "execution_count": null,
   "id": "246e50f9",
   "metadata": {},
   "outputs": [],
   "source": []
  },
  {
   "cell_type": "code",
   "execution_count": null,
   "id": "0245aeaf",
   "metadata": {},
   "outputs": [],
   "source": []
  },
  {
   "cell_type": "code",
   "execution_count": null,
   "id": "4438715a",
   "metadata": {},
   "outputs": [],
   "source": []
  }
 ],
 "metadata": {
  "kernelspec": {
   "display_name": "Python 3 (ipykernel)",
   "language": "python",
   "name": "python3"
  },
  "language_info": {
   "codemirror_mode": {
    "name": "ipython",
    "version": 3
   },
   "file_extension": ".py",
   "mimetype": "text/x-python",
   "name": "python",
   "nbconvert_exporter": "python",
   "pygments_lexer": "ipython3",
   "version": "3.10.8"
  }
 },
 "nbformat": 4,
 "nbformat_minor": 5
}
