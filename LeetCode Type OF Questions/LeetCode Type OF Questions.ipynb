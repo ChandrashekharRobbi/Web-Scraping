{
 "cells": [
  {
   "cell_type": "code",
   "execution_count": 1,
   "id": "83408a0b",
   "metadata": {},
   "outputs": [],
   "source": [
    "import time\n",
    "import requests \n",
    "import pandas as pd\n",
    "import numpy as np\n",
    "from tqdm import tqdm\n",
    "from selenium import webdriver\n",
    "from selenium.webdriver.common.by import By"
   ]
  },
  {
   "cell_type": "code",
   "execution_count": 2,
   "id": "256e2148",
   "metadata": {},
   "outputs": [],
   "source": [
    "driver = '../chromedriver_win32/chromedriver.exe' # windows"
   ]
  },
  {
   "cell_type": "code",
   "execution_count": 3,
   "id": "e2a1f23e",
   "metadata": {},
   "outputs": [],
   "source": [
    "browser = webdriver.Chrome(driver)"
   ]
  },
  {
   "cell_type": "code",
   "execution_count": 4,
   "id": "b01f3bd9",
   "metadata": {},
   "outputs": [],
   "source": [
    "df = pd.read_csv('leetlinks.csv')"
   ]
  },
  {
   "cell_type": "code",
   "execution_count": 5,
   "id": "d05f9d25",
   "metadata": {},
   "outputs": [
    {
     "data": {
      "text/html": [
       "<div>\n",
       "<style scoped>\n",
       "    .dataframe tbody tr th:only-of-type {\n",
       "        vertical-align: middle;\n",
       "    }\n",
       "\n",
       "    .dataframe tbody tr th {\n",
       "        vertical-align: top;\n",
       "    }\n",
       "\n",
       "    .dataframe thead th {\n",
       "        text-align: right;\n",
       "    }\n",
       "</style>\n",
       "<table border=\"1\" class=\"dataframe\">\n",
       "  <thead>\n",
       "    <tr style=\"text-align: right;\">\n",
       "      <th></th>\n",
       "      <th>leet_links</th>\n",
       "    </tr>\n",
       "  </thead>\n",
       "  <tbody>\n",
       "    <tr>\n",
       "      <th>0</th>\n",
       "      <td>https://leetcode.com/problems/contains-duplicate</td>\n",
       "    </tr>\n",
       "    <tr>\n",
       "      <th>1</th>\n",
       "      <td>https://leetcode.com/problems/maximum-subarray</td>\n",
       "    </tr>\n",
       "    <tr>\n",
       "      <th>2</th>\n",
       "      <td>https://leetcode.com/problems/two-sum</td>\n",
       "    </tr>\n",
       "    <tr>\n",
       "      <th>3</th>\n",
       "      <td>https://leetcode.com/problems/merge-sorted-array</td>\n",
       "    </tr>\n",
       "    <tr>\n",
       "      <th>4</th>\n",
       "      <td>https://leetcode.com/problems/intersection-of-...</td>\n",
       "    </tr>\n",
       "    <tr>\n",
       "      <th>5</th>\n",
       "      <td>https://leetcode.com/problems/best-time-to-buy...</td>\n",
       "    </tr>\n",
       "    <tr>\n",
       "      <th>6</th>\n",
       "      <td>https://leetcode.com/problems/reshape-the-matrix</td>\n",
       "    </tr>\n",
       "    <tr>\n",
       "      <th>7</th>\n",
       "      <td>https://leetcode.com/problems/pascal's-triangle</td>\n",
       "    </tr>\n",
       "    <tr>\n",
       "      <th>8</th>\n",
       "      <td>https://leetcode.com/problems/valid-sudoku</td>\n",
       "    </tr>\n",
       "    <tr>\n",
       "      <th>9</th>\n",
       "      <td>https://leetcode.com/problems/search-a-2d-matrix</td>\n",
       "    </tr>\n",
       "    <tr>\n",
       "      <th>10</th>\n",
       "      <td>https://leetcode.com/problems/first-unique-cha...</td>\n",
       "    </tr>\n",
       "    <tr>\n",
       "      <th>11</th>\n",
       "      <td>https://leetcode.com/problems/ransom-note</td>\n",
       "    </tr>\n",
       "    <tr>\n",
       "      <th>12</th>\n",
       "      <td>https://leetcode.com/problems/valid-anagram</td>\n",
       "    </tr>\n",
       "    <tr>\n",
       "      <th>13</th>\n",
       "      <td>https://leetcode.com/problems/linked-list-cycle</td>\n",
       "    </tr>\n",
       "    <tr>\n",
       "      <th>14</th>\n",
       "      <td>https://leetcode.com/problems/merge-two-sorted...</td>\n",
       "    </tr>\n",
       "    <tr>\n",
       "      <th>15</th>\n",
       "      <td>https://leetcode.com/problems/remove-linked-li...</td>\n",
       "    </tr>\n",
       "    <tr>\n",
       "      <th>16</th>\n",
       "      <td>https://leetcode.com/problems/reverse-linked-list</td>\n",
       "    </tr>\n",
       "    <tr>\n",
       "      <th>17</th>\n",
       "      <td>https://leetcode.com/problems/remove-duplicate...</td>\n",
       "    </tr>\n",
       "    <tr>\n",
       "      <th>18</th>\n",
       "      <td>https://leetcode.com/problems/valid-parentheses</td>\n",
       "    </tr>\n",
       "    <tr>\n",
       "      <th>19</th>\n",
       "      <td>https://leetcode.com/problems/implement-queue-...</td>\n",
       "    </tr>\n",
       "    <tr>\n",
       "      <th>20</th>\n",
       "      <td>https://leetcode.com/problems/binary-tree-preo...</td>\n",
       "    </tr>\n",
       "    <tr>\n",
       "      <th>21</th>\n",
       "      <td>https://leetcode.com/problems/binary-tree-inor...</td>\n",
       "    </tr>\n",
       "    <tr>\n",
       "      <th>22</th>\n",
       "      <td>https://leetcode.com/problems/binary-tree-post...</td>\n",
       "    </tr>\n",
       "    <tr>\n",
       "      <th>23</th>\n",
       "      <td>https://leetcode.com/problems/binary-tree-leve...</td>\n",
       "    </tr>\n",
       "    <tr>\n",
       "      <th>24</th>\n",
       "      <td>https://leetcode.com/problems/maximum-depth-of...</td>\n",
       "    </tr>\n",
       "    <tr>\n",
       "      <th>25</th>\n",
       "      <td>https://leetcode.com/problems/symmetric-tree</td>\n",
       "    </tr>\n",
       "    <tr>\n",
       "      <th>26</th>\n",
       "      <td>https://leetcode.com/problems/invert-binary-tree</td>\n",
       "    </tr>\n",
       "    <tr>\n",
       "      <th>27</th>\n",
       "      <td>https://leetcode.com/problems/path-sum</td>\n",
       "    </tr>\n",
       "    <tr>\n",
       "      <th>28</th>\n",
       "      <td>https://leetcode.com/problems/search-in-a-bina...</td>\n",
       "    </tr>\n",
       "    <tr>\n",
       "      <th>29</th>\n",
       "      <td>https://leetcode.com/problems/insert-into-a-bi...</td>\n",
       "    </tr>\n",
       "    <tr>\n",
       "      <th>30</th>\n",
       "      <td>https://leetcode.com/problems/validate-binary-...</td>\n",
       "    </tr>\n",
       "    <tr>\n",
       "      <th>31</th>\n",
       "      <td>https://leetcode.com/problems/two-sum-iv-input...</td>\n",
       "    </tr>\n",
       "    <tr>\n",
       "      <th>32</th>\n",
       "      <td>https://leetcode.com/problems/lowest-common-an...</td>\n",
       "    </tr>\n",
       "  </tbody>\n",
       "</table>\n",
       "</div>"
      ],
      "text/plain": [
       "                                           leet_links\n",
       "0    https://leetcode.com/problems/contains-duplicate\n",
       "1      https://leetcode.com/problems/maximum-subarray\n",
       "2               https://leetcode.com/problems/two-sum\n",
       "3    https://leetcode.com/problems/merge-sorted-array\n",
       "4   https://leetcode.com/problems/intersection-of-...\n",
       "5   https://leetcode.com/problems/best-time-to-buy...\n",
       "6    https://leetcode.com/problems/reshape-the-matrix\n",
       "7     https://leetcode.com/problems/pascal's-triangle\n",
       "8          https://leetcode.com/problems/valid-sudoku\n",
       "9    https://leetcode.com/problems/search-a-2d-matrix\n",
       "10  https://leetcode.com/problems/first-unique-cha...\n",
       "11          https://leetcode.com/problems/ransom-note\n",
       "12        https://leetcode.com/problems/valid-anagram\n",
       "13    https://leetcode.com/problems/linked-list-cycle\n",
       "14  https://leetcode.com/problems/merge-two-sorted...\n",
       "15  https://leetcode.com/problems/remove-linked-li...\n",
       "16  https://leetcode.com/problems/reverse-linked-list\n",
       "17  https://leetcode.com/problems/remove-duplicate...\n",
       "18    https://leetcode.com/problems/valid-parentheses\n",
       "19  https://leetcode.com/problems/implement-queue-...\n",
       "20  https://leetcode.com/problems/binary-tree-preo...\n",
       "21  https://leetcode.com/problems/binary-tree-inor...\n",
       "22  https://leetcode.com/problems/binary-tree-post...\n",
       "23  https://leetcode.com/problems/binary-tree-leve...\n",
       "24  https://leetcode.com/problems/maximum-depth-of...\n",
       "25       https://leetcode.com/problems/symmetric-tree\n",
       "26   https://leetcode.com/problems/invert-binary-tree\n",
       "27             https://leetcode.com/problems/path-sum\n",
       "28  https://leetcode.com/problems/search-in-a-bina...\n",
       "29  https://leetcode.com/problems/insert-into-a-bi...\n",
       "30  https://leetcode.com/problems/validate-binary-...\n",
       "31  https://leetcode.com/problems/two-sum-iv-input...\n",
       "32  https://leetcode.com/problems/lowest-common-an..."
      ]
     },
     "execution_count": 5,
     "metadata": {},
     "output_type": "execute_result"
    }
   ],
   "source": [
    "df"
   ]
  },
  {
   "cell_type": "code",
   "execution_count": 6,
   "id": "fd176a18",
   "metadata": {},
   "outputs": [],
   "source": [
    "browser.get(df[\"leet_links\"][0])"
   ]
  },
  {
   "cell_type": "code",
   "execution_count": 7,
   "id": "a1602aa8",
   "metadata": {
    "scrolled": true
   },
   "outputs": [
    {
     "name": "stderr",
     "output_type": "stream",
     "text": [
      "100%|██████████████████████████████████████████████████████████████████████████████████████████████████████████████████████| 33/33 [02:08<00:00,  3.89s/it]\n"
     ]
    }
   ],
   "source": [
    "data = []\n",
    "for link in tqdm(df[\"leet_links\"]):\n",
    "    browser.get(link)\n",
    "    time.sleep(2)\n",
    "    try:\n",
    "        val = browser.find_element(By.XPATH, '//*[@id=\"qd-content\"]/div[1]/div/div/div/div[2]/div/div/div[1]/div/div[2]/div[1]').text\n",
    "    except:\n",
    "        val = None\n",
    "#         print(link)\n",
    "#         continue\n",
    "        \n",
    "#     print(val.text)\n",
    "    data.append(val)"
   ]
  },
  {
   "cell_type": "code",
   "execution_count": 8,
   "id": "e34797f9",
   "metadata": {},
   "outputs": [
    {
     "data": {
      "text/plain": [
       "['Easy',\n",
       " 'Medium',\n",
       " 'Easy',\n",
       " 'Easy',\n",
       " 'Easy',\n",
       " 'Easy',\n",
       " 'Easy',\n",
       " None,\n",
       " 'Medium',\n",
       " 'Medium',\n",
       " 'Easy',\n",
       " 'Easy',\n",
       " 'Easy',\n",
       " 'Easy',\n",
       " 'Easy',\n",
       " 'Easy',\n",
       " 'Easy',\n",
       " 'Easy',\n",
       " 'Easy',\n",
       " 'Easy',\n",
       " 'Easy',\n",
       " 'Easy',\n",
       " 'Easy',\n",
       " 'Medium',\n",
       " 'Easy',\n",
       " 'Easy',\n",
       " 'Easy',\n",
       " 'Easy',\n",
       " 'Easy',\n",
       " 'Medium',\n",
       " 'Medium',\n",
       " 'Easy',\n",
       " 'Medium']"
      ]
     },
     "execution_count": 8,
     "metadata": {},
     "output_type": "execute_result"
    }
   ],
   "source": [
    "data"
   ]
  },
  {
   "cell_type": "code",
   "execution_count": 9,
   "id": "e3b93f3c",
   "metadata": {},
   "outputs": [],
   "source": [
    "df_new = pd.DataFrame(data, columns=[\"Type\"])"
   ]
  },
  {
   "cell_type": "code",
   "execution_count": 10,
   "id": "b551397b",
   "metadata": {},
   "outputs": [],
   "source": [
    "df_new.to_csv(\"type.csv\", index=False)"
   ]
  },
  {
   "cell_type": "code",
   "execution_count": null,
   "id": "69619ea6",
   "metadata": {},
   "outputs": [],
   "source": []
  }
 ],
 "metadata": {
  "kernelspec": {
   "display_name": "Python 3 (ipykernel)",
   "language": "python",
   "name": "python3"
  },
  "language_info": {
   "codemirror_mode": {
    "name": "ipython",
    "version": 3
   },
   "file_extension": ".py",
   "mimetype": "text/x-python",
   "name": "python",
   "nbconvert_exporter": "python",
   "pygments_lexer": "ipython3",
   "version": "3.10.10"
  }
 },
 "nbformat": 4,
 "nbformat_minor": 5
}
