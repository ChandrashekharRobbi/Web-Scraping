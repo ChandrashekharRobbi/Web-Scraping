{
 "cells": [
  {
   "cell_type": "code",
   "execution_count": 60,
   "id": "83408a0b",
   "metadata": {},
   "outputs": [],
   "source": [
    "import time\n",
    "import requests \n",
    "import pandas as pd\n",
    "import numpy as np\n",
    "from tqdm import tqdm\n",
    "from selenium import webdriver\n",
    "from IPython.display import display, HTML, Markdown\n",
    "from selenium.webdriver.common.by import By"
   ]
  },
  {
   "cell_type": "code",
   "execution_count": 11,
   "id": "256e2148",
   "metadata": {},
   "outputs": [],
   "source": [
    "driver = '../chromedriver-win64/chromedriver.exe' # windows"
   ]
  },
  {
   "cell_type": "code",
   "execution_count": 12,
   "id": "e2a1f23e",
   "metadata": {},
   "outputs": [],
   "source": [
    "browser = webdriver.Chrome(driver)"
   ]
  },
  {
   "cell_type": "code",
   "execution_count": 80,
   "id": "60919050",
   "metadata": {},
   "outputs": [],
   "source": [
    "browser.get(\"https://leetcode.com/problems/remove-nth-node-from-end-of-list/\")"
   ]
  },
  {
   "cell_type": "code",
   "execution_count": 154,
   "id": "446abf09",
   "metadata": {},
   "outputs": [],
   "source": [
    "browser.get(\"https://leetcode.com/problems/linked-list-cycle/\")"
   ]
  },
  {
   "cell_type": "code",
   "execution_count": 83,
   "id": "fd176a18",
   "metadata": {},
   "outputs": [
    {
     "data": {
      "text/markdown": [
       "# Scraping from Website....."
      ],
      "text/plain": [
       "<IPython.core.display.Markdown object>"
      ]
     },
     "metadata": {},
     "output_type": "display_data"
    },
    {
     "name": "stdout",
     "output_type": "stream",
     "text": [
      "getting Name and number from Leetcode website....\n",
      "Name of the Problem: 141. Linked List Cycle\n",
      "Difficulty Easy\n",
      "Given head, the head of a linked list, determine if the linked list has a cycle in it.\n"
     ]
    },
    {
     "data": {
      "text/html": [
       "<img src=\"https://assets.leetcode.com/uploads/2018/12/07/circularlinkedlist.png\" alt=\"Image not loaded\">"
      ],
      "text/plain": [
       "<IPython.core.display.HTML object>"
      ]
     },
     "metadata": {},
     "output_type": "display_data"
    },
    {
     "name": "stdout",
     "output_type": "stream",
     "text": [
      "Example 1\n",
      " Input: head = [3,2,0,-4], pos = 1\n",
      "Output: true\n",
      "Explanation: There is a cycle in the linked list, where the tail connects to the 1st node (0-indexed).\n",
      "Example 2\n",
      " Input: head = [1,2], pos = 0\n",
      "Output: true\n",
      "Explanation: There is a cycle in the linked list, where the tail connects to the 0th node.\n"
     ]
    }
   ],
   "source": [
    "\n",
    "name_no = browser.find_element(By.XPATH, '//*[@id=\"qd-content\"]/div[1]/div/div/div/div[2]/div/div/div[1]/div/div[1]/div[1]/div/a').text\n",
    "difficulty = browser.find_element(By.XPATH, '//*[@id=\"qd-content\"]/div[1]/div/div/div/div[2]/div/div/div[1]/div/div[2]/div[1]').text\n",
    "description = browser.find_element(By.XPATH, '//*[@id=\"qd-content\"]/div[1]/div/div/div/div[2]/div/div/div[3]/div[2]/p[1]').text\n",
    "link = browser.find_element(By.XPATH, '//*[@id=\"qd-content\"]/div[1]/div/div/div/div[2]/div/div/div[3]/div[2]/img').get_attribute('src')\n",
    "Example1 = browser.find_element(By.XPATH, '//*[@id=\"qd-content\"]/div[1]/div/div/div/div[2]/div/div/div[3]/div[2]/pre[1]').text\n",
    "Example2 = browser.find_element(By.XPATH, '//*[@id=\"qd-content\"]/div[1]/div/div/div/div[2]/div/div/div[3]/div[2]/pre[2]').text\n",
    "display(Markdown(\"# Scraping from Website.....\"))\n",
    "time.sleep(0.9)\n",
    "print(\"getting Name and number from Leetcode website....\")\n",
    "# print()\n",
    "time.sleep(0.8)\n",
    "print(\"Name of the Problem:\",name_no)\n",
    "print(\"Difficulty\",difficulty)\n",
    "print(description)\n",
    "# Display the image in Jupyter Notebook\n",
    "display(HTML(f'<img src=\"{link}\" alt=\"Image not loaded\">'))\n",
    "print(\"Example 1\\n\",Example1)\n",
    "print(\"Example 2\\n\",Example2)"
   ]
  },
  {
   "cell_type": "code",
   "execution_count": 171,
   "id": "1fb87e82",
   "metadata": {},
   "outputs": [],
   "source": [
    "browser.get(\"https://leetcode.com/problems/jump-game/\")"
   ]
  },
  {
   "cell_type": "code",
   "execution_count": 176,
   "id": "aa9ff070",
   "metadata": {},
   "outputs": [],
   "source": [
    "browser.get(\"https://leetcode.com/problems/remove-nth-node-from-end-of-list/\")"
   ]
  },
  {
   "cell_type": "code",
   "execution_count": 177,
   "id": "2588d625",
   "metadata": {},
   "outputs": [],
   "source": [
    "element = browser.find_element(By.XPATH, '//*[@id=\"qd-content\"]/div[1]/div/div/div/div[2]/div/div')"
   ]
  },
  {
   "cell_type": "code",
   "execution_count": 178,
   "id": "ca423b7e",
   "metadata": {},
   "outputs": [],
   "source": [
    "non_necessary = ['https://leetcode.com/_next/static/images/logo-dark-c96c407d175e36c81e236fcfdd682a0b.png',\n",
    "                'https://leetcode.com/_next/static/images/logo-ff2b712834cf26bf50a5de58ee27bcef.png',\n",
    "                'https://leetcode.com/_next/static/images/dark-judging-723b3c3e728a574bc2a2d4b89a10d4d7.gif',\n",
    "                'https://leetcode.com/_next/static/images/dark-pending-f313d6fe32951fb6b4d48ad3ee4f3821.gif']"
   ]
  },
  {
   "cell_type": "code",
   "execution_count": 174,
   "id": "0570ef54",
   "metadata": {},
   "outputs": [
    {
     "name": "stdout",
     "output_type": "stream",
     "text": [
      "55. Jump Game\n",
      "You are given an integer array nums. You are initially positioned at the array's first index, and each element in the array represents your maximum jump length at that position.\n",
      "Return true if you can reach the last index, or false otherwise.\n",
      " \n",
      "Example 1:\n",
      "Input: nums = [2,3,1,1,4]\n",
      "Output: true\n",
      "Explanation: Jump 1 step from index 0 to 1, then 3 steps to the last index.\n",
      "Example 2:\n",
      "Input: nums = [3,2,1,0,4]\n",
      "Output: false\n",
      "Explanation: You will always arrive at index 3 no matter what. Its maximum jump length is 0, which makes it impossible to reach the last index.\n",
      " \n",
      "Constraints:\n",
      "\n",
      "\n"
     ]
    }
   ],
   "source": [
    "name_no = browser.find_element(By.XPATH, '//*[@id=\"qd-content\"]/div[1]/div/div/div/div[2]/div/div/div[1]/div/div[1]/div[1]/div/a').text\n",
    "print(name_no)\n",
    "for child in element.find_elements_by_xpath(\"//*\"):\n",
    "    if child.tag_name == 'p':\n",
    "        print(child.text)\n",
    "    elif child.tag_name == 'pre':\n",
    "        print(child.text)\n",
    "    elif child.find_element_by_xpath == '//*[@id=\"qd-content\"]/div[1]/div/div/div/div[2]/div/div/div[1]/div/div[2]/div[1]':\n",
    "        print(child.text)\n",
    "    elif child.tag_name == 'img':\n",
    "        link = child.get_attribute('src')\n",
    "        if link in non_necessary: continue\n",
    "#         print(link)\n",
    "        display(HTML(f'<img src=\"{link}\" alt=\"Image not loaded\">'))\n",
    "        "
   ]
  },
  {
   "cell_type": "code",
   "execution_count": 179,
   "id": "0c16dab3",
   "metadata": {},
   "outputs": [
    {
     "name": "stdout",
     "output_type": "stream",
     "text": [
      "19. Remove Nth Node From End of List\n"
     ]
    },
    {
     "data": {
      "text/markdown": [
       "# 19. Remove Nth Node From End of List\n",
       "\n",
       "Given the head of a linked list, remove the nth node from the end of the list and return its head.\n",
       "\n",
       " \n",
       "\n",
       "Example 1:\n",
       "\n",
       "![Image](https://assets.leetcode.com/uploads/2020/10/03/remove_ex1.jpg)\n",
       "\n",
       "```\n",
       "Input: head = [1,2,3,4,5], n = 2\n",
       "Output: [1,2,3,5]\n",
       "```\n",
       "\n",
       "Example 2:\n",
       "\n",
       "```\n",
       "Input: head = [1], n = 1\n",
       "Output: []\n",
       "```\n",
       "\n",
       "Example 3:\n",
       "\n",
       "```\n",
       "Input: head = [1,2], n = 1\n",
       "Output: [1]\n",
       "```\n",
       "\n",
       " \n",
       "\n",
       "Constraints:\n",
       "\n",
       " \n",
       "\n",
       "Follow up: Could you do this in one pass?\n",
       "\n",
       "\n",
       "\n",
       "\n",
       "\n"
      ],
      "text/plain": [
       "<IPython.core.display.Markdown object>"
      ]
     },
     "metadata": {},
     "output_type": "display_data"
    }
   ],
   "source": [
    "from IPython.display import display, Markdown\n",
    "from selenium import webdriver\n",
    "import pyperclip as py\n",
    "\n",
    "\n",
    "markdown_content = \"\"\n",
    "\n",
    "name_no = browser.find_element(By.XPATH, '//*[@id=\"qd-content\"]/div[1]/div/div/div/div[2]/div/div/div[1]/div/div[1]/div[1]/div/a').text\n",
    "# print(name_no)\n",
    "markdown_content += f\"# {name_no}\\n\\n\"  # Add as a title in markdown\n",
    "\n",
    "for child in element.find_elements_by_xpath(\"//*\"):\n",
    "    if child.tag_name == 'p':\n",
    "        markdown_content += f\"{child.text}\\n\\n\"\n",
    "    elif child.tag_name == 'pre':\n",
    "        markdown_content += f\"```\\n{child.text}\\n```\\n\\n\"\n",
    "    elif child.find_element_by_xpath == '//*[@id=\"qd-content\"]/div[1]/div/div/div/div[2]/div/div/div[1]/div/div[2]/div[1]':\n",
    "        markdown_content += f\"## {child.text}\\n\\n\"  # Assuming it's a subheading, change as needed\n",
    "    elif child.tag_name == 'img':\n",
    "        link = child.get_attribute('src')\n",
    "        if link not in non_necessary:\n",
    "            markdown_content += f\"![Image]({link})\\n\\n\"\n",
    "\n",
    "# Display the markdown content in Jupyter Notebook\n",
    "py.copy(markdown_content)\n",
    "\n",
    "# If you want to save this markdown content to a .md file\n",
    "# with open(\"output.md\", \"w\") as f:\n",
    "#     f.write(markdown_content)\n"
   ]
  },
  {
   "cell_type": "code",
   "execution_count": 183,
   "id": "ef9d307d",
   "metadata": {},
   "outputs": [],
   "source": [
    "import pyperclip as py\n",
    "py.copy(markdown_content)"
   ]
  },
  {
   "cell_type": "markdown",
   "id": "8a6461c9",
   "metadata": {},
   "source": [
    "# 19. Remove Nth Node From End of List\n",
    "\n",
    "Given the head of a linked list, remove the nth node from the end of the list and return its head.\n",
    "\n",
    " \n",
    "\n",
    "Example 1:\n",
    "\n",
    "![Image](https://assets.leetcode.com/uploads/2020/10/03/remove_ex1.jpg)\n",
    "\n",
    "```\n",
    "Input: head = [1,2,3,4,5], n = 2\n",
    "Output: [1,2,3,5]\n",
    "```\n",
    "\n",
    "Example 2:\n",
    "\n",
    "```\n",
    "Input: head = [1], n = 1\n",
    "Output: []\n",
    "```\n",
    "\n",
    "Example 3:\n",
    "\n",
    "```\n",
    "Input: head = [1,2], n = 1\n",
    "Output: [1]\n",
    "```\n",
    "\n",
    " \n",
    "\n",
    "Constraints:\n",
    "\n",
    " \n",
    "\n",
    "Follow up: Could you do this in one pass?\n",
    "\n",
    "\n",
    "\n",
    "\n",
    "\n"
   ]
  },
  {
   "cell_type": "code",
   "execution_count": 233,
   "id": "8283fca9",
   "metadata": {},
   "outputs": [],
   "source": [
    "def magic_markdown_create(link):\n",
    "    driver = '../chromedriver-win64/chromedriver.exe' # windows\n",
    "    browser = webdriver.Chrome(driver)\n",
    "    # fetch the link\n",
    "    browser.get(link)\n",
    "    print(\"Got link fetching now...\")\n",
    "    # get the main element parent of all\n",
    "    time.sleep(0.5)\n",
    "    print(\"web page is loading....\")\n",
    "    time.sleep(2)\n",
    "    element = browser.find_element(By.XPATH, '//*[@id=\"qd-content\"]/div[1]/div/div/div/div[2]/div/div')\n",
    "    # unnecessary link\n",
    "    non_necessary = ['https://leetcode.com/_next/static/images/logo-dark-c96c407d175e36c81e236fcfdd682a0b.png',\n",
    "                'https://leetcode.com/_next/static/images/logo-ff2b712834cf26bf50a5de58ee27bcef.png',\n",
    "                'https://leetcode.com/_next/static/images/dark-judging-723b3c3e728a574bc2a2d4b89a10d4d7.gif',\n",
    "                'https://leetcode.com/_next/static/images/dark-pending-f313d6fe32951fb6b4d48ad3ee4f3821.gif']\n",
    "    color = {\"Easy\":\"Green\", \"Medium\":\"Gold\",\"Hard\":\"Red\"}\n",
    "    markdown_content = \"\"\n",
    "    # extracting name\n",
    "    print(\"Exctracting name and number \")\n",
    "    name_no = browser.find_element(By.XPATH, '//*[@id=\"qd-content\"]/div[1]/div/div/div/div[2]/div/div/div[1]/div/div[1]/div[1]/div/a').text\n",
    "    # print(name_no)\n",
    "    markdown_content += f\"# {name_no}\\n\\n\"  # Add as a title in markdown\n",
    "    difficulty = browser.find_element_by_xpath('//*[@id=\"qd-content\"]/div[1]/div/div/div/div[2]/div/div/div[1]/div/div[2]/div[1]').text\n",
    "    markdown_content += f\"## <font color='{color[difficulty]}'>{difficulty}</font>\\n\\n\"  # Assuming it's a subheading, change as needed\n",
    "    print(\"Extracting all other details\")\n",
    "    time.sleep(0.8)\n",
    "    count = 0\n",
    "    for child in element.find_elements_by_xpath(\"//*\"):\n",
    "        if child.tag_name == 'p':\n",
    "            print(\"Scraping Some Text....\")\n",
    "            markdown_content += f\"{child.text}\\n\\n\"\n",
    "        elif child.tag_name == 'pre':\n",
    "            print(\"Scraping Test Cases....\")\n",
    "            markdown_content += f\"```\\n{child.text}\\n```\\n\\n\"\n",
    "        elif child.tag_name == 'li': #('//*[@id=\"rootItem\"]/li'): \n",
    "            if count >= 1:\n",
    "                markdown_content += f\"* `{child.text}`\\n\\n\"  # Assuming it's a subheading, change as needed\n",
    "            count += 1\n",
    "        elif child.tag_name == 'img':\n",
    "            link = child.get_attribute('src')\n",
    "            if link not in non_necessary:\n",
    "                print(\"Scraping some exciting pictures...\")\n",
    "                markdown_content += f\"![Image]({link})\\n\\n\"\n",
    "    # Display the markdown content in Jupyter Notebook\n",
    "    print(\"Ohh hooo You can paste now 🥳\")\n",
    "    py.copy(markdown_content)\n",
    "    browser.close()"
   ]
  },
  {
   "cell_type": "code",
   "execution_count": 234,
   "id": "e8a78ebf",
   "metadata": {},
   "outputs": [
    {
     "name": "stdout",
     "output_type": "stream",
     "text": [
      "Got link fetching now...\n",
      "web page is loading....\n",
      "Exctracting name and number \n",
      "Extracting all other details\n",
      "Scraping Some Text....\n",
      "Scraping Some Text....\n",
      "Scraping Some Text....\n",
      "Scraping Some Text....\n",
      "Scraping Some Text....\n",
      "Scraping Some Text....\n",
      "Scraping some exciting pictures...\n",
      "Scraping Test Cases....\n",
      "Scraping Some Text....\n",
      "Scraping Test Cases....\n",
      "Scraping Some Text....\n",
      "Scraping Some Text....\n",
      "Scraping Some Text....\n",
      "Scraping Some Text....\n",
      "Ohh hooo You can paste now 🥳\n"
     ]
    }
   ],
   "source": [
    "magic_markdown_create('https://leetcode.com/problems/container-with-most-water/')"
   ]
  },
  {
   "cell_type": "markdown",
   "id": "89e4c366",
   "metadata": {},
   "source": [
    "# 11. Container With Most Water\n",
    "\n",
    "## <font color='Gold'>Medium</font>\n",
    "\n",
    "You are given an integer array height of length n. There are n vertical lines drawn such that the two endpoints of the ith line are (i, 0) and (i, height[i]).\n",
    "\n",
    "Find two lines that together with the x-axis form a container, such that the container contains the most water.\n",
    "\n",
    "Return the maximum amount of water a container can store.\n",
    "\n",
    "Notice that you may not slant the container.\n",
    "\n",
    " \n",
    "\n",
    "Example 1:\n",
    "\n",
    "![Image](https://s3-lc-upload.s3.amazonaws.com/uploads/2018/07/17/question_11.jpg)\n",
    "\n",
    "```\n",
    "Input: height = [1,8,6,2,5,4,8,3,7]\n",
    "Output: 49\n",
    "Explanation: The above vertical lines are represented by array [1,8,6,2,5,4,8,3,7]. In this case, the max area of water (blue section) the container can contain is 49.\n",
    "```\n",
    "\n",
    "Example 2:\n",
    "\n",
    "```\n",
    "Input: height = [1,1]\n",
    "Output: 1\n",
    "```\n",
    "\n",
    " \n",
    "\n",
    "Constraints:\n",
    "\n",
    "* `n == height.length`\n",
    "\n",
    "* `2 <= n <= 105`\n",
    "\n",
    "* `0 <= height[i] <= 104`\n",
    "\n",
    "\n",
    "\n",
    "\n",
    "\n"
   ]
  },
  {
   "cell_type": "code",
   "execution_count": 260,
   "id": "cb073efa",
   "metadata": {},
   "outputs": [],
   "source": [
    "import time\n",
    "# import webbrowser\n",
    "import time\n",
    "import requests \n",
    "from tqdm import tqdm\n",
    "import pyperclip as pypc\n",
    "from selenium import webdriver\n",
    "# from IPython.display import display \n",
    "from selenium.webdriver.common.by import By\n",
    "from IPython.display import display, Javascript,HTML, Markdown\n",
    "\n",
    "\n",
    "\n",
    "class LeetFunction:\n",
    "    '''\n",
    "    This function is generated by Chandrashekhar Robbi 😎.\n",
    "    This function can create the markdown and comment by justing entering your message by calling new function\n",
    "    If the name entered is correct then it wil give all the description of that problem with images\n",
    "    It has also additional features like as you enter the message and run the cell the comment is automatically gets copied in your clipboard\n",
    "    the default value for comment is 4 i.e 4*#\n",
    "    You can change the value by taking whatever number you want\n",
    "    it has functions like \n",
    "    new(string) -> For creating new comment, markdown\n",
    "    printArr() -> to print the content of the arr\n",
    "    removeLastelement() -> remove the last element from the list\n",
    "    removeByUsingIndex(x) -> remove by using index\n",
    "    makeNullArr() -> to make empty list\n",
    "    '''\n",
    "    def __init__(self):\n",
    "        self.arr = []\n",
    "        self.delete = False\n",
    "        print(\"This Function is Created by Chandrashekhar Robbi.\\nNote this function is especially created for my leet code solving purposes \\nIt takes name of the problem and return leetcode link and it has features like create array which has markdown, comment and delete after executing and many more :)\")\n",
    "        \n",
    "    def delete_cell_prev(self):\n",
    "        display(Javascript('''\n",
    "            var cell_index = IPython.notebook.get_selected_index();\n",
    "            var prev = cell_index - 1;\n",
    "            IPython.notebook.delete_cell(prev);\n",
    "        '''))\n",
    "        \n",
    "    def delete_cell_curr(self):\n",
    "        display(Javascript('''\n",
    "            var cell_index = IPython.notebook.get_selected_index();\n",
    "            IPython.notebook.delete_cell(cell_index);\n",
    "        '''))\n",
    "        \n",
    "    def to_markdown(self):\n",
    "        display(Javascript('''\n",
    "            IPython.notebook.to_markdown();\n",
    "        '''))\n",
    "        \n",
    "    def jump_to_comment(self):\n",
    "        display(Javascript('''\n",
    "            IPython.notebook.select(2).edit_mode();\n",
    "            IPython.notebook.scroll_to_cell(2);\n",
    "        '''))\n",
    "        \n",
    "    def new(self, s):\n",
    "#         hash = \"#\"*h\n",
    "        link = \"https://leetcode.com/problems/\"\n",
    "        # print(s)\n",
    "        try:\n",
    "            text = \"-\".join(s.split(\".\")[1:][0].split()).lower()\n",
    "        except:\n",
    "            text = \"-\".join(s.split()).lower()\n",
    "        leet_link =link + text\n",
    "        leet_link\n",
    "#         webbrowser.open_new_tab(leet_link)\n",
    "        comment = f\"1. ✅ [{s}](#{s.replace(' ','-')})           [<a href='{leet_link}' style='color:black'>Link</a>]\"\n",
    "        print(\"comment added to list now magic function will show his magic\")\n",
    "        content = self.magic_markdown_create(leet_link)\n",
    "        markdown = f\"{content}  \\n > <font color=\\\"green\\\">Leetcode Link to {s} [Link]({leet_link}) <font/> \\n\\n<hr> \\n\\n* Approach:\\n* Time Complexity $ O() $\\n* Space Complexity $ O() $\"\n",
    "        self.to_markdown()\n",
    "        \n",
    "        if comment not in self.arr:\n",
    "            pypc.copy(markdown)\n",
    "            self.arr.append(comment)\n",
    "            print(\"Successfully added to the comment list\")\n",
    "            print(f\"Here is the link {leet_link}\\nAll the best Chandrashekhar\")\n",
    "        elif self.delete:\n",
    "            self.delete_cell_prev()\n",
    "#             self.to_markdown()\n",
    "#             time.sleep(1)\n",
    "        else:\n",
    "            print('It is already in the list')\n",
    "#             self.to_markdown()\n",
    "#             time.sleep(1)\n",
    "#             self.delete_cell_prev()\n",
    "            \n",
    "    def printArr(self):\n",
    "        sum = \"\"\n",
    "        for i in range(len(self.arr)):\n",
    "            if i != len(self.arr) - 1:\n",
    "                sum += self.arr[i] + \"\\n\"\n",
    "            else:\n",
    "                sum += self.arr[i]\n",
    "            print(i) \n",
    "        pypc.copy(sum)\n",
    "        self.makeNullArr()\n",
    "        self.delete_cell_prev()\n",
    "        self.jump_to_comment()\n",
    "            \n",
    "    def removeLastelement(self):\n",
    "        self.arr.pop() \n",
    "        self.delete_cell_prev()\n",
    "        \n",
    "    def removeByUsingIndex(self, x):\n",
    "        self.arr.pop(x)\n",
    "        self.delete_cell_prev()\n",
    "        \n",
    "    def makeNullArr(self):\n",
    "        self.arr = []\n",
    "#         self.delete_cell_prev()\n",
    "    def magic_markdown_create(self,link):\n",
    "        # Set up Chrome options\n",
    "        chrome_options = webdriver.ChromeOptions()\n",
    "        # if you want no window extra to open up\n",
    "#         chrome_options.add_argument(\"--headless\")\n",
    "#         chrome_options.add_argument(\"--start-minimized\")\n",
    "        driver = '../chromedriver-win64/chromedriver.exe' # windows\n",
    "        browser = webdriver.Chrome(executable_path=driver,options=chrome_options)\n",
    "        browser.minimize_window()\n",
    "        # fetch the link\n",
    "        browser.get(link)\n",
    "        print(\"Got link fetching now...\")\n",
    "        # get the main element parent of all\n",
    "        time.sleep(0.5)\n",
    "        print(\"web page is loading....\")\n",
    "        time.sleep(2)\n",
    "        element = browser.find_element(By.XPATH, '//*[@id=\"qd-content\"]/div[1]/div/div/div/div[2]/div/div')\n",
    "        # unnecessary link\n",
    "        non_necessary = ['https://leetcode.com/_next/static/images/logo-dark-c96c407d175e36c81e236fcfdd682a0b.png',\n",
    "                    'https://leetcode.com/_next/static/images/logo-ff2b712834cf26bf50a5de58ee27bcef.png',\n",
    "                    'https://leetcode.com/_next/static/images/dark-judging-723b3c3e728a574bc2a2d4b89a10d4d7.gif',\n",
    "                    'https://leetcode.com/_next/static/images/dark-pending-f313d6fe32951fb6b4d48ad3ee4f3821.gif',\n",
    "                    'https://leetcode.com/_next/static/images/light-judging-9d7b0f1c4035b59af3a7d6ccd8e0ac12.gif',\n",
    "                     'https://leetcode.com/_next/static/images/light-pending-9c28f1f18993ec103b273778b5f6a648.gif']\n",
    "        color = {\"Easy\":\"Green\", \"Medium\":\"#F1C27B\",\"Hard\":\"Red\"}\n",
    "        markdown_content = \"\"\n",
    "        # extracting name\n",
    "        print(\"Exctracting name and number \")\n",
    "        name_no = browser.find_element(By.XPATH, '//*[@id=\"qd-content\"]/div[1]/div/div/div/div[2]/div/div/div[1]/div/div[1]/div[1]/div/a').text\n",
    "        # print(name_no)\n",
    "        markdown_content += f\"# {name_no}\\n\\n\"  # Add as a title in markdown\n",
    "        difficulty = browser.find_element_by_xpath('//*[@id=\"qd-content\"]/div[1]/div/div/div/div[2]/div/div/div[1]/div/div[2]/div[1]').text\n",
    "        markdown_content += f\"## <font color='{color[difficulty]}'>{difficulty}</font>\\n\\n\"  # Assuming it's a subheading, change as needed\n",
    "        print(\"Extracting all other details\")\n",
    "        time.sleep(0.8)\n",
    "        count = 0\n",
    "        for child in element.find_elements_by_xpath(\"//*\"):\n",
    "            if child.tag_name == 'p':\n",
    "                print(\"Scraping Some Text....\")\n",
    "                markdown_content += f\"{child.text}\\n\\n\"\n",
    "            elif child.tag_name == 'pre':\n",
    "                print(\"Scraping Test Cases....\")\n",
    "                markdown_content += f\"```\\n{child.text}\\n```\\n\\n\"\n",
    "            elif child.tag_name == 'li': #('//*[@id=\"rootItem\"]/li'): \n",
    "                if count >= 1:\n",
    "                    markdown_content += f\"* `{child.text}`\\n\\n\"  # Assuming it's a subheading, change as needed\n",
    "                count += 1\n",
    "            elif child.tag_name == 'img':\n",
    "                link = child.get_attribute('src')\n",
    "                if link not in non_necessary:\n",
    "                    print(\"Scraping some exciting pictures...\")\n",
    "                    markdown_content += f\"![Image]({link})\\n\\n\"\n",
    "        # Display the markdown content in Jupyter Notebook\n",
    "        print(\"Ohh hooo You can paste now 🥳\")\n",
    "#         py.copy(markdown_content)\n",
    "        browser.close()\n",
    "        return markdown_content"
   ]
  },
  {
   "cell_type": "code",
   "execution_count": 257,
   "id": "a06efe6d",
   "metadata": {},
   "outputs": [
    {
     "name": "stdout",
     "output_type": "stream",
     "text": [
      "This Function is Created by Chandrashekhar Robbi.\n",
      "Note this function is especially created for my leet code solving purposes \n",
      "It takes name of the problem and return leetcode link and it has features like create array which has markdown, comment and delete after executing and many more :)\n"
     ]
    }
   ],
   "source": [
    "z = LeetFunction()"
   ]
  },
  {
   "cell_type": "code",
   "execution_count": 263,
   "id": "4f03737d",
   "metadata": {},
   "outputs": [
    {
     "name": "stdout",
     "output_type": "stream",
     "text": [
      "comment added to list now magic function will show his magic\n",
      "Got link fetching now...\n",
      "web page is loading....\n",
      "Exctracting name and number \n",
      "Extracting all other details\n",
      "Scraping Some Text....\n",
      "Scraping Some Text....\n",
      "Scraping Some Text....\n",
      "Scraping Some Text....\n",
      "Scraping Some Text....\n",
      "Scraping Some Text....\n",
      "Scraping some exciting pictures...\n",
      "Scraping Test Cases....\n",
      "Scraping Some Text....\n",
      "Scraping some exciting pictures...\n",
      "Scraping Test Cases....\n",
      "Scraping Some Text....\n",
      "Scraping Some Text....\n",
      "Scraping Some Text....\n",
      "Scraping Some Text....\n",
      "Ohh hooo You can paste now 🥳\n"
     ]
    },
    {
     "data": {
      "application/javascript": [
       "\n",
       "            IPython.notebook.to_markdown();\n",
       "        "
      ],
      "text/plain": [
       "<IPython.core.display.Javascript object>"
      ]
     },
     "metadata": {},
     "output_type": "display_data"
    },
    {
     "name": "stdout",
     "output_type": "stream",
     "text": [
      "It is already in the list\n"
     ]
    }
   ],
   "source": [
    "z.new(\"Unique Paths II\")"
   ]
  },
  {
   "cell_type": "markdown",
   "id": "a56e5b2c",
   "metadata": {},
   "source": [
    "# 63. Unique Paths II\n",
    "\n",
    "## <font color='Gold'>Medium</font>\n",
    "\n",
    "You are given an m x n integer array grid. There is a robot initially located at the top-left corner (i.e., grid[0][0]). The robot tries to move to the bottom-right corner (i.e., grid[m - 1][n - 1]). The robot can only move either down or right at any point in time.\n",
    "\n",
    "An obstacle and space are marked as 1 or 0 respectively in grid. A path that the robot takes cannot include any square that is an obstacle.\n",
    "\n",
    "Return the number of possible unique paths that the robot can take to reach the bottom-right corner.\n",
    "\n",
    "The testcases are generated so that the answer will be less than or equal to 2 * 109.\n",
    "\n",
    " \n",
    "\n",
    "Example 1:\n",
    "\n",
    "![Image](https://assets.leetcode.com/uploads/2020/11/04/robot1.jpg)\n",
    "\n",
    "```\n",
    "Input: obstacleGrid = [[0,0,0],[0,1,0],[0,0,0]]\n",
    "Output: 2\n",
    "Explanation: There is one obstacle in the middle of the 3x3 grid above.\n",
    "There are two ways to reach the bottom-right corner:\n",
    "1. Right -> Right -> Down -> Down\n",
    "2. Down -> Down -> Right -> Right\n",
    "```\n",
    "\n",
    "Example 2:\n",
    "\n",
    "![Image](https://assets.leetcode.com/uploads/2020/11/04/robot2.jpg)\n",
    "\n",
    "```\n",
    "Input: obstacleGrid = [[0,1],[0,0]]\n",
    "Output: 1\n",
    "```\n",
    "\n",
    " \n",
    "\n",
    "Constraints:\n",
    "\n",
    "* `m == obstacleGrid.length`\n",
    "\n",
    "* `n == obstacleGrid[i].length`\n",
    "\n",
    "* `1 <= m, n <= 100`\n",
    "\n",
    "* `obstacleGrid[i][j] is 0 or 1.`\n",
    "\n",
    "\n",
    "\n",
    "\n",
    "\n",
    "  \n",
    " > <font color=\"green\">Leetcode Link to Unique Paths II [Link](https://leetcode.com/problems/unique-paths-ii) <font/> \n",
    "\n",
    "<hr> \n",
    "\n",
    "* Approach:\n",
    "* Time Complexity $ O() $\n",
    "* Space Complexity $ O() $"
   ]
  },
  {
   "cell_type": "markdown",
   "id": "edaf7aad",
   "metadata": {},
   "source": []
  },
  {
   "cell_type": "markdown",
   "id": "c5d2e641",
   "metadata": {},
   "source": []
  },
  {
   "cell_type": "code",
   "execution_count": null,
   "id": "c38ca359",
   "metadata": {},
   "outputs": [],
   "source": []
  },
  {
   "cell_type": "code",
   "execution_count": null,
   "id": "ecab87b9",
   "metadata": {},
   "outputs": [],
   "source": []
  }
 ],
 "metadata": {
  "kernelspec": {
   "display_name": "Python 3 (ipykernel)",
   "language": "python",
   "name": "python3"
  },
  "language_info": {
   "codemirror_mode": {
    "name": "ipython",
    "version": 3
   },
   "file_extension": ".py",
   "mimetype": "text/x-python",
   "name": "python",
   "nbconvert_exporter": "python",
   "pygments_lexer": "ipython3",
   "version": "3.10.10"
  }
 },
 "nbformat": 4,
 "nbformat_minor": 5
}
