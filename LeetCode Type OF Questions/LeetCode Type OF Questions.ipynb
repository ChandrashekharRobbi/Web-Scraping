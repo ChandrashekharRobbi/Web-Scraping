{
 "cells": [
  {
   "cell_type": "code",
   "execution_count": 21,
   "id": "83408a0b",
   "metadata": {},
   "outputs": [],
   "source": [
    "import time\n",
    "import requests \n",
    "import pandas as pd\n",
    "import numpy as np\n",
    "from tqdm import tqdm\n",
    "from selenium import webdriver\n",
    "from selenium.webdriver.common.by import By"
   ]
  },
  {
   "cell_type": "code",
   "execution_count": 22,
   "id": "256e2148",
   "metadata": {},
   "outputs": [],
   "source": [
    "driver = '../chromedriver_win32/chromedriver.exe' # windows"
   ]
  },
  {
   "cell_type": "code",
   "execution_count": 29,
   "id": "e2a1f23e",
   "metadata": {},
   "outputs": [],
   "source": [
    "browser = webdriver.Chrome(driver)"
   ]
  },
  {
   "cell_type": "code",
   "execution_count": 25,
   "id": "b01f3bd9",
   "metadata": {},
   "outputs": [],
   "source": [
    "df = pd.read_csv('LeetCode_questions_with_links.csv')"
   ]
  },
  {
   "cell_type": "code",
   "execution_count": 26,
   "id": "d05f9d25",
   "metadata": {},
   "outputs": [
    {
     "data": {
      "text/html": [
       "<div>\n",
       "<style scoped>\n",
       "    .dataframe tbody tr th:only-of-type {\n",
       "        vertical-align: middle;\n",
       "    }\n",
       "\n",
       "    .dataframe tbody tr th {\n",
       "        vertical-align: top;\n",
       "    }\n",
       "\n",
       "    .dataframe thead th {\n",
       "        text-align: right;\n",
       "    }\n",
       "</style>\n",
       "<table border=\"1\" class=\"dataframe\">\n",
       "  <thead>\n",
       "    <tr style=\"text-align: right;\">\n",
       "      <th></th>\n",
       "      <th>Questions</th>\n",
       "      <th>Acceptance Rate</th>\n",
       "      <th>Difficulty</th>\n",
       "      <th>Links</th>\n",
       "    </tr>\n",
       "  </thead>\n",
       "  <tbody>\n",
       "    <tr>\n",
       "      <th>0</th>\n",
       "      <td>1. Two Sum</td>\n",
       "      <td>49.90%</td>\n",
       "      <td>Easy</td>\n",
       "      <td>https://leetcode.com/problems/two-sum/</td>\n",
       "    </tr>\n",
       "    <tr>\n",
       "      <th>1</th>\n",
       "      <td>2. Add Two Numbers</td>\n",
       "      <td>40.50%</td>\n",
       "      <td>Medium</td>\n",
       "      <td>https://leetcode.com/problems/add-two-numbers/</td>\n",
       "    </tr>\n",
       "    <tr>\n",
       "      <th>2</th>\n",
       "      <td>3. Longest Substring Without Repeating Characters</td>\n",
       "      <td>33.80%</td>\n",
       "      <td>Medium</td>\n",
       "      <td>https://leetcode.com/problems/longest-substrin...</td>\n",
       "    </tr>\n",
       "    <tr>\n",
       "      <th>3</th>\n",
       "      <td>4. Median of Two Sorted Arrays</td>\n",
       "      <td>36.50%</td>\n",
       "      <td>Hard</td>\n",
       "      <td>https://leetcode.com/problems/median-of-two-so...</td>\n",
       "    </tr>\n",
       "    <tr>\n",
       "      <th>4</th>\n",
       "      <td>5. Longest Palindromic Substring</td>\n",
       "      <td>32.40%</td>\n",
       "      <td>Medium</td>\n",
       "      <td>https://leetcode.com/problems/longest-palindro...</td>\n",
       "    </tr>\n",
       "    <tr>\n",
       "      <th>...</th>\n",
       "      <td>...</td>\n",
       "      <td>...</td>\n",
       "      <td>...</td>\n",
       "      <td>...</td>\n",
       "    </tr>\n",
       "    <tr>\n",
       "      <th>2697</th>\n",
       "      <td>2698. Find the Punishment Number of an Integer</td>\n",
       "      <td>59.40%</td>\n",
       "      <td>Medium</td>\n",
       "      <td>https://leetcode.com/problems/find-the-punishm...</td>\n",
       "    </tr>\n",
       "    <tr>\n",
       "      <th>2698</th>\n",
       "      <td>2699. Modify Graph Edge Weights</td>\n",
       "      <td>17.70%</td>\n",
       "      <td>Hard</td>\n",
       "      <td>https://leetcode.com/problems/modify-graph-edg...</td>\n",
       "    </tr>\n",
       "    <tr>\n",
       "      <th>2699</th>\n",
       "      <td>2700. Differences Between Two Objects</td>\n",
       "      <td>85.00%</td>\n",
       "      <td>Medium</td>\n",
       "      <td>https://leetcode.com/problems/differences-betw...</td>\n",
       "    </tr>\n",
       "    <tr>\n",
       "      <th>2700</th>\n",
       "      <td>2701. Consecutive Transactions with Increasing...</td>\n",
       "      <td>23.80%</td>\n",
       "      <td>Hard</td>\n",
       "      <td>https://leetcode.com/problems/consecutive-tran...</td>\n",
       "    </tr>\n",
       "    <tr>\n",
       "      <th>2701</th>\n",
       "      <td>2702. Minimum Operations to Make Numbers Non-p...</td>\n",
       "      <td>64.30%</td>\n",
       "      <td>Hard</td>\n",
       "      <td>https://leetcode.com/problems/minimum-operatio...</td>\n",
       "    </tr>\n",
       "  </tbody>\n",
       "</table>\n",
       "<p>2702 rows × 4 columns</p>\n",
       "</div>"
      ],
      "text/plain": [
       "                                              Questions Acceptance Rate   \n",
       "0                                            1. Two Sum          49.90%  \\\n",
       "1                                    2. Add Two Numbers          40.50%   \n",
       "2     3. Longest Substring Without Repeating Characters          33.80%   \n",
       "3                        4. Median of Two Sorted Arrays          36.50%   \n",
       "4                      5. Longest Palindromic Substring          32.40%   \n",
       "...                                                 ...             ...   \n",
       "2697     2698. Find the Punishment Number of an Integer          59.40%   \n",
       "2698                    2699. Modify Graph Edge Weights          17.70%   \n",
       "2699              2700. Differences Between Two Objects          85.00%   \n",
       "2700  2701. Consecutive Transactions with Increasing...          23.80%   \n",
       "2701  2702. Minimum Operations to Make Numbers Non-p...          64.30%   \n",
       "\n",
       "     Difficulty                                              Links  \n",
       "0          Easy             https://leetcode.com/problems/two-sum/  \n",
       "1        Medium     https://leetcode.com/problems/add-two-numbers/  \n",
       "2        Medium  https://leetcode.com/problems/longest-substrin...  \n",
       "3          Hard  https://leetcode.com/problems/median-of-two-so...  \n",
       "4        Medium  https://leetcode.com/problems/longest-palindro...  \n",
       "...         ...                                                ...  \n",
       "2697     Medium  https://leetcode.com/problems/find-the-punishm...  \n",
       "2698       Hard  https://leetcode.com/problems/modify-graph-edg...  \n",
       "2699     Medium  https://leetcode.com/problems/differences-betw...  \n",
       "2700       Hard  https://leetcode.com/problems/consecutive-tran...  \n",
       "2701       Hard  https://leetcode.com/problems/minimum-operatio...  \n",
       "\n",
       "[2702 rows x 4 columns]"
      ]
     },
     "execution_count": 26,
     "metadata": {},
     "output_type": "execute_result"
    }
   ],
   "source": [
    "df"
   ]
  },
  {
   "cell_type": "code",
   "execution_count": 9,
   "id": "fd176a18",
   "metadata": {},
   "outputs": [],
   "source": [
    "browser.get(df[\"leetcode_links\"][0])"
   ]
  },
  {
   "cell_type": "code",
   "execution_count": 11,
   "id": "57c18376",
   "metadata": {},
   "outputs": [
    {
     "data": {
      "text/plain": [
       "'1.6K'"
      ]
     },
     "execution_count": 11,
     "metadata": {},
     "output_type": "execute_result"
    }
   ],
   "source": []
  },
  {
   "cell_type": "code",
   "execution_count": 19,
   "id": "aaab7b49",
   "metadata": {},
   "outputs": [
    {
     "data": {
      "text/plain": [
       "'String\\nDynamic Programming'"
      ]
     },
     "execution_count": 19,
     "metadata": {},
     "output_type": "execute_result"
    }
   ],
   "source": [
    "browser.find_element(By.XPATH, '//*[@id=\"qd-content\"]/div[1]/div/div/div/div[2]/div/div/div[7]/div/div[2]/div').text"
   ]
  },
  {
   "cell_type": "code",
   "execution_count": null,
   "id": "a1602aa8",
   "metadata": {
    "scrolled": true
   },
   "outputs": [
    {
     "name": "stderr",
     "output_type": "stream",
     "text": [
      "  0%|▏                                                                                 | 1/408 [00:06<43:15,  6.38s/it]"
     ]
    },
    {
     "name": "stdout",
     "output_type": "stream",
     "text": [
      "https://leetcode.com/problems/replace-elements-in-an-array/\n",
      "530\n",
      "Array,Hash Table,Simulation\n",
      "\n"
     ]
    },
    {
     "name": "stderr",
     "output_type": "stream",
     "text": [
      "\r",
      "  0%|▍                                                                                 | 2/408 [00:09<31:15,  4.62s/it]"
     ]
    },
    {
     "name": "stdout",
     "output_type": "stream",
     "text": [
      "https://leetcode.com/problems/design-a-text-editor/\n",
      "\n",
      "\n",
      "True\n"
     ]
    },
    {
     "name": "stderr",
     "output_type": "stream",
     "text": [
      "\r",
      "  1%|▌                                                                                 | 3/408 [00:13<27:59,  4.15s/it]"
     ]
    },
    {
     "name": "stdout",
     "output_type": "stream",
     "text": [
      "https://leetcode.com/problems/jump-game-viii/\n",
      "\n",
      "\n",
      "True\n"
     ]
    },
    {
     "name": "stderr",
     "output_type": "stream",
     "text": [
      "\r",
      "  1%|▊                                                                                 | 4/408 [00:16<25:42,  3.82s/it]"
     ]
    },
    {
     "name": "stdout",
     "output_type": "stream",
     "text": [
      "https://leetcode.com/problems/tasks-count-in-the-weekend/\n",
      "\n",
      "\n",
      "True\n"
     ]
    },
    {
     "name": "stderr",
     "output_type": "stream",
     "text": [
      "\r",
      "  1%|█                                                                                 | 5/408 [00:22<30:27,  4.54s/it]"
     ]
    },
    {
     "name": "stdout",
     "output_type": "stream",
     "text": [
      "https://leetcode.com/problems/strong-password-checker-ii/\n",
      "273\n",
      "String\n",
      "\n"
     ]
    },
    {
     "name": "stderr",
     "output_type": "stream",
     "text": [
      "\r",
      "  1%|█▏                                                                                | 6/408 [00:28<33:38,  5.02s/it]"
     ]
    },
    {
     "name": "stdout",
     "output_type": "stream",
     "text": [
      "https://leetcode.com/problems/successful-pairs-of-spells-and-potions/\n",
      "2.1K\n",
      "Array,Two Pointers,Binary Search,Sorting\n",
      "\n"
     ]
    },
    {
     "name": "stderr",
     "output_type": "stream",
     "text": [
      "\r",
      "  2%|█▍                                                                                | 7/408 [00:34<34:48,  5.21s/it]"
     ]
    },
    {
     "name": "stdout",
     "output_type": "stream",
     "text": [
      "https://leetcode.com/problems/match-substring-after-replacement/\n",
      "339\n",
      "Array,Hash Table,String,String Matching\n",
      "\n"
     ]
    },
    {
     "name": "stderr",
     "output_type": "stream",
     "text": [
      "\r",
      "  2%|█▌                                                                                | 8/408 [00:39<35:41,  5.35s/it]"
     ]
    },
    {
     "name": "stdout",
     "output_type": "stream",
     "text": [
      "https://leetcode.com/problems/count-subarrays-with-score-less-than-k/\n",
      "756\n",
      "Array,Binary Search,Sliding Window,Prefix Sum\n",
      "\n"
     ]
    },
    {
     "name": "stderr",
     "output_type": "stream",
     "text": [
      "\r",
      "  2%|█▊                                                                                | 9/408 [00:43<33:02,  4.97s/it]"
     ]
    },
    {
     "name": "stdout",
     "output_type": "stream",
     "text": [
      "https://leetcode.com/problems/calculate-amount-paid-in-taxes/\n",
      "\n",
      "\n",
      "True\n"
     ]
    },
    {
     "name": "stderr",
     "output_type": "stream",
     "text": [
      "\r",
      "  2%|█▉                                                                               | 10/408 [00:49<34:43,  5.23s/it]"
     ]
    },
    {
     "name": "stdout",
     "output_type": "stream",
     "text": [
      "https://leetcode.com/problems/minimum-path-cost-in-a-grid/\n",
      "675\n",
      "Array,Dynamic Programming,Matrix\n",
      "\n"
     ]
    },
    {
     "name": "stderr",
     "output_type": "stream",
     "text": [
      "\r",
      "  3%|██▏                                                                              | 11/408 [00:55<35:51,  5.42s/it]"
     ]
    },
    {
     "name": "stdout",
     "output_type": "stream",
     "text": [
      "https://leetcode.com/problems/fair-distribution-of-cookies/\n",
      "862\n",
      "Array,Dynamic Programming,Backtracking,Bit Manipulation,Bitmask\n",
      "\n"
     ]
    },
    {
     "name": "stderr",
     "output_type": "stream",
     "text": [
      "\r",
      "  3%|██▍                                                                              | 12/408 [00:59<32:22,  4.91s/it]"
     ]
    },
    {
     "name": "stdout",
     "output_type": "stream",
     "text": [
      "https://leetcode.com/problems/naming-a-company/\n",
      "\n",
      "\n",
      "True\n"
     ]
    },
    {
     "name": "stderr",
     "output_type": "stream",
     "text": [
      "\r",
      "  3%|██▌                                                                              | 13/408 [01:03<30:10,  4.58s/it]"
     ]
    },
    {
     "name": "stdout",
     "output_type": "stream",
     "text": [
      "https://leetcode.com/problems/check-for-contradictions-in-equations/\n",
      "\n",
      "\n",
      "True\n"
     ]
    },
    {
     "name": "stderr",
     "output_type": "stream",
     "text": [
      "\r",
      "  3%|██▊                                                                              | 14/408 [01:06<28:23,  4.32s/it]"
     ]
    },
    {
     "name": "stdout",
     "output_type": "stream",
     "text": [
      "https://leetcode.com/problems/arrange-table-by-gender/\n",
      "\n",
      "\n",
      "True\n"
     ]
    },
    {
     "name": "stderr",
     "output_type": "stream",
     "text": [
      "\r",
      "  4%|██▉                                                                              | 15/408 [01:10<27:06,  4.14s/it]"
     ]
    },
    {
     "name": "stdout",
     "output_type": "stream",
     "text": [
      "https://leetcode.com/problems/greatest-english-letter-in-upper-and-lower-case/\n",
      "\n",
      "\n",
      "True\n"
     ]
    },
    {
     "name": "stderr",
     "output_type": "stream",
     "text": [
      "\r",
      "  4%|███▏                                                                             | 16/408 [01:16<30:20,  4.64s/it]"
     ]
    },
    {
     "name": "stdout",
     "output_type": "stream",
     "text": [
      "https://leetcode.com/problems/sum-of-numbers-with-units-digit-k/\n",
      "339\n",
      "Math,Dynamic Programming,Greedy,Enumeration\n",
      "\n"
     ]
    },
    {
     "name": "stderr",
     "output_type": "stream",
     "text": [
      "\r",
      "  4%|███▍                                                                             | 17/408 [01:22<32:27,  4.98s/it]"
     ]
    },
    {
     "name": "stdout",
     "output_type": "stream",
     "text": [
      "https://leetcode.com/problems/longest-binary-subsequence-less-than-or-equal-to-k/\n",
      "596\n",
      "String,Dynamic Programming,Greedy,Memoization\n",
      "\n"
     ]
    },
    {
     "name": "stderr",
     "output_type": "stream",
     "text": [
      "\r",
      "  4%|███▌                                                                             | 18/408 [01:28<34:20,  5.28s/it]"
     ]
    },
    {
     "name": "stdout",
     "output_type": "stream",
     "text": [
      "https://leetcode.com/problems/selling-pieces-of-wood/\n",
      "482\n",
      "Array,Dynamic Programming,Memoization\n",
      "\n"
     ]
    },
    {
     "name": "stderr",
     "output_type": "stream",
     "text": [
      "\r",
      "  5%|███▊                                                                             | 19/408 [01:31<30:58,  4.78s/it]"
     ]
    },
    {
     "name": "stdout",
     "output_type": "stream",
     "text": [
      "https://leetcode.com/problems/minimum-flips-in-binary-tree-to-get-result/\n",
      "\n",
      "\n",
      "True\n"
     ]
    },
    {
     "name": "stderr",
     "output_type": "stream",
     "text": [
      "\r",
      "  5%|███▉                                                                             | 20/408 [01:35<28:29,  4.41s/it]"
     ]
    },
    {
     "name": "stdout",
     "output_type": "stream",
     "text": [
      "https://leetcode.com/problems/the-first-day-of-the-maximum-recorded-degree-in-each-city/\n",
      "\n",
      "\n",
      "True\n"
     ]
    },
    {
     "name": "stderr",
     "output_type": "stream",
     "text": [
      "\r",
      "  5%|████▏                                                                            | 21/408 [01:38<26:52,  4.17s/it]"
     ]
    },
    {
     "name": "stdout",
     "output_type": "stream",
     "text": [
      "https://leetcode.com/problems/count-asterisks/\n",
      "\n",
      "\n",
      "True\n"
     ]
    },
    {
     "name": "stderr",
     "output_type": "stream",
     "text": [
      "\r",
      "  5%|████▎                                                                            | 22/408 [01:44<29:40,  4.61s/it]"
     ]
    },
    {
     "name": "stdout",
     "output_type": "stream",
     "text": [
      "https://leetcode.com/problems/count-unreachable-pairs-of-nodes-in-an-undirected-graph/\n",
      "1.8K\n",
      "Depth-First Search,Breadth-First Search,Union Find,Graph\n",
      "\n"
     ]
    },
    {
     "name": "stderr",
     "output_type": "stream",
     "text": [
      "\r",
      "  6%|████▌                                                                            | 23/408 [01:50<31:40,  4.94s/it]"
     ]
    },
    {
     "name": "stdout",
     "output_type": "stream",
     "text": [
      "https://leetcode.com/problems/maximum-xor-after-operations/\n",
      "486\n",
      "Array,Math,Bit Manipulation\n",
      "\n"
     ]
    },
    {
     "name": "stderr",
     "output_type": "stream",
     "text": [
      "\r",
      "  6%|████▊                                                                            | 24/408 [01:56<34:30,  5.39s/it]"
     ]
    },
    {
     "name": "stdout",
     "output_type": "stream",
     "text": [
      "https://leetcode.com/problems/number-of-distinct-roll-sequences/\n",
      "376\n",
      "Dynamic Programming,Memoization\n",
      "\n"
     ]
    },
    {
     "name": "stderr",
     "output_type": "stream",
     "text": [
      "\r",
      "  6%|████▉                                                                            | 25/408 [02:02<35:17,  5.53s/it]"
     ]
    },
    {
     "name": "stdout",
     "output_type": "stream",
     "text": [
      "https://leetcode.com/problems/check-if-matrix-is-x-matrix/\n",
      "397\n",
      "Array,Matrix\n",
      "\n"
     ]
    },
    {
     "name": "stderr",
     "output_type": "stream",
     "text": [
      "\r",
      "  6%|█████▏                                                                           | 26/408 [02:08<36:31,  5.74s/it]"
     ]
    },
    {
     "name": "stdout",
     "output_type": "stream",
     "text": [
      "https://leetcode.com/problems/count-number-of-ways-to-place-houses/\n",
      "464\n",
      "Dynamic Programming\n",
      "\n"
     ]
    },
    {
     "name": "stderr",
     "output_type": "stream",
     "text": [
      "\r",
      "  7%|█████▎                                                                           | 27/408 [02:14<37:01,  5.83s/it]"
     ]
    },
    {
     "name": "stdout",
     "output_type": "stream",
     "text": [
      "https://leetcode.com/problems/maximum-score-of-spliced-array/\n",
      "671\n",
      "Array,Dynamic Programming\n",
      "\n"
     ]
    },
    {
     "name": "stderr",
     "output_type": "stream",
     "text": [
      "\r",
      "  7%|█████▌                                                                           | 28/408 [02:18<33:00,  5.21s/it]"
     ]
    },
    {
     "name": "stdout",
     "output_type": "stream",
     "text": [
      "https://leetcode.com/problems/minimum-score-after-removals-on-a-tree/\n",
      "\n",
      "\n",
      "True\n"
     ]
    },
    {
     "name": "stderr",
     "output_type": "stream",
     "text": [
      "\r",
      "  7%|█████▊                                                                           | 29/408 [02:22<30:12,  4.78s/it]"
     ]
    },
    {
     "name": "stdout",
     "output_type": "stream",
     "text": [
      "https://leetcode.com/problems/find-minimum-time-to-finish-all-jobs-ii/\n",
      "\n",
      "\n",
      "True\n"
     ]
    },
    {
     "name": "stderr",
     "output_type": "stream",
     "text": [
      "\r",
      "  7%|█████▉                                                                           | 30/408 [02:25<27:50,  4.42s/it]"
     ]
    },
    {
     "name": "stdout",
     "output_type": "stream",
     "text": [
      "https://leetcode.com/problems/product-sales-analysis-iv/\n",
      "\n",
      "\n",
      "True\n"
     ]
    },
    {
     "name": "stderr",
     "output_type": "stream",
     "text": [
      "\r",
      "  8%|██████▏                                                                          | 31/408 [02:29<26:39,  4.24s/it]"
     ]
    },
    {
     "name": "stdout",
     "output_type": "stream",
     "text": [
      "https://leetcode.com/problems/decode-the-message/\n",
      "\n",
      "\n",
      "True\n"
     ]
    },
    {
     "name": "stderr",
     "output_type": "stream",
     "text": [
      "\r",
      "  8%|██████▎                                                                          | 32/408 [02:35<28:52,  4.61s/it]"
     ]
    },
    {
     "name": "stdout",
     "output_type": "stream",
     "text": [
      "https://leetcode.com/problems/spiral-matrix-iv/\n",
      "565\n",
      "Array,Linked List,Matrix,Simulation\n",
      "\n"
     ]
    },
    {
     "name": "stderr",
     "output_type": "stream",
     "text": [
      "\r",
      "  8%|██████▌                                                                          | 33/408 [02:38<26:48,  4.29s/it]"
     ]
    },
    {
     "name": "stdout",
     "output_type": "stream",
     "text": [
      "https://leetcode.com/problems/number-of-people-aware-of-a-secret/\n",
      "\n",
      "\n",
      "True\n"
     ]
    },
    {
     "name": "stderr",
     "output_type": "stream",
     "text": [
      "\r",
      "  8%|██████▊                                                                          | 34/408 [02:44<28:56,  4.64s/it]"
     ]
    },
    {
     "name": "stdout",
     "output_type": "stream",
     "text": [
      "https://leetcode.com/problems/number-of-increasing-paths-in-a-grid/\n",
      "730\n",
      "Array,Dynamic Programming,Depth-First Search,Breadth-First Search,Graph,Topological Sort,Memoization,Matrix\n",
      "\n"
     ]
    },
    {
     "name": "stderr",
     "output_type": "stream",
     "text": [
      "\r",
      "  9%|██████▉                                                                          | 35/408 [02:47<27:16,  4.39s/it]"
     ]
    },
    {
     "name": "stdout",
     "output_type": "stream",
     "text": [
      "https://leetcode.com/problems/product-sales-analysis-v/\n",
      "\n",
      "\n",
      "True\n"
     ]
    },
    {
     "name": "stderr",
     "output_type": "stream",
     "text": [
      "\r",
      "  9%|███████▏                                                                         | 36/408 [02:51<25:38,  4.14s/it]"
     ]
    },
    {
     "name": "stdout",
     "output_type": "stream",
     "text": [
      "https://leetcode.com/problems/valid-palindrome-iv/\n",
      "\n",
      "\n",
      "True\n"
     ]
    },
    {
     "name": "stderr",
     "output_type": "stream",
     "text": [
      "\r",
      "  9%|███████▎                                                                         | 37/408 [02:57<28:09,  4.56s/it]"
     ]
    },
    {
     "name": "stdout",
     "output_type": "stream",
     "text": [
      "https://leetcode.com/problems/evaluate-boolean-binary-tree/\n",
      "713\n",
      "Tree,Depth-First Search,Binary Tree\n",
      "\n"
     ]
    },
    {
     "name": "stderr",
     "output_type": "stream",
     "text": [
      "\r",
      "  9%|███████▌                                                                         | 38/408 [03:02<30:23,  4.93s/it]"
     ]
    },
    {
     "name": "stdout",
     "output_type": "stream",
     "text": [
      "https://leetcode.com/problems/the-latest-time-to-catch-a-bus/\n",
      "332\n",
      "Array,Two Pointers,Binary Search,Sorting\n",
      "\n"
     ]
    },
    {
     "name": "stderr",
     "output_type": "stream",
     "text": [
      "\r",
      " 10%|███████▋                                                                         | 39/408 [03:08<32:10,  5.23s/it]"
     ]
    },
    {
     "name": "stdout",
     "output_type": "stream",
     "text": [
      "https://leetcode.com/problems/minimum-sum-of-squared-difference/\n",
      "533\n",
      "Array,Math,Sorting,Heap (Priority Queue)\n",
      "\n"
     ]
    },
    {
     "name": "stderr",
     "output_type": "stream",
     "text": [
      "\r",
      " 10%|███████▉                                                                         | 40/408 [03:14<33:14,  5.42s/it]"
     ]
    },
    {
     "name": "stdout",
     "output_type": "stream",
     "text": [
      "https://leetcode.com/problems/subarray-with-elements-greater-than-varying-threshold/\n",
      "443\n",
      "Array,Stack,Union Find,Monotonic Stack\n",
      "\n"
     ]
    },
    {
     "name": "stderr",
     "output_type": "stream",
     "text": [
      "\r",
      " 10%|████████▏                                                                        | 41/408 [03:20<34:02,  5.57s/it]"
     ]
    },
    {
     "name": "stdout",
     "output_type": "stream",
     "text": [
      "https://leetcode.com/problems/minimum-amount-of-time-to-fill-cups/\n",
      "520\n",
      "Array,Greedy,Sorting,Heap (Priority Queue)\n",
      "\n"
     ]
    },
    {
     "name": "stderr",
     "output_type": "stream",
     "text": [
      "\r",
      " 10%|████████▎                                                                        | 42/408 [03:26<33:50,  5.55s/it]"
     ]
    },
    {
     "name": "stdout",
     "output_type": "stream",
     "text": [
      "https://leetcode.com/problems/smallest-number-in-infinite-set/\n",
      "1.3K\n",
      "Hash Table,Design,Heap (Priority Queue)\n",
      "\n"
     ]
    },
    {
     "name": "stderr",
     "output_type": "stream",
     "text": [
      "\r",
      " 11%|████████▌                                                                        | 43/408 [03:31<33:58,  5.59s/it]"
     ]
    },
    {
     "name": "stdout",
     "output_type": "stream",
     "text": [
      "https://leetcode.com/problems/move-pieces-to-obtain-a-string/\n",
      "574\n",
      "Two Pointers,String\n",
      "\n"
     ]
    },
    {
     "name": "stderr",
     "output_type": "stream",
     "text": [
      "\r",
      " 11%|████████▋                                                                        | 44/408 [03:38<35:21,  5.83s/it]"
     ]
    },
    {
     "name": "stdout",
     "output_type": "stream",
     "text": [
      "https://leetcode.com/problems/count-the-number-of-ideal-arrays/\n",
      "401\n",
      "Math,Dynamic Programming,Combinatorics,Number Theory\n",
      "\n"
     ]
    },
    {
     "name": "stderr",
     "output_type": "stream",
     "text": [
      "\r",
      " 11%|████████▉                                                                        | 45/408 [03:41<31:18,  5.18s/it]"
     ]
    },
    {
     "name": "stdout",
     "output_type": "stream",
     "text": [
      "https://leetcode.com/problems/all-the-matches-of-the-league/\n",
      "\n",
      "\n",
      "True\n"
     ]
    },
    {
     "name": "stderr",
     "output_type": "stream",
     "text": [
      "\r",
      " 11%|█████████▏                                                                       | 46/408 [03:45<28:48,  4.77s/it]"
     ]
    },
    {
     "name": "stdout",
     "output_type": "stream",
     "text": [
      "https://leetcode.com/problems/minimum-adjacent-swaps-to-make-a-valid-array/\n",
      "\n",
      "\n",
      "True\n"
     ]
    },
    {
     "name": "stderr",
     "output_type": "stream",
     "text": [
      "\r",
      " 12%|█████████▎                                                                       | 47/408 [03:51<31:24,  5.22s/it]"
     ]
    },
    {
     "name": "stdout",
     "output_type": "stream",
     "text": [
      "https://leetcode.com/problems/maximum-number-of-pairs-in-array/\n",
      "537\n",
      "Array,Hash Table,Counting\n",
      "\n"
     ]
    },
    {
     "name": "stderr",
     "output_type": "stream",
     "text": [
      "\r",
      " 12%|█████████▌                                                                       | 48/408 [03:55<28:23,  4.73s/it]"
     ]
    },
    {
     "name": "stdout",
     "output_type": "stream",
     "text": [
      "https://leetcode.com/problems/max-sum-of-a-pair-with-equal-sum-of-digits/\n",
      "\n",
      "\n",
      "True\n"
     ]
    },
    {
     "name": "stderr",
     "output_type": "stream",
     "text": [
      "\r",
      " 12%|█████████▋                                                                       | 49/408 [03:59<26:17,  4.39s/it]"
     ]
    },
    {
     "name": "stdout",
     "output_type": "stream",
     "text": [
      "https://leetcode.com/problems/query-kth-smallest-trimmed-number/\n",
      "\n",
      "\n",
      "True\n"
     ]
    },
    {
     "name": "stderr",
     "output_type": "stream",
     "text": [
      "\r",
      " 12%|█████████▉                                                                       | 50/408 [04:05<29:44,  4.98s/it]"
     ]
    },
    {
     "name": "stdout",
     "output_type": "stream",
     "text": [
      "https://leetcode.com/problems/minimum-deletions-to-make-array-divisible/\n",
      "478\n",
      "Array,Math,Sorting,Heap (Priority Queue),Number Theory\n",
      "\n"
     ]
    },
    {
     "name": "stderr",
     "output_type": "stream",
     "text": [
      "\r",
      " 12%|██████████▏                                                                      | 51/408 [04:08<26:43,  4.49s/it]"
     ]
    },
    {
     "name": "stdout",
     "output_type": "stream",
     "text": [
      "https://leetcode.com/problems/finding-the-number-of-visible-mountains/\n",
      "\n",
      "\n",
      "True\n"
     ]
    },
    {
     "name": "stderr",
     "output_type": "stream",
     "text": [
      "\r",
      " 13%|██████████▎                                                                      | 52/408 [04:12<24:39,  4.16s/it]"
     ]
    },
    {
     "name": "stdout",
     "output_type": "stream",
     "text": [
      "https://leetcode.com/problems/compute-the-rank-as-a-percentage/\n",
      "\n",
      "\n",
      "True\n"
     ]
    },
    {
     "name": "stderr",
     "output_type": "stream",
     "text": [
      "\r",
      " 13%|██████████▌                                                                      | 53/408 [04:17<27:10,  4.59s/it]"
     ]
    },
    {
     "name": "stdout",
     "output_type": "stream",
     "text": [
      "https://leetcode.com/problems/best-poker-hand/\n",
      "306\n",
      "Array,Hash Table,Counting\n",
      "\n"
     ]
    },
    {
     "name": "stderr",
     "output_type": "stream",
     "text": [
      "\r",
      " 13%|██████████▋                                                                      | 54/408 [04:23<28:44,  4.87s/it]"
     ]
    },
    {
     "name": "stdout",
     "output_type": "stream",
     "text": [
      "https://leetcode.com/problems/number-of-zero-filled-subarrays/\n",
      "2K\n",
      "Array,Math\n",
      "\n"
     ]
    },
    {
     "name": "stderr",
     "output_type": "stream",
     "text": [
      "\r",
      " 13%|██████████▉                                                                      | 55/408 [04:29<30:18,  5.15s/it]"
     ]
    },
    {
     "name": "stdout",
     "output_type": "stream",
     "text": [
      "https://leetcode.com/problems/design-a-number-container-system/\n",
      "313\n",
      "Hash Table,Design,Heap (Priority Queue),Ordered Set\n",
      "\n"
     ]
    },
    {
     "name": "stderr",
     "output_type": "stream",
     "text": [
      "\r",
      " 14%|███████████                                                                      | 56/408 [04:32<27:04,  4.61s/it]"
     ]
    },
    {
     "name": "stdout",
     "output_type": "stream",
     "text": [
      "https://leetcode.com/problems/shortest-impossible-sequence-of-rolls/\n",
      "\n",
      "\n",
      "True\n"
     ]
    },
    {
     "name": "stderr",
     "output_type": "stream",
     "text": [
      "\r",
      " 14%|███████████▎                                                                     | 57/408 [04:37<28:31,  4.88s/it]"
     ]
    },
    {
     "name": "stdout",
     "output_type": "stream",
     "text": [
      "https://leetcode.com/problems/first-letter-to-appear-twice/\n",
      "768\n",
      "Hash Table,String,Counting\n",
      "\n"
     ]
    },
    {
     "name": "stderr",
     "output_type": "stream",
     "text": [
      "\r",
      " 14%|███████████▌                                                                     | 58/408 [04:44<30:44,  5.27s/it]"
     ]
    },
    {
     "name": "stdout",
     "output_type": "stream",
     "text": [
      "https://leetcode.com/problems/equal-row-and-column-pairs/\n",
      "487\n",
      "Array,Hash Table,Matrix,Simulation\n",
      "\n"
     ]
    },
    {
     "name": "stderr",
     "output_type": "stream",
     "text": [
      "\r",
      " 14%|███████████▋                                                                     | 59/408 [04:50<32:22,  5.57s/it]"
     ]
    },
    {
     "name": "stdout",
     "output_type": "stream",
     "text": [
      "https://leetcode.com/problems/design-a-food-rating-system/\n",
      "449\n",
      "Hash Table,Design,Heap (Priority Queue),Ordered Set\n",
      "\n"
     ]
    },
    {
     "name": "stderr",
     "output_type": "stream",
     "text": [
      "\r",
      " 15%|███████████▉                                                                     | 60/408 [04:55<32:10,  5.55s/it]"
     ]
    },
    {
     "name": "stdout",
     "output_type": "stream",
     "text": [
      "https://leetcode.com/problems/number-of-excellent-pairs/\n",
      "512\n",
      "Array,Hash Table,Binary Search,Bit Manipulation\n",
      "\n"
     ]
    },
    {
     "name": "stderr",
     "output_type": "stream",
     "text": [
      "\r",
      " 15%|████████████                                                                     | 61/408 [04:59<28:38,  4.95s/it]"
     ]
    },
    {
     "name": "stdout",
     "output_type": "stream",
     "text": [
      "https://leetcode.com/problems/maximum-number-of-books-you-can-take/\n",
      "\n",
      "\n",
      "True\n"
     ]
    },
    {
     "name": "stderr",
     "output_type": "stream",
     "text": [
      "\r",
      " 15%|████████████▎                                                                    | 62/408 [05:03<26:33,  4.61s/it]"
     ]
    },
    {
     "name": "stdout",
     "output_type": "stream",
     "text": [
      "https://leetcode.com/problems/number-of-unique-subjects-taught-by-each-teacher/\n",
      "\n",
      "\n",
      "True\n"
     ]
    },
    {
     "name": "stderr",
     "output_type": "stream",
     "text": [
      "\r",
      " 15%|████████████▌                                                                    | 63/408 [05:08<27:59,  4.87s/it]"
     ]
    },
    {
     "name": "stdout",
     "output_type": "stream",
     "text": [
      "https://leetcode.com/problems/make-array-zero-by-subtracting-equal-amounts/\n",
      "876\n",
      "Array,Hash Table,Greedy,Sorting,Heap (Priority Queue),Simulation\n",
      "\n"
     ]
    },
    {
     "name": "stderr",
     "output_type": "stream",
     "text": [
      "\r",
      " 16%|████████████▋                                                                    | 64/408 [05:14<29:14,  5.10s/it]"
     ]
    },
    {
     "name": "stdout",
     "output_type": "stream",
     "text": [
      "https://leetcode.com/problems/maximum-number-of-groups-entering-a-competition/\n",
      "523\n",
      "Array,Math,Binary Search,Greedy\n",
      "\n"
     ]
    },
    {
     "name": "stderr",
     "output_type": "stream",
     "text": [
      "\r",
      " 16%|████████████▉                                                                    | 65/408 [05:18<26:45,  4.68s/it]"
     ]
    },
    {
     "name": "stdout",
     "output_type": "stream",
     "text": [
      "https://leetcode.com/problems/find-closest-node-to-given-two-nodes/\n",
      "\n",
      "\n",
      "True\n"
     ]
    },
    {
     "name": "stderr",
     "output_type": "stream",
     "text": [
      "\r",
      " 16%|█████████████                                                                    | 66/408 [05:23<28:14,  4.95s/it]"
     ]
    },
    {
     "name": "stdout",
     "output_type": "stream",
     "text": [
      "https://leetcode.com/problems/longest-cycle-in-a-graph/\n",
      "2K\n",
      "Depth-First Search,Graph,Topological Sort\n",
      "\n"
     ]
    },
    {
     "name": "stderr",
     "output_type": "stream",
     "text": [
      "\r",
      " 16%|█████████████▎                                                                   | 67/408 [05:27<25:40,  4.52s/it]"
     ]
    },
    {
     "name": "stdout",
     "output_type": "stream",
     "text": [
      "https://leetcode.com/problems/minimum-costs-using-the-train-line/\n",
      "\n",
      "\n",
      "True\n"
     ]
    },
    {
     "name": "stderr",
     "output_type": "stream",
     "text": [
      "\r",
      " 17%|█████████████▌                                                                   | 68/408 [05:30<23:46,  4.19s/it]"
     ]
    },
    {
     "name": "stdout",
     "output_type": "stream",
     "text": [
      "https://leetcode.com/problems/generate-the-invoice/\n",
      "\n",
      "\n",
      "True\n"
     ]
    },
    {
     "name": "stderr",
     "output_type": "stream",
     "text": [
      "\r",
      " 17%|█████████████▋                                                                   | 69/408 [05:33<22:09,  3.92s/it]"
     ]
    },
    {
     "name": "stdout",
     "output_type": "stream",
     "text": [
      "https://leetcode.com/problems/merge-similar-items/\n",
      "\n",
      "\n",
      "True\n"
     ]
    },
    {
     "name": "stderr",
     "output_type": "stream",
     "text": [
      "\r",
      " 17%|█████████████▉                                                                   | 70/408 [05:39<24:36,  4.37s/it]"
     ]
    },
    {
     "name": "stdout",
     "output_type": "stream",
     "text": [
      "https://leetcode.com/problems/count-number-of-bad-pairs/\n",
      "761\n",
      "Array,Hash Table\n",
      "\n"
     ]
    },
    {
     "name": "stderr",
     "output_type": "stream",
     "text": [
      "\r",
      " 17%|██████████████                                                                   | 71/408 [05:44<26:45,  4.76s/it]"
     ]
    },
    {
     "name": "stdout",
     "output_type": "stream",
     "text": [
      "https://leetcode.com/problems/task-scheduler-ii/\n",
      "408\n",
      "Array,Hash Table,Simulation\n",
      "\n"
     ]
    },
    {
     "name": "stderr",
     "output_type": "stream",
     "text": [
      "\r",
      " 18%|██████████████▎                                                                  | 72/408 [05:50<28:31,  5.09s/it]"
     ]
    },
    {
     "name": "stdout",
     "output_type": "stream",
     "text": [
      "https://leetcode.com/problems/minimum-replacements-to-sort-the-array/\n",
      "442\n",
      "Array,Math,Greedy\n",
      "\n"
     ]
    },
    {
     "name": "stderr",
     "output_type": "stream",
     "text": [
      "\r",
      " 18%|██████████████▍                                                                  | 73/408 [05:56<29:38,  5.31s/it]"
     ]
    },
    {
     "name": "stdout",
     "output_type": "stream",
     "text": [
      "https://leetcode.com/problems/number-of-arithmetic-triplets/\n",
      "880\n",
      "Array,Hash Table,Two Pointers,Enumeration\n",
      "\n"
     ]
    },
    {
     "name": "stderr",
     "output_type": "stream",
     "text": [
      "\r",
      " 18%|██████████████▋                                                                  | 74/408 [06:02<30:01,  5.39s/it]"
     ]
    },
    {
     "name": "stdout",
     "output_type": "stream",
     "text": [
      "https://leetcode.com/problems/reachable-nodes-with-restrictions/\n",
      "509\n",
      "Array,Hash Table,Tree,Depth-First Search,Breadth-First Search,Graph\n",
      "\n"
     ]
    },
    {
     "name": "stderr",
     "output_type": "stream",
     "text": [
      "\r",
      " 18%|██████████████▉                                                                  | 75/408 [06:06<27:18,  4.92s/it]"
     ]
    },
    {
     "name": "stdout",
     "output_type": "stream",
     "text": [
      "https://leetcode.com/problems/check-if-there-is-a-valid-partition-for-the-array/\n",
      "\n",
      "\n",
      "True\n"
     ]
    },
    {
     "name": "stderr",
     "output_type": "stream",
     "text": [
      "\r",
      " 19%|███████████████                                                                  | 76/408 [06:11<28:24,  5.13s/it]"
     ]
    },
    {
     "name": "stdout",
     "output_type": "stream",
     "text": [
      "https://leetcode.com/problems/longest-ideal-subsequence/\n",
      "657\n",
      "Hash Table,String,Dynamic Programming\n",
      "\n"
     ]
    },
    {
     "name": "stderr",
     "output_type": "stream",
     "text": [
      "\r",
      " 19%|███████████████▎                                                                 | 77/408 [06:15<26:12,  4.75s/it]"
     ]
    },
    {
     "name": "stdout",
     "output_type": "stream",
     "text": [
      "https://leetcode.com/problems/minimize-maximum-value-in-a-grid/\n",
      "\n",
      "\n",
      "True\n"
     ]
    },
    {
     "name": "stderr",
     "output_type": "stream",
     "text": [
      "\r",
      " 19%|███████████████▍                                                                 | 78/408 [06:18<23:57,  4.36s/it]"
     ]
    },
    {
     "name": "stdout",
     "output_type": "stream",
     "text": [
      "https://leetcode.com/problems/calculate-the-influence-of-each-salesperson/\n",
      "\n",
      "\n",
      "True\n"
     ]
    },
    {
     "name": "stderr",
     "output_type": "stream",
     "text": [
      "\r",
      " 19%|███████████████▋                                                                 | 79/408 [06:22<22:46,  4.15s/it]"
     ]
    },
    {
     "name": "stdout",
     "output_type": "stream",
     "text": [
      "https://leetcode.com/problems/largest-local-values-in-a-matrix/\n",
      "\n",
      "\n",
      "True\n"
     ]
    },
    {
     "name": "stderr",
     "output_type": "stream",
     "text": [
      "\r",
      " 20%|███████████████▉                                                                 | 80/408 [06:28<24:47,  4.53s/it]"
     ]
    },
    {
     "name": "stdout",
     "output_type": "stream",
     "text": [
      "https://leetcode.com/problems/node-with-highest-edge-score/\n",
      "346\n",
      "Hash Table,Graph\n",
      "\n"
     ]
    },
    {
     "name": "stderr",
     "output_type": "stream",
     "text": [
      "\r",
      " 20%|████████████████                                                                 | 81/408 [06:34<27:42,  5.08s/it]"
     ]
    },
    {
     "name": "stdout",
     "output_type": "stream",
     "text": [
      "https://leetcode.com/problems/construct-smallest-number-from-di-string/\n",
      "723\n",
      "String,Backtracking,Stack,Greedy\n",
      "\n"
     ]
    },
    {
     "name": "stderr",
     "output_type": "stream",
     "text": [
      "\r",
      " 20%|████████████████▎                                                                | 82/408 [06:40<28:50,  5.31s/it]"
     ]
    },
    {
     "name": "stdout",
     "output_type": "stream",
     "text": [
      "https://leetcode.com/problems/count-special-integers/\n",
      "474\n",
      "Math,Dynamic Programming\n",
      "\n"
     ]
    },
    {
     "name": "stderr",
     "output_type": "stream",
     "text": [
      "\r",
      " 20%|████████████████▍                                                                | 83/408 [06:44<26:22,  4.87s/it]"
     ]
    },
    {
     "name": "stdout",
     "output_type": "stream",
     "text": [
      "https://leetcode.com/problems/sort-the-olympic-table/\n",
      "\n",
      "\n",
      "True\n"
     ]
    },
    {
     "name": "stderr",
     "output_type": "stream",
     "text": [
      "\r",
      " 21%|████████████████▋                                                                | 84/408 [06:47<24:06,  4.46s/it]"
     ]
    },
    {
     "name": "stdout",
     "output_type": "stream",
     "text": [
      "https://leetcode.com/problems/choose-edges-to-maximize-score-in-a-tree/\n",
      "\n",
      "\n",
      "True\n"
     ]
    },
    {
     "name": "stderr",
     "output_type": "stream",
     "text": [
      "\r",
      " 21%|████████████████▉                                                                | 85/408 [06:53<25:46,  4.79s/it]"
     ]
    },
    {
     "name": "stdout",
     "output_type": "stream",
     "text": [
      "https://leetcode.com/problems/minimum-recolors-to-get-k-consecutive-black-blocks/\n",
      "537\n",
      "String,Sliding Window\n",
      "\n"
     ]
    },
    {
     "name": "stderr",
     "output_type": "stream",
     "text": [
      "\r",
      " 21%|█████████████████                                                                | 86/408 [06:58<27:09,  5.06s/it]"
     ]
    },
    {
     "name": "stdout",
     "output_type": "stream",
     "text": [
      "https://leetcode.com/problems/time-needed-to-rearrange-a-binary-string/\n",
      "374\n",
      "String,Dynamic Programming,Simulation\n",
      "\n"
     ]
    },
    {
     "name": "stderr",
     "output_type": "stream",
     "text": [
      "\r",
      " 21%|█████████████████▎                                                               | 87/408 [07:04<28:08,  5.26s/it]"
     ]
    },
    {
     "name": "stdout",
     "output_type": "stream",
     "text": [
      "https://leetcode.com/problems/shifting-letters-ii/\n",
      "603\n",
      "Array,String,Prefix Sum\n",
      "\n"
     ]
    },
    {
     "name": "stderr",
     "output_type": "stream",
     "text": [
      "\r",
      " 22%|█████████████████▍                                                               | 88/408 [07:08<25:24,  4.77s/it]"
     ]
    },
    {
     "name": "stdout",
     "output_type": "stream",
     "text": [
      "https://leetcode.com/problems/maximum-segment-sum-after-removals/\n",
      "\n",
      "\n",
      "True\n"
     ]
    },
    {
     "name": "stderr",
     "output_type": "stream",
     "text": [
      "\r",
      " 22%|█████████████████▋                                                               | 89/408 [07:11<22:51,  4.30s/it]"
     ]
    },
    {
     "name": "stdout",
     "output_type": "stream",
     "text": [
      "https://leetcode.com/problems/minimum-hours-of-training-to-win-a-competition/\n",
      "\n",
      "\n",
      "True\n"
     ]
    },
    {
     "name": "stderr",
     "output_type": "stream",
     "text": [
      "\r",
      " 22%|█████████████████▊                                                               | 90/408 [07:16<24:36,  4.64s/it]"
     ]
    },
    {
     "name": "stdout",
     "output_type": "stream",
     "text": [
      "https://leetcode.com/problems/largest-palindromic-number/\n",
      "473\n",
      "Hash Table,String,Greedy\n",
      "\n"
     ]
    },
    {
     "name": "stderr",
     "output_type": "stream",
     "text": [
      "\r",
      " 22%|██████████████████                                                               | 91/408 [07:22<26:05,  4.94s/it]"
     ]
    },
    {
     "name": "stdout",
     "output_type": "stream",
     "text": [
      "https://leetcode.com/problems/amount-of-time-for-binary-tree-to-be-infected/\n",
      "1K\n",
      "Tree,Depth-First Search,Breadth-First Search,Binary Tree\n",
      "\n"
     ]
    },
    {
     "name": "stderr",
     "output_type": "stream",
     "text": [
      "\r",
      " 23%|██████████████████▎                                                              | 92/408 [07:26<23:51,  4.53s/it]"
     ]
    },
    {
     "name": "stdout",
     "output_type": "stream",
     "text": [
      "https://leetcode.com/problems/find-the-k-sum-of-an-array/\n",
      "\n",
      "\n",
      "True\n"
     ]
    },
    {
     "name": "stderr",
     "output_type": "stream",
     "text": [
      "\r",
      " 23%|██████████████████▍                                                              | 93/408 [07:29<22:29,  4.28s/it]"
     ]
    },
    {
     "name": "stdout",
     "output_type": "stream",
     "text": [
      "https://leetcode.com/problems/median-of-a-row-wise-sorted-matrix/\n",
      "\n",
      "\n",
      "True\n"
     ]
    },
    {
     "name": "stderr",
     "output_type": "stream",
     "text": [
      "\r",
      " 23%|██████████████████▋                                                              | 94/408 [07:33<20:53,  3.99s/it]"
     ]
    },
    {
     "name": "stdout",
     "output_type": "stream",
     "text": [
      "https://leetcode.com/problems/change-null-values-in-a-table-to-the-previous-value/\n",
      "\n",
      "\n",
      "True\n"
     ]
    },
    {
     "name": "stderr",
     "output_type": "stream",
     "text": [
      "\r",
      " 23%|██████████████████▊                                                              | 95/408 [07:38<23:15,  4.46s/it]"
     ]
    },
    {
     "name": "stdout",
     "output_type": "stream",
     "text": [
      "https://leetcode.com/problems/longest-subsequence-with-limited-sum/\n",
      "1.6K\n",
      "Array,Binary Search,Greedy,Sorting,Prefix Sum\n",
      "\n"
     ]
    },
    {
     "name": "stderr",
     "output_type": "stream",
     "text": [
      "\r",
      " 24%|███████████████████                                                              | 96/408 [07:44<25:35,  4.92s/it]"
     ]
    },
    {
     "name": "stdout",
     "output_type": "stream",
     "text": [
      "https://leetcode.com/problems/removing-stars-from-a-string/\n",
      "2.1K\n",
      "String,Stack,Simulation\n",
      "\n"
     ]
    },
    {
     "name": "stderr",
     "output_type": "stream",
     "text": [
      "\r",
      " 24%|███████████████████▎                                                             | 97/408 [07:48<23:42,  4.58s/it]"
     ]
    },
    {
     "name": "stdout",
     "output_type": "stream",
     "text": [
      "https://leetcode.com/problems/minimum-amount-of-time-to-collect-garbage/\n",
      "\n",
      "\n",
      "True\n"
     ]
    },
    {
     "name": "stderr",
     "output_type": "stream",
     "text": [
      "\r",
      " 24%|███████████████████▍                                                             | 98/408 [07:54<25:16,  4.89s/it]"
     ]
    },
    {
     "name": "stdout",
     "output_type": "stream",
     "text": [
      "https://leetcode.com/problems/build-a-matrix-with-conditions/\n",
      "639\n",
      "Array,Graph,Topological Sort,Matrix\n",
      "\n"
     ]
    },
    {
     "name": "stderr",
     "output_type": "stream",
     "text": [
      "\r",
      " 24%|███████████████████▋                                                             | 99/408 [07:57<23:02,  4.48s/it]"
     ]
    },
    {
     "name": "stdout",
     "output_type": "stream",
     "text": [
      "https://leetcode.com/problems/count-strictly-increasing-subarrays/\n",
      "\n",
      "\n",
      "True\n"
     ]
    },
    {
     "name": "stderr",
     "output_type": "stream",
     "text": [
      "\r",
      " 25%|███████████████████▌                                                            | 100/408 [08:01<21:36,  4.21s/it]"
     ]
    },
    {
     "name": "stdout",
     "output_type": "stream",
     "text": [
      "https://leetcode.com/problems/employees-with-deductions/\n",
      "\n",
      "\n",
      "True\n"
     ]
    },
    {
     "name": "stderr",
     "output_type": "stream",
     "text": [
      "\r",
      " 25%|███████████████████▊                                                            | 101/408 [08:06<23:46,  4.65s/it]"
     ]
    },
    {
     "name": "stdout",
     "output_type": "stream",
     "text": [
      "https://leetcode.com/problems/find-subarrays-with-equal-sum/\n",
      "399\n",
      "Array,Hash Table\n",
      "\n"
     ]
    },
    {
     "name": "stderr",
     "output_type": "stream",
     "text": [
      "\r",
      " 25%|████████████████████                                                            | 102/408 [08:12<25:13,  4.95s/it]"
     ]
    },
    {
     "name": "stdout",
     "output_type": "stream",
     "text": [
      "https://leetcode.com/problems/strictly-palindromic-number/\n",
      "416\n",
      "Math,Two Pointers,Brainteaser\n",
      "\n"
     ]
    },
    {
     "name": "stderr",
     "output_type": "stream",
     "text": [
      "\r",
      " 25%|████████████████████▏                                                           | 103/408 [08:18<26:28,  5.21s/it]"
     ]
    },
    {
     "name": "stdout",
     "output_type": "stream",
     "text": [
      "https://leetcode.com/problems/maximum-rows-covered-by-columns/\n",
      "221\n",
      "Array,Backtracking,Bit Manipulation,Matrix,Enumeration\n",
      "\n"
     ]
    },
    {
     "name": "stderr",
     "output_type": "stream",
     "text": [
      "\r",
      " 25%|████████████████████▍                                                           | 104/408 [08:24<27:11,  5.37s/it]"
     ]
    },
    {
     "name": "stdout",
     "output_type": "stream",
     "text": [
      "https://leetcode.com/problems/maximum-number-of-robots-within-budget/\n",
      "638\n",
      "Array,Binary Search,Queue,Sliding Window,Heap (Priority Queue),Prefix Sum\n",
      "\n"
     ]
    },
    {
     "name": "stderr",
     "output_type": "stream",
     "text": [
      "\r",
      " 26%|████████████████████▌                                                           | 105/408 [08:29<27:44,  5.49s/it]"
     ]
    },
    {
     "name": "stdout",
     "output_type": "stream",
     "text": [
      "https://leetcode.com/problems/check-distances-between-same-letters/\n",
      "369\n",
      "Array,Hash Table,String\n",
      "\n"
     ]
    },
    {
     "name": "stderr",
     "output_type": "stream",
     "text": [
      "\r",
      " 26%|████████████████████▊                                                           | 106/408 [08:35<28:04,  5.58s/it]"
     ]
    },
    {
     "name": "stdout",
     "output_type": "stream",
     "text": [
      "https://leetcode.com/problems/number-of-ways-to-reach-a-position-after-exactly-k-steps/\n",
      "558\n",
      "Math,Dynamic Programming,Combinatorics\n",
      "\n"
     ]
    },
    {
     "name": "stderr",
     "output_type": "stream",
     "text": [
      "\r",
      " 26%|████████████████████▉                                                           | 107/408 [08:41<28:13,  5.63s/it]"
     ]
    },
    {
     "name": "stdout",
     "output_type": "stream",
     "text": [
      "https://leetcode.com/problems/longest-nice-subarray/\n",
      "927\n",
      "Array,Bit Manipulation,Sliding Window\n",
      "\n"
     ]
    },
    {
     "name": "stderr",
     "output_type": "stream",
     "text": [
      "\r",
      " 26%|█████████████████████▏                                                          | 108/408 [08:47<28:22,  5.68s/it]"
     ]
    },
    {
     "name": "stdout",
     "output_type": "stream",
     "text": [
      "https://leetcode.com/problems/meeting-rooms-iii/\n",
      "568\n",
      "Array,Sorting,Heap (Priority Queue)\n",
      "\n"
     ]
    },
    {
     "name": "stderr",
     "output_type": "stream",
     "text": [
      "\r",
      " 27%|█████████████████████▎                                                          | 109/408 [08:51<25:41,  5.16s/it]"
     ]
    },
    {
     "name": "stdout",
     "output_type": "stream",
     "text": [
      "https://leetcode.com/problems/minimum-time-to-kill-all-monsters/\n",
      "\n",
      "\n",
      "True\n"
     ]
    },
    {
     "name": "stderr",
     "output_type": "stream",
     "text": [
      "\r",
      " 27%|█████████████████████▌                                                          | 110/408 [08:56<26:36,  5.36s/it]"
     ]
    },
    {
     "name": "stdout",
     "output_type": "stream",
     "text": [
      "https://leetcode.com/problems/most-frequent-even-element/\n",
      "667\n",
      "Array,Hash Table,Counting\n",
      "\n"
     ]
    },
    {
     "name": "stderr",
     "output_type": "stream",
     "text": [
      "\r",
      " 27%|█████████████████████▊                                                          | 111/408 [09:02<27:37,  5.58s/it]"
     ]
    },
    {
     "name": "stdout",
     "output_type": "stream",
     "text": [
      "https://leetcode.com/problems/optimal-partition-of-string/\n",
      "2K\n",
      "Hash Table,String,Greedy\n",
      "\n"
     ]
    },
    {
     "name": "stderr",
     "output_type": "stream",
     "text": [
      "\r",
      " 27%|█████████████████████▉                                                          | 112/408 [09:08<27:32,  5.58s/it]"
     ]
    },
    {
     "name": "stdout",
     "output_type": "stream",
     "text": [
      "https://leetcode.com/problems/divide-intervals-into-minimum-number-of-groups/\n",
      "655\n",
      "Array,Two Pointers,Greedy,Sorting,Heap (Priority Queue),Prefix Sum\n",
      "\n"
     ]
    },
    {
     "name": "stderr",
     "output_type": "stream",
     "text": [
      "\r",
      " 28%|██████████████████████▏                                                         | 113/408 [09:14<27:54,  5.68s/it]"
     ]
    },
    {
     "name": "stdout",
     "output_type": "stream",
     "text": [
      "https://leetcode.com/problems/longest-increasing-subsequence-ii/\n",
      "597\n",
      "Array,Divide and Conquer,Dynamic Programming,Binary Indexed Tree,Segment Tree,Queue,Monotonic Queue\n",
      "\n"
     ]
    },
    {
     "name": "stderr",
     "output_type": "stream",
     "text": [
      "\r",
      " 28%|██████████████████████▎                                                         | 114/408 [09:18<24:56,  5.09s/it]"
     ]
    },
    {
     "name": "stdout",
     "output_type": "stream",
     "text": [
      "https://leetcode.com/problems/design-sql/\n",
      "\n",
      "\n",
      "True\n"
     ]
    },
    {
     "name": "stderr",
     "output_type": "stream",
     "text": [
      "\r",
      " 28%|██████████████████████▌                                                         | 115/408 [09:23<25:52,  5.30s/it]"
     ]
    },
    {
     "name": "stdout",
     "output_type": "stream",
     "text": [
      "https://leetcode.com/problems/count-days-spent-together/\n",
      "201\n",
      "Math,String\n",
      "\n"
     ]
    },
    {
     "name": "stderr",
     "output_type": "stream",
     "text": [
      "\r",
      " 28%|██████████████████████▋                                                         | 116/408 [09:29<26:19,  5.41s/it]"
     ]
    },
    {
     "name": "stdout",
     "output_type": "stream",
     "text": [
      "https://leetcode.com/problems/maximum-matching-of-players-with-trainers/\n",
      "369\n",
      "Array,Two Pointers,Greedy,Sorting\n",
      "\n"
     ]
    },
    {
     "name": "stderr",
     "output_type": "stream",
     "text": [
      "\r",
      " 29%|██████████████████████▉                                                         | 117/408 [09:35<26:51,  5.54s/it]"
     ]
    },
    {
     "name": "stdout",
     "output_type": "stream",
     "text": [
      "https://leetcode.com/problems/smallest-subarrays-with-maximum-bitwise-or/\n",
      "458\n",
      "Array,Binary Search,Bit Manipulation,Sliding Window\n",
      "\n"
     ]
    },
    {
     "name": "stderr",
     "output_type": "stream",
     "text": [
      "\r",
      " 29%|███████████████████████▏                                                        | 118/408 [09:39<24:01,  4.97s/it]"
     ]
    },
    {
     "name": "stdout",
     "output_type": "stream",
     "text": [
      "https://leetcode.com/problems/minimum-money-required-before-transactions/\n",
      "\n",
      "\n",
      "True\n"
     ]
    },
    {
     "name": "stderr",
     "output_type": "stream",
     "text": [
      "\r",
      " 29%|███████████████████████▎                                                        | 119/408 [09:44<25:02,  5.20s/it]"
     ]
    },
    {
     "name": "stdout",
     "output_type": "stream",
     "text": [
      "https://leetcode.com/problems/smallest-even-multiple/\n",
      "606\n",
      "Math,Number Theory\n",
      "\n"
     ]
    },
    {
     "name": "stderr",
     "output_type": "stream",
     "text": [
      "\r",
      " 29%|███████████████████████▌                                                        | 120/408 [09:50<25:47,  5.37s/it]"
     ]
    },
    {
     "name": "stdout",
     "output_type": "stream",
     "text": [
      "https://leetcode.com/problems/length-of-the-longest-alphabetical-continuous-substring/\n",
      "390\n",
      "String\n",
      "\n"
     ]
    },
    {
     "name": "stderr",
     "output_type": "stream",
     "text": [
      "\r",
      " 30%|███████████████████████▋                                                        | 121/408 [09:56<26:14,  5.49s/it]"
     ]
    },
    {
     "name": "stdout",
     "output_type": "stream",
     "text": [
      "https://leetcode.com/problems/reverse-odd-levels-of-binary-tree/\n",
      "803\n",
      "Tree,Depth-First Search,Breadth-First Search,Binary Tree\n",
      "\n"
     ]
    },
    {
     "name": "stderr",
     "output_type": "stream",
     "text": [
      "\r",
      " 30%|███████████████████████▉                                                        | 122/408 [10:02<26:49,  5.63s/it]"
     ]
    },
    {
     "name": "stdout",
     "output_type": "stream",
     "text": [
      "https://leetcode.com/problems/sum-of-prefix-scores-of-strings/\n",
      "565\n",
      "Array,String,Trie,Counting\n",
      "\n"
     ]
    },
    {
     "name": "stderr",
     "output_type": "stream",
     "text": [
      "\r",
      " 30%|████████████████████████                                                        | 123/408 [10:06<24:22,  5.13s/it]"
     ]
    },
    {
     "name": "stdout",
     "output_type": "stream",
     "text": [
      "https://leetcode.com/problems/closest-fair-integer/\n",
      "\n",
      "\n",
      "True\n"
     ]
    },
    {
     "name": "stderr",
     "output_type": "stream",
     "text": [
      "\r",
      " 30%|████████████████████████▎                                                       | 124/408 [10:11<25:00,  5.28s/it]"
     ]
    },
    {
     "name": "stdout",
     "output_type": "stream",
     "text": [
      "https://leetcode.com/problems/sort-the-people/\n",
      "898\n",
      "Array,Hash Table,String,Sorting\n",
      "\n"
     ]
    },
    {
     "name": "stderr",
     "output_type": "stream",
     "text": [
      "\r",
      " 31%|████████████████████████▌                                                       | 125/408 [10:17<25:45,  5.46s/it]"
     ]
    },
    {
     "name": "stdout",
     "output_type": "stream",
     "text": [
      "https://leetcode.com/problems/longest-subarray-with-maximum-bitwise-and/\n",
      "360\n",
      "Array,Bit Manipulation,Brainteaser\n",
      "\n"
     ]
    },
    {
     "name": "stderr",
     "output_type": "stream",
     "text": [
      "\r",
      " 31%|████████████████████████▋                                                       | 126/408 [10:23<25:55,  5.51s/it]"
     ]
    },
    {
     "name": "stdout",
     "output_type": "stream",
     "text": [
      "https://leetcode.com/problems/find-all-good-indices/\n",
      "524\n",
      "Array,Dynamic Programming,Prefix Sum\n",
      "\n"
     ]
    },
    {
     "name": "stderr",
     "output_type": "stream",
     "text": [
      "\r",
      " 31%|████████████████████████▉                                                       | 127/408 [10:29<26:31,  5.66s/it]"
     ]
    },
    {
     "name": "stdout",
     "output_type": "stream",
     "text": [
      "https://leetcode.com/problems/number-of-good-paths/\n",
      "1.9K\n",
      "Array,Tree,Union Find,Graph\n",
      "\n"
     ]
    },
    {
     "name": "stderr",
     "output_type": "stream",
     "text": [
      "\r",
      " 31%|█████████████████████████                                                       | 128/408 [10:33<24:00,  5.15s/it]"
     ]
    },
    {
     "name": "stdout",
     "output_type": "stream",
     "text": [
      "https://leetcode.com/problems/merge-operations-to-turn-array-into-a-palindrome/\n",
      "\n",
      "\n",
      "True\n"
     ]
    },
    {
     "name": "stderr",
     "output_type": "stream",
     "text": [
      "\r",
      " 32%|█████████████████████████▎                                                      | 129/408 [10:39<24:52,  5.35s/it]"
     ]
    },
    {
     "name": "stdout",
     "output_type": "stream",
     "text": [
      "https://leetcode.com/problems/remove-letter-to-equalize-frequency/\n",
      "426\n",
      "Hash Table,String,Counting\n",
      "\n"
     ]
    },
    {
     "name": "stderr",
     "output_type": "stream",
     "text": [
      "\r",
      " 32%|█████████████████████████▍                                                      | 130/408 [10:45<25:24,  5.48s/it]"
     ]
    },
    {
     "name": "stdout",
     "output_type": "stream",
     "text": [
      "https://leetcode.com/problems/longest-uploaded-prefix/\n",
      "277\n",
      "Binary Search,Union Find,Design,Binary Indexed Tree,Segment Tree,Heap (Priority Queue),Ordered Set\n",
      "\n"
     ]
    },
    {
     "name": "stderr",
     "output_type": "stream",
     "text": [
      "\r",
      " 32%|█████████████████████████▋                                                      | 131/408 [10:48<22:54,  4.96s/it]"
     ]
    },
    {
     "name": "stdout",
     "output_type": "stream",
     "text": [
      "https://leetcode.com/problems/bitwise-xor-of-all-pairings/\n",
      "\n",
      "\n",
      "True\n"
     ]
    },
    {
     "name": "stderr",
     "output_type": "stream",
     "text": [
      "\r",
      " 32%|█████████████████████████▉                                                      | 132/408 [10:54<23:56,  5.20s/it]"
     ]
    },
    {
     "name": "stdout",
     "output_type": "stream",
     "text": [
      "https://leetcode.com/problems/number-of-pairs-satisfying-inequality/\n",
      "423\n",
      "Array,Binary Search,Divide and Conquer,Binary Indexed Tree,Segment Tree,Merge Sort,Ordered Set\n",
      "\n"
     ]
    },
    {
     "name": "stderr",
     "output_type": "stream",
     "text": [
      "\r",
      " 33%|██████████████████████████                                                      | 133/408 [11:00<24:46,  5.41s/it]"
     ]
    },
    {
     "name": "stdout",
     "output_type": "stream",
     "text": [
      "https://leetcode.com/problems/number-of-common-factors/\n",
      "414\n",
      "Math,Enumeration,Number Theory\n",
      "\n"
     ]
    },
    {
     "name": "stderr",
     "output_type": "stream",
     "text": [
      "\r",
      " 33%|██████████████████████████▎                                                     | 134/408 [11:06<25:51,  5.66s/it]"
     ]
    },
    {
     "name": "stdout",
     "output_type": "stream",
     "text": [
      "https://leetcode.com/problems/maximum-sum-of-an-hourglass/\n",
      "344\n",
      "Array,Matrix,Prefix Sum\n",
      "\n"
     ]
    },
    {
     "name": "stderr",
     "output_type": "stream",
     "text": [
      "\r",
      " 33%|██████████████████████████▍                                                     | 135/408 [11:12<26:11,  5.76s/it]"
     ]
    },
    {
     "name": "stdout",
     "output_type": "stream",
     "text": [
      "https://leetcode.com/problems/minimize-xor/\n",
      "367\n",
      "Greedy,Bit Manipulation\n",
      "\n"
     ]
    },
    {
     "name": "stderr",
     "output_type": "stream",
     "text": [
      "\r",
      " 33%|██████████████████████████▋                                                     | 136/408 [11:18<26:22,  5.82s/it]"
     ]
    },
    {
     "name": "stdout",
     "output_type": "stream",
     "text": [
      "https://leetcode.com/problems/maximum-deletions-on-a-string/\n",
      "393\n",
      "String,Dynamic Programming,Rolling Hash,String Matching,Hash Function\n",
      "\n"
     ]
    },
    {
     "name": "stderr",
     "output_type": "stream",
     "text": [
      "\r",
      " 34%|██████████████████████████▊                                                     | 137/408 [11:22<24:11,  5.35s/it]"
     ]
    },
    {
     "name": "stdout",
     "output_type": "stream",
     "text": [
      "https://leetcode.com/problems/maximize-total-tastiness-of-purchased-fruits/\n",
      "\n",
      "\n",
      "True\n"
     ]
    },
    {
     "name": "stderr",
     "output_type": "stream",
     "text": [
      "\r",
      " 34%|███████████████████████████                                                     | 138/408 [11:26<22:04,  4.90s/it]"
     ]
    },
    {
     "name": "stdout",
     "output_type": "stream",
     "text": [
      "https://leetcode.com/problems/the-employee-that-worked-on-the-longest-task/\n",
      "\n",
      "\n",
      "True\n"
     ]
    },
    {
     "name": "stderr",
     "output_type": "stream",
     "text": [
      "\r",
      " 34%|███████████████████████████▎                                                    | 139/408 [11:35<27:30,  6.14s/it]"
     ]
    },
    {
     "name": "stdout",
     "output_type": "stream",
     "text": [
      "https://leetcode.com/problems/find-the-original-array-of-prefix-xor/\n",
      "499\n",
      "Array,Bit Manipulation\n",
      "\n"
     ]
    },
    {
     "name": "stderr",
     "output_type": "stream",
     "text": [
      "\r",
      " 34%|███████████████████████████▍                                                    | 140/408 [11:42<27:43,  6.21s/it]"
     ]
    },
    {
     "name": "stdout",
     "output_type": "stream",
     "text": [
      "https://leetcode.com/problems/using-a-robot-to-print-the-lexicographically-smallest-string/\n",
      "557\n",
      "Hash Table,String,Stack,Greedy\n",
      "\n"
     ]
    },
    {
     "name": "stderr",
     "output_type": "stream",
     "text": [
      "\r",
      " 35%|███████████████████████████▋                                                    | 141/408 [11:47<26:51,  6.04s/it]"
     ]
    },
    {
     "name": "stdout",
     "output_type": "stream",
     "text": [
      "https://leetcode.com/problems/paths-in-matrix-whose-sum-is-divisible-by-k/\n",
      "624\n",
      "Array,Dynamic Programming,Matrix\n",
      "\n"
     ]
    },
    {
     "name": "stderr",
     "output_type": "stream",
     "text": [
      "\r",
      " 35%|███████████████████████████▊                                                    | 142/408 [11:51<23:49,  5.37s/it]"
     ]
    },
    {
     "name": "stdout",
     "output_type": "stream",
     "text": [
      "https://leetcode.com/problems/minimum-split-into-subarrays-with-gcd-greater-than-one/\n",
      "\n",
      "\n",
      "True\n"
     ]
    },
    {
     "name": "stderr",
     "output_type": "stream",
     "text": [
      "\r",
      " 35%|████████████████████████████                                                    | 143/408 [11:57<24:36,  5.57s/it]"
     ]
    },
    {
     "name": "stdout",
     "output_type": "stream",
     "text": [
      "https://leetcode.com/problems/number-of-valid-clock-times/\n",
      "191\n",
      "String,Enumeration\n",
      "\n"
     ]
    },
    {
     "name": "stderr",
     "output_type": "stream",
     "text": [
      "\r",
      " 35%|████████████████████████████▏                                                   | 144/408 [12:01<22:45,  5.17s/it]"
     ]
    },
    {
     "name": "stdout",
     "output_type": "stream",
     "text": [
      "https://leetcode.com/problems/range-product-queries-of-powers/\n",
      "\n",
      "\n",
      "True\n"
     ]
    },
    {
     "name": "stderr",
     "output_type": "stream",
     "text": [
      "\r",
      " 36%|████████████████████████████▍                                                   | 145/408 [12:08<24:09,  5.51s/it]"
     ]
    },
    {
     "name": "stdout",
     "output_type": "stream",
     "text": [
      "https://leetcode.com/problems/minimize-maximum-of-array/\n",
      "2.1K\n",
      "Array,Binary Search,Dynamic Programming,Greedy,Prefix Sum\n",
      "\n"
     ]
    },
    {
     "name": "stderr",
     "output_type": "stream",
     "text": [
      "\r",
      " 36%|████████████████████████████▋                                                   | 146/408 [12:15<26:22,  6.04s/it]"
     ]
    },
    {
     "name": "stdout",
     "output_type": "stream",
     "text": [
      "https://leetcode.com/problems/create-components-with-same-value/\n",
      "312\n",
      "Array,Math,Tree,Depth-First Search,Enumeration\n",
      "\n"
     ]
    },
    {
     "name": "stderr",
     "output_type": "stream",
     "text": [
      "\r",
      " 36%|████████████████████████████▊                                                   | 147/408 [12:21<26:10,  6.02s/it]"
     ]
    },
    {
     "name": "stdout",
     "output_type": "stream",
     "text": [
      "https://leetcode.com/problems/largest-positive-integer-that-exists-with-its-negative/\n",
      "374\n",
      "Array,Hash Table,Two Pointers,Sorting\n",
      "\n"
     ]
    },
    {
     "name": "stderr",
     "output_type": "stream",
     "text": [
      "\r",
      " 36%|█████████████████████████████                                                   | 148/408 [12:27<26:14,  6.06s/it]"
     ]
    },
    {
     "name": "stdout",
     "output_type": "stream",
     "text": [
      "https://leetcode.com/problems/count-number-of-distinct-integers-after-reverse-operations/\n",
      "425\n",
      "Array,Hash Table,Math\n",
      "\n"
     ]
    },
    {
     "name": "stderr",
     "output_type": "stream",
     "text": [
      "\r",
      " 37%|█████████████████████████████▏                                                  | 149/408 [12:33<26:04,  6.04s/it]"
     ]
    },
    {
     "name": "stdout",
     "output_type": "stream",
     "text": [
      "https://leetcode.com/problems/sum-of-number-and-its-reverse/\n",
      "212\n",
      "Math,Enumeration\n",
      "\n"
     ]
    },
    {
     "name": "stderr",
     "output_type": "stream",
     "text": [
      "\r",
      " 37%|█████████████████████████████▍                                                  | 150/408 [12:39<26:21,  6.13s/it]"
     ]
    },
    {
     "name": "stdout",
     "output_type": "stream",
     "text": [
      "https://leetcode.com/problems/count-subarrays-with-fixed-bounds/\n",
      "2.2K\n",
      "Array,Queue,Sliding Window,Monotonic Queue\n",
      "\n"
     ]
    },
    {
     "name": "stderr",
     "output_type": "stream",
     "text": [
      "\r",
      " 37%|█████████████████████████████▌                                                  | 151/408 [12:43<22:55,  5.35s/it]"
     ]
    },
    {
     "name": "stdout",
     "output_type": "stream",
     "text": [
      "https://leetcode.com/problems/number-of-nodes-with-value-one/\n",
      "\n",
      "\n",
      "True\n"
     ]
    },
    {
     "name": "stderr",
     "output_type": "stream",
     "text": [
      "\r",
      " 37%|█████████████████████████████▊                                                  | 152/408 [12:49<23:12,  5.44s/it]"
     ]
    },
    {
     "name": "stdout",
     "output_type": "stream",
     "text": [
      "https://leetcode.com/problems/determine-if-two-events-have-conflict/\n",
      "316\n",
      "Array,String\n",
      "\n"
     ]
    },
    {
     "name": "stderr",
     "output_type": "stream",
     "text": [
      "\r",
      " 38%|██████████████████████████████                                                  | 153/408 [12:54<23:27,  5.52s/it]"
     ]
    },
    {
     "name": "stdout",
     "output_type": "stream",
     "text": [
      "https://leetcode.com/problems/number-of-subarrays-with-gcd-equal-to-k/\n",
      "367\n",
      "Array,Math,Number Theory\n",
      "\n"
     ]
    },
    {
     "name": "stderr",
     "output_type": "stream",
     "text": [
      "\r",
      " 38%|██████████████████████████████▏                                                 | 154/408 [13:00<23:26,  5.54s/it]"
     ]
    },
    {
     "name": "stdout",
     "output_type": "stream",
     "text": [
      "https://leetcode.com/problems/minimum-cost-to-make-array-equal/\n",
      "606\n",
      "Array,Binary Search,Greedy,Sorting,Prefix Sum\n",
      "\n"
     ]
    },
    {
     "name": "stderr",
     "output_type": "stream",
     "text": [
      "\r",
      " 38%|██████████████████████████████▍                                                 | 155/408 [13:05<23:22,  5.54s/it]"
     ]
    },
    {
     "name": "stdout",
     "output_type": "stream",
     "text": [
      "https://leetcode.com/problems/minimum-number-of-operations-to-make-arrays-similar/\n",
      "341\n",
      "Array,Greedy,Sorting\n",
      "\n"
     ]
    },
    {
     "name": "stderr",
     "output_type": "stream",
     "text": [
      "\r",
      " 38%|██████████████████████████████▌                                                 | 156/408 [13:09<21:06,  5.02s/it]"
     ]
    },
    {
     "name": "stdout",
     "output_type": "stream",
     "text": [
      "https://leetcode.com/problems/number-of-distinct-binary-strings-after-applying-operations/\n",
      "\n",
      "\n",
      "True\n"
     ]
    },
    {
     "name": "stderr",
     "output_type": "stream",
     "text": [
      "\r",
      " 38%|██████████████████████████████▊                                                 | 157/408 [13:15<21:51,  5.23s/it]"
     ]
    },
    {
     "name": "stdout",
     "output_type": "stream",
     "text": [
      "https://leetcode.com/problems/odd-string-difference/\n",
      "304\n",
      "Array,Hash Table,String\n",
      "\n"
     ]
    },
    {
     "name": "stderr",
     "output_type": "stream",
     "text": [
      "\r",
      " 39%|██████████████████████████████▉                                                 | 158/408 [13:21<22:30,  5.40s/it]"
     ]
    },
    {
     "name": "stdout",
     "output_type": "stream",
     "text": [
      "https://leetcode.com/problems/words-within-two-edits-of-dictionary/\n",
      "231\n",
      "Array,String\n",
      "\n"
     ]
    },
    {
     "name": "stderr",
     "output_type": "stream",
     "text": [
      "\r",
      " 39%|███████████████████████████████▏                                                | 159/408 [13:26<22:39,  5.46s/it]"
     ]
    },
    {
     "name": "stdout",
     "output_type": "stream",
     "text": [
      "https://leetcode.com/problems/destroy-sequential-targets/\n",
      "382\n",
      "Array,Hash Table,Counting\n",
      "\n"
     ]
    },
    {
     "name": "stderr",
     "output_type": "stream",
     "text": [
      "\r",
      " 39%|███████████████████████████████▎                                                | 160/408 [13:32<22:44,  5.50s/it]"
     ]
    },
    {
     "name": "stdout",
     "output_type": "stream",
     "text": [
      "https://leetcode.com/problems/next-greater-element-iv/\n",
      "473\n",
      "Array,Binary Search,Stack,Sorting,Heap (Priority Queue),Monotonic Stack\n",
      "\n"
     ]
    },
    {
     "name": "stderr",
     "output_type": "stream",
     "text": [
      "\r",
      " 39%|███████████████████████████████▌                                                | 161/408 [13:37<22:41,  5.51s/it]"
     ]
    },
    {
     "name": "stdout",
     "output_type": "stream",
     "text": [
      "https://leetcode.com/problems/average-value-of-even-numbers-that-are-divisible-by-three/\n",
      "242\n",
      "Array,Math\n",
      "\n"
     ]
    },
    {
     "name": "stderr",
     "output_type": "stream",
     "text": [
      "\r",
      " 40%|███████████████████████████████▊                                                | 162/408 [13:44<23:49,  5.81s/it]"
     ]
    },
    {
     "name": "stdout",
     "output_type": "stream",
     "text": [
      "https://leetcode.com/problems/most-popular-video-creator/\n",
      "213\n",
      "Array,Hash Table,String,Sorting,Heap (Priority Queue)\n",
      "\n"
     ]
    },
    {
     "name": "stderr",
     "output_type": "stream",
     "text": [
      "\r",
      " 40%|███████████████████████████████▉                                                | 163/408 [13:50<23:23,  5.73s/it]"
     ]
    },
    {
     "name": "stdout",
     "output_type": "stream",
     "text": [
      "https://leetcode.com/problems/minimum-addition-to-make-integer-beautiful/\n",
      "441\n",
      "Math,Greedy\n",
      "\n"
     ]
    },
    {
     "name": "stderr",
     "output_type": "stream",
     "text": [
      "\r",
      " 40%|████████████████████████████████▏                                               | 164/408 [13:55<23:10,  5.70s/it]"
     ]
    },
    {
     "name": "stdout",
     "output_type": "stream",
     "text": [
      "https://leetcode.com/problems/height-of-binary-tree-after-subtree-removal-queries/\n",
      "482\n",
      "Array,Tree,Depth-First Search,Breadth-First Search,Binary Tree\n",
      "\n"
     ]
    },
    {
     "name": "stderr",
     "output_type": "stream",
     "text": [
      "\r",
      " 40%|████████████████████████████████▎                                               | 165/408 [13:59<20:36,  5.09s/it]"
     ]
    },
    {
     "name": "stdout",
     "output_type": "stream",
     "text": [
      "https://leetcode.com/problems/sort-array-by-moving-items-to-empty-space/\n",
      "\n",
      "\n",
      "True\n"
     ]
    },
    {
     "name": "stderr",
     "output_type": "stream",
     "text": [
      "\r",
      " 41%|████████████████████████████████▌                                               | 166/408 [14:04<20:58,  5.20s/it]"
     ]
    },
    {
     "name": "stdout",
     "output_type": "stream",
     "text": [
      "https://leetcode.com/problems/apply-operations-to-an-array/\n",
      "376\n",
      "Array,Simulation\n",
      "\n"
     ]
    },
    {
     "name": "stderr",
     "output_type": "stream",
     "text": [
      "\r",
      " 41%|████████████████████████████████▋                                               | 167/408 [14:10<21:45,  5.42s/it]"
     ]
    },
    {
     "name": "stdout",
     "output_type": "stream",
     "text": [
      "https://leetcode.com/problems/maximum-sum-of-distinct-subarrays-with-length-k/\n",
      "746\n",
      "Array,Hash Table,Sliding Window\n",
      "\n"
     ]
    },
    {
     "name": "stderr",
     "output_type": "stream",
     "text": [
      "\r",
      " 41%|████████████████████████████████▉                                               | 168/408 [14:16<21:55,  5.48s/it]"
     ]
    },
    {
     "name": "stdout",
     "output_type": "stream",
     "text": [
      "https://leetcode.com/problems/total-cost-to-hire-k-workers/\n",
      "461\n",
      "Array,Two Pointers,Heap (Priority Queue),Simulation\n",
      "\n"
     ]
    },
    {
     "name": "stderr",
     "output_type": "stream",
     "text": [
      "\r",
      " 41%|█████████████████████████████████▏                                              | 169/408 [14:22<22:03,  5.54s/it]"
     ]
    },
    {
     "name": "stdout",
     "output_type": "stream",
     "text": [
      "https://leetcode.com/problems/minimum-total-distance-traveled/\n",
      "387\n",
      "Array,Dynamic Programming,Sorting\n",
      "\n"
     ]
    },
    {
     "name": "stderr",
     "output_type": "stream",
     "text": [
      "\r",
      " 42%|█████████████████████████████████▎                                              | 170/408 [14:25<19:56,  5.03s/it]"
     ]
    },
    {
     "name": "stdout",
     "output_type": "stream",
     "text": [
      "https://leetcode.com/problems/minimum-subarrays-in-a-valid-split/\n",
      "\n",
      "\n",
      "True\n"
     ]
    },
    {
     "name": "stderr",
     "output_type": "stream",
     "text": [
      "\r",
      " 42%|█████████████████████████████████▌                                              | 171/408 [14:31<20:30,  5.19s/it]"
     ]
    },
    {
     "name": "stdout",
     "output_type": "stream",
     "text": [
      "https://leetcode.com/problems/number-of-distinct-averages/\n",
      "276\n",
      "Array,Hash Table,Two Pointers,Sorting\n",
      "\n"
     ]
    },
    {
     "name": "stderr",
     "output_type": "stream",
     "text": [
      "\r",
      " 42%|█████████████████████████████████▋                                              | 172/408 [14:36<20:41,  5.26s/it]"
     ]
    },
    {
     "name": "stdout",
     "output_type": "stream",
     "text": [
      "https://leetcode.com/problems/count-ways-to-build-good-strings/\n",
      "1.5K\n",
      "Dynamic Programming\n",
      "\n"
     ]
    },
    {
     "name": "stderr",
     "output_type": "stream",
     "text": [
      "\r",
      " 42%|█████████████████████████████████▉                                              | 173/408 [14:42<21:21,  5.45s/it]"
     ]
    },
    {
     "name": "stdout",
     "output_type": "stream",
     "text": [
      "https://leetcode.com/problems/most-profitable-path-in-a-tree/\n",
      "470\n",
      "Array,Tree,Depth-First Search,Breadth-First Search,Graph\n",
      "\n"
     ]
    },
    {
     "name": "stderr",
     "output_type": "stream",
     "text": [
      "\r",
      " 43%|██████████████████████████████████                                              | 174/408 [14:48<21:23,  5.48s/it]"
     ]
    },
    {
     "name": "stdout",
     "output_type": "stream",
     "text": [
      "https://leetcode.com/problems/split-message-based-on-limit/\n",
      "86\n",
      "String,Binary Search\n",
      "\n"
     ]
    },
    {
     "name": "stderr",
     "output_type": "stream",
     "text": [
      "\r",
      " 43%|██████████████████████████████████▎                                             | 175/408 [14:53<21:24,  5.51s/it]"
     ]
    },
    {
     "name": "stdout",
     "output_type": "stream",
     "text": [
      "https://leetcode.com/problems/convert-the-temperature/\n",
      "378\n",
      "Math\n",
      "\n"
     ]
    },
    {
     "name": "stderr",
     "output_type": "stream",
     "text": [
      "\r",
      " 43%|██████████████████████████████████▌                                             | 176/408 [14:59<21:28,  5.55s/it]"
     ]
    },
    {
     "name": "stdout",
     "output_type": "stream",
     "text": [
      "https://leetcode.com/problems/number-of-subarrays-with-lcm-equal-to-k/\n",
      "300\n",
      "Array,Math,Number Theory\n",
      "\n"
     ]
    },
    {
     "name": "stderr",
     "output_type": "stream",
     "text": [
      "\r",
      " 43%|██████████████████████████████████▋                                             | 177/408 [15:05<21:36,  5.61s/it]"
     ]
    },
    {
     "name": "stdout",
     "output_type": "stream",
     "text": [
      "https://leetcode.com/problems/minimum-number-of-operations-to-sort-a-binary-tree-by-level/\n",
      "491\n",
      "Tree,Breadth-First Search,Binary Tree\n",
      "\n"
     ]
    },
    {
     "name": "stderr",
     "output_type": "stream",
     "text": [
      "\r",
      " 44%|██████████████████████████████████▉                                             | 178/408 [15:10<21:33,  5.62s/it]"
     ]
    },
    {
     "name": "stdout",
     "output_type": "stream",
     "text": [
      "https://leetcode.com/problems/maximum-number-of-non-overlapping-palindrome-substrings/\n",
      "330\n",
      "String,Dynamic Programming\n",
      "\n"
     ]
    },
    {
     "name": "stderr",
     "output_type": "stream",
     "text": [
      "\r",
      " 44%|███████████████████████████████████                                             | 179/408 [15:14<19:17,  5.05s/it]"
     ]
    },
    {
     "name": "stdout",
     "output_type": "stream",
     "text": [
      "https://leetcode.com/problems/minimum-cost-to-buy-apples/\n",
      "\n",
      "\n",
      "True\n"
     ]
    },
    {
     "name": "stderr",
     "output_type": "stream",
     "text": [
      "\r",
      " 44%|███████████████████████████████████▎                                            | 180/408 [15:18<17:50,  4.70s/it]"
     ]
    },
    {
     "name": "stdout",
     "output_type": "stream",
     "text": [
      "https://leetcode.com/problems/customers-with-strictly-increasing-purchases/\n",
      "\n",
      "\n",
      "True\n"
     ]
    },
    {
     "name": "stderr",
     "output_type": "stream",
     "text": [
      "\r",
      " 44%|███████████████████████████████████▍                                            | 181/408 [15:24<18:58,  5.01s/it]"
     ]
    },
    {
     "name": "stdout",
     "output_type": "stream",
     "text": [
      "https://leetcode.com/problems/number-of-unequal-triplets-in-array/\n",
      "291\n",
      "Array,Hash Table\n",
      "\n"
     ]
    },
    {
     "name": "stderr",
     "output_type": "stream",
     "text": [
      "\r",
      " 45%|███████████████████████████████████▋                                            | 182/408 [15:29<19:38,  5.21s/it]"
     ]
    },
    {
     "name": "stdout",
     "output_type": "stream",
     "text": [
      "https://leetcode.com/problems/closest-nodes-queries-in-a-binary-search-tree/\n",
      "317\n",
      "Array,Binary Search,Tree,Depth-First Search,Binary Tree\n",
      "\n"
     ]
    },
    {
     "name": "stderr",
     "output_type": "stream",
     "text": [
      "\r",
      " 45%|███████████████████████████████████▉                                            | 183/408 [15:35<20:10,  5.38s/it]"
     ]
    },
    {
     "name": "stdout",
     "output_type": "stream",
     "text": [
      "https://leetcode.com/problems/minimum-fuel-cost-to-report-to-the-capital/\n",
      "1.8K\n",
      "Tree,Depth-First Search,Breadth-First Search,Graph\n",
      "\n"
     ]
    },
    {
     "name": "stderr",
     "output_type": "stream",
     "text": [
      "\r",
      " 45%|████████████████████████████████████                                            | 184/408 [15:41<20:24,  5.47s/it]"
     ]
    },
    {
     "name": "stdout",
     "output_type": "stream",
     "text": [
      "https://leetcode.com/problems/number-of-beautiful-partitions/\n",
      "286\n",
      "String,Dynamic Programming\n",
      "\n"
     ]
    },
    {
     "name": "stderr",
     "output_type": "stream",
     "text": [
      "\r",
      " 45%|████████████████████████████████████▎                                           | 185/408 [15:45<18:28,  4.97s/it]"
     ]
    },
    {
     "name": "stdout",
     "output_type": "stream",
     "text": [
      "https://leetcode.com/problems/maximum-xor-of-two-non-overlapping-subtrees/\n",
      "\n",
      "\n",
      "True\n"
     ]
    },
    {
     "name": "stderr",
     "output_type": "stream",
     "text": [
      "\r",
      " 46%|████████████████████████████████████▍                                           | 186/408 [15:48<16:36,  4.49s/it]"
     ]
    },
    {
     "name": "stdout",
     "output_type": "stream",
     "text": [
      "https://leetcode.com/problems/form-a-chemical-bond/\n",
      "\n",
      "\n",
      "True\n"
     ]
    },
    {
     "name": "stderr",
     "output_type": "stream",
     "text": [
      "\r",
      " 46%|████████████████████████████████████▋                                           | 187/408 [15:54<18:29,  5.02s/it]"
     ]
    },
    {
     "name": "stdout",
     "output_type": "stream",
     "text": [
      "https://leetcode.com/problems/minimum-cuts-to-divide-a-circle/\n",
      "153\n",
      "Math,Geometry\n",
      "\n"
     ]
    },
    {
     "name": "stderr",
     "output_type": "stream",
     "text": [
      "\r",
      " 46%|████████████████████████████████████▊                                           | 188/408 [16:00<19:01,  5.19s/it]"
     ]
    },
    {
     "name": "stdout",
     "output_type": "stream",
     "text": [
      "https://leetcode.com/problems/difference-between-ones-and-zeros-in-row-and-column/\n",
      "296\n",
      "Array,Matrix,Simulation\n",
      "\n"
     ]
    },
    {
     "name": "stderr",
     "output_type": "stream",
     "text": [
      "\r",
      " 46%|█████████████████████████████████████                                           | 189/408 [16:05<19:09,  5.25s/it]"
     ]
    },
    {
     "name": "stdout",
     "output_type": "stream",
     "text": [
      "https://leetcode.com/problems/minimum-penalty-for-a-shop/\n",
      "276\n",
      "String,Prefix Sum\n",
      "\n"
     ]
    },
    {
     "name": "stderr",
     "output_type": "stream",
     "text": [
      "\r",
      " 47%|█████████████████████████████████████▎                                          | 190/408 [16:11<19:23,  5.34s/it]"
     ]
    },
    {
     "name": "stdout",
     "output_type": "stream",
     "text": [
      "https://leetcode.com/problems/count-palindromic-subsequences/\n",
      "312\n",
      "String,Dynamic Programming\n",
      "\n"
     ]
    },
    {
     "name": "stderr",
     "output_type": "stream",
     "text": [
      "\r",
      " 47%|█████████████████████████████████████▍                                          | 191/408 [16:16<19:33,  5.41s/it]"
     ]
    },
    {
     "name": "stdout",
     "output_type": "stream",
     "text": [
      "https://leetcode.com/problems/find-the-pivot-integer/\n",
      "432\n",
      "Math,Prefix Sum\n",
      "\n"
     ]
    },
    {
     "name": "stderr",
     "output_type": "stream",
     "text": [
      "\r",
      " 47%|█████████████████████████████████████▋                                          | 192/408 [16:22<20:11,  5.61s/it]"
     ]
    },
    {
     "name": "stdout",
     "output_type": "stream",
     "text": [
      "https://leetcode.com/problems/append-characters-to-string-to-make-subsequence/\n",
      "310\n",
      "Two Pointers,String,Greedy\n",
      "\n"
     ]
    },
    {
     "name": "stderr",
     "output_type": "stream",
     "text": [
      "\r",
      " 47%|█████████████████████████████████████▊                                          | 193/408 [16:28<20:21,  5.68s/it]"
     ]
    },
    {
     "name": "stdout",
     "output_type": "stream",
     "text": [
      "https://leetcode.com/problems/remove-nodes-from-linked-list/\n",
      "814\n",
      "Linked List,Stack,Recursion,Monotonic Stack\n",
      "\n"
     ]
    },
    {
     "name": "stderr",
     "output_type": "stream",
     "text": [
      "\r",
      " 48%|██████████████████████████████████████                                          | 194/408 [16:34<20:16,  5.68s/it]"
     ]
    },
    {
     "name": "stdout",
     "output_type": "stream",
     "text": [
      "https://leetcode.com/problems/count-subarrays-with-median-k/\n",
      "440\n",
      "Array,Hash Table,Prefix Sum\n",
      "\n"
     ]
    },
    {
     "name": "stderr",
     "output_type": "stream",
     "text": [
      "\r",
      " 48%|██████████████████████████████████████▏                                         | 195/408 [16:38<18:30,  5.21s/it]"
     ]
    },
    {
     "name": "stdout",
     "output_type": "stream",
     "text": [
      "https://leetcode.com/problems/number-of-substrings-with-fixed-ratio/\n",
      "\n",
      "\n",
      "True\n"
     ]
    },
    {
     "name": "stderr",
     "output_type": "stream",
     "text": [
      "\r",
      " 48%|██████████████████████████████████████▍                                         | 196/408 [16:44<18:52,  5.34s/it]"
     ]
    },
    {
     "name": "stdout",
     "output_type": "stream",
     "text": [
      "https://leetcode.com/problems/circular-sentence/\n",
      "257\n",
      "String\n",
      "\n"
     ]
    },
    {
     "name": "stderr",
     "output_type": "stream",
     "text": [
      "\r",
      " 48%|██████████████████████████████████████▋                                         | 197/408 [16:49<19:08,  5.44s/it]"
     ]
    },
    {
     "name": "stdout",
     "output_type": "stream",
     "text": [
      "https://leetcode.com/problems/divide-players-into-teams-of-equal-skill/\n",
      "339\n",
      "Array,Hash Table,Two Pointers,Sorting\n",
      "\n"
     ]
    },
    {
     "name": "stderr",
     "output_type": "stream",
     "text": [
      "\r",
      " 49%|██████████████████████████████████████▊                                         | 198/408 [16:55<19:13,  5.49s/it]"
     ]
    },
    {
     "name": "stdout",
     "output_type": "stream",
     "text": [
      "https://leetcode.com/problems/minimum-score-of-a-path-between-two-cities/\n",
      "1.6K\n",
      "Depth-First Search,Breadth-First Search,Union Find,Graph\n",
      "\n"
     ]
    },
    {
     "name": "stderr",
     "output_type": "stream",
     "text": [
      "\r",
      " 49%|███████████████████████████████████████                                         | 199/408 [17:01<19:20,  5.55s/it]"
     ]
    },
    {
     "name": "stdout",
     "output_type": "stream",
     "text": [
      "https://leetcode.com/problems/divide-nodes-into-the-maximum-number-of-groups/\n",
      "310\n",
      "Breadth-First Search,Union Find,Graph\n",
      "\n"
     ]
    },
    {
     "name": "stderr",
     "output_type": "stream",
     "text": [
      "\r",
      " 49%|███████████████████████████████████████▏                                        | 200/408 [17:04<17:16,  4.98s/it]"
     ]
    },
    {
     "name": "stdout",
     "output_type": "stream",
     "text": [
      "https://leetcode.com/problems/merge-overlapping-events-in-the-same-hall/\n",
      "\n",
      "\n",
      "True\n"
     ]
    },
    {
     "name": "stderr",
     "output_type": "stream",
     "text": [
      "\r",
      " 49%|███████████████████████████████████████▍                                        | 201/408 [17:08<15:31,  4.50s/it]"
     ]
    },
    {
     "name": "stdout",
     "output_type": "stream",
     "text": [
      "https://leetcode.com/problems/number-of-subarrays-having-even-product/\n",
      "\n",
      "\n",
      "True\n"
     ]
    },
    {
     "name": "stderr",
     "output_type": "stream",
     "text": [
      "\r",
      " 50%|███████████████████████████████████████▌                                        | 202/408 [17:13<16:40,  4.86s/it]"
     ]
    },
    {
     "name": "stdout",
     "output_type": "stream",
     "text": [
      "https://leetcode.com/problems/maximum-value-of-a-string-in-an-array/\n",
      "280\n",
      "Array,String\n",
      "\n"
     ]
    },
    {
     "name": "stderr",
     "output_type": "stream",
     "text": [
      "\r",
      " 50%|███████████████████████████████████████▊                                        | 203/408 [17:20<17:51,  5.23s/it]"
     ]
    },
    {
     "name": "stdout",
     "output_type": "stream",
     "text": [
      "https://leetcode.com/problems/maximum-star-sum-of-a-graph/\n",
      "260\n",
      "Array,Greedy,Graph,Sorting,Heap (Priority Queue)\n",
      "\n"
     ]
    },
    {
     "name": "stderr",
     "output_type": "stream",
     "text": [
      "\r",
      " 50%|████████████████████████████████████████                                        | 204/408 [17:25<18:10,  5.35s/it]"
     ]
    },
    {
     "name": "stdout",
     "output_type": "stream",
     "text": [
      "https://leetcode.com/problems/frog-jump-ii/\n",
      "408\n",
      "Array,Binary Search,Greedy\n",
      "\n"
     ]
    },
    {
     "name": "stderr",
     "output_type": "stream",
     "text": [
      "\r",
      " 50%|████████████████████████████████████████▏                                       | 205/408 [17:29<16:42,  4.94s/it]"
     ]
    },
    {
     "name": "stdout",
     "output_type": "stream",
     "text": [
      "https://leetcode.com/problems/minimum-total-cost-to-make-arrays-unequal/\n",
      "\n",
      "\n",
      "True\n"
     ]
    },
    {
     "name": "stderr",
     "output_type": "stream",
     "text": [
      "\r",
      " 50%|████████████████████████████████████████▍                                       | 206/408 [17:35<17:26,  5.18s/it]"
     ]
    },
    {
     "name": "stdout",
     "output_type": "stream",
     "text": [
      "https://leetcode.com/problems/delete-greatest-value-in-each-row/\n",
      "386\n",
      "Array,Sorting,Matrix\n",
      "\n"
     ]
    },
    {
     "name": "stderr",
     "output_type": "stream",
     "text": [
      "\r",
      " 51%|████████████████████████████████████████▌                                       | 207/408 [17:39<16:12,  4.84s/it]"
     ]
    },
    {
     "name": "stdout",
     "output_type": "stream",
     "text": [
      "https://leetcode.com/problems/longest-square-streak-in-an-array/\n",
      "\n",
      "\n",
      "True\n"
     ]
    },
    {
     "name": "stderr",
     "output_type": "stream",
     "text": [
      "\r",
      " 51%|████████████████████████████████████████▊                                       | 208/408 [17:43<15:04,  4.52s/it]"
     ]
    },
    {
     "name": "stdout",
     "output_type": "stream",
     "text": [
      "https://leetcode.com/problems/design-memory-allocator/\n",
      "\n",
      "\n",
      "True\n"
     ]
    },
    {
     "name": "stderr",
     "output_type": "stream",
     "text": [
      "\r",
      " 51%|████████████████████████████████████████▉                                       | 209/408 [17:49<16:34,  5.00s/it]"
     ]
    },
    {
     "name": "stdout",
     "output_type": "stream",
     "text": [
      "https://leetcode.com/problems/maximum-number-of-points-from-grid-queries/\n",
      "375\n",
      "Array,Breadth-First Search,Union Find,Sorting,Heap (Priority Queue)\n",
      "\n"
     ]
    },
    {
     "name": "stderr",
     "output_type": "stream",
     "text": [
      "\r",
      " 51%|█████████████████████████████████████████▏                                      | 210/408 [17:53<15:21,  4.66s/it]"
     ]
    },
    {
     "name": "stdout",
     "output_type": "stream",
     "text": [
      "https://leetcode.com/problems/concatenate-the-name-and-the-profession/\n",
      "\n",
      "\n",
      "True\n"
     ]
    },
    {
     "name": "stderr",
     "output_type": "stream",
     "text": [
      "\r",
      " 52%|█████████████████████████████████████████▎                                      | 211/408 [17:56<14:21,  4.37s/it]"
     ]
    },
    {
     "name": "stdout",
     "output_type": "stream",
     "text": [
      "https://leetcode.com/problems/bitwise-or-of-all-subsequence-sums/\n",
      "\n",
      "\n",
      "True\n"
     ]
    },
    {
     "name": "stderr",
     "output_type": "stream",
     "text": [
      "\r",
      " 52%|█████████████████████████████████████████▌                                      | 212/408 [18:02<15:52,  4.86s/it]"
     ]
    },
    {
     "name": "stdout",
     "output_type": "stream",
     "text": [
      "https://leetcode.com/problems/count-pairs-of-similar-strings/\n",
      "363\n",
      "Array,Hash Table,String\n",
      "\n"
     ]
    },
    {
     "name": "stderr",
     "output_type": "stream",
     "text": [
      "\r",
      " 52%|█████████████████████████████████████████▊                                      | 213/408 [18:08<16:30,  5.08s/it]"
     ]
    },
    {
     "name": "stdout",
     "output_type": "stream",
     "text": [
      "https://leetcode.com/problems/smallest-value-after-replacing-with-sum-of-prime-factors/\n",
      "288\n",
      "Math,Number Theory\n",
      "\n"
     ]
    },
    {
     "name": "stderr",
     "output_type": "stream",
     "text": [
      "\r",
      " 52%|█████████████████████████████████████████▉                                      | 214/408 [18:14<17:17,  5.35s/it]"
     ]
    },
    {
     "name": "stdout",
     "output_type": "stream",
     "text": [
      "https://leetcode.com/problems/add-edges-to-make-degrees-of-all-nodes-even/\n",
      "271\n",
      "Hash Table,Graph\n",
      "\n"
     ]
    },
    {
     "name": "stderr",
     "output_type": "stream",
     "text": [
      "\r",
      " 53%|██████████████████████████████████████████▏                                     | 215/408 [18:20<17:47,  5.53s/it]"
     ]
    },
    {
     "name": "stdout",
     "output_type": "stream",
     "text": [
      "https://leetcode.com/problems/cycle-length-queries-in-a-tree/\n",
      "252\n",
      "Tree,Binary Tree\n",
      "\n"
     ]
    },
    {
     "name": "stderr",
     "output_type": "stream",
     "text": [
      "\r",
      " 53%|██████████████████████████████████████████▎                                     | 216/408 [18:24<15:58,  4.99s/it]"
     ]
    },
    {
     "name": "stdout",
     "output_type": "stream",
     "text": [
      "https://leetcode.com/problems/check-if-there-is-a-path-with-equal-number-of-0s-and-1s/\n",
      "\n",
      "\n",
      "True\n"
     ]
    },
    {
     "name": "stderr",
     "output_type": "stream",
     "text": [
      "\r",
      " 53%|██████████████████████████████████████████▌                                     | 217/408 [18:29<16:38,  5.23s/it]"
     ]
    },
    {
     "name": "stdout",
     "output_type": "stream",
     "text": [
      "https://leetcode.com/problems/maximum-enemy-forts-that-can-be-captured/\n",
      "192\n",
      "Array,Two Pointers\n",
      "\n"
     ]
    },
    {
     "name": "stderr",
     "output_type": "stream",
     "text": [
      "\r",
      " 53%|██████████████████████████████████████████▋                                     | 218/408 [18:36<17:19,  5.47s/it]"
     ]
    },
    {
     "name": "stdout",
     "output_type": "stream",
     "text": [
      "https://leetcode.com/problems/reward-top-k-students/\n",
      "228\n",
      "Array,Hash Table,String,Sorting,Heap (Priority Queue)\n",
      "\n"
     ]
    },
    {
     "name": "stderr",
     "output_type": "stream",
     "text": [
      "\r",
      " 54%|██████████████████████████████████████████▉                                     | 219/408 [18:39<15:18,  4.86s/it]"
     ]
    },
    {
     "name": "stdout",
     "output_type": "stream",
     "text": [
      "https://leetcode.com/problems/minimize-the-maximum-of-two-arrays/\n",
      "\n",
      "\n",
      "True\n"
     ]
    },
    {
     "name": "stderr",
     "output_type": "stream",
     "text": [
      "\r",
      " 54%|███████████████████████████████████████████▏                                    | 220/408 [18:45<16:17,  5.20s/it]"
     ]
    },
    {
     "name": "stdout",
     "output_type": "stream",
     "text": [
      "https://leetcode.com/problems/count-anagrams/\n",
      "263\n",
      "Hash Table,Math,String,Combinatorics,Counting\n",
      "\n"
     ]
    },
    {
     "name": "stderr",
     "output_type": "stream",
     "text": [
      "\r",
      " 54%|███████████████████████████████████████████▎                                    | 221/408 [18:51<16:43,  5.37s/it]"
     ]
    },
    {
     "name": "stdout",
     "output_type": "stream",
     "text": [
      "https://leetcode.com/problems/shortest-distance-to-target-string-in-a-circular-array/\n",
      "270\n",
      "Array,String\n",
      "\n"
     ]
    },
    {
     "name": "stderr",
     "output_type": "stream",
     "text": [
      "\r",
      " 54%|███████████████████████████████████████████▌                                    | 222/408 [18:57<17:18,  5.58s/it]"
     ]
    },
    {
     "name": "stdout",
     "output_type": "stream",
     "text": [
      "https://leetcode.com/problems/take-k-of-each-character-from-left-and-right/\n",
      "559\n",
      "Hash Table,String,Sliding Window\n",
      "\n"
     ]
    },
    {
     "name": "stderr",
     "output_type": "stream",
     "text": [
      "\r",
      " 55%|███████████████████████████████████████████▋                                    | 223/408 [19:03<17:26,  5.66s/it]"
     ]
    },
    {
     "name": "stdout",
     "output_type": "stream",
     "text": [
      "https://leetcode.com/problems/maximum-tastiness-of-candy-basket/\n",
      "605\n",
      "Array,Binary Search,Sorting\n",
      "\n"
     ]
    },
    {
     "name": "stderr",
     "output_type": "stream",
     "text": [
      "\r",
      " 55%|███████████████████████████████████████████▉                                    | 224/408 [19:09<17:38,  5.75s/it]"
     ]
    },
    {
     "name": "stdout",
     "output_type": "stream",
     "text": [
      "https://leetcode.com/problems/number-of-great-partitions/\n",
      "319\n",
      "Array,Dynamic Programming\n",
      "\n"
     ]
    },
    {
     "name": "stderr",
     "output_type": "stream",
     "text": [
      "\r",
      " 55%|████████████████████████████████████████████                                    | 225/408 [19:12<15:27,  5.07s/it]"
     ]
    },
    {
     "name": "stdout",
     "output_type": "stream",
     "text": [
      "https://leetcode.com/problems/count-the-number-of-k-big-indices/\n",
      "\n",
      "\n",
      "True\n"
     ]
    },
    {
     "name": "stderr",
     "output_type": "stream",
     "text": [
      "\r",
      " 55%|████████████████████████████████████████████▎                                   | 226/408 [19:18<15:55,  5.25s/it]"
     ]
    },
    {
     "name": "stdout",
     "output_type": "stream",
     "text": [
      "https://leetcode.com/problems/count-the-digits-that-divide-a-number/\n",
      "309\n",
      "Math\n",
      "\n"
     ]
    },
    {
     "name": "stderr",
     "output_type": "stream",
     "text": [
      "\r",
      " 56%|████████████████████████████████████████████▌                                   | 227/408 [19:23<16:18,  5.41s/it]"
     ]
    },
    {
     "name": "stdout",
     "output_type": "stream",
     "text": [
      "https://leetcode.com/problems/distinct-prime-factors-of-product-of-array/\n",
      "327\n",
      "Array,Hash Table,Math,Number Theory\n",
      "\n"
     ]
    },
    {
     "name": "stderr",
     "output_type": "stream",
     "text": [
      "\r",
      " 56%|████████████████████████████████████████████▋                                   | 228/408 [19:27<14:46,  4.92s/it]"
     ]
    },
    {
     "name": "stdout",
     "output_type": "stream",
     "text": [
      "https://leetcode.com/problems/partition-string-into-substrings-with-values-at-most-k/\n",
      "\n",
      "\n",
      "True\n"
     ]
    },
    {
     "name": "stderr",
     "output_type": "stream",
     "text": [
      "\r",
      " 56%|████████████████████████████████████████████▉                                   | 229/408 [19:33<15:26,  5.18s/it]"
     ]
    },
    {
     "name": "stdout",
     "output_type": "stream",
     "text": [
      "https://leetcode.com/problems/closest-prime-numbers-in-range/\n",
      "299\n",
      "Math,Number Theory\n",
      "\n"
     ]
    },
    {
     "name": "stderr",
     "output_type": "stream",
     "text": [
      "\r",
      " 56%|█████████████████████████████████████████████                                   | 230/408 [19:37<14:01,  4.73s/it]"
     ]
    },
    {
     "name": "stdout",
     "output_type": "stream",
     "text": [
      "https://leetcode.com/problems/maximum-frequency-score-of-a-subarray/\n",
      "\n",
      "\n",
      "True\n"
     ]
    },
    {
     "name": "stderr",
     "output_type": "stream",
     "text": [
      "\r",
      " 57%|█████████████████████████████████████████████▎                                  | 231/408 [19:42<14:41,  4.98s/it]"
     ]
    },
    {
     "name": "stdout",
     "output_type": "stream",
     "text": [
      "https://leetcode.com/problems/categorize-box-according-to-criteria/\n",
      "142\n",
      "Math\n",
      "\n"
     ]
    },
    {
     "name": "stderr",
     "output_type": "stream",
     "text": [
      "\r",
      " 57%|█████████████████████████████████████████████▍                                  | 232/408 [19:48<15:12,  5.19s/it]"
     ]
    },
    {
     "name": "stdout",
     "output_type": "stream",
     "text": [
      "https://leetcode.com/problems/find-consecutive-integers-from-a-data-stream/\n",
      "209\n",
      "Hash Table,Design,Queue,Counting,Data Stream\n",
      "\n"
     ]
    },
    {
     "name": "stderr",
     "output_type": "stream",
     "text": [
      "\r",
      " 57%|█████████████████████████████████████████████▋                                  | 233/408 [19:54<15:26,  5.29s/it]"
     ]
    },
    {
     "name": "stdout",
     "output_type": "stream",
     "text": [
      "https://leetcode.com/problems/find-xor-beauty-of-array/\n",
      "269\n",
      "Array,Math,Bit Manipulation\n",
      "\n"
     ]
    },
    {
     "name": "stderr",
     "output_type": "stream",
     "text": [
      "\r",
      " 57%|█████████████████████████████████████████████▉                                  | 234/408 [19:59<15:38,  5.39s/it]"
     ]
    },
    {
     "name": "stdout",
     "output_type": "stream",
     "text": [
      "https://leetcode.com/problems/maximize-the-minimum-powered-city/\n",
      "371\n",
      "Array,Binary Search,Greedy,Queue,Sliding Window,Prefix Sum\n",
      "\n"
     ]
    },
    {
     "name": "stderr",
     "output_type": "stream",
     "text": [
      "\r",
      " 58%|██████████████████████████████████████████████                                  | 235/408 [20:05<15:56,  5.53s/it]"
     ]
    },
    {
     "name": "stdout",
     "output_type": "stream",
     "text": [
      "https://leetcode.com/problems/maximum-count-of-positive-integer-and-negative-integer/\n",
      "492\n",
      "Array,Binary Search,Counting\n",
      "\n"
     ]
    },
    {
     "name": "stderr",
     "output_type": "stream",
     "text": [
      "\r",
      " 58%|██████████████████████████████████████████████▎                                 | 236/408 [20:11<16:04,  5.61s/it]"
     ]
    },
    {
     "name": "stdout",
     "output_type": "stream",
     "text": [
      "https://leetcode.com/problems/maximal-score-after-applying-k-operations/\n",
      "312\n",
      "Array,Greedy,Heap (Priority Queue)\n",
      "\n"
     ]
    },
    {
     "name": "stderr",
     "output_type": "stream",
     "text": [
      "\r",
      " 58%|██████████████████████████████████████████████▍                                 | 237/408 [20:16<15:55,  5.59s/it]"
     ]
    },
    {
     "name": "stdout",
     "output_type": "stream",
     "text": [
      "https://leetcode.com/problems/make-number-of-distinct-characters-equal/\n",
      "437\n",
      "Hash Table,String,Counting\n",
      "\n"
     ]
    },
    {
     "name": "stderr",
     "output_type": "stream",
     "text": [
      "\r",
      " 58%|██████████████████████████████████████████████▋                                 | 238/408 [20:22<15:49,  5.59s/it]"
     ]
    },
    {
     "name": "stdout",
     "output_type": "stream",
     "text": [
      "https://leetcode.com/problems/time-to-cross-a-bridge/\n",
      "89\n",
      "Array,Heap (Priority Queue),Simulation\n",
      "\n"
     ]
    },
    {
     "name": "stderr",
     "output_type": "stream",
     "text": [
      "\r",
      " 59%|██████████████████████████████████████████████▊                                 | 239/408 [20:25<13:56,  4.95s/it]"
     ]
    },
    {
     "name": "stdout",
     "output_type": "stream",
     "text": [
      "https://leetcode.com/problems/number-of-good-binary-strings/\n",
      "\n",
      "\n",
      "True\n"
     ]
    },
    {
     "name": "stderr",
     "output_type": "stream",
     "text": [
      "\r",
      " 59%|███████████████████████████████████████████████                                 | 240/408 [20:29<12:33,  4.49s/it]"
     ]
    },
    {
     "name": "stdout",
     "output_type": "stream",
     "text": [
      "https://leetcode.com/problems/time-taken-to-cross-the-door/\n",
      "\n",
      "\n",
      "True\n"
     ]
    },
    {
     "name": "stderr",
     "output_type": "stream",
     "text": [
      "\r",
      " 59%|███████████████████████████████████████████████▎                                | 241/408 [20:34<13:25,  4.83s/it]"
     ]
    },
    {
     "name": "stdout",
     "output_type": "stream",
     "text": [
      "https://leetcode.com/problems/difference-between-element-sum-and-digit-sum-of-an-array/\n",
      "422\n",
      "Array,Math\n",
      "\n"
     ]
    },
    {
     "name": "stderr",
     "output_type": "stream",
     "text": [
      "\r",
      " 59%|███████████████████████████████████████████████▍                                | 242/408 [20:40<13:59,  5.05s/it]"
     ]
    },
    {
     "name": "stdout",
     "output_type": "stream",
     "text": [
      "https://leetcode.com/problems/increment-submatrices-by-one/\n",
      "390\n",
      "Array,Matrix,Prefix Sum\n",
      "\n"
     ]
    },
    {
     "name": "stderr",
     "output_type": "stream",
     "text": [
      "\r",
      " 60%|███████████████████████████████████████████████▋                                | 243/408 [20:45<14:16,  5.19s/it]"
     ]
    },
    {
     "name": "stdout",
     "output_type": "stream",
     "text": [
      "https://leetcode.com/problems/count-the-number-of-good-subarrays/\n",
      "596\n",
      "Array,Hash Table,Sliding Window\n",
      "\n"
     ]
    },
    {
     "name": "stderr",
     "output_type": "stream",
     "text": [
      "\r",
      " 60%|███████████████████████████████████████████████▊                                | 244/408 [20:51<14:27,  5.29s/it]"
     ]
    },
    {
     "name": "stdout",
     "output_type": "stream",
     "text": [
      "https://leetcode.com/problems/difference-between-maximum-and-minimum-price-sum/\n",
      "300\n",
      "Array,Dynamic Programming,Tree,Depth-First Search\n",
      "\n"
     ]
    },
    {
     "name": "stderr",
     "output_type": "stream",
     "text": [
      "\r",
      " 60%|████████████████████████████████████████████████                                | 245/408 [20:55<12:58,  4.77s/it]"
     ]
    },
    {
     "name": "stdout",
     "output_type": "stream",
     "text": [
      "https://leetcode.com/problems/count-the-number-of-good-subsequences/\n",
      "\n",
      "\n",
      "True\n"
     ]
    },
    {
     "name": "stderr",
     "output_type": "stream",
     "text": [
      "\r",
      " 60%|████████████████████████████████████████████████▏                               | 246/408 [21:00<13:40,  5.06s/it]"
     ]
    },
    {
     "name": "stdout",
     "output_type": "stream",
     "text": [
      "https://leetcode.com/problems/minimum-common-value/\n",
      "350\n",
      "Array,Hash Table,Two Pointers,Binary Search\n",
      "\n"
     ]
    },
    {
     "name": "stderr",
     "output_type": "stream",
     "text": [
      "\r",
      " 61%|████████████████████████████████████████████████▍                               | 247/408 [21:06<14:14,  5.31s/it]"
     ]
    },
    {
     "name": "stdout",
     "output_type": "stream",
     "text": [
      "https://leetcode.com/problems/minimum-operations-to-make-array-equal-ii/\n",
      "328\n",
      "Array,Math,Greedy\n",
      "\n"
     ]
    },
    {
     "name": "stderr",
     "output_type": "stream",
     "text": [
      "\r",
      " 61%|████████████████████████████████████████████████▋                               | 248/408 [21:12<14:18,  5.37s/it]"
     ]
    },
    {
     "name": "stdout",
     "output_type": "stream",
     "text": [
      "https://leetcode.com/problems/maximum-subsequence-score/\n",
      "1.9K\n",
      "Array,Greedy,Sorting,Heap (Priority Queue)\n",
      "\n"
     ]
    },
    {
     "name": "stderr",
     "output_type": "stream",
     "text": [
      "\r",
      " 61%|████████████████████████████████████████████████▊                               | 249/408 [21:17<14:23,  5.43s/it]"
     ]
    },
    {
     "name": "stdout",
     "output_type": "stream",
     "text": [
      "https://leetcode.com/problems/check-if-point-is-reachable/\n",
      "201\n",
      "Math,Number Theory\n",
      "\n"
     ]
    },
    {
     "name": "stderr",
     "output_type": "stream",
     "text": [
      "\r",
      " 61%|█████████████████████████████████████████████████                               | 250/408 [21:23<14:20,  5.45s/it]"
     ]
    },
    {
     "name": "stdout",
     "output_type": "stream",
     "text": [
      "https://leetcode.com/problems/alternating-digit-sum/\n",
      "259\n",
      "Math\n",
      "\n"
     ]
    },
    {
     "name": "stderr",
     "output_type": "stream",
     "text": [
      "\r",
      " 62%|█████████████████████████████████████████████████▏                              | 251/408 [21:29<14:30,  5.54s/it]"
     ]
    },
    {
     "name": "stdout",
     "output_type": "stream",
     "text": [
      "https://leetcode.com/problems/sort-the-students-by-their-kth-score/\n",
      "409\n",
      "Array,Sorting,Matrix\n",
      "\n"
     ]
    },
    {
     "name": "stderr",
     "output_type": "stream",
     "text": [
      "\r",
      " 62%|█████████████████████████████████████████████████▍                              | 252/408 [21:34<14:24,  5.54s/it]"
     ]
    },
    {
     "name": "stdout",
     "output_type": "stream",
     "text": [
      "https://leetcode.com/problems/apply-bitwise-operations-to-make-strings-equal/\n",
      "202\n",
      "String,Bit Manipulation\n",
      "\n"
     ]
    },
    {
     "name": "stderr",
     "output_type": "stream",
     "text": [
      "\r",
      " 62%|█████████████████████████████████████████████████▌                              | 253/408 [21:40<14:25,  5.59s/it]"
     ]
    },
    {
     "name": "stdout",
     "output_type": "stream",
     "text": [
      "https://leetcode.com/problems/minimum-cost-to-split-an-array/\n",
      "348\n",
      "Array,Hash Table,Dynamic Programming,Counting\n",
      "\n"
     ]
    },
    {
     "name": "stderr",
     "output_type": "stream",
     "text": [
      "\r",
      " 62%|█████████████████████████████████████████████████▊                              | 254/408 [21:43<12:50,  5.00s/it]"
     ]
    },
    {
     "name": "stdout",
     "output_type": "stream",
     "text": [
      "https://leetcode.com/problems/maximum-price-to-fill-a-bag/\n",
      "\n",
      "\n",
      "True\n"
     ]
    },
    {
     "name": "stderr",
     "output_type": "stream",
     "text": [
      "\r",
      " 62%|██████████████████████████████████████████████████                              | 255/408 [21:49<13:14,  5.19s/it]"
     ]
    },
    {
     "name": "stdout",
     "output_type": "stream",
     "text": [
      "https://leetcode.com/problems/count-distinct-numbers-on-board/\n",
      "174\n",
      "Array,Hash Table,Math,Simulation\n",
      "\n"
     ]
    },
    {
     "name": "stderr",
     "output_type": "stream",
     "text": [
      "\r",
      " 63%|██████████████████████████████████████████████████▏                             | 256/408 [21:55<13:38,  5.38s/it]"
     ]
    },
    {
     "name": "stdout",
     "output_type": "stream",
     "text": [
      "https://leetcode.com/problems/count-collisions-of-monkeys-on-a-polygon/\n",
      "143\n",
      "Math,Recursion\n",
      "\n"
     ]
    },
    {
     "name": "stderr",
     "output_type": "stream",
     "text": [
      "\r",
      " 63%|██████████████████████████████████████████████████▍                             | 257/408 [21:58<12:09,  4.83s/it]"
     ]
    },
    {
     "name": "stdout",
     "output_type": "stream",
     "text": [
      "https://leetcode.com/problems/put-marbles-in-bags/\n",
      "\n",
      "\n",
      "True\n"
     ]
    },
    {
     "name": "stderr",
     "output_type": "stream",
     "text": [
      "\r",
      " 63%|██████████████████████████████████████████████████▌                             | 258/408 [22:04<12:32,  5.02s/it]"
     ]
    },
    {
     "name": "stdout",
     "output_type": "stream",
     "text": [
      "https://leetcode.com/problems/count-increasing-quadruplets/\n",
      "276\n",
      "Array,Dynamic Programming,Binary Indexed Tree,Enumeration,Prefix Sum\n",
      "\n"
     ]
    },
    {
     "name": "stderr",
     "output_type": "stream",
     "text": [
      "\r",
      " 63%|██████████████████████████████████████████████████▊                             | 259/408 [22:10<12:59,  5.23s/it]"
     ]
    },
    {
     "name": "stdout",
     "output_type": "stream",
     "text": [
      "https://leetcode.com/problems/separate-the-digits-in-an-array/\n",
      "307\n",
      "Array,Simulation\n",
      "\n"
     ]
    },
    {
     "name": "stderr",
     "output_type": "stream",
     "text": [
      "\r",
      " 64%|██████████████████████████████████████████████████▉                             | 260/408 [22:15<13:11,  5.35s/it]"
     ]
    },
    {
     "name": "stdout",
     "output_type": "stream",
     "text": [
      "https://leetcode.com/problems/maximum-number-of-integers-to-choose-from-a-range-i/\n",
      "226\n",
      "Array,Hash Table,Binary Search,Greedy,Sorting\n",
      "\n"
     ]
    },
    {
     "name": "stderr",
     "output_type": "stream",
     "text": [
      "\r",
      " 64%|███████████████████████████████████████████████████▏                            | 261/408 [22:21<13:28,  5.50s/it]"
     ]
    },
    {
     "name": "stdout",
     "output_type": "stream",
     "text": [
      "https://leetcode.com/problems/maximize-win-from-two-segments/\n",
      "413\n",
      "Array,Binary Search,Sliding Window\n",
      "\n"
     ]
    },
    {
     "name": "stderr",
     "output_type": "stream",
     "text": [
      "\r",
      " 64%|███████████████████████████████████████████████████▎                            | 262/408 [22:27<13:30,  5.55s/it]"
     ]
    },
    {
     "name": "stdout",
     "output_type": "stream",
     "text": [
      "https://leetcode.com/problems/disconnect-path-in-a-binary-matrix-by-at-most-one-flip/\n",
      "414\n",
      "Array,Dynamic Programming,Depth-First Search,Breadth-First Search,Matrix\n",
      "\n"
     ]
    },
    {
     "name": "stderr",
     "output_type": "stream",
     "text": [
      "\r",
      " 64%|███████████████████████████████████████████████████▌                            | 263/408 [22:30<11:52,  4.91s/it]"
     ]
    },
    {
     "name": "stdout",
     "output_type": "stream",
     "text": [
      "https://leetcode.com/problems/maximum-number-of-integers-to-choose-from-a-range-ii/\n",
      "\n",
      "\n",
      "True\n"
     ]
    },
    {
     "name": "stderr",
     "output_type": "stream",
     "text": [
      "\r",
      " 65%|███████████████████████████████████████████████████▊                            | 264/408 [22:36<12:12,  5.08s/it]"
     ]
    },
    {
     "name": "stdout",
     "output_type": "stream",
     "text": [
      "https://leetcode.com/problems/take-gifts-from-the-richest-pile/\n",
      "246\n",
      "Array,Heap (Priority Queue),Simulation\n",
      "\n"
     ]
    },
    {
     "name": "stderr",
     "output_type": "stream",
     "text": [
      "\r",
      " 65%|███████████████████████████████████████████████████▉                            | 265/408 [22:41<12:25,  5.22s/it]"
     ]
    },
    {
     "name": "stdout",
     "output_type": "stream",
     "text": [
      "https://leetcode.com/problems/count-vowel-strings-in-ranges/\n",
      "334\n",
      "Array,String,Prefix Sum\n",
      "\n"
     ]
    },
    {
     "name": "stderr",
     "output_type": "stream",
     "text": [
      "\r",
      " 65%|████████████████████████████████████████████████████▏                           | 266/408 [22:47<12:29,  5.28s/it]"
     ]
    },
    {
     "name": "stdout",
     "output_type": "stream",
     "text": [
      "https://leetcode.com/problems/house-robber-iv/\n",
      "647\n",
      "Array,Binary Search\n",
      "\n"
     ]
    },
    {
     "name": "stderr",
     "output_type": "stream",
     "text": [
      "\r",
      " 65%|████████████████████████████████████████████████████▎                           | 267/408 [22:52<12:45,  5.43s/it]"
     ]
    },
    {
     "name": "stdout",
     "output_type": "stream",
     "text": [
      "https://leetcode.com/problems/rearranging-fruits/\n",
      "301\n",
      "Array,Hash Table,Greedy\n",
      "\n"
     ]
    },
    {
     "name": "stderr",
     "output_type": "stream",
     "text": [
      "\r",
      " 66%|████████████████████████████████████████████████████▌                           | 268/408 [22:56<11:14,  4.82s/it]"
     ]
    },
    {
     "name": "stdout",
     "output_type": "stream",
     "text": [
      "https://leetcode.com/problems/find-the-array-concatenation-value/\n",
      "\n",
      "\n",
      "True\n"
     ]
    },
    {
     "name": "stderr",
     "output_type": "stream",
     "text": [
      "\r",
      " 66%|████████████████████████████████████████████████████▋                           | 269/408 [23:01<11:37,  5.02s/it]"
     ]
    },
    {
     "name": "stdout",
     "output_type": "stream",
     "text": [
      "https://leetcode.com/problems/count-the-number-of-fair-pairs/\n",
      "607\n",
      "Array,Two Pointers,Binary Search,Sorting\n",
      "\n"
     ]
    },
    {
     "name": "stderr",
     "output_type": "stream",
     "text": [
      "\r",
      " 66%|████████████████████████████████████████████████████▉                           | 270/408 [23:07<11:50,  5.15s/it]"
     ]
    },
    {
     "name": "stdout",
     "output_type": "stream",
     "text": [
      "https://leetcode.com/problems/substring-xor-queries/\n",
      "297\n",
      "Array,Hash Table,String,Bit Manipulation\n",
      "\n"
     ]
    },
    {
     "name": "stderr",
     "output_type": "stream",
     "text": [
      "\r",
      " 66%|█████████████████████████████████████████████████████▏                          | 271/408 [23:12<12:10,  5.33s/it]"
     ]
    },
    {
     "name": "stdout",
     "output_type": "stream",
     "text": [
      "https://leetcode.com/problems/subsequence-with-the-minimum-score/\n",
      "292\n",
      "Two Pointers,String,Binary Search\n",
      "\n"
     ]
    },
    {
     "name": "stderr",
     "output_type": "stream",
     "text": [
      "\r",
      " 67%|█████████████████████████████████████████████████████▎                          | 272/408 [23:16<11:03,  4.88s/it]"
     ]
    },
    {
     "name": "stdout",
     "output_type": "stream",
     "text": [
      "https://leetcode.com/problems/maximum-difference-by-remapping-a-digit/\n",
      "\n",
      "\n",
      "True\n"
     ]
    },
    {
     "name": "stderr",
     "output_type": "stream",
     "text": [
      "\r",
      " 67%|█████████████████████████████████████████████████████▌                          | 273/408 [23:20<09:57,  4.42s/it]"
     ]
    },
    {
     "name": "stdout",
     "output_type": "stream",
     "text": [
      "https://leetcode.com/problems/minimum-score-by-changing-two-elements/\n",
      "\n",
      "\n",
      "True\n"
     ]
    },
    {
     "name": "stderr",
     "output_type": "stream",
     "text": [
      "\r",
      " 67%|█████████████████████████████████████████████████████▋                          | 274/408 [23:23<09:16,  4.15s/it]"
     ]
    },
    {
     "name": "stdout",
     "output_type": "stream",
     "text": [
      "https://leetcode.com/problems/minimum-impossible-or/\n",
      "\n",
      "\n",
      "True\n"
     ]
    },
    {
     "name": "stderr",
     "output_type": "stream",
     "text": [
      "\r",
      " 67%|█████████████████████████████████████████████████████▉                          | 275/408 [23:26<08:37,  3.89s/it]"
     ]
    },
    {
     "name": "stdout",
     "output_type": "stream",
     "text": [
      "https://leetcode.com/problems/handling-sum-queries-after-update/\n",
      "\n",
      "\n",
      "True\n"
     ]
    },
    {
     "name": "stderr",
     "output_type": "stream",
     "text": [
      "\r",
      " 68%|██████████████████████████████████████████████████████                          | 276/408 [23:32<09:44,  4.43s/it]"
     ]
    },
    {
     "name": "stdout",
     "output_type": "stream",
     "text": [
      "https://leetcode.com/problems/merge-two-2d-arrays-by-summing-values/\n",
      "218\n",
      "Array,Hash Table,Two Pointers\n",
      "\n"
     ]
    },
    {
     "name": "stderr",
     "output_type": "stream",
     "text": [
      "\r",
      " 68%|██████████████████████████████████████████████████████▎                         | 277/408 [23:38<10:30,  4.81s/it]"
     ]
    },
    {
     "name": "stdout",
     "output_type": "stream",
     "text": [
      "https://leetcode.com/problems/minimum-operations-to-reduce-an-integer-to-0/\n",
      "360\n",
      "Dynamic Programming,Greedy,Bit Manipulation\n",
      "\n"
     ]
    },
    {
     "name": "stderr",
     "output_type": "stream",
     "text": [
      "\r",
      " 68%|██████████████████████████████████████████████████████▌                         | 278/408 [23:44<11:01,  5.09s/it]"
     ]
    },
    {
     "name": "stdout",
     "output_type": "stream",
     "text": [
      "https://leetcode.com/problems/count-the-number-of-square-free-subsets/\n",
      "293\n",
      "Array,Math,Dynamic Programming,Bit Manipulation,Bitmask\n",
      "\n"
     ]
    },
    {
     "name": "stderr",
     "output_type": "stream",
     "text": [
      "\r",
      " 68%|██████████████████████████████████████████████████████▋                         | 279/408 [23:47<09:59,  4.65s/it]"
     ]
    },
    {
     "name": "stdout",
     "output_type": "stream",
     "text": [
      "https://leetcode.com/problems/find-the-string-with-lcp/\n",
      "\n",
      "\n",
      "True\n"
     ]
    },
    {
     "name": "stderr",
     "output_type": "stream",
     "text": [
      "\r",
      " 69%|██████████████████████████████████████████████████████▉                         | 280/408 [23:53<10:25,  4.89s/it]"
     ]
    },
    {
     "name": "stdout",
     "output_type": "stream",
     "text": [
      "https://leetcode.com/problems/left-and-right-sum-differences/\n",
      "511\n",
      "Array,Prefix Sum\n",
      "\n"
     ]
    },
    {
     "name": "stderr",
     "output_type": "stream",
     "text": [
      "\r",
      " 69%|███████████████████████████████████████████████████████                         | 281/408 [23:58<10:51,  5.13s/it]"
     ]
    },
    {
     "name": "stdout",
     "output_type": "stream",
     "text": [
      "https://leetcode.com/problems/find-the-divisibility-array-of-a-string/\n",
      "423\n",
      "Array,Math,String\n",
      "\n"
     ]
    },
    {
     "name": "stderr",
     "output_type": "stream",
     "text": [
      "\r",
      " 69%|███████████████████████████████████████████████████████▎                        | 282/408 [24:02<09:49,  4.68s/it]"
     ]
    },
    {
     "name": "stdout",
     "output_type": "stream",
     "text": [
      "https://leetcode.com/problems/find-the-maximum-number-of-marked-indices/\n",
      "\n",
      "\n",
      "True\n"
     ]
    },
    {
     "name": "stderr",
     "output_type": "stream",
     "text": [
      "\r",
      " 69%|███████████████████████████████████████████████████████▍                        | 283/408 [24:05<09:01,  4.33s/it]"
     ]
    },
    {
     "name": "stdout",
     "output_type": "stream",
     "text": [
      "https://leetcode.com/problems/minimum-time-to-visit-a-cell-in-a-grid/\n",
      "\n",
      "\n",
      "True\n"
     ]
    },
    {
     "name": "stderr",
     "output_type": "stream",
     "text": [
      "\r",
      " 70%|███████████████████████████████████████████████████████▋                        | 284/408 [24:11<09:44,  4.71s/it]"
     ]
    },
    {
     "name": "stdout",
     "output_type": "stream",
     "text": [
      "https://leetcode.com/problems/split-with-minimum-sum/\n",
      "228\n",
      "Math,Greedy,Sorting\n",
      "\n"
     ]
    },
    {
     "name": "stderr",
     "output_type": "stream",
     "text": [
      "\r",
      " 70%|███████████████████████████████████████████████████████▉                        | 285/408 [24:17<10:13,  4.99s/it]"
     ]
    },
    {
     "name": "stdout",
     "output_type": "stream",
     "text": [
      "https://leetcode.com/problems/count-total-number-of-colored-cells/\n",
      "225\n",
      "Math\n",
      "\n"
     ]
    },
    {
     "name": "stderr",
     "output_type": "stream",
     "text": [
      "\r",
      " 70%|████████████████████████████████████████████████████████                        | 286/408 [24:22<10:29,  5.16s/it]"
     ]
    },
    {
     "name": "stdout",
     "output_type": "stream",
     "text": [
      "https://leetcode.com/problems/count-ways-to-group-overlapping-ranges/\n",
      "241\n",
      "Array,Sorting\n",
      "\n"
     ]
    },
    {
     "name": "stderr",
     "output_type": "stream",
     "text": [
      "\r",
      " 70%|████████████████████████████████████████████████████████▎                       | 287/408 [24:28<10:33,  5.24s/it]"
     ]
    },
    {
     "name": "stdout",
     "output_type": "stream",
     "text": [
      "https://leetcode.com/problems/count-number-of-possible-root-nodes/\n",
      "217\n",
      "Hash Table,Dynamic Programming,Tree,Depth-First Search\n",
      "\n"
     ]
    },
    {
     "name": "stderr",
     "output_type": "stream",
     "text": [
      "\r",
      " 71%|████████████████████████████████████████████████████████▍                       | 288/408 [24:33<10:33,  5.28s/it]"
     ]
    },
    {
     "name": "stdout",
     "output_type": "stream",
     "text": [
      "https://leetcode.com/problems/pass-the-pillow/\n",
      "285\n",
      "Math,Simulation\n",
      "\n"
     ]
    },
    {
     "name": "stderr",
     "output_type": "stream",
     "text": [
      "\r",
      " 71%|████████████████████████████████████████████████████████▋                       | 289/408 [24:39<10:35,  5.34s/it]"
     ]
    },
    {
     "name": "stdout",
     "output_type": "stream",
     "text": [
      "https://leetcode.com/problems/kth-largest-sum-in-a-binary-tree/\n",
      "283\n",
      "Binary Search,Tree,Breadth-First Search\n",
      "\n"
     ]
    },
    {
     "name": "stderr",
     "output_type": "stream",
     "text": [
      "\r",
      " 71%|████████████████████████████████████████████████████████▊                       | 290/408 [24:44<10:35,  5.39s/it]"
     ]
    },
    {
     "name": "stdout",
     "output_type": "stream",
     "text": [
      "https://leetcode.com/problems/split-the-array-to-make-coprime-products/\n",
      "263\n",
      "Array,Hash Table,Math,Number Theory\n",
      "\n"
     ]
    },
    {
     "name": "stderr",
     "output_type": "stream",
     "text": [
      "\r",
      " 71%|█████████████████████████████████████████████████████████                       | 291/408 [24:50<10:41,  5.48s/it]"
     ]
    },
    {
     "name": "stdout",
     "output_type": "stream",
     "text": [
      "https://leetcode.com/problems/number-of-ways-to-earn-points/\n",
      "330\n",
      "Array,Dynamic Programming\n",
      "\n"
     ]
    },
    {
     "name": "stderr",
     "output_type": "stream",
     "text": [
      "\r",
      " 72%|█████████████████████████████████████████████████████████▎                      | 292/408 [24:53<09:27,  4.90s/it]"
     ]
    },
    {
     "name": "stdout",
     "output_type": "stream",
     "text": [
      "https://leetcode.com/problems/count-the-number-of-vowel-strings-in-range/\n",
      "\n",
      "\n",
      "True\n"
     ]
    },
    {
     "name": "stderr",
     "output_type": "stream",
     "text": [
      "\r",
      " 72%|█████████████████████████████████████████████████████████▍                      | 293/408 [24:59<09:51,  5.14s/it]"
     ]
    },
    {
     "name": "stdout",
     "output_type": "stream",
     "text": [
      "https://leetcode.com/problems/rearrange-array-to-maximize-prefix-score/\n",
      "214\n",
      "Array,Greedy,Sorting,Prefix Sum\n",
      "\n"
     ]
    }
   ],
   "source": [
    "\n",
    "for link in tqdm(df[\"Links\"][2294:]):\n",
    "    premium = \"\"\n",
    "    browser.get(link)\n",
    "    time.sleep(2)\n",
    "    try:\n",
    "        Liked = browser.find_element(By.XPATH, '//*[@id=\"qd-content\"]/div[1]/div/div/div/div[2]/div/div/div[1]/div/div[2]/div[2]/div[1]/div[2]').text\n",
    "        browser.find_element(By.XPATH, '//*[@id=\"qd-content\"]/div[1]/div/div/div/div[2]/div/div/div[7]/div/div[1]/div[1]').click()\n",
    "        time.sleep(2)\n",
    "        Tags =  (browser.find_element(By.XPATH, '//*[@id=\"qd-content\"]/div[1]/div/div/div/div[2]/div/div/div[7]/div/div[2]/div').text).replace(\"\\n\",\",\")\n",
    "    except:\n",
    "        Liked = ''\n",
    "        Tags = ''\n",
    "        premium = True\n",
    "#         print(link)\n",
    "#         continue\n",
    "    print(link)\n",
    "    print(Liked)\n",
    "    print(Tags)\n",
    "    print(premium)\n",
    "    data.append([Liked, Tags, premium])"
   ]
  },
  {
   "cell_type": "code",
   "execution_count": 34,
   "id": "90760cb2",
   "metadata": {},
   "outputs": [
    {
     "data": {
      "text/plain": [
       "2294    https://leetcode.com/problems/replace-elements...\n",
       "2295    https://leetcode.com/problems/design-a-text-ed...\n",
       "2296        https://leetcode.com/problems/jump-game-viii/\n",
       "2297    https://leetcode.com/problems/tasks-count-in-t...\n",
       "2298    https://leetcode.com/problems/strong-password-...\n",
       "                              ...                        \n",
       "2697    https://leetcode.com/problems/find-the-punishm...\n",
       "2698    https://leetcode.com/problems/modify-graph-edg...\n",
       "2699    https://leetcode.com/problems/differences-betw...\n",
       "2700    https://leetcode.com/problems/consecutive-tran...\n",
       "2701    https://leetcode.com/problems/minimum-operatio...\n",
       "Name: Links, Length: 408, dtype: object"
      ]
     },
     "execution_count": 34,
     "metadata": {},
     "output_type": "execute_result"
    }
   ],
   "source": [
    "df[\"Links\"][2294:]"
   ]
  },
  {
   "cell_type": "code",
   "execution_count": 35,
   "id": "35e784b8",
   "metadata": {},
   "outputs": [],
   "source": [
    "data1 = data"
   ]
  },
  {
   "cell_type": "code",
   "execution_count": 36,
   "id": "56e53d1b",
   "metadata": {},
   "outputs": [
    {
     "data": {
      "text/plain": [
       "2293"
      ]
     },
     "execution_count": 36,
     "metadata": {},
     "output_type": "execute_result"
    }
   ],
   "source": [
    "len(data1)"
   ]
  },
  {
   "cell_type": "code",
   "execution_count": 32,
   "id": "2a41af25",
   "metadata": {
    "scrolled": true
   },
   "outputs": [
    {
     "data": {
      "text/plain": [
       "'2293. Min Max Game'"
      ]
     },
     "execution_count": 32,
     "metadata": {},
     "output_type": "execute_result"
    }
   ],
   "source": [
    "df.loc[df['Links'] == 'https://leetcode.com/problems/min-max-game/', 'Questions'].values[0]"
   ]
  },
  {
   "cell_type": "code",
   "execution_count": null,
   "id": "153be9ba",
   "metadata": {},
   "outputs": [],
   "source": [
    "len(data)"
   ]
  },
  {
   "cell_type": "code",
   "execution_count": null,
   "id": "88291f29",
   "metadata": {},
   "outputs": [],
   "source": [
    "df[\"Likes\"] = data[0]\n",
    "df[\"LeetCode Tags\"] = data[1]\n",
    "df[\"Premium Question\"] = data[2]"
   ]
  },
  {
   "cell_type": "code",
   "execution_count": 28,
   "id": "e34797f9",
   "metadata": {},
   "outputs": [
    {
     "name": "stderr",
     "output_type": "stream",
     "text": [
      "100%|████████████████████████████████████████████████████████████████████████████| 2702/2702 [1:08:27<00:00,  1.52s/it]\n"
     ]
    }
   ],
   "source": [
    "data = []\n",
    "hash = {}\n",
    "for link in tqdm(df[\"Links\"]):\n",
    "    premium = \"\"\n",
    "    res = requests.get(link)\n",
    "#     print(res)\n",
    "    if res.status_code  == 404 :\n",
    "        print(link)\n",
    "        print(df.loc[df['Links'] == link, 'Questions'].values[0])\n",
    "        hash[df.loc[df['Links'] == link, 'Questions'].values[0]] = link\n",
    "        print(hash)"
   ]
  },
  {
   "cell_type": "code",
   "execution_count": 10,
   "id": "f7a73344",
   "metadata": {},
   "outputs": [
    {
     "name": "stdout",
     "output_type": "stream",
     "text": [
      "1. Two Sum\n"
     ]
    }
   ],
   "source": [
    "print(df.loc[df['leetcode_links'] == df[\"leetcode_links\"][1], 'Questions'].values[0]) if df[\"leetcode_links\"][1] in df['leetcode_links'].values else print(\"No question found for the specified leet_link.\")"
   ]
  },
  {
   "cell_type": "code",
   "execution_count": 17,
   "id": "e9322926",
   "metadata": {},
   "outputs": [
    {
     "data": {
      "text/plain": [
       "'1. Two Sum'"
      ]
     },
     "execution_count": 17,
     "metadata": {},
     "output_type": "execute_result"
    }
   ],
   "source": []
  },
  {
   "cell_type": "code",
   "execution_count": 18,
   "id": "c43f9180",
   "metadata": {},
   "outputs": [
    {
     "name": "stdout",
     "output_type": "stream",
     "text": [
      "2542. Maximum Subsequence Score\n",
      "1. Two Sum\n",
      "2. Add Two Numbers\n",
      "3. Longest Substring Without Repeating Characters\n",
      "4. Median of Two Sorted Arrays\n",
      "5. Longest Palindromic Substring\n",
      "6. Zigzag Conversion\n",
      "7. Reverse Integer\n",
      "8. String to Integer (atoi)\n",
      "9. Palindrome Number\n",
      "10. Regular Expression Matching\n",
      "11. Container With Most Water\n",
      "12. Integer to Roman\n",
      "13. Roman to Integer\n",
      "14. Longest Common Prefix\n",
      "15. 3Sum\n",
      "16. 3Sum Closest\n",
      "17. Letter Combinations of a Phone Number\n",
      "18. 4Sum\n",
      "19. Remove Nth Node From End of List\n",
      "20. Valid Parentheses\n",
      "21. Merge Two Sorted Lists\n",
      "22. Generate Parentheses\n",
      "23. Merge k Sorted Lists\n",
      "24. Swap Nodes in Pairs\n",
      "25. Reverse Nodes in k-Group\n",
      "26. Remove Duplicates from Sorted Array\n",
      "27. Remove Element\n",
      "28. Find the Index of the First Occurrence in a String\n",
      "29. Divide Two Integers\n",
      "30. Substring with Concatenation of All Words\n",
      "31. Next Permutation\n",
      "32. Longest Valid Parentheses\n",
      "33. Search in Rotated Sorted Array\n",
      "34. Find First and Last Position of Element in Sorted Array\n",
      "35. Search Insert Position\n",
      "36. Valid Sudoku\n",
      "37. Sudoku Solver\n",
      "38. Count and Say\n",
      "39. Combination Sum\n",
      "40. Combination Sum II\n",
      "41. First Missing Positive\n",
      "42. Trapping Rain Water\n",
      "43. Multiply Strings\n",
      "44. Wildcard Matching\n",
      "45. Jump Game II\n",
      "46. Permutations\n",
      "47. Permutations II\n",
      "48. Rotate Image\n",
      "49. Group Anagrams\n",
      "50. Pow(x, n)\n",
      "51. N-Queens\n",
      "52. N-Queens II\n",
      "53. Maximum Subarray\n",
      "54. Spiral Matrix\n",
      "55. Jump Game\n",
      "56. Merge Intervals\n",
      "57. Insert Interval\n",
      "58. Length of Last Word\n",
      "59. Spiral Matrix II\n",
      "60. Permutation Sequence\n",
      "61. Rotate List\n",
      "62. Unique Paths\n",
      "63. Unique Paths II\n",
      "64. Minimum Path Sum\n",
      "65. Valid Number\n",
      "66. Plus One\n",
      "67. Add Binary\n",
      "68. Text Justification\n",
      "69. Sqrt(x)\n",
      "70. Climbing Stairs\n",
      "71. Simplify Path\n",
      "72. Edit Distance\n",
      "73. Set Matrix Zeroes\n",
      "74. Search a 2D Matrix\n",
      "75. Sort Colors\n",
      "76. Minimum Window Substring\n",
      "77. Combinations\n",
      "78. Subsets\n",
      "79. Word Search\n",
      "80. Remove Duplicates from Sorted Array II\n",
      "81. Search in Rotated Sorted Array II\n",
      "82. Remove Duplicates from Sorted List II\n",
      "83. Remove Duplicates from Sorted List\n",
      "84. Largest Rectangle in Histogram\n",
      "85. Maximal Rectangle\n",
      "86. Partition List\n",
      "87. Scramble String\n",
      "88. Merge Sorted Array\n",
      "89. Gray Code\n",
      "90. Subsets II\n",
      "91. Decode Ways\n",
      "92. Reverse Linked List II\n",
      "93. Restore IP Addresses\n",
      "94. Binary Tree Inorder Traversal\n",
      "95. Unique Binary Search Trees II\n",
      "96. Unique Binary Search Trees\n",
      "97. Interleaving String\n",
      "98. Validate Binary Search Tree\n",
      "99. Recover Binary Search Tree\n",
      "101. Symmetric Tree\n",
      "102. Binary Tree Level Order Traversal\n",
      "103. Binary Tree Zigzag Level Order Traversal\n",
      "104. Maximum Depth of Binary Tree\n",
      "105. Construct Binary Tree from Preorder and Inorder Traversal\n",
      "106. Construct Binary Tree from Inorder and Postorder Traversal\n",
      "107. Binary Tree Level Order Traversal II\n",
      "108. Convert Sorted Array to Binary Search Tree\n",
      "109. Convert Sorted List to Binary Search Tree\n",
      "110. Balanced Binary Tree\n",
      "111. Minimum Depth of Binary Tree\n",
      "112. Path Sum\n",
      "113. Path Sum II\n",
      "114. Flatten Binary Tree to Linked List\n",
      "115. Distinct Subsequences\n",
      "116. Populating Next Right Pointers in Each Node\n",
      "117. Populating Next Right Pointers in Each Node II\n",
      "118. Pascal's Triangle\n",
      "119. Pascal's Triangle II\n",
      "120. Triangle\n",
      "121. Best Time to Buy and Sell Stock\n",
      "122. Best Time to Buy and Sell Stock II\n",
      "123. Best Time to Buy and Sell Stock III\n",
      "124. Binary Tree Maximum Path Sum\n",
      "125. Valid Palindrome\n",
      "126. Word Ladder II\n",
      "127. Word Ladder\n",
      "128. Longest Consecutive Sequence\n",
      "129. Sum Root to Leaf Numbers\n",
      "130. Surrounded Regions\n",
      "131. Palindrome Partitioning\n",
      "132. Palindrome Partitioning II\n",
      "133. Clone Graph\n",
      "134. Gas Station\n",
      "135. Candy\n",
      "136. Single Number\n",
      "137. Single Number II\n",
      "138. Copy List with Random Pointer\n",
      "139. Word Break\n",
      "140. Word Break II\n",
      "141. Linked List Cycle\n",
      "142. Linked List Cycle II\n",
      "143. Reorder List\n",
      "144. Binary Tree Preorder Traversal\n",
      "145. Binary Tree Postorder Traversal\n",
      "146. LRU Cache\n",
      "147. Insertion Sort List\n",
      "148. Sort List\n",
      "149. Max Points on a Line\n",
      "150. Evaluate Reverse Polish Notation\n",
      "151. Reverse Words in a String\n",
      "152. Maximum Product Subarray\n",
      "153. Find Minimum in Rotated Sorted Array\n",
      "154. Find Minimum in Rotated Sorted Array II\n",
      "155. Min Stack\n",
      "156. Binary Tree Upside Down\n",
      "157. Read N Characters Given Read4\n",
      "158. Read N Characters Given read4 II - Call Multiple Times\n",
      "159. Longest Substring with At Most Two Distinct Characters\n",
      "160. Intersection of Two Linked Lists\n",
      "161. One Edit Distance\n",
      "162. Find Peak Element\n",
      "163. Missing Ranges\n",
      "164. Maximum Gap\n",
      "165. Compare Version Numbers\n",
      "166. Fraction to Recurring Decimal\n",
      "167. Two Sum II - Input Array Is Sorted\n",
      "168. Excel Sheet Column Title\n",
      "169. Majority Element\n",
      "170. Two Sum III - Data structure design\n",
      "171. Excel Sheet Column Number\n",
      "172. Factorial Trailing Zeroes\n",
      "173. Binary Search Tree Iterator\n",
      "174. Dungeon Game\n",
      "175. Combine Two Tables\n",
      "176. Second Highest Salary\n",
      "177. Nth Highest Salary\n",
      "178. Rank Scores\n",
      "179. Largest Number\n",
      "180. Consecutive Numbers\n",
      "181. Employees Earning More Than Their Managers\n",
      "182. Duplicate Emails\n",
      "183. Customers Who Never Order\n",
      "184. Department Highest Salary\n",
      "185. Department Top Three Salaries\n",
      "186. Reverse Words in a String II\n",
      "187. Repeated DNA Sequences\n",
      "188. Best Time to Buy and Sell Stock IV\n",
      "189. Rotate Array\n",
      "190. Reverse Bits\n",
      "191. Number of 1 Bits\n",
      "192. Word Frequency\n",
      "193. Valid Phone Numbers\n",
      "194. Transpose File\n",
      "195. Tenth Line\n",
      "196. Delete Duplicate Emails\n",
      "197. Rising Temperature\n",
      "198. House Robber\n",
      "199. Binary Tree Right Side View\n",
      "200. Number of Islands\n",
      "201. Bitwise AND of Numbers Range\n",
      "202. Happy Number\n",
      "203. Remove Linked List Elements\n",
      "204. Count Primes\n",
      "205. Isomorphic Strings\n",
      "206. Reverse Linked List\n",
      "207. Course Schedule\n",
      "208. Implement Trie (Prefix Tree)\n",
      "209. Minimum Size Subarray Sum\n",
      "210. Course Schedule II\n",
      "211. Design Add and Search Words Data Structure\n",
      "212. Word Search II\n",
      "213. House Robber II\n",
      "214. Shortest Palindrome\n",
      "215. Kth Largest Element in an Array\n",
      "216. Combination Sum III\n",
      "217. Contains Duplicate\n",
      "218. The Skyline Problem\n",
      "219. Contains Duplicate II\n",
      "220. Contains Duplicate III\n",
      "221. Maximal Square\n",
      "222. Count Complete Tree Nodes\n",
      "223. Rectangle Area\n",
      "224. Basic Calculator\n",
      "225. Implement Stack using Queues\n",
      "226. Invert Binary Tree\n",
      "227. Basic Calculator II\n",
      "228. Summary Ranges\n",
      "229. Majority Element II\n",
      "230. Kth Smallest Element in a BST\n",
      "231. Power of Two\n",
      "232. Implement Queue using Stacks\n",
      "233. Number of Digit One\n",
      "234. Palindrome Linked List\n",
      "235. Lowest Common Ancestor of a Binary Search Tree\n",
      "236. Lowest Common Ancestor of a Binary Tree\n",
      "237. Delete Node in a Linked List\n",
      "238. Product of Array Except Self\n",
      "239. Sliding Window Maximum\n",
      "240. Search a 2D Matrix II\n",
      "241. Different Ways to Add Parentheses\n",
      "242. Valid Anagram\n",
      "243. Shortest Word Distance\n",
      "244. Shortest Word Distance II\n",
      "245. Shortest Word Distance III\n",
      "246. Strobogrammatic Number\n",
      "247. Strobogrammatic Number II\n",
      "248. Strobogrammatic Number III\n",
      "249. Group Shifted Strings\n",
      "250. Count Univalue Subtrees\n",
      "251. Flatten 2D Vector\n",
      "252. Meeting Rooms\n",
      "253. Meeting Rooms II\n",
      "254. Factor Combinations\n",
      "255. Verify Preorder Sequence in Binary Search Tree\n",
      "256. Paint House\n",
      "257. Binary Tree Paths\n",
      "258. Add Digits\n",
      "259. 3Sum Smaller\n",
      "260. Single Number III\n",
      "261. Graph Valid Tree\n",
      "262. Trips and Users\n",
      "263. Ugly Number\n",
      "264. Ugly Number II\n",
      "265. Paint House II\n",
      "266. Palindrome Permutation\n",
      "267. Palindrome Permutation II\n",
      "268. Missing Number\n",
      "269. Alien Dictionary\n",
      "270. Closest Binary Search Tree Value\n",
      "271. Encode and Decode Strings\n",
      "272. Closest Binary Search Tree Value II\n",
      "273. Integer to English Words\n",
      "274. H-Index\n",
      "275. H-Index II\n",
      "276. Paint Fence\n",
      "277. Find the Celebrity\n",
      "278. First Bad Version\n",
      "279. Perfect Squares\n",
      "280. Wiggle Sort\n",
      "281. Zigzag Iterator\n",
      "282. Expression Add Operators\n",
      "283. Move Zeroes\n",
      "284. Peeking Iterator\n",
      "285. Inorder Successor in BST\n",
      "286. Walls and Gates\n",
      "287. Find the Duplicate Number\n",
      "288. Unique Word Abbreviation\n",
      "289. Game of Life\n",
      "290. Word Pattern\n",
      "291. Word Pattern II\n",
      "292. Nim Game\n",
      "293. Flip Game\n",
      "294. Flip Game II\n",
      "295. Find Median from Data Stream\n",
      "296. Best Meeting Point\n",
      "297. Serialize and Deserialize Binary Tree\n",
      "298. Binary Tree Longest Consecutive Sequence\n",
      "299. Bulls and Cows\n",
      "300. Longest Increasing Subsequence\n",
      "301. Remove Invalid Parentheses\n",
      "302. Smallest Rectangle Enclosing Black Pixels\n",
      "303. Range Sum Query - Immutable\n",
      "304. Range Sum Query 2D - Immutable\n",
      "305. Number of Islands II\n",
      "306. Additive Number\n",
      "307. Range Sum Query - Mutable\n",
      "308. Range Sum Query 2D - Mutable\n",
      "309. Best Time to Buy and Sell Stock with Cooldown\n",
      "310. Minimum Height Trees\n",
      "311. Sparse Matrix Multiplication\n",
      "312. Burst Balloons\n",
      "313. Super Ugly Number\n",
      "314. Binary Tree Vertical Order Traversal\n",
      "315. Count of Smaller Numbers After Self\n",
      "316. Remove Duplicate Letters\n",
      "317. Shortest Distance from All Buildings\n",
      "318. Maximum Product of Word Lengths\n",
      "319. Bulb Switcher\n",
      "320. Generalized Abbreviation\n",
      "321. Create Maximum Number\n",
      "322. Coin Change\n",
      "323. Number of Connected Components in an Undirected Graph\n",
      "324. Wiggle Sort II\n",
      "325. Maximum Size Subarray Sum Equals k\n",
      "326. Power of Three\n",
      "327. Count of Range Sum\n",
      "328. Odd Even Linked List\n",
      "329. Longest Increasing Path in a Matrix\n",
      "330. Patching Array\n",
      "331. Verify Preorder Serialization of a Binary Tree\n",
      "332. Reconstruct Itinerary\n",
      "333. Largest BST Subtree\n",
      "334. Increasing Triplet Subsequence\n",
      "335. Self Crossing\n",
      "336. Palindrome Pairs\n",
      "337. House Robber III\n",
      "338. Counting Bits\n",
      "339. Nested List Weight Sum\n",
      "340. Longest Substring with At Most K Distinct Characters\n",
      "341. Flatten Nested List Iterator\n",
      "342. Power of Four\n",
      "343. Integer Break\n",
      "344. Reverse String\n",
      "345. Reverse Vowels of a String\n",
      "346. Moving Average from Data Stream\n",
      "347. Top K Frequent Elements\n",
      "348. Design Tic-Tac-Toe\n",
      "349. Intersection of Two Arrays\n",
      "350. Intersection of Two Arrays II\n",
      "351. Android Unlock Patterns\n",
      "352. Data Stream as Disjoint Intervals\n",
      "353. Design Snake Game\n",
      "354. Russian Doll Envelopes\n",
      "355. Design Twitter\n",
      "356. Line Reflection\n",
      "357. Count Numbers with Unique Digits\n",
      "358. Rearrange String k Distance Apart\n",
      "359. Logger Rate Limiter\n",
      "360. Sort Transformed Array\n",
      "361. Bomb Enemy\n",
      "362. Design Hit Counter\n",
      "363. Max Sum of Rectangle No Larger Than K\n",
      "364. Nested List Weight Sum II\n",
      "365. Water and Jug Problem\n",
      "366. Find Leaves of Binary Tree\n",
      "367. Valid Perfect Square\n",
      "368. Largest Divisible Subset\n",
      "369. Plus One Linked List\n",
      "370. Range Addition\n",
      "371. Sum of Two Integers\n",
      "372. Super Pow\n",
      "373. Find K Pairs with Smallest Sums\n",
      "374. Guess Number Higher or Lower\n",
      "375. Guess Number Higher or Lower II\n",
      "376. Wiggle Subsequence\n",
      "377. Combination Sum IV\n",
      "378. Kth Smallest Element in a Sorted Matrix\n",
      "379. Design Phone Directory\n",
      "380. Insert Delete GetRandom O(1)\n",
      "381. Insert Delete GetRandom O(1) - Duplicates allowed\n",
      "382. Linked List Random Node\n",
      "383. Ransom Note\n",
      "384. Shuffle an Array\n",
      "385. Mini Parser\n",
      "386. Lexicographical Numbers\n",
      "387. First Unique Character in a String\n",
      "388. Longest Absolute File Path\n",
      "389. Find the Difference\n",
      "390. Elimination Game\n",
      "391. Perfect Rectangle\n",
      "392. Is Subsequence\n",
      "393. UTF-8 Validation\n",
      "394. Decode String\n",
      "395. Longest Substring with At Least K Repeating Characters\n",
      "396. Rotate Function\n",
      "397. Integer Replacement\n",
      "398. Random Pick Index\n",
      "399. Evaluate Division\n",
      "400. Nth Digit\n",
      "401. Binary Watch\n",
      "402. Remove K Digits\n",
      "403. Frog Jump\n",
      "404. Sum of Left Leaves\n",
      "405. Convert a Number to Hexadecimal\n",
      "406. Queue Reconstruction by Height\n",
      "407. Trapping Rain Water II\n",
      "408. Valid Word Abbreviation\n",
      "409. Longest Palindrome\n",
      "410. Split Array Largest Sum\n",
      "411. Minimum Unique Word Abbreviation\n",
      "412. Fizz Buzz\n",
      "413. Arithmetic Slices\n",
      "414. Third Maximum Number\n",
      "415. Add Strings\n",
      "416. Partition Equal Subset Sum\n",
      "417. Pacific Atlantic Water Flow\n",
      "418. Sentence Screen Fitting\n",
      "419. Battleships in a Board\n",
      "420. Strong Password Checker\n",
      "421. Maximum XOR of Two Numbers in an Array\n",
      "422. Valid Word Square\n",
      "423. Reconstruct Original Digits from English\n",
      "424. Longest Repeating Character Replacement\n",
      "425. Word Squares\n",
      "426. Convert Binary Search Tree to Sorted Doubly Linked List\n",
      "427. Construct Quad Tree\n",
      "428. Serialize and Deserialize N-ary Tree\n",
      "429. N-ary Tree Level Order Traversal\n",
      "430. Flatten a Multilevel Doubly Linked List\n",
      "431. Encode N-ary Tree to Binary Tree\n",
      "432. All O`one Data Structure\n",
      "433. Minimum Genetic Mutation\n",
      "434. Number of Segments in a String\n",
      "435. Non-overlapping Intervals\n",
      "436. Find Right Interval\n",
      "437. Path Sum III\n",
      "438. Find All Anagrams in a String\n",
      "439. Ternary Expression Parser\n",
      "440. K-th Smallest in Lexicographical Order\n",
      "441. Arranging Coins\n",
      "442. Find All Duplicates in an Array\n",
      "443. String Compression\n",
      "444. Sequence Reconstruction\n",
      "445. Add Two Numbers II\n",
      "446. Arithmetic Slices II - Subsequence\n",
      "447. Number of Boomerangs\n",
      "448. Find All Numbers Disappeared in an Array\n",
      "449. Serialize and Deserialize BST\n",
      "450. Delete Node in a BST\n",
      "451. Sort Characters By Frequency\n",
      "452. Minimum Number of Arrows to Burst Balloons\n",
      "453. Minimum Moves to Equal Array Elements\n",
      "454. 4Sum II\n",
      "455. Assign Cookies\n",
      "456. 132 Pattern\n",
      "457. Circular Array Loop\n",
      "458. Poor Pigs\n",
      "459. Repeated Substring Pattern\n",
      "460. LFU Cache\n",
      "461. Hamming Distance\n",
      "462. Minimum Moves to Equal Array Elements II\n",
      "463. Island Perimeter\n"
     ]
    },
    {
     "name": "stdout",
     "output_type": "stream",
     "text": [
      "464. Can I Win\n",
      "465. Optimal Account Balancing\n",
      "466. Count The Repetitions\n",
      "467. Unique Substrings in Wraparound String\n",
      "468. Validate IP Address\n",
      "469. Convex Polygon\n",
      "470. Implement Rand10() Using Rand7()\n",
      "471. Encode String with Shortest Length\n",
      "472. Concatenated Words\n",
      "473. Matchsticks to Square\n",
      "474. Ones and Zeroes\n",
      "475. Heaters\n",
      "476. Number Complement\n",
      "477. Total Hamming Distance\n",
      "478. Generate Random Point in a Circle\n",
      "479. Largest Palindrome Product\n",
      "480. Sliding Window Median\n",
      "481. Magical String\n",
      "482. License Key Formatting\n",
      "483. Smallest Good Base\n",
      "484. Find Permutation\n",
      "485. Max Consecutive Ones\n",
      "486. Predict the Winner\n",
      "487. Max Consecutive Ones II\n",
      "488. Zuma Game\n",
      "489. Robot Room Cleaner\n",
      "490. The Maze\n",
      "491. Non-decreasing Subsequences\n",
      "492. Construct the Rectangle\n",
      "493. Reverse Pairs\n",
      "494. Target Sum\n",
      "495. Teemo Attacking\n",
      "496. Next Greater Element I\n",
      "497. Random Point in Non-overlapping Rectangles\n",
      "498. Diagonal Traverse\n",
      "499. The Maze III\n",
      "500. Keyboard Row\n",
      "501. Find Mode in Binary Search Tree\n",
      "502. IPO\n",
      "503. Next Greater Element II\n",
      "504. Base 7\n",
      "505. The Maze II\n",
      "506. Relative Ranks\n",
      "507. Perfect Number\n",
      "508. Most Frequent Subtree Sum\n",
      "509. Fibonacci Number\n",
      "510. Inorder Successor in BST II\n",
      "511. Game Play Analysis I\n",
      "512. Game Play Analysis II\n",
      "513. Find Bottom Left Tree Value\n",
      "514. Freedom Trail\n",
      "515. Find Largest Value in Each Tree Row\n",
      "516. Longest Palindromic Subsequence\n",
      "517. Super Washing Machines\n",
      "518. Coin Change II\n",
      "519. Random Flip Matrix\n",
      "520. Detect Capital\n",
      "521. Longest Uncommon Subsequence I\n",
      "522. Longest Uncommon Subsequence II\n",
      "523. Continuous Subarray Sum\n",
      "524. Longest Word in Dictionary through Deleting\n",
      "525. Contiguous Array\n",
      "526. Beautiful Arrangement\n",
      "527. Word Abbreviation\n",
      "528. Random Pick with Weight\n",
      "529. Minesweeper\n",
      "530. Minimum Absolute Difference in BST\n",
      "531. Lonely Pixel I\n",
      "532. K-diff Pairs in an Array\n",
      "533. Lonely Pixel II\n",
      "534. Game Play Analysis III\n",
      "535. Encode and Decode TinyURL\n",
      "536. Construct Binary Tree from String\n",
      "537. Complex Number Multiplication\n",
      "538. Convert BST to Greater Tree\n",
      "539. Minimum Time Difference\n",
      "540. Single Element in a Sorted Array\n",
      "541. Reverse String II\n",
      "542. 01 Matrix\n",
      "543. Diameter of Binary Tree\n",
      "544. Output Contest Matches\n",
      "545. Boundary of Binary Tree\n",
      "546. Remove Boxes\n",
      "547. Number of Provinces\n",
      "548. Split Array with Equal Sum\n",
      "549. Binary Tree Longest Consecutive Sequence II\n",
      "550. Game Play Analysis IV\n",
      "551. Student Attendance Record I\n",
      "552. Student Attendance Record II\n",
      "553. Optimal Division\n",
      "554. Brick Wall\n",
      "555. Split Concatenated Strings\n",
      "556. Next Greater Element III\n",
      "557. Reverse Words in a String III\n",
      "558. Logical OR of Two Binary Grids Represented as Quad-Trees\n",
      "559. Maximum Depth of N-ary Tree\n",
      "560. Subarray Sum Equals K\n",
      "561. Array Partition\n",
      "562. Longest Line of Consecutive One in Matrix\n",
      "563. Binary Tree Tilt\n",
      "564. Find the Closest Palindrome\n",
      "565. Array Nesting\n",
      "566. Reshape the Matrix\n",
      "567. Permutation in String\n",
      "568. Maximum Vacation Days\n",
      "569. Median Employee Salary\n",
      "570. Managers with at Least 5 Direct Reports\n",
      "571. Find Median Given Frequency of Numbers\n",
      "572. Subtree of Another Tree\n",
      "573. Squirrel Simulation\n",
      "574. Winning Candidate\n",
      "575. Distribute Candies\n",
      "576. Out of Boundary Paths\n",
      "577. Employee Bonus\n",
      "578. Get Highest Answer Rate Question\n",
      "579. Find Cumulative Salary of an Employee\n",
      "580. Count Student Number in Departments\n",
      "581. Shortest Unsorted Continuous Subarray\n",
      "582. Kill Process\n",
      "583. Delete Operation for Two Strings\n",
      "584. Find Customer Referee\n",
      "585. Investments in 2016\n",
      "586. Customer Placing the Largest Number of Orders\n",
      "587. Erect the Fence\n",
      "588. Design In-Memory File System\n",
      "589. N-ary Tree Preorder Traversal\n",
      "590. N-ary Tree Postorder Traversal\n",
      "591. Tag Validator\n",
      "592. Fraction Addition and Subtraction\n",
      "593. Valid Square\n",
      "594. Longest Harmonious Subsequence\n",
      "595. Big Countries\n",
      "596. Classes More Than 5 Students\n",
      "597. Friend Requests I: Overall Acceptance Rate\n",
      "598. Range Addition II\n",
      "599. Minimum Index Sum of Two Lists\n",
      "600. Non-negative Integers without Consecutive Ones\n",
      "601. Human Traffic of Stadium\n",
      "602. Friend Requests II: Who Has the Most Friends\n",
      "603. Consecutive Available Seats\n",
      "604. Design Compressed String Iterator\n",
      "605. Can Place Flowers\n",
      "606. Construct String from Binary Tree\n",
      "607. Sales Person\n",
      "608. Tree Node\n",
      "609. Find Duplicate File in System\n",
      "610. Triangle Judgement\n",
      "611. Valid Triangle Number\n",
      "612. Shortest Distance in a Plane\n",
      "613. Shortest Distance in a Line\n",
      "614. Second Degree Follower\n",
      "615. Average Salary: Departments VS Company\n",
      "616. Add Bold Tag in String\n",
      "617. Merge Two Binary Trees\n",
      "618. Students Report By Geography\n",
      "619. Biggest Single Number\n",
      "620. Not Boring Movies\n",
      "621. Task Scheduler\n",
      "622. Design Circular Queue\n",
      "623. Add One Row to Tree\n",
      "624. Maximum Distance in Arrays\n",
      "625. Minimum Factorization\n",
      "626. Exchange Seats\n",
      "627. Swap Salary\n",
      "628. Maximum Product of Three Numbers\n",
      "629. K Inverse Pairs Array\n",
      "630. Course Schedule III\n",
      "631. Design Excel Sum Formula\n",
      "632. Smallest Range Covering Elements from K Lists\n",
      "633. Sum of Square Numbers\n",
      "634. Find the Derangement of An Array\n",
      "635. Design Log Storage System\n",
      "636. Exclusive Time of Functions\n",
      "637. Average of Levels in Binary Tree\n",
      "638. Shopping Offers\n",
      "639. Decode Ways II\n",
      "640. Solve the Equation\n",
      "641. Design Circular Deque\n",
      "642. Design Search Autocomplete System\n",
      "643. Maximum Average Subarray I\n",
      "644. Maximum Average Subarray II\n",
      "645. Set Mismatch\n",
      "646. Maximum Length of Pair Chain\n",
      "647. Palindromic Substrings\n",
      "648. Replace Words\n",
      "649. Dota2 Senate\n",
      "650. 2 Keys Keyboard\n",
      "651. 4 Keys Keyboard\n",
      "652. Find Duplicate Subtrees\n",
      "653. Two Sum IV - Input is a BST\n",
      "654. Maximum Binary Tree\n",
      "655. Print Binary Tree\n",
      "656. Coin Path\n",
      "657. Robot Return to Origin\n",
      "658. Find K Closest Elements\n",
      "659. Split Array into Consecutive Subsequences\n",
      "660. Remove 9\n",
      "661. Image Smoother\n",
      "662. Maximum Width of Binary Tree\n",
      "663. Equal Tree Partition\n",
      "664. Strange Printer\n",
      "665. Non-decreasing Array\n",
      "666. Path Sum IV\n",
      "667. Beautiful Arrangement II\n",
      "668. Kth Smallest Number in Multiplication Table\n",
      "669. Trim a Binary Search Tree\n",
      "670. Maximum Swap\n",
      "671. Second Minimum Node In a Binary Tree\n",
      "672. Bulb Switcher II\n",
      "673. Number of Longest Increasing Subsequence\n",
      "674. Longest Continuous Increasing Subsequence\n",
      "675. Cut Off Trees for Golf Event\n",
      "676. Implement Magic Dictionary\n",
      "677. Map Sum Pairs\n",
      "678. Valid Parenthesis String\n",
      "679. 24 Game\n",
      "680. Valid Palindrome II\n",
      "681. Next Closest Time\n",
      "682. Baseball Game\n",
      "683. K Empty Slots\n",
      "684. Redundant Connection\n",
      "685. Redundant Connection II\n",
      "686. Repeated String Match\n",
      "687. Longest Univalue Path\n",
      "688. Knight Probability in Chessboard\n",
      "689. Maximum Sum of 3 Non-Overlapping Subarrays\n",
      "690. Employee Importance\n",
      "691. Stickers to Spell Word\n",
      "692. Top K Frequent Words\n",
      "693. Binary Number with Alternating Bits\n",
      "694. Number of Distinct Islands\n",
      "695. Max Area of Island\n",
      "696. Count Binary Substrings\n",
      "697. Degree of an Array\n",
      "698. Partition to K Equal Sum Subsets\n",
      "699. Falling Squares\n",
      "700. Search in a Binary Search Tree\n",
      "701. Insert into a Binary Search Tree\n",
      "702. Search in a Sorted Array of Unknown Size\n",
      "703. Kth Largest Element in a Stream\n",
      "704. Binary Search\n",
      "705. Design HashSet\n",
      "706. Design HashMap\n",
      "707. Design Linked List\n",
      "708. Insert into a Sorted Circular Linked List\n",
      "709. To Lower Case\n",
      "710. Random Pick with Blacklist\n",
      "711. Number of Distinct Islands II\n",
      "712. Minimum ASCII Delete Sum for Two Strings\n",
      "713. Subarray Product Less Than K\n",
      "714. Best Time to Buy and Sell Stock with Transaction Fee\n",
      "715. Range Module\n",
      "716. Max Stack\n",
      "717. 1-bit and 2-bit Characters\n",
      "718. Maximum Length of Repeated Subarray\n",
      "719. Find K-th Smallest Pair Distance\n",
      "720. Longest Word in Dictionary\n",
      "721. Accounts Merge\n",
      "722. Remove Comments\n",
      "723. Candy Crush\n",
      "724. Find Pivot Index\n",
      "725. Split Linked List in Parts\n",
      "726. Number of Atoms\n",
      "727. Minimum Window Subsequence\n",
      "728. Self Dividing Numbers\n",
      "729. My Calendar I\n",
      "730. Count Different Palindromic Subsequences\n",
      "731. My Calendar II\n",
      "732. My Calendar III\n",
      "733. Flood Fill\n",
      "734. Sentence Similarity\n",
      "735. Asteroid Collision\n",
      "736. Parse Lisp Expression\n",
      "737. Sentence Similarity II\n",
      "738. Monotone Increasing Digits\n",
      "739. Daily Temperatures\n",
      "740. Delete and Earn\n",
      "741. Cherry Pickup\n",
      "742. Closest Leaf in a Binary Tree\n",
      "743. Network Delay Time\n",
      "744. Find Smallest Letter Greater Than Target\n",
      "745. Prefix and Suffix Search\n",
      "746. Min Cost Climbing Stairs\n",
      "747. Largest Number At Least Twice of Others\n",
      "748. Shortest Completing Word\n",
      "749. Contain Virus\n",
      "750. Number Of Corner Rectangles\n",
      "751. IP to CIDR\n",
      "752. Open the Lock\n",
      "753. Cracking the Safe\n",
      "754. Reach a Number\n",
      "755. Pour Water\n",
      "756. Pyramid Transition Matrix\n",
      "757. Set Intersection Size At Least Two\n",
      "758. Bold Words in String\n",
      "759. Employee Free Time\n",
      "760. Find Anagram Mappings\n",
      "761. Special Binary String\n",
      "762. Prime Number of Set Bits in Binary Representation\n",
      "763. Partition Labels\n",
      "764. Largest Plus Sign\n",
      "765. Couples Holding Hands\n",
      "766. Toeplitz Matrix\n",
      "767. Reorganize String\n",
      "768. Max Chunks To Make Sorted II\n",
      "769. Max Chunks To Make Sorted\n",
      "770. Basic Calculator IV\n",
      "771. Jewels and Stones\n",
      "772. Basic Calculator III\n",
      "773. Sliding Puzzle\n",
      "774. Minimize Max Distance to Gas Station\n",
      "775. Global and Local Inversions\n",
      "776. Split BST\n",
      "777. Swap Adjacent in LR String\n",
      "778. Swim in Rising Water\n",
      "779. K-th Symbol in Grammar\n",
      "780. Reaching Points\n",
      "781. Rabbits in Forest\n",
      "782. Transform to Chessboard\n",
      "783. Minimum Distance Between BST Nodes\n",
      "784. Letter Case Permutation\n",
      "785. Is Graph Bipartite?\n",
      "786. K-th Smallest Prime Fraction\n",
      "787. Cheapest Flights Within K Stops\n",
      "788. Rotated Digits\n",
      "789. Escape The Ghosts\n",
      "790. Domino and Tromino Tiling\n",
      "791. Custom Sort String\n",
      "792. Number of Matching Subsequences\n",
      "793. Preimage Size of Factorial Zeroes Function\n",
      "794. Valid Tic-Tac-Toe State\n",
      "795. Number of Subarrays with Bounded Maximum\n",
      "796. Rotate String\n",
      "797. All Paths From Source to Target\n",
      "798. Smallest Rotation with Highest Score\n",
      "799. Champagne Tower\n",
      "800. Similar RGB Color\n",
      "801. Minimum Swaps To Make Sequences Increasing\n",
      "802. Find Eventual Safe States\n",
      "803. Bricks Falling When Hit\n",
      "804. Unique Morse Code Words\n",
      "805. Split Array With Same Average\n",
      "806. Number of Lines To Write String\n",
      "807. Max Increase to Keep City Skyline\n",
      "808. Soup Servings\n",
      "809. Expressive Words\n",
      "810. Chalkboard XOR Game\n",
      "811. Subdomain Visit Count\n",
      "812. Largest Triangle Area\n",
      "813. Largest Sum of Averages\n",
      "814. Binary Tree Pruning\n",
      "815. Bus Routes\n",
      "816. Ambiguous Coordinates\n",
      "817. Linked List Components\n",
      "818. Race Car\n",
      "819. Most Common Word\n",
      "820. Short Encoding of Words\n",
      "821. Shortest Distance to a Character\n",
      "822. Card Flipping Game\n",
      "823. Binary Trees With Factors\n",
      "824. Goat Latin\n",
      "825. Friends Of Appropriate Ages\n",
      "826. Most Profit Assigning Work\n",
      "827. Making A Large Island\n",
      "828. Count Unique Characters of All Substrings of a Given String\n",
      "829. Consecutive Numbers Sum\n",
      "830. Positions of Large Groups\n",
      "831. Masking Personal Information\n",
      "832. Flipping an Image\n",
      "833. Find And Replace in String\n",
      "834. Sum of Distances in Tree\n",
      "835. Image Overlap\n",
      "836. Rectangle Overlap\n",
      "837. New 21 Game\n",
      "838. Push Dominoes\n",
      "839. Similar String Groups\n",
      "840. Magic Squares In Grid\n",
      "841. Keys and Rooms\n",
      "842. Split Array into Fibonacci Sequence\n",
      "843. Guess the Word\n",
      "844. Backspace String Compare\n",
      "845. Longest Mountain in Array\n",
      "846. Hand of Straights\n",
      "847. Shortest Path Visiting All Nodes\n",
      "848. Shifting Letters\n",
      "849. Maximize Distance to Closest Person\n",
      "850. Rectangle Area II\n",
      "851. Loud and Rich\n",
      "852. Peak Index in a Mountain Array\n",
      "853. Car Fleet\n",
      "854. K-Similar Strings\n",
      "855. Exam Room\n",
      "856. Score of Parentheses\n",
      "857. Minimum Cost to Hire K Workers\n",
      "858. Mirror Reflection\n",
      "859. Buddy Strings\n",
      "860. Lemonade Change\n",
      "861. Score After Flipping Matrix\n",
      "862. Shortest Subarray with Sum at Least K\n",
      "863. All Nodes Distance K in Binary Tree\n",
      "864. Shortest Path to Get All Keys\n",
      "865. Smallest Subtree with all the Deepest Nodes\n",
      "866. Prime Palindrome\n",
      "867. Transpose Matrix\n",
      "868. Binary Gap\n",
      "869. Reordered Power of 2\n",
      "870. Advantage Shuffle\n",
      "871. Minimum Number of Refueling Stops\n",
      "872. Leaf-Similar Trees\n",
      "873. Length of Longest Fibonacci Subsequence\n",
      "874. Walking Robot Simulation\n",
      "875. Koko Eating Bananas\n",
      "876. Middle of the Linked List\n",
      "877. Stone Game\n",
      "878. Nth Magical Number\n",
      "879. Profitable Schemes\n",
      "880. Decoded String at Index\n",
      "881. Boats to Save People\n",
      "882. Reachable Nodes In Subdivided Graph\n",
      "883. Projection Area of 3D Shapes\n",
      "884. Uncommon Words from Two Sentences\n",
      "885. Spiral Matrix III\n",
      "886. Possible Bipartition\n",
      "887. Super Egg Drop\n",
      "888. Fair Candy Swap\n",
      "889. Construct Binary Tree from Preorder and Postorder Traversal\n",
      "890. Find and Replace Pattern\n",
      "891. Sum of Subsequence Widths\n",
      "892. Surface Area of 3D Shapes\n",
      "893. Groups of Special-Equivalent Strings\n",
      "894. All Possible Full Binary Trees\n",
      "895. Maximum Frequency Stack\n",
      "896. Monotonic Array\n",
      "897. Increasing Order Search Tree\n",
      "898. Bitwise ORs of Subarrays\n",
      "899. Orderly Queue\n",
      "900. RLE Iterator\n",
      "901. Online Stock Span\n",
      "902. Numbers At Most N Given Digit Set\n",
      "903. Valid Permutations for DI Sequence\n",
      "904. Fruit Into Baskets\n",
      "905. Sort Array By Parity\n",
      "906. Super Palindromes\n",
      "907. Sum of Subarray Minimums\n",
      "908. Smallest Range I\n",
      "909. Snakes and Ladders\n",
      "910. Smallest Range II\n",
      "911. Online Election\n",
      "912. Sort an Array\n",
      "913. Cat and Mouse\n",
      "914. X of a Kind in a Deck of Cards\n",
      "915. Partition Array into Disjoint Intervals\n",
      "916. Word Subsets\n",
      "917. Reverse Only Letters\n",
      "918. Maximum Sum Circular Subarray\n",
      "919. Complete Binary Tree Inserter\n",
      "920. Number of Music Playlists\n",
      "921. Minimum Add to Make Parentheses Valid\n",
      "922. Sort Array By Parity II\n",
      "923. 3Sum With Multiplicity\n",
      "924. Minimize Malware Spread\n",
      "925. Long Pressed Name\n",
      "926. Flip String to Monotone Increasing\n",
      "927. Three Equal Parts\n",
      "928. Minimize Malware Spread II\n",
      "929. Unique Email Addresses\n",
      "930. Binary Subarrays With Sum\n",
      "931. Minimum Falling Path Sum\n",
      "932. Beautiful Array\n",
      "933. Number of Recent Calls\n",
      "934. Shortest Bridge\n",
      "935. Knight Dialer\n",
      "936. Stamping The Sequence\n",
      "937. Reorder Data in Log Files\n",
      "938. Range Sum of BST\n",
      "939. Minimum Area Rectangle\n",
      "940. Distinct Subsequences II\n",
      "941. Valid Mountain Array\n",
      "942. DI String Match\n",
      "943. Find the Shortest Superstring\n",
      "944. Delete Columns to Make Sorted\n",
      "945. Minimum Increment to Make Array Unique\n",
      "946. Validate Stack Sequences\n",
      "947. Most Stones Removed with Same Row or Column\n",
      "948. Bag of Tokens\n",
      "949. Largest Time for Given Digits\n",
      "950. Reveal Cards In Increasing Order\n",
      "951. Flip Equivalent Binary Trees\n",
      "952. Largest Component Size by Common Factor\n",
      "953. Verifying an Alien Dictionary\n",
      "954. Array of Doubled Pairs\n",
      "955. Delete Columns to Make Sorted II\n",
      "956. Tallest Billboard\n",
      "957. Prison Cells After N Days\n",
      "958. Check Completeness of a Binary Tree\n",
      "959. Regions Cut By Slashes\n",
      "960. Delete Columns to Make Sorted III\n",
      "961. N-Repeated Element in Size 2N Array\n",
      "962. Maximum Width Ramp\n",
      "963. Minimum Area Rectangle II\n",
      "964. Least Operators to Express Number\n",
      "965. Univalued Binary Tree\n",
      "966. Vowel Spellchecker\n",
      "967. Numbers With Same Consecutive Differences\n",
      "968. Binary Tree Cameras\n",
      "969. Pancake Sorting\n",
      "970. Powerful Integers\n",
      "971. Flip Binary Tree To Match Preorder Traversal\n",
      "972. Equal Rational Numbers\n",
      "973. K Closest Points to Origin\n",
      "974. Subarray Sums Divisible by K\n",
      "975. Odd Even Jump\n",
      "976. Largest Perimeter Triangle\n",
      "977. Squares of a Sorted Array\n",
      "978. Longest Turbulent Subarray\n",
      "979. Distribute Coins in Binary Tree\n",
      "980. Unique Paths III\n",
      "981. Time Based Key-Value Store\n",
      "982. Triples with Bitwise AND Equal To Zero\n",
      "983. Minimum Cost For Tickets\n",
      "984. String Without AAA or BBB\n",
      "985. Sum of Even Numbers After Queries\n",
      "986. Interval List Intersections\n",
      "987. Vertical Order Traversal of a Binary Tree\n",
      "988. Smallest String Starting From Leaf\n",
      "989. Add to Array-Form of Integer\n",
      "990. Satisfiability of Equality Equations\n",
      "991. Broken Calculator\n",
      "992. Subarrays with K Different Integers\n",
      "993. Cousins in Binary Tree\n",
      "994. Rotting Oranges\n",
      "995. Minimum Number of K Consecutive Bit Flips\n",
      "996. Number of Squareful Arrays\n",
      "997. Find the Town Judge\n",
      "998. Maximum Binary Tree II\n",
      "999. Available Captures for Rook\n",
      "1000. Minimum Cost to Merge Stones\n",
      "1001. Grid Illumination\n",
      "1002. Find Common Characters\n",
      "1003. Check If Word Is Valid After Substitutions\n",
      "1004. Max Consecutive Ones III\n",
      "1005. Maximize Sum Of Array After K Negations\n",
      "1006. Clumsy Factorial\n",
      "1007. Minimum Domino Rotations For Equal Row\n",
      "1008. Construct Binary Search Tree from Preorder Traversal\n",
      "1009. Complement of Base 10 Integer\n",
      "1010. Pairs of Songs With Total Durations Divisible by 60\n",
      "1011. Capacity To Ship Packages Within D Days\n",
      "1012. Numbers With Repeated Digits\n",
      "1013. Partition Array Into Three Parts With Equal Sum\n",
      "1014. Best Sightseeing Pair\n",
      "1015. Smallest Integer Divisible by K\n",
      "1016. Binary String With Substrings Representing 1 To N\n",
      "1017. Convert to Base -2\n",
      "1018. Binary Prefix Divisible By 5\n",
      "1019. Next Greater Node In Linked List\n",
      "1020. Number of Enclaves\n",
      "1021. Remove Outermost Parentheses\n",
      "1022. Sum of Root To Leaf Binary Numbers\n",
      "1023. Camelcase Matching\n",
      "1024. Video Stitching\n",
      "1025. Divisor Game\n",
      "1026. Maximum Difference Between Node and Ancestor\n",
      "1027. Longest Arithmetic Subsequence\n",
      "1028. Recover a Tree From Preorder Traversal\n",
      "1029. Two City Scheduling\n",
      "1030. Matrix Cells in Distance Order\n",
      "1031. Maximum Sum of Two Non-Overlapping Subarrays\n",
      "1032. Stream of Characters\n",
      "1033. Moving Stones Until Consecutive\n",
      "1034. Coloring A Border\n",
      "1035. Uncrossed Lines\n",
      "1036. Escape a Large Maze\n",
      "1037. Valid Boomerang\n",
      "1038. Binary Search Tree to Greater Sum Tree\n",
      "1039. Minimum Score Triangulation of Polygon\n",
      "1040. Moving Stones Until Consecutive II\n",
      "1041. Robot Bounded In Circle\n",
      "1042. Flower Planting With No Adjacent\n",
      "1043. Partition Array for Maximum Sum\n",
      "1044. Longest Duplicate Substring\n",
      "1045. Customers Who Bought All Products\n",
      "1046. Last Stone Weight\n",
      "1047. Remove All Adjacent Duplicates In String\n",
      "1048. Longest String Chain\n",
      "1049. Last Stone Weight II\n",
      "1050. Actors and Directors Who Cooperated At Least Three Times\n",
      "1051. Height Checker\n",
      "1052. Grumpy Bookstore Owner\n",
      "1053. Previous Permutation With One Swap\n",
      "1054. Distant Barcodes\n",
      "1055. Shortest Way to Form String\n",
      "1056. Confusing Number\n",
      "1057. Campus Bikes\n",
      "1058. Minimize Rounding Error to Meet Target\n",
      "1059. All Paths from Source Lead to Destination\n",
      "1060. Missing Element in Sorted Array\n",
      "1061. Lexicographically Smallest Equivalent String\n",
      "1062. Longest Repeating Substring\n",
      "1063. Number of Valid Subarrays\n",
      "1064. Fixed Point\n",
      "1065. Index Pairs of a String\n",
      "1066. Campus Bikes II\n",
      "1067. Digit Count in Range\n",
      "1068. Product Sales Analysis I\n",
      "1069. Product Sales Analysis II\n",
      "1070. Product Sales Analysis III\n",
      "1071. Greatest Common Divisor of Strings\n",
      "1072. Flip Columns For Maximum Number of Equal Rows\n",
      "1073. Adding Two Negabinary Numbers\n",
      "1074. Number of Submatrices That Sum to Target\n",
      "1075. Project Employees I\n",
      "1076. Project Employees II\n",
      "1077. Project Employees III\n",
      "1078. Occurrences After Bigram\n",
      "1079. Letter Tile Possibilities\n",
      "1080. Insufficient Nodes in Root to Leaf Paths\n",
      "1081. Smallest Subsequence of Distinct Characters\n",
      "1082. Sales Analysis I\n",
      "1083. Sales Analysis II\n",
      "1084. Sales Analysis III\n",
      "1085. Sum of Digits in the Minimum Number\n",
      "1086. High Five\n",
      "1087. Brace Expansion\n",
      "1088. Confusing Number II\n",
      "1089. Duplicate Zeros\n",
      "1090. Largest Values From Labels\n",
      "1091. Shortest Path in Binary Matrix\n",
      "1092. Shortest Common Supersequence\n",
      "1093. Statistics from a Large Sample\n",
      "1094. Car Pooling\n",
      "1095. Find in Mountain Array\n",
      "1096. Brace Expansion II\n",
      "1097. Game Play Analysis V\n",
      "1098. Unpopular Books\n",
      "1099. Two Sum Less Than K\n",
      "1100. Find K-Length Substrings With No Repeated Characters\n",
      "1101. The Earliest Moment When Everyone Become Friends\n",
      "1102. Path With Maximum Minimum Value\n",
      "1103. Distribute Candies to People\n",
      "1104. Path In Zigzag Labelled Binary Tree\n",
      "1105. Filling Bookcase Shelves\n",
      "1106. Parsing A Boolean Expression\n",
      "1107. New Users Daily Count\n",
      "1108. Defanging an IP Address\n",
      "1109. Corporate Flight Bookings\n",
      "1110. Delete Nodes And Return Forest\n",
      "1111. Maximum Nesting Depth of Two Valid Parentheses Strings\n",
      "1112. Highest Grade For Each Student\n",
      "1113. Reported Posts\n",
      "1114. Print in Order\n",
      "1115. Print FooBar Alternately\n",
      "1116. Print Zero Even Odd\n",
      "1117. Building H2O\n",
      "1118. Number of Days in a Month\n",
      "1119. Remove Vowels from a String\n",
      "1120. Maximum Average Subtree\n",
      "1121. Divide Array Into Increasing Sequences\n",
      "1122. Relative Sort Array\n",
      "1123. Lowest Common Ancestor of Deepest Leaves\n",
      "1124. Longest Well-Performing Interval\n",
      "1125. Smallest Sufficient Team\n",
      "1126. Active Businesses\n",
      "1127. User Purchase Platform\n",
      "1128. Number of Equivalent Domino Pairs\n",
      "1129. Shortest Path with Alternating Colors\n",
      "1130. Minimum Cost Tree From Leaf Values\n",
      "1131. Maximum of Absolute Value Expression\n",
      "1132. Reported Posts II\n",
      "1133. Largest Unique Number\n",
      "1134. Armstrong Number\n",
      "1135. Connecting Cities With Minimum Cost\n",
      "1136. Parallel Courses\n",
      "1137. N-th Tribonacci Number\n",
      "1138. Alphabet Board Path\n",
      "1139. Largest 1-Bordered Square\n",
      "1140. Stone Game II\n",
      "1141. User Activity for the Past 30 Days I\n",
      "1142. User Activity for the Past 30 Days II\n",
      "1143. Longest Common Subsequence\n",
      "1144. Decrease Elements To Make Array Zigzag\n",
      "1145. Binary Tree Coloring Game\n",
      "1146. Snapshot Array\n",
      "1147. Longest Chunked Palindrome Decomposition\n",
      "1148. Article Views I\n",
      "1149. Article Views II\n",
      "1150. Check If a Number Is Majority Element in a Sorted Array\n",
      "1151. Minimum Swaps to Group All 1's Together\n",
      "1152. Analyze User Website Visit Pattern\n",
      "1153. String Transforms Into Another String\n",
      "1154. Day of the Year\n",
      "1155. Number of Dice Rolls With Target Sum\n",
      "1156. Swap For Longest Repeated Character Substring\n",
      "1157. Online Majority Element In Subarray\n",
      "1158. Market Analysis I\n",
      "1159. Market Analysis II\n",
      "1160. Find Words That Can Be Formed by Characters\n",
      "1161. Maximum Level Sum of a Binary Tree\n",
      "1162. As Far from Land as Possible\n",
      "1163. Last Substring in Lexicographical Order\n",
      "1164. Product Price at a Given Date\n",
      "1165. Single-Row Keyboard\n",
      "1166. Design File System\n",
      "1167. Minimum Cost to Connect Sticks\n",
      "1168. Optimize Water Distribution in a Village\n",
      "1169. Invalid Transactions\n",
      "1170. Compare Strings by Frequency of the Smallest Character\n",
      "1171. Remove Zero Sum Consecutive Nodes from Linked List\n",
      "1172. Dinner Plate Stacks\n",
      "1173. Immediate Food Delivery I\n",
      "1174. Immediate Food Delivery II\n",
      "1175. Prime Arrangements\n",
      "1176. Diet Plan Performance\n",
      "1177. Can Make Palindrome from Substring\n",
      "1178. Number of Valid Words for Each Puzzle\n"
     ]
    },
    {
     "name": "stdout",
     "output_type": "stream",
     "text": [
      "1179. Reformat Department Table\n",
      "1180. Count Substrings with Only One Distinct Letter\n",
      "1181. Before and After Puzzle\n",
      "1182. Shortest Distance to Target Color\n",
      "1183. Maximum Number of Ones\n",
      "1184. Distance Between Bus Stops\n",
      "1185. Day of the Week\n",
      "1186. Maximum Subarray Sum with One Deletion\n",
      "1187. Make Array Strictly Increasing\n",
      "1188. Design Bounded Blocking Queue\n",
      "1189. Maximum Number of Balloons\n",
      "1190. Reverse Substrings Between Each Pair of Parentheses\n",
      "1191. K-Concatenation Maximum Sum\n",
      "1192. Critical Connections in a Network\n",
      "1193. Monthly Transactions I\n",
      "1194. Tournament Winners\n",
      "1195. Fizz Buzz Multithreaded\n",
      "1196. How Many Apples Can You Put into the Basket\n",
      "1197. Minimum Knight Moves\n",
      "1198. Find Smallest Common Element in All Rows\n",
      "1199. Minimum Time to Build Blocks\n",
      "1200. Minimum Absolute Difference\n",
      "1201. Ugly Number III\n",
      "1202. Smallest String With Swaps\n",
      "1203. Sort Items by Groups Respecting Dependencies\n",
      "1204. Last Person to Fit in the Bus\n",
      "1205. Monthly Transactions II\n",
      "1206. Design Skiplist\n",
      "1207. Unique Number of Occurrences\n",
      "1208. Get Equal Substrings Within Budget\n",
      "1209. Remove All Adjacent Duplicates in String II\n",
      "1210. Minimum Moves to Reach Target with Rotations\n",
      "1211. Queries Quality and Percentage\n",
      "1212. Team Scores in Football Tournament\n",
      "1213. Intersection of Three Sorted Arrays\n",
      "1214. Two Sum BSTs\n",
      "1215. Stepping Numbers\n",
      "1216. Valid Palindrome III\n",
      "1217. Minimum Cost to Move Chips to The Same Position\n",
      "1218. Longest Arithmetic Subsequence of Given Difference\n",
      "1219. Path with Maximum Gold\n",
      "1220. Count Vowels Permutation\n",
      "1221. Split a String in Balanced Strings\n",
      "1222. Queens That Can Attack the King\n",
      "1223. Dice Roll Simulation\n",
      "1224. Maximum Equal Frequency\n",
      "1225. Report Contiguous Dates\n",
      "1226. The Dining Philosophers\n",
      "1227. Airplane Seat Assignment Probability\n",
      "1228. Missing Number In Arithmetic Progression\n",
      "1229. Meeting Scheduler\n",
      "1230. Toss Strange Coins\n",
      "1231. Divide Chocolate\n",
      "1232. Check If It Is a Straight Line\n",
      "1233. Remove Sub-Folders from the Filesystem\n",
      "1234. Replace the Substring for Balanced String\n",
      "1235. Maximum Profit in Job Scheduling\n",
      "1236. Web Crawler\n",
      "1237. Find Positive Integer Solution for a Given Equation\n",
      "1238. Circular Permutation in Binary Representation\n",
      "1239. Maximum Length of a Concatenated String with Unique Characters\n",
      "1240. Tiling a Rectangle with the Fewest Squares\n",
      "1241. Number of Comments per Post\n",
      "1242. Web Crawler Multithreaded\n",
      "1243. Array Transformation\n",
      "1244. Design A Leaderboard\n",
      "1245. Tree Diameter\n",
      "1246. Palindrome Removal\n",
      "1247. Minimum Swaps to Make Strings Equal\n",
      "1248. Count Number of Nice Subarrays\n",
      "1249. Minimum Remove to Make Valid Parentheses\n",
      "1250. Check If It Is a Good Array\n",
      "1251. Average Selling Price\n",
      "1252. Cells with Odd Values in a Matrix\n",
      "1253. Reconstruct a 2-Row Binary Matrix\n",
      "1254. Number of Closed Islands\n",
      "1255. Maximum Score Words Formed by Letters\n",
      "1256. Encode Number\n",
      "1257. Smallest Common Region\n",
      "1258. Synonymous Sentences\n",
      "1259. Handshakes That Don't Cross\n",
      "1260. Shift 2D Grid\n",
      "1261. Find Elements in a Contaminated Binary Tree\n",
      "1262. Greatest Sum Divisible by Three\n",
      "1263. Minimum Moves to Move a Box to Their Target Location\n",
      "1264. Page Recommendations\n",
      "1265. Print Immutable Linked List in Reverse\n",
      "1266. Minimum Time Visiting All Points\n",
      "1267. Count Servers that Communicate\n",
      "1268. Search Suggestions System\n",
      "1269. Number of Ways to Stay in the Same Place After Some Steps\n",
      "1270. All People Report to the Given Manager\n",
      "1271. Hexspeak\n",
      "1272. Remove Interval\n",
      "1273. Delete Tree Nodes\n",
      "1274. Number of Ships in a Rectangle\n",
      "1275. Find Winner on a Tic Tac Toe Game\n",
      "1276. Number of Burgers with No Waste of Ingredients\n",
      "1277. Count Square Submatrices with All Ones\n",
      "1278. Palindrome Partitioning III\n",
      "1279. Traffic Light Controlled Intersection\n",
      "1280. Students and Examinations\n",
      "1281. Subtract the Product and Sum of Digits of an Integer\n",
      "1282. Group the People Given the Group Size They Belong To\n",
      "1283. Find the Smallest Divisor Given a Threshold\n",
      "1284. Minimum Number of Flips to Convert Binary Matrix to Zero Matrix\n",
      "1285. Find the Start and End Number of Continuous Ranges\n",
      "1286. Iterator for Combination\n",
      "1287. Element Appearing More Than 25% In Sorted Array\n",
      "1288. Remove Covered Intervals\n",
      "1289. Minimum Falling Path Sum II\n",
      "1290. Convert Binary Number in a Linked List to Integer\n",
      "1291. Sequential Digits\n",
      "1292. Maximum Side Length of a Square with Sum Less than or Equal to Threshold\n",
      "1293. Shortest Path in a Grid with Obstacles Elimination\n",
      "1294. Weather Type in Each Country\n",
      "1295. Find Numbers with Even Number of Digits\n",
      "1296. Divide Array in Sets of K Consecutive Numbers\n",
      "1297. Maximum Number of Occurrences of a Substring\n",
      "1298. Maximum Candies You Can Get from Boxes\n",
      "1299. Replace Elements with Greatest Element on Right Side\n",
      "1300. Sum of Mutated Array Closest to Target\n",
      "1301. Number of Paths with Max Score\n",
      "1302. Deepest Leaves Sum\n",
      "1303. Find the Team Size\n",
      "1304. Find N Unique Integers Sum up to Zero\n",
      "1305. All Elements in Two Binary Search Trees\n",
      "1306. Jump Game III\n",
      "1307. Verbal Arithmetic Puzzle\n",
      "1308. Running Total for Different Genders\n",
      "1309. Decrypt String from Alphabet to Integer Mapping\n",
      "1310. XOR Queries of a Subarray\n",
      "1311. Get Watched Videos by Your Friends\n",
      "1312. Minimum Insertion Steps to Make a String Palindrome\n",
      "1313. Decompress Run-Length Encoded List\n",
      "1314. Matrix Block Sum\n",
      "1315. Sum of Nodes with Even-Valued Grandparent\n",
      "1316. Distinct Echo Substrings\n",
      "1317. Convert Integer to the Sum of Two No-Zero Integers\n",
      "1318. Minimum Flips to Make a OR b Equal to c\n",
      "1319. Number of Operations to Make Network Connected\n",
      "1320. Minimum Distance to Type a Word Using Two Fingers\n",
      "1321. Restaurant Growth\n",
      "1322. Ads Performance\n",
      "1323. Maximum 69 Number\n",
      "1324. Print Words Vertically\n",
      "1325. Delete Leaves With a Given Value\n",
      "1326. Minimum Number of Taps to Open to Water a Garden\n",
      "1327. List the Products Ordered in a Period\n",
      "1328. Break a Palindrome\n",
      "1329. Sort the Matrix Diagonally\n",
      "1330. Reverse Subarray To Maximize Array Value\n",
      "1331. Rank Transform of an Array\n",
      "1332. Remove Palindromic Subsequences\n",
      "1333. Filter Restaurants by Vegan-Friendly, Price and Distance\n",
      "1334. Find the City With the Smallest Number of Neighbors at a Threshold Distance\n",
      "1335. Minimum Difficulty of a Job Schedule\n",
      "1336. Number of Transactions per Visit\n",
      "1337. The K Weakest Rows in a Matrix\n",
      "1338. Reduce Array Size to The Half\n",
      "1339. Maximum Product of Splitted Binary Tree\n",
      "1340. Jump Game V\n",
      "1341. Movie Rating\n",
      "1342. Number of Steps to Reduce a Number to Zero\n",
      "1343. Number of Sub-arrays of Size K and Average Greater than or Equal to Threshold\n",
      "1344. Angle Between Hands of a Clock\n",
      "1345. Jump Game IV\n",
      "1346. Check If N and Its Double Exist\n",
      "1347. Minimum Number of Steps to Make Two Strings Anagram\n",
      "1348. Tweet Counts Per Frequency\n",
      "1349. Maximum Students Taking Exam\n",
      "1350. Students With Invalid Departments\n",
      "1351. Count Negative Numbers in a Sorted Matrix\n",
      "1352. Product of the Last K Numbers\n",
      "1353. Maximum Number of Events That Can Be Attended\n",
      "1354. Construct Target Array With Multiple Sums\n",
      "1355. Activity Participants\n",
      "1356. Sort Integers by The Number of 1 Bits\n",
      "1357. Apply Discount Every n Orders\n",
      "1358. Number of Substrings Containing All Three Characters\n",
      "1359. Count All Valid Pickup and Delivery Options\n",
      "1360. Number of Days Between Two Dates\n",
      "1361. Validate Binary Tree Nodes\n",
      "1362. Closest Divisors\n",
      "1363. Largest Multiple of Three\n",
      "1364. Number of Trusted Contacts of a Customer\n",
      "1365. How Many Numbers Are Smaller Than the Current Number\n",
      "1366. Rank Teams by Votes\n",
      "1367. Linked List in Binary Tree\n",
      "1368. Minimum Cost to Make at Least One Valid Path in a Grid\n",
      "1369. Get the Second Most Recent Activity\n",
      "1370. Increasing Decreasing String\n",
      "1371. Find the Longest Substring Containing Vowels in Even Counts\n",
      "1372. Longest ZigZag Path in a Binary Tree\n",
      "1373. Maximum Sum BST in Binary Tree\n",
      "1374. Generate a String With Characters That Have Odd Counts\n",
      "1375. Number of Times Binary String Is Prefix-Aligned\n",
      "1376. Time Needed to Inform All Employees\n",
      "1377. Frog Position After T Seconds\n",
      "1378. Replace Employee ID With The Unique Identifier\n",
      "1379. Find a Corresponding Node of a Binary Tree in a Clone of That Tree\n",
      "1380. Lucky Numbers in a Matrix\n",
      "1381. Design a Stack With Increment Operation\n",
      "1382. Balance a Binary Search Tree\n",
      "1383. Maximum Performance of a Team\n",
      "1384. Total Sales Amount by Year\n",
      "1385. Find the Distance Value Between Two Arrays\n",
      "1386. Cinema Seat Allocation\n",
      "1387. Sort Integers by The Power Value\n",
      "1388. Pizza With 3n Slices\n",
      "1389. Create Target Array in the Given Order\n",
      "1390. Four Divisors\n",
      "1391. Check if There is a Valid Path in a Grid\n",
      "1392. Longest Happy Prefix\n",
      "1393. Capital Gain/Loss\n",
      "1394. Find Lucky Integer in an Array\n",
      "1395. Count Number of Teams\n",
      "1396. Design Underground System\n",
      "1397. Find All Good Strings\n",
      "1398. Customers Who Bought Products A and B but Not C\n",
      "1399. Count Largest Group\n",
      "1400. Construct K Palindrome Strings\n",
      "1401. Circle and Rectangle Overlapping\n",
      "1402. Reducing Dishes\n",
      "1403. Minimum Subsequence in Non-Increasing Order\n",
      "1404. Number of Steps to Reduce a Number in Binary Representation to One\n",
      "1405. Longest Happy String\n",
      "1406. Stone Game III\n",
      "1407. Top Travellers\n",
      "1408. String Matching in an Array\n",
      "1409. Queries on a Permutation With Key\n",
      "1410. HTML Entity Parser\n",
      "1411. Number of Ways to Paint N × 3 Grid\n",
      "1412. Find the Quiet Students in All Exams\n",
      "1413. Minimum Value to Get Positive Step by Step Sum\n",
      "1414. Find the Minimum Number of Fibonacci Numbers Whose Sum Is K\n",
      "1415. The k-th Lexicographical String of All Happy Strings of Length n\n",
      "1416. Restore The Array\n",
      "1417. Reformat The String\n",
      "1418. Display Table of Food Orders in a Restaurant\n",
      "1419. Minimum Number of Frogs Croaking\n",
      "1420. Build Array Where You Can Find The Maximum Exactly K Comparisons\n",
      "1421. NPV Queries\n",
      "1422. Maximum Score After Splitting a String\n",
      "1423. Maximum Points You Can Obtain from Cards\n",
      "1424. Diagonal Traverse II\n",
      "1425. Constrained Subsequence Sum\n",
      "1426. Counting Elements\n",
      "1427. Perform String Shifts\n",
      "1428. Leftmost Column with at Least a One\n",
      "1429. First Unique Number\n",
      "1430. Check If a String Is a Valid Sequence from Root to Leaves Path in a Binary Tree\n",
      "1431. Kids With the Greatest Number of Candies\n",
      "1432. Max Difference You Can Get From Changing an Integer\n",
      "1433. Check If a String Can Break Another String\n",
      "1434. Number of Ways to Wear Different Hats to Each Other\n",
      "1435. Create a Session Bar Chart\n",
      "1436. Destination City\n",
      "1437. Check If All 1's Are at Least Length K Places Away\n",
      "1438. Longest Continuous Subarray With Absolute Diff Less Than or Equal to Limit\n",
      "1439. Find the Kth Smallest Sum of a Matrix With Sorted Rows\n",
      "1440. Evaluate Boolean Expression\n",
      "1441. Build an Array With Stack Operations\n",
      "1442. Count Triplets That Can Form Two Arrays of Equal XOR\n",
      "1443. Minimum Time to Collect All Apples in a Tree\n",
      "1444. Number of Ways of Cutting a Pizza\n",
      "1445. Apples & Oranges\n",
      "1446. Consecutive Characters\n",
      "1447. Simplified Fractions\n",
      "1448. Count Good Nodes in Binary Tree\n",
      "1449. Form Largest Integer With Digits That Add up to Target\n",
      "1450. Number of Students Doing Homework at a Given Time\n",
      "1451. Rearrange Words in a Sentence\n",
      "1452. People Whose List of Favorite Companies Is Not a Subset of Another List\n",
      "1453. Maximum Number of Darts Inside of a Circular Dartboard\n",
      "1454. Active Users\n",
      "1455. Check If a Word Occurs As a Prefix of Any Word in a Sentence\n",
      "1456. Maximum Number of Vowels in a Substring of Given Length\n",
      "1457. Pseudo-Palindromic Paths in a Binary Tree\n",
      "1458. Max Dot Product of Two Subsequences\n",
      "1459. Rectangles Area\n",
      "1460. Make Two Arrays Equal by Reversing Subarrays\n",
      "1461. Check If a String Contains All Binary Codes of Size K\n",
      "1462. Course Schedule IV\n",
      "1463. Cherry Pickup II\n",
      "1464. Maximum Product of Two Elements in an Array\n",
      "1465. Maximum Area of a Piece of Cake After Horizontal and Vertical Cuts\n",
      "1466. Reorder Routes to Make All Paths Lead to the City Zero\n",
      "1467. Probability of a Two Boxes Having The Same Number of Distinct Balls\n",
      "1468. Calculate Salaries\n",
      "1469. Find All The Lonely Nodes\n",
      "1470. Shuffle the Array\n",
      "1471. The k Strongest Values in an Array\n",
      "1472. Design Browser History\n",
      "1473. Paint House III\n",
      "1474. Delete N Nodes After M Nodes of a Linked List\n",
      "1475. Final Prices With a Special Discount in a Shop\n",
      "1476. Subrectangle Queries\n",
      "1477. Find Two Non-overlapping Sub-arrays Each With Target Sum\n",
      "1478. Allocate Mailboxes\n",
      "1479. Sales by Day of the Week\n",
      "1480. Running Sum of 1d Array\n",
      "1481. Least Number of Unique Integers after K Removals\n",
      "1482. Minimum Number of Days to Make m Bouquets\n",
      "1483. Kth Ancestor of a Tree Node\n",
      "1484. Group Sold Products By The Date\n",
      "1485. Clone Binary Tree With Random Pointer\n",
      "1486. XOR Operation in an Array\n",
      "1487. Making File Names Unique\n",
      "1488. Avoid Flood in The City\n",
      "1489. Find Critical and Pseudo-Critical Edges in Minimum Spanning Tree\n",
      "1490. Clone N-ary Tree\n",
      "1491. Average Salary Excluding the Minimum and Maximum Salary\n",
      "1492. The kth Factor of n\n",
      "1493. Longest Subarray of 1's After Deleting One Element\n",
      "1494. Parallel Courses II\n",
      "1495. Friendly Movies Streamed Last Month\n",
      "1496. Path Crossing\n",
      "1497. Check If Array Pairs Are Divisible by k\n",
      "1498. Number of Subsequences That Satisfy the Given Sum Condition\n",
      "1499. Max Value of Equation\n",
      "1500. Design a File Sharing System\n",
      "1501. Countries You Can Safely Invest In\n",
      "1502. Can Make Arithmetic Progression From Sequence\n",
      "1503. Last Moment Before All Ants Fall Out of a Plank\n",
      "1504. Count Submatrices With All Ones\n",
      "1505. Minimum Possible Integer After at Most K Adjacent Swaps On Digits\n",
      "1506. Find Root of N-Ary Tree\n",
      "1507. Reformat Date\n",
      "1508. Range Sum of Sorted Subarray Sums\n",
      "1509. Minimum Difference Between Largest and Smallest Value in Three Moves\n",
      "1510. Stone Game IV\n",
      "1511. Customer Order Frequency\n",
      "1512. Number of Good Pairs\n",
      "1513. Number of Substrings With Only 1s\n",
      "1514. Path with Maximum Probability\n",
      "1515. Best Position for a Service Centre\n",
      "1516. Move Sub-Tree of N-Ary Tree\n",
      "1517. Find Users With Valid E-Mails\n",
      "1518. Water Bottles\n",
      "1519. Number of Nodes in the Sub-Tree With the Same Label\n",
      "1520. Maximum Number of Non-Overlapping Substrings\n",
      "1521. Find a Value of a Mysterious Function Closest to Target\n",
      "1522. Diameter of N-Ary Tree\n",
      "1523. Count Odd Numbers in an Interval Range\n",
      "1524. Number of Sub-arrays With Odd Sum\n",
      "1525. Number of Good Ways to Split a String\n",
      "1526. Minimum Number of Increments on Subarrays to Form a Target Array\n",
      "1527. Patients With a Condition\n",
      "1528. Shuffle String\n",
      "1529. Minimum Suffix Flips\n",
      "1530. Number of Good Leaf Nodes Pairs\n",
      "1531. String Compression II\n",
      "1532. The Most Recent Three Orders\n",
      "1533. Find the Index of the Large Integer\n",
      "1534. Count Good Triplets\n",
      "1535. Find the Winner of an Array Game\n",
      "1536. Minimum Swaps to Arrange a Binary Grid\n",
      "1537. Get the Maximum Score\n",
      "1538. Guess the Majority in a Hidden Array\n",
      "1539. Kth Missing Positive Number\n",
      "1540. Can Convert String in K Moves\n",
      "1541. Minimum Insertions to Balance a Parentheses String\n",
      "1542. Find Longest Awesome Substring\n",
      "1543. Fix Product Name Format\n",
      "1544. Make The String Great\n",
      "1545. Find Kth Bit in Nth Binary String\n",
      "1546. Maximum Number of Non-Overlapping Subarrays With Sum Equals Target\n",
      "1547. Minimum Cost to Cut a Stick\n",
      "1548. The Most Similar Path in a Graph\n",
      "1549. The Most Recent Orders for Each Product\n",
      "1550. Three Consecutive Odds\n",
      "1551. Minimum Operations to Make Array Equal\n",
      "1552. Magnetic Force Between Two Balls\n",
      "1553. Minimum Number of Days to Eat N Oranges\n",
      "1554. Strings Differ by One Character\n",
      "1555. Bank Account Summary\n",
      "1556. Thousand Separator\n",
      "1557. Minimum Number of Vertices to Reach All Nodes\n",
      "1558. Minimum Numbers of Function Calls to Make Target Array\n",
      "1559. Detect Cycles in 2D Grid\n",
      "1560. Most Visited Sector in a Circular Track\n",
      "1561. Maximum Number of Coins You Can Get\n",
      "1562. Find Latest Group of Size M\n",
      "1563. Stone Game V\n",
      "1564. Put Boxes Into the Warehouse I\n",
      "1565. Unique Orders and Customers Per Month\n",
      "1566. Detect Pattern of Length M Repeated K or More Times\n",
      "1567. Maximum Length of Subarray With Positive Product\n",
      "1568. Minimum Number of Days to Disconnect Island\n",
      "1569. Number of Ways to Reorder Array to Get Same BST\n",
      "1570. Dot Product of Two Sparse Vectors\n",
      "1571. Warehouse Manager\n",
      "1572. Matrix Diagonal Sum\n",
      "1573. Number of Ways to Split a String\n",
      "1574. Shortest Subarray to be Removed to Make Array Sorted\n",
      "1575. Count All Possible Routes\n",
      "1576. Replace All ?'s to Avoid Consecutive Repeating Characters\n",
      "1577. Number of Ways Where Square of Number Is Equal to Product of Two Numbers\n",
      "1578. Minimum Time to Make Rope Colorful\n",
      "1579. Remove Max Number of Edges to Keep Graph Fully Traversable\n",
      "1580. Put Boxes Into the Warehouse II\n",
      "1581. Customer Who Visited but Did Not Make Any Transactions\n",
      "1582. Special Positions in a Binary Matrix\n",
      "1583. Count Unhappy Friends\n",
      "1584. Min Cost to Connect All Points\n",
      "1585. Check If String Is Transformable With Substring Sort Operations\n",
      "1586. Binary Search Tree Iterator II\n",
      "1587. Bank Account Summary II\n",
      "1588. Sum of All Odd Length Subarrays\n",
      "1589. Maximum Sum Obtained of Any Permutation\n",
      "1590. Make Sum Divisible by P\n",
      "1591. Strange Printer II\n",
      "1592. Rearrange Spaces Between Words\n",
      "1593. Split a String Into the Max Number of Unique Substrings\n",
      "1594. Maximum Non Negative Product in a Matrix\n",
      "1595. Minimum Cost to Connect Two Groups of Points\n",
      "1596. The Most Frequently Ordered Products for Each Customer\n",
      "1597. Build Binary Expression Tree From Infix Expression\n",
      "1598. Crawler Log Folder\n",
      "1599. Maximum Profit of Operating a Centennial Wheel\n",
      "1600. Throne Inheritance\n",
      "1601. Maximum Number of Achievable Transfer Requests\n",
      "1602. Find Nearest Right Node in Binary Tree\n",
      "1603. Design Parking System\n",
      "1604. Alert Using Same Key-Card Three or More Times in a One Hour Period\n",
      "1605. Find Valid Matrix Given Row and Column Sums\n",
      "1606. Find Servers That Handled Most Number of Requests\n",
      "1607. Sellers With No Sales\n",
      "1608. Special Array With X Elements Greater Than or Equal X\n",
      "1609. Even Odd Tree\n",
      "1610. Maximum Number of Visible Points\n",
      "1611. Minimum One Bit Operations to Make Integers Zero\n",
      "1612. Check If Two Expression Trees are Equivalent\n",
      "1613. Find the Missing IDs\n",
      "1614. Maximum Nesting Depth of the Parentheses\n",
      "1615. Maximal Network Rank\n",
      "1616. Split Two Strings to Make Palindrome\n",
      "1617. Count Subtrees With Max Distance Between Cities\n",
      "1618. Maximum Font to Fit a Sentence in a Screen\n",
      "1619. Mean of Array After Removing Some Elements\n",
      "1620. Coordinate With Maximum Network Quality\n",
      "1621. Number of Sets of K Non-Overlapping Line Segments\n",
      "1622. Fancy Sequence\n",
      "1623. All Valid Triplets That Can Represent a Country\n",
      "1624. Largest Substring Between Two Equal Characters\n",
      "1625. Lexicographically Smallest String After Applying Operations\n",
      "1626. Best Team With No Conflicts\n",
      "1627. Graph Connectivity With Threshold\n",
      "1628. Design an Expression Tree With Evaluate Function\n",
      "1629. Slowest Key\n",
      "1630. Arithmetic Subarrays\n",
      "1631. Path With Minimum Effort\n",
      "1632. Rank Transform of a Matrix\n",
      "1633. Percentage of Users Attended a Contest\n",
      "1634. Add Two Polynomials Represented as Linked Lists\n",
      "1635. Hopper Company Queries I\n",
      "1636. Sort Array by Increasing Frequency\n",
      "1637. Widest Vertical Area Between Two Points Containing No Points\n",
      "1638. Count Substrings That Differ by One Character\n",
      "1639. Number of Ways to Form a Target String Given a Dictionary\n",
      "1640. Check Array Formation Through Concatenation\n",
      "1641. Count Sorted Vowel Strings\n",
      "1642. Furthest Building You Can Reach\n",
      "1643. Kth Smallest Instructions\n",
      "1644. Lowest Common Ancestor of a Binary Tree II\n",
      "1645. Hopper Company Queries II\n",
      "1646. Get Maximum in Generated Array\n",
      "1647. Minimum Deletions to Make Character Frequencies Unique\n",
      "1648. Sell Diminishing-Valued Colored Balls\n",
      "1649. Create Sorted Array through Instructions\n",
      "1650. Lowest Common Ancestor of a Binary Tree III\n",
      "1651. Hopper Company Queries III\n",
      "1652. Defuse the Bomb\n",
      "1653. Minimum Deletions to Make String Balanced\n",
      "1654. Minimum Jumps to Reach Home\n",
      "1655. Distribute Repeating Integers\n",
      "1656. Design an Ordered Stream\n",
      "1657. Determine if Two Strings Are Close\n",
      "1658. Minimum Operations to Reduce X to Zero\n",
      "1659. Maximize Grid Happiness\n",
      "1660. Correct a Binary Tree\n",
      "1661. Average Time of Process per Machine\n",
      "1662. Check If Two String Arrays are Equivalent\n",
      "1663. Smallest String With A Given Numeric Value\n",
      "1664. Ways to Make a Fair Array\n",
      "1665. Minimum Initial Energy to Finish Tasks\n",
      "1666. Change the Root of a Binary Tree\n",
      "1667. Fix Names in a Table\n",
      "1668. Maximum Repeating Substring\n",
      "1669. Merge In Between Linked Lists\n",
      "1670. Design Front Middle Back Queue\n",
      "1671. Minimum Number of Removals to Make Mountain Array\n",
      "1672. Richest Customer Wealth\n",
      "1673. Find the Most Competitive Subsequence\n"
     ]
    },
    {
     "name": "stdout",
     "output_type": "stream",
     "text": [
      "1674. Minimum Moves to Make Array Complementary\n",
      "1675. Minimize Deviation in Array\n",
      "1676. Lowest Common Ancestor of a Binary Tree IV\n",
      "1677. Product's Worth Over Invoices\n",
      "1678. Goal Parser Interpretation\n",
      "1679. Max Number of K-Sum Pairs\n",
      "1680. Concatenation of Consecutive Binary Numbers\n",
      "1681. Minimum Incompatibility\n",
      "1682. Longest Palindromic Subsequence II\n",
      "1683. Invalid Tweets\n",
      "1684. Count the Number of Consistent Strings\n",
      "1685. Sum of Absolute Differences in a Sorted Array\n",
      "1686. Stone Game VI\n",
      "1687. Delivering Boxes from Storage to Ports\n",
      "1688. Count of Matches in Tournament\n",
      "1689. Partitioning Into Minimum Number Of Deci-Binary Numbers\n",
      "1690. Stone Game VII\n",
      "1691. Maximum Height by Stacking Cuboids\n",
      "1692. Count Ways to Distribute Candies\n",
      "1693. Daily Leads and Partners\n",
      "1694. Reformat Phone Number\n",
      "1695. Maximum Erasure Value\n",
      "1696. Jump Game VI\n",
      "1697. Checking Existence of Edge Length Limited Paths\n",
      "1698. Number of Distinct Substrings in a String\n",
      "1699. Number of Calls Between Two Persons\n",
      "1700. Number of Students Unable to Eat Lunch\n",
      "1701. Average Waiting Time\n",
      "1702. Maximum Binary String After Change\n",
      "1703. Minimum Adjacent Swaps for K Consecutive Ones\n",
      "1704. Determine if String Halves Are Alike\n",
      "1705. Maximum Number of Eaten Apples\n",
      "1706. Where Will the Ball Fall\n",
      "1707. Maximum XOR With an Element From Array\n",
      "1708. Largest Subarray Length K\n",
      "1709. Biggest Window Between Visits\n",
      "1710. Maximum Units on a Truck\n",
      "1711. Count Good Meals\n",
      "1712. Ways to Split Array Into Three Subarrays\n",
      "1713. Minimum Operations to Make a Subsequence\n",
      "1714. Sum Of Special Evenly-Spaced Elements In Array\n",
      "1715. Count Apples and Oranges\n",
      "1716. Calculate Money in Leetcode Bank\n",
      "1717. Maximum Score From Removing Substrings\n",
      "1718. Construct the Lexicographically Largest Valid Sequence\n",
      "1719. Number Of Ways To Reconstruct A Tree\n",
      "1720. Decode XORed Array\n",
      "1721. Swapping Nodes in a Linked List\n",
      "1722. Minimize Hamming Distance After Swap Operations\n",
      "1723. Find Minimum Time to Finish All Jobs\n",
      "1724. Checking Existence of Edge Length Limited Paths II\n",
      "1725. Number Of Rectangles That Can Form The Largest Square\n",
      "1726. Tuple with Same Product\n",
      "1727. Largest Submatrix With Rearrangements\n",
      "1728. Cat and Mouse II\n",
      "1729. Find Followers Count\n",
      "1730. Shortest Path to Get Food\n",
      "1731. The Number of Employees Which Report to Each Employee\n",
      "1732. Find the Highest Altitude\n",
      "1733. Minimum Number of People to Teach\n",
      "1734. Decode XORed Permutation\n",
      "1735. Count Ways to Make Array With Product\n",
      "1736. Latest Time by Replacing Hidden Digits\n",
      "1737. Change Minimum Characters to Satisfy One of Three Conditions\n",
      "1738. Find Kth Largest XOR Coordinate Value\n",
      "1739. Building Boxes\n",
      "1740. Find Distance in a Binary Tree\n",
      "1741. Find Total Time Spent by Each Employee\n",
      "1742. Maximum Number of Balls in a Box\n",
      "1743. Restore the Array From Adjacent Pairs\n",
      "1744. Can You Eat Your Favorite Candy on Your Favorite Day?\n",
      "1745. Palindrome Partitioning IV\n",
      "1746. Maximum Subarray Sum After One Operation\n",
      "1747. Leetflex Banned Accounts\n",
      "1748. Sum of Unique Elements\n",
      "1749. Maximum Absolute Sum of Any Subarray\n",
      "1750. Minimum Length of String After Deleting Similar Ends\n",
      "1751. Maximum Number of Events That Can Be Attended II\n",
      "1752. Check if Array Is Sorted and Rotated\n",
      "1753. Maximum Score From Removing Stones\n",
      "1754. Largest Merge Of Two Strings\n",
      "1755. Closest Subsequence Sum\n",
      "1756. Design Most Recently Used Queue\n",
      "1757. Recyclable and Low Fat Products\n",
      "1758. Minimum Changes To Make Alternating Binary String\n",
      "1759. Count Number of Homogenous Substrings\n",
      "1760. Minimum Limit of Balls in a Bag\n",
      "1761. Minimum Degree of a Connected Trio in a Graph\n",
      "1762. Buildings With an Ocean View\n",
      "1763. Longest Nice Substring\n",
      "1764. Form Array by Concatenating Subarrays of Another Array\n",
      "1765. Map of Highest Peak\n",
      "1766. Tree of Coprimes\n",
      "1767. Find the Subtasks That Did Not Execute\n",
      "1768. Merge Strings Alternately\n",
      "1769. Minimum Number of Operations to Move All Balls to Each Box\n",
      "1770. Maximum Score from Performing Multiplication Operations\n",
      "1771. Maximize Palindrome Length From Subsequences\n",
      "1772. Sort Features by Popularity\n",
      "1773. Count Items Matching a Rule\n",
      "1774. Closest Dessert Cost\n",
      "1775. Equal Sum Arrays With Minimum Number of Operations\n",
      "1776. Car Fleet II\n",
      "1777. Product's Price for Each Store\n",
      "1778. Shortest Path in a Hidden Grid\n",
      "1779. Find Nearest Point That Has the Same X or Y Coordinate\n",
      "1780. Check if Number is a Sum of Powers of Three\n",
      "1781. Sum of Beauty of All Substrings\n",
      "1782. Count Pairs Of Nodes\n",
      "1783. Grand Slam Titles\n",
      "1784. Check if Binary String Has at Most One Segment of Ones\n",
      "1785. Minimum Elements to Add to Form a Given Sum\n",
      "1786. Number of Restricted Paths From First to Last Node\n",
      "1787. Make the XOR of All Segments Equal to Zero\n",
      "1788. Maximize the Beauty of the Garden\n",
      "1789. Primary Department for Each Employee\n",
      "1790. Check if One String Swap Can Make Strings Equal\n",
      "1791. Find Center of Star Graph\n",
      "1792. Maximum Average Pass Ratio\n",
      "1793. Maximum Score of a Good Subarray\n",
      "1794. Count Pairs of Equal Substrings With Minimum Difference\n",
      "1795. Rearrange Products Table\n",
      "1796. Second Largest Digit in a String\n",
      "1797. Design Authentication Manager\n",
      "1798. Maximum Number of Consecutive Values You Can Make\n",
      "1799. Maximize Score After N Operations\n",
      "1800. Maximum Ascending Subarray Sum\n",
      "1801. Number of Orders in the Backlog\n",
      "1802. Maximum Value at a Given Index in a Bounded Array\n",
      "1803. Count Pairs With XOR in a Range\n",
      "1804. Implement Trie II (Prefix Tree)\n",
      "1805. Number of Different Integers in a String\n",
      "1806. Minimum Number of Operations to Reinitialize a Permutation\n",
      "1807. Evaluate the Bracket Pairs of a String\n",
      "1808. Maximize Number of Nice Divisors\n",
      "1809. Ad-Free Sessions\n",
      "1810. Minimum Path Cost in a Hidden Grid\n",
      "1811. Find Interview Candidates\n",
      "1812. Determine Color of a Chessboard Square\n",
      "1813. Sentence Similarity III\n",
      "1814. Count Nice Pairs in an Array\n",
      "1815. Maximum Number of Groups Getting Fresh Donuts\n",
      "1816. Truncate Sentence\n",
      "1817. Finding the Users Active Minutes\n",
      "1818. Minimum Absolute Sum Difference\n",
      "1819. Number of Different Subsequences GCDs\n",
      "1820. Maximum Number of Accepted Invitations\n",
      "1821. Find Customers With Positive Revenue this Year\n",
      "1822. Sign of the Product of an Array\n",
      "1823. Find the Winner of the Circular Game\n",
      "1824. Minimum Sideway Jumps\n",
      "1825. Finding MK Average\n",
      "1826. Faulty Sensor\n",
      "1827. Minimum Operations to Make the Array Increasing\n",
      "1828. Queries on Number of Points Inside a Circle\n",
      "1829. Maximum XOR for Each Query\n",
      "1830. Minimum Number of Operations to Make String Sorted\n",
      "1831. Maximum Transaction Each Day\n",
      "1832. Check if the Sentence Is Pangram\n",
      "1833. Maximum Ice Cream Bars\n",
      "1834. Single-Threaded CPU\n",
      "1835. Find XOR Sum of All Pairs Bitwise AND\n",
      "1836. Remove Duplicates From an Unsorted Linked List\n",
      "1837. Sum of Digits in Base K\n",
      "1838. Frequency of the Most Frequent Element\n",
      "1839. Longest Substring Of All Vowels in Order\n",
      "1840. Maximum Building Height\n",
      "1841. League Statistics\n",
      "1842. Next Palindrome Using Same Digits\n",
      "1843. Suspicious Bank Accounts\n",
      "1844. Replace All Digits with Characters\n",
      "1845. Seat Reservation Manager\n",
      "1846. Maximum Element After Decreasing and Rearranging\n",
      "1847. Closest Room\n",
      "1848. Minimum Distance to the Target Element\n",
      "1849. Splitting a String Into Descending Consecutive Values\n",
      "1850. Minimum Adjacent Swaps to Reach the Kth Smallest Number\n",
      "1851. Minimum Interval to Include Each Query\n",
      "1852. Distinct Numbers in Each Subarray\n",
      "1853. Convert Date Format\n",
      "1854. Maximum Population Year\n",
      "1855. Maximum Distance Between a Pair of Values\n",
      "1856. Maximum Subarray Min-Product\n",
      "1857. Largest Color Value in a Directed Graph\n",
      "1858. Longest Word With All Prefixes\n",
      "1859. Sorting the Sentence\n",
      "1860. Incremental Memory Leak\n",
      "1861. Rotating the Box\n",
      "1862. Sum of Floored Pairs\n",
      "1863. Sum of All Subset XOR Totals\n",
      "1864. Minimum Number of Swaps to Make the Binary String Alternating\n",
      "1865. Finding Pairs With a Certain Sum\n",
      "1866. Number of Ways to Rearrange Sticks With K Sticks Visible\n",
      "1867. Orders With Maximum Quantity Above Average\n",
      "1868. Product of Two Run-Length Encoded Arrays\n",
      "1869. Longer Contiguous Segments of Ones than Zeros\n",
      "1870. Minimum Speed to Arrive on Time\n",
      "1871. Jump Game VII\n",
      "1872. Stone Game VIII\n",
      "1873. Calculate Special Bonus\n",
      "1874. Minimize Product Sum of Two Arrays\n",
      "1875. Group Employees of the Same Salary\n",
      "1876. Substrings of Size Three with Distinct Characters\n",
      "1877. Minimize Maximum Pair Sum in Array\n",
      "1878. Get Biggest Three Rhombus Sums in a Grid\n",
      "1879. Minimum XOR Sum of Two Arrays\n",
      "1880. Check if Word Equals Summation of Two Words\n",
      "1881. Maximum Value after Insertion\n",
      "1882. Process Tasks Using Servers\n",
      "1883. Minimum Skips to Arrive at Meeting On Time\n",
      "1884. Egg Drop With 2 Eggs and N Floors\n",
      "1885. Count Pairs in Two Arrays\n",
      "1886. Determine Whether Matrix Can Be Obtained By Rotation\n",
      "1887. Reduction Operations to Make the Array Elements Equal\n",
      "1888. Minimum Number of Flips to Make the Binary String Alternating\n",
      "1889. Minimum Space Wasted From Packaging\n",
      "1890. The Latest Login in 2020\n",
      "1891. Cutting Ribbons\n",
      "1892. Page Recommendations II\n",
      "1893. Check if All the Integers in a Range Are Covered\n",
      "1894. Find the Student that Will Replace the Chalk\n",
      "1895. Largest Magic Square\n",
      "1896. Minimum Cost to Change the Final Value of Expression\n",
      "1897. Redistribute Characters to Make All Strings Equal\n",
      "1898. Maximum Number of Removable Characters\n",
      "1899. Merge Triplets to Form Target Triplet\n",
      "1900. The Earliest and Latest Rounds Where Players Compete\n",
      "1901. Find a Peak Element II\n",
      "1902. Depth of BST Given Insertion Order\n",
      "1903. Largest Odd Number in String\n",
      "1904. The Number of Full Rounds You Have Played\n",
      "1905. Count Sub Islands\n",
      "1906. Minimum Absolute Difference Queries\n",
      "1907. Count Salary Categories\n",
      "1908. Game of Nim\n",
      "1909. Remove One Element to Make the Array Strictly Increasing\n",
      "1910. Remove All Occurrences of a Substring\n",
      "1911. Maximum Alternating Subsequence Sum\n",
      "1912. Design Movie Rental System\n",
      "1913. Maximum Product Difference Between Two Pairs\n",
      "1914. Cyclically Rotating a Grid\n",
      "1915. Number of Wonderful Substrings\n",
      "1916. Count Ways to Build Rooms in an Ant Colony\n",
      "1917. Leetcodify Friends Recommendations\n",
      "1918. Kth Smallest Subarray Sum\n",
      "1919. Leetcodify Similar Friends\n",
      "1920. Build Array from Permutation\n",
      "1921. Eliminate Maximum Number of Monsters\n",
      "1922. Count Good Numbers\n",
      "1923. Longest Common Subpath\n",
      "1924. Erect the Fence II\n",
      "1925. Count Square Sum Triples\n",
      "1926. Nearest Exit from Entrance in Maze\n",
      "1927. Sum Game\n",
      "1928. Minimum Cost to Reach Destination in Time\n",
      "1929. Concatenation of Array\n",
      "1930. Unique Length-3 Palindromic Subsequences\n",
      "1931. Painting a Grid With Three Different Colors\n",
      "1932. Merge BSTs to Create Single BST\n",
      "1933. Check if String Is Decomposable Into Value-Equal Substrings\n",
      "1934. Confirmation Rate\n",
      "1935. Maximum Number of Words You Can Type\n",
      "1936. Add Minimum Number of Rungs\n",
      "1937. Maximum Number of Points with Cost\n",
      "1938. Maximum Genetic Difference Query\n",
      "1939. Users That Actively Request Confirmation Messages\n",
      "1940. Longest Common Subsequence Between Sorted Arrays\n",
      "1941. Check if All Characters Have Equal Number of Occurrences\n",
      "1942. The Number of the Smallest Unoccupied Chair\n",
      "1943. Describe the Painting\n",
      "1944. Number of Visible People in a Queue\n",
      "1945. Sum of Digits of String After Convert\n",
      "1946. Largest Number After Mutating Substring\n",
      "1947. Maximum Compatibility Score Sum\n",
      "1948. Delete Duplicate Folders in System\n",
      "1949. Strong Friendship\n",
      "1950. Maximum of Minimum Values in All Subarrays\n",
      "1951. All the Pairs With the Maximum Number of Common Followers\n",
      "1952. Three Divisors\n",
      "1953. Maximum Number of Weeks for Which You Can Work\n",
      "1954. Minimum Garden Perimeter to Collect Enough Apples\n",
      "1955. Count Number of Special Subsequences\n",
      "1956. Minimum Time For K Virus Variants to Spread\n",
      "1957. Delete Characters to Make Fancy String\n",
      "1958. Check if Move is Legal\n",
      "1959. Minimum Total Space Wasted With K Resizing Operations\n",
      "1960. Maximum Product of the Length of Two Palindromic Substrings\n",
      "1961. Check If String Is a Prefix of Array\n",
      "1962. Remove Stones to Minimize the Total\n",
      "1963. Minimum Number of Swaps to Make the String Balanced\n",
      "1964. Find the Longest Valid Obstacle Course at Each Position\n",
      "1965. Employees With Missing Information\n",
      "1966. Binary Searchable Numbers in an Unsorted Array\n",
      "1967. Number of Strings That Appear as Substrings in Word\n",
      "1968. Array With Elements Not Equal to Average of Neighbors\n",
      "1969. Minimum Non-Zero Product of the Array Elements\n",
      "1970. Last Day Where You Can Still Cross\n",
      "1971. Find if Path Exists in Graph\n",
      "1972. First and Last Call On the Same Day\n",
      "1973. Count Nodes Equal to Sum of Descendants\n",
      "1974. Minimum Time to Type Word Using Special Typewriter\n",
      "1975. Maximum Matrix Sum\n",
      "1976. Number of Ways to Arrive at Destination\n",
      "1977. Number of Ways to Separate Numbers\n",
      "1978. Employees Whose Manager Left the Company\n",
      "1979. Find Greatest Common Divisor of Array\n",
      "1980. Find Unique Binary String\n",
      "1981. Minimize the Difference Between Target and Chosen Elements\n",
      "1982. Find Array Given Subset Sums\n",
      "1983. Widest Pair of Indices With Equal Range Sum\n",
      "1984. Minimum Difference Between Highest and Lowest of K Scores\n",
      "1985. Find the Kth Largest Integer in the Array\n",
      "1986. Minimum Number of Work Sessions to Finish the Tasks\n",
      "1987. Number of Unique Good Subsequences\n",
      "1988. Find Cutoff Score for Each School\n",
      "1989. Maximum Number of People That Can Be Caught in Tag\n",
      "1990. Count the Number of Experiments\n",
      "1991. Find the Middle Index in Array\n",
      "1992. Find All Groups of Farmland\n",
      "1993. Operations on Tree\n",
      "1994. The Number of Good Subsets\n",
      "1995. Count Special Quadruplets\n",
      "1996. The Number of Weak Characters in the Game\n",
      "1997. First Day Where You Have Been in All the Rooms\n",
      "1998. GCD Sort of an Array\n",
      "1999. Smallest Greater Multiple Made of Two Digits\n",
      "2000. Reverse Prefix of Word\n",
      "2001. Number of Pairs of Interchangeable Rectangles\n",
      "2002. Maximum Product of the Length of Two Palindromic Subsequences\n",
      "2003. Smallest Missing Genetic Value in Each Subtree\n",
      "2004. The Number of Seniors and Juniors to Join the Company\n",
      "2005. Subtree Removal Game with Fibonacci Tree\n",
      "2006. Count Number of Pairs With Absolute Difference K\n",
      "2007. Find Original Array From Doubled Array\n",
      "2008. Maximum Earnings From Taxi\n",
      "2009. Minimum Number of Operations to Make Array Continuous\n",
      "2010. The Number of Seniors and Juniors to Join the Company II\n",
      "2011. Final Value of Variable After Performing Operations\n",
      "2012. Sum of Beauty in the Array\n",
      "2013. Detect Squares\n",
      "2014. Longest Subsequence Repeated k Times\n",
      "2015. Average Height of Buildings in Each Segment\n",
      "2016. Maximum Difference Between Increasing Elements\n",
      "2017. Grid Game\n",
      "2018. Check if Word Can Be Placed In Crossword\n",
      "2019. The Score of Students Solving Math Expression\n",
      "2020. Number of Accounts That Did Not Stream\n",
      "2021. Brightest Position on Street\n",
      "2022. Convert 1D Array Into 2D Array\n",
      "2023. Number of Pairs of Strings With Concatenation Equal to Target\n",
      "2024. Maximize the Confusion of an Exam\n",
      "2025. Maximum Number of Ways to Partition an Array\n",
      "2026. Low-Quality Problems\n",
      "2027. Minimum Moves to Convert String\n",
      "2028. Find Missing Observations\n",
      "2029. Stone Game IX\n",
      "2030. Smallest K-Length Subsequence With Occurrences of a Letter\n",
      "2031. Count Subarrays With More Ones Than Zeros\n",
      "2032. Two Out of Three\n",
      "2033. Minimum Operations to Make a Uni-Value Grid\n",
      "2034. Stock Price Fluctuation\n",
      "2035. Partition Array Into Two Arrays to Minimize Sum Difference\n",
      "2036. Maximum Alternating Subarray Sum\n",
      "2037. Minimum Number of Moves to Seat Everyone\n",
      "2038. Remove Colored Pieces if Both Neighbors are the Same Color\n",
      "2039. The Time When the Network Becomes Idle\n",
      "2040. Kth Smallest Product of Two Sorted Arrays\n",
      "2041. Accepted Candidates From the Interviews\n",
      "2042. Check if Numbers Are Ascending in a Sentence\n",
      "2043. Simple Bank System\n",
      "2044. Count Number of Maximum Bitwise-OR Subsets\n",
      "2045. Second Minimum Time to Reach Destination\n",
      "2046. Sort Linked List Already Sorted Using Absolute Values\n",
      "2047. Number of Valid Words in a Sentence\n",
      "2048. Next Greater Numerically Balanced Number\n",
      "2049. Count Nodes With the Highest Score\n",
      "2050. Parallel Courses III\n",
      "2051. The Category of Each Member in the Store\n",
      "2052. Minimum Cost to Separate Sentence Into Rows\n",
      "2053. Kth Distinct String in an Array\n",
      "2054. Two Best Non-Overlapping Events\n",
      "2055. Plates Between Candles\n",
      "2056. Number of Valid Move Combinations On Chessboard\n",
      "2057. Smallest Index With Equal Value\n",
      "2058. Find the Minimum and Maximum Number of Nodes Between Critical Points\n",
      "2059. Minimum Operations to Convert Number\n",
      "2060. Check if an Original String Exists Given Two Encoded Strings\n",
      "2061. Number of Spaces Cleaning Robot Cleaned\n",
      "2062. Count Vowel Substrings of a String\n",
      "2063. Vowels of All Substrings\n",
      "2064. Minimized Maximum of Products Distributed to Any Store\n",
      "2065. Maximum Path Quality of a Graph\n",
      "2066. Account Balance\n",
      "2067. Number of Equal Count Substrings\n",
      "2068. Check Whether Two Strings are Almost Equivalent\n",
      "2069. Walking Robot Simulation II\n",
      "2070. Most Beautiful Item for Each Query\n",
      "2071. Maximum Number of Tasks You Can Assign\n",
      "2072. The Winner University\n",
      "2073. Time Needed to Buy Tickets\n",
      "2074. Reverse Nodes in Even Length Groups\n",
      "2075. Decode the Slanted Ciphertext\n",
      "2076. Process Restricted Friend Requests\n",
      "2077. Paths in Maze That Lead to Same Room\n",
      "2078. Two Furthest Houses With Different Colors\n",
      "2079. Watering Plants\n",
      "2080. Range Frequency Queries\n",
      "2081. Sum of k-Mirror Numbers\n",
      "2082. The Number of Rich Customers\n",
      "2083. Substrings That Begin and End With the Same Letter\n",
      "2084. Drop Type 1 Orders for Customers With Type 0 Orders\n",
      "2085. Count Common Words With One Occurrence\n",
      "2086. Minimum Number of Food Buckets to Feed the Hamsters\n",
      "2087. Minimum Cost Homecoming of a Robot in a Grid\n",
      "2088. Count Fertile Pyramids in a Land\n",
      "2089. Find Target Indices After Sorting Array\n",
      "2090. K Radius Subarray Averages\n",
      "2091. Removing Minimum and Maximum From Array\n",
      "2092. Find All People With Secret\n",
      "2093. Minimum Cost to Reach City With Discounts\n",
      "2094. Finding 3-Digit Even Numbers\n",
      "2095. Delete the Middle Node of a Linked List\n",
      "2096. Step-By-Step Directions From a Binary Tree Node to Another\n",
      "2097. Valid Arrangement of Pairs\n",
      "2098. Subsequence of Size K With the Largest Even Sum\n",
      "2099. Find Subsequence of Length K With the Largest Sum\n",
      "2100. Find Good Days to Rob the Bank\n",
      "2101. Detonate the Maximum Bombs\n",
      "2102. Sequentially Ordinal Rank Tracker\n",
      "2103. Rings and Rods\n",
      "2104. Sum of Subarray Ranges\n",
      "2105. Watering Plants II\n",
      "2106. Maximum Fruits Harvested After at Most K Steps\n",
      "2107. Number of Unique Flavors After Sharing K Candies\n",
      "2108. Find First Palindromic String in the Array\n",
      "2109. Adding Spaces to a String\n",
      "2110. Number of Smooth Descent Periods of a Stock\n",
      "2111. Minimum Operations to Make the Array K-Increasing\n",
      "2112. The Airport With the Most Traffic\n",
      "2113. Elements in Array After Removing and Replacing Elements\n",
      "2114. Maximum Number of Words Found in Sentences\n",
      "2115. Find All Possible Recipes from Given Supplies\n",
      "2116. Check if a Parentheses String Can Be Valid\n",
      "2117. Abbreviating the Product of a Range\n",
      "2118. Build the Equation\n",
      "2119. A Number After a Double Reversal\n",
      "2120. Execution of All Suffix Instructions Staying in a Grid\n",
      "2121. Intervals Between Identical Elements\n",
      "2122. Recover the Original Array\n",
      "2123. Minimum Operations to Remove Adjacent Ones in Matrix\n",
      "2124. Check if All A's Appears Before All B's\n",
      "2125. Number of Laser Beams in a Bank\n",
      "2126. Destroying Asteroids\n",
      "2127. Maximum Employees to Be Invited to a Meeting\n",
      "2128. Remove All Ones With Row and Column Flips\n",
      "2129. Capitalize the Title\n",
      "2130. Maximum Twin Sum of a Linked List\n",
      "2131. Longest Palindrome by Concatenating Two Letter Words\n",
      "2132. Stamping the Grid\n",
      "2133. Check if Every Row and Column Contains All Numbers\n",
      "2134. Minimum Swaps to Group All 1's Together II\n",
      "2135. Count Words Obtained After Adding a Letter\n",
      "2136. Earliest Possible Day of Full Bloom\n",
      "2137. Pour Water Between Buckets to Make Water Levels Equal\n",
      "2138. Divide a String Into Groups of Size k\n",
      "2139. Minimum Moves to Reach Target Score\n",
      "2140. Solving Questions With Brainpower\n",
      "2141. Maximum Running Time of N Computers\n",
      "2142. The Number of Passengers in Each Bus I\n",
      "2143. Choose Numbers From Two Arrays in Range\n",
      "2144. Minimum Cost of Buying Candies With Discount\n",
      "2145. Count the Hidden Sequences\n",
      "2146. K Highest Ranked Items Within a Price Range\n",
      "2147. Number of Ways to Divide a Long Corridor\n",
      "2148. Count Elements With Strictly Smaller and Greater Elements\n",
      "2149. Rearrange Array Elements by Sign\n",
      "2150. Find All Lonely Numbers in the Array\n",
      "2151. Maximum Good People Based on Statements\n",
      "2152. Minimum Number of Lines to Cover Points\n",
      "2153. The Number of Passengers in Each Bus II\n",
      "2154. Keep Multiplying Found Values by Two\n",
      "2155. All Divisions With the Highest Score of a Binary Array\n",
      "2156. Find Substring With Given Hash Value\n",
      "2157. Groups of Strings\n",
      "2158. Amount of New Area Painted Each Day\n",
      "2159. Order Two Columns Independently\n",
      "2160. Minimum Sum of Four Digit Number After Splitting Digits\n",
      "2161. Partition Array According to Given Pivot\n",
      "2162. Minimum Cost to Set Cooking Time\n",
      "2163. Minimum Difference in Sums After Removal of Elements\n",
      "2164. Sort Even and Odd Indices Independently\n",
      "2165. Smallest Value of the Rearranged Number\n",
      "2166. Design Bitset\n",
      "2167. Minimum Time to Remove All Cars Containing Illegal Goods\n",
      "2168. Unique Substrings With Equal Digit Frequency\n",
      "2169. Count Operations to Obtain Zero\n",
      "2170. Minimum Operations to Make the Array Alternating\n",
      "2171. Removing Minimum Number of Magic Beans\n",
      "2172. Maximum AND Sum of Array\n",
      "2173. Longest Winning Streak\n",
      "2174. Remove All Ones With Row and Column Flips II\n",
      "2175. The Change in Global Rankings\n",
      "2176. Count Equal and Divisible Pairs in an Array\n",
      "2177. Find Three Consecutive Integers That Sum to a Given Number\n",
      "2178. Maximum Split of Positive Even Integers\n",
      "2179. Count Good Triplets in an Array\n",
      "2180. Count Integers With Even Digit Sum\n",
      "2181. Merge Nodes in Between Zeros\n",
      "2182. Construct String With Repeat Limit\n",
      "2183. Count Array Pairs Divisible by K\n",
      "2184. Number of Ways to Build Sturdy Brick Wall\n",
      "2185. Counting Words With a Given Prefix\n",
      "2186. Minimum Number of Steps to Make Two Strings Anagram II\n",
      "2187. Minimum Time to Complete Trips\n",
      "2188. Minimum Time to Finish the Race\n",
      "2189. Number of Ways to Build House of Cards\n",
      "2190. Most Frequent Number Following Key In an Array\n",
      "2191. Sort the Jumbled Numbers\n",
      "2192. All Ancestors of a Node in a Directed Acyclic Graph\n",
      "2193. Minimum Number of Moves to Make Palindrome\n",
      "2194. Cells in a Range on an Excel Sheet\n",
      "2195. Append K Integers With Minimal Sum\n",
      "2196. Create Binary Tree From Descriptions\n",
      "2197. Replace Non-Coprime Numbers in Array\n",
      "2198. Number of Single Divisor Triplets\n",
      "2199. Finding the Topic of Each Post\n",
      "2200. Find All K-Distant Indices in an Array\n",
      "2201. Count Artifacts That Can Be Extracted\n",
      "2202. Maximize the Topmost Element After K Moves\n",
      "2203. Minimum Weighted Subgraph With the Required Paths\n",
      "2204. Distance to a Cycle in Undirected Graph\n",
      "2205. The Number of Users That Are Eligible for Discount\n",
      "2206. Divide Array Into Equal Pairs\n",
      "2207. Maximize Number of Subsequences in a String\n",
      "2208. Minimum Operations to Halve Array Sum\n",
      "2209. Minimum White Tiles After Covering With Carpets\n",
      "2210. Count Hills and Valleys in an Array\n",
      "2211. Count Collisions on a Road\n",
      "2212. Maximum Points in an Archery Competition\n",
      "2213. Longest Substring of One Repeating Character\n",
      "2214. Minimum Health to Beat Game\n",
      "2215. Find the Difference of Two Arrays\n",
      "2216. Minimum Deletions to Make Array Beautiful\n",
      "2217. Find Palindrome With Fixed Length\n",
      "2218. Maximum Value of K Coins From Piles\n",
      "2219. Maximum Sum Score of Array\n",
      "2220. Minimum Bit Flips to Convert Number\n",
      "2221. Find Triangular Sum of an Array\n",
      "2222. Number of Ways to Select Buildings\n",
      "2223. Sum of Scores of Built Strings\n",
      "2224. Minimum Number of Operations to Convert Time\n",
      "2225. Find Players With Zero or One Losses\n",
      "2226. Maximum Candies Allocated to K Children\n",
      "2227. Encrypt and Decrypt Strings\n",
      "2228. Users With Two Purchases Within Seven Days\n",
      "2229. Check if an Array Is Consecutive\n",
      "2230. The Users That Are Eligible for Discount\n",
      "2231. Largest Number After Digit Swaps by Parity\n",
      "2232. Minimize Result by Adding Parentheses to Expression\n",
      "2233. Maximum Product After K Increments\n",
      "2234. Maximum Total Beauty of the Gardens\n",
      "2235. Add Two Integers\n",
      "2236. Root Equals Sum of Children\n",
      "2237. Count Positions on Street With Required Brightness\n",
      "2238. Number of Times a Driver Was a Passenger\n",
      "2239. Find Closest Number to Zero\n",
      "2240. Number of Ways to Buy Pens and Pencils\n",
      "2241. Design an ATM Machine\n",
      "2242. Maximum Score of a Node Sequence\n",
      "2243. Calculate Digit Sum of a String\n",
      "2244. Minimum Rounds to Complete All Tasks\n",
      "2245. Maximum Trailing Zeros in a Cornered Path\n",
      "2246. Longest Path With Different Adjacent Characters\n",
      "2247. Maximum Cost of Trip With K Highways\n",
      "2248. Intersection of Multiple Arrays\n",
      "2249. Count Lattice Points Inside a Circle\n",
      "2250. Count Number of Rectangles Containing Each Point\n",
      "2251. Number of Flowers in Full Bloom\n",
      "2252. Dynamic Pivoting of a Table\n",
      "2253. Dynamic Unpivoting of a Table\n",
      "2254. Design Video Sharing Platform\n",
      "2255. Count Prefixes of a Given String\n",
      "2256. Minimum Average Difference\n",
      "2257. Count Unguarded Cells in the Grid\n",
      "2258. Escape the Spreading Fire\n",
      "2259. Remove Digit From Number to Maximize Result\n",
      "2260. Minimum Consecutive Cards to Pick Up\n",
      "2261. K Divisible Elements Subarrays\n",
      "2262. Total Appeal of A String\n",
      "2263. Make Array Non-decreasing or Non-increasing\n",
      "2264. Largest 3-Same-Digit Number in String\n",
      "2265. Count Nodes Equal to Average of Subtree\n",
      "2266. Count Number of Texts\n",
      "2267. Check if There Is a Valid Parentheses String Path\n",
      "2268. Minimum Number of Keypresses\n",
      "2269. Find the K-Beauty of a Number\n",
      "2270. Number of Ways to Split Array\n",
      "2271. Maximum White Tiles Covered by a Carpet\n",
      "2272. Substring With Largest Variance\n",
      "2273. Find Resultant Array After Removing Anagrams\n",
      "2274. Maximum Consecutive Floors Without Special Floors\n",
      "2275. Largest Combination With Bitwise AND Greater Than Zero\n",
      "2276. Count Integers in Intervals\n",
      "2277. Closest Node to Path in Tree\n",
      "2278. Percentage of Letter in String\n",
      "2279. Maximum Bags With Full Capacity of Rocks\n",
      "2280. Minimum Lines to Represent a Line Chart\n",
      "2281. Sum of Total Strength of Wizards\n",
      "2282. Number of People That Can Be Seen in a Grid\n",
      "2283. Check if Number Has Equal Digit Count and Digit Value\n",
      "2284. Sender With Largest Word Count\n",
      "2285. Maximum Total Importance of Roads\n",
      "2286. Booking Concert Tickets in Groups\n",
      "2287. Rearrange Characters to Make Target String\n"
     ]
    },
    {
     "name": "stdout",
     "output_type": "stream",
     "text": [
      "2288. Apply Discount to Prices\n",
      "2289. Steps to Make Array Non-decreasing\n",
      "2290. Minimum Obstacle Removal to Reach Corner\n",
      "2291. Maximum Profit From Trading Stocks\n",
      "2292. Products With Three or More Orders in Two Consecutive Years\n",
      "2293. Min Max Game\n",
      "2294. Partition Array Such That Maximum Difference Is K\n",
      "2295. Replace Elements in an Array\n",
      "2296. Design a Text Editor\n",
      "2297. Jump Game VIII\n",
      "2298. Tasks Count in the Weekend\n",
      "2299. Strong Password Checker II\n",
      "2300. Successful Pairs of Spells and Potions\n",
      "2301. Match Substring After Replacement\n",
      "2302. Count Subarrays With Score Less Than K\n",
      "2303. Calculate Amount Paid in Taxes\n",
      "2304. Minimum Path Cost in a Grid\n",
      "2305. Fair Distribution of Cookies\n",
      "2306. Naming a Company\n",
      "2307. Check for Contradictions in Equations\n",
      "2308. Arrange Table by Gender\n",
      "2309. Greatest English Letter in Upper and Lower Case\n",
      "2310. Sum of Numbers With Units Digit K\n",
      "2311. Longest Binary Subsequence Less Than or Equal to K\n",
      "2312. Selling Pieces of Wood\n",
      "2313. Minimum Flips in Binary Tree to Get Result\n",
      "2314. The First Day of the Maximum Recorded Degree in Each City\n",
      "2315. Count Asterisks\n",
      "2316. Count Unreachable Pairs of Nodes in an Undirected Graph\n",
      "2317. Maximum XOR After Operations\n",
      "2318. Number of Distinct Roll Sequences\n",
      "2319. Check if Matrix Is X-Matrix\n",
      "2320. Count Number of Ways to Place Houses\n",
      "2321. Maximum Score Of Spliced Array\n",
      "2322. Minimum Score After Removals on a Tree\n",
      "2323. Find Minimum Time to Finish All Jobs II\n",
      "2324. Product Sales Analysis IV\n",
      "2325. Decode the Message\n",
      "2326. Spiral Matrix IV\n",
      "2327. Number of People Aware of a Secret\n",
      "2328. Number of Increasing Paths in a Grid\n",
      "2329. Product Sales Analysis V\n",
      "2330. Valid Palindrome IV\n",
      "2331. Evaluate Boolean Binary Tree\n",
      "2332. The Latest Time to Catch a Bus\n",
      "2333. Minimum Sum of Squared Difference\n",
      "2334. Subarray With Elements Greater Than Varying Threshold\n",
      "2335. Minimum Amount of Time to Fill Cups\n",
      "2336. Smallest Number in Infinite Set\n",
      "2337. Move Pieces to Obtain a String\n",
      "2338. Count the Number of Ideal Arrays\n",
      "2339. All the Matches of the League\n",
      "2340. Minimum Adjacent Swaps to Make a Valid Array\n",
      "2341. Maximum Number of Pairs in Array\n",
      "2342. Max Sum of a Pair With Equal Sum of Digits\n",
      "2343. Query Kth Smallest Trimmed Number\n",
      "2344. Minimum Deletions to Make Array Divisible\n",
      "2345. Finding the Number of Visible Mountains\n",
      "2346. Compute the Rank as a Percentage\n",
      "2347. Best Poker Hand\n",
      "2348. Number of Zero-Filled Subarrays\n",
      "2349. Design a Number Container System\n",
      "2350. Shortest Impossible Sequence of Rolls\n",
      "2351. First Letter to Appear Twice\n",
      "2352. Equal Row and Column Pairs\n",
      "2353. Design a Food Rating System\n",
      "2354. Number of Excellent Pairs\n",
      "2355. Maximum Number of Books You Can Take\n",
      "2356. Number of Unique Subjects Taught by Each Teacher\n",
      "2357. Make Array Zero by Subtracting Equal Amounts\n",
      "2358. Maximum Number of Groups Entering a Competition\n",
      "2359. Find Closest Node to Given Two Nodes\n",
      "2360. Longest Cycle in a Graph\n",
      "2361. Minimum Costs Using the Train Line\n",
      "2362. Generate the Invoice\n",
      "2363. Merge Similar Items\n",
      "2364. Count Number of Bad Pairs\n",
      "2365. Task Scheduler II\n",
      "2366. Minimum Replacements to Sort the Array\n",
      "2367. Number of Arithmetic Triplets\n",
      "2368. Reachable Nodes With Restrictions\n",
      "2369. Check if There is a Valid Partition For The Array\n",
      "2370. Longest Ideal Subsequence\n",
      "2371. Minimize Maximum Value in a Grid\n",
      "2372. Calculate the Influence of Each Salesperson\n",
      "2373. Largest Local Values in a Matrix\n",
      "2374. Node With Highest Edge Score\n",
      "2375. Construct Smallest Number From DI String\n",
      "2376. Count Special Integers\n",
      "2377. Sort the Olympic Table\n",
      "2378. Choose Edges to Maximize Score in a Tree\n",
      "2379. Minimum Recolors to Get K Consecutive Black Blocks\n",
      "2380. Time Needed to Rearrange a Binary String\n",
      "2381. Shifting Letters II\n",
      "2382. Maximum Segment Sum After Removals\n",
      "2383. Minimum Hours of Training to Win a Competition\n",
      "2384. Largest Palindromic Number\n",
      "2385. Amount of Time for Binary Tree to Be Infected\n",
      "2386. Find the K-Sum of an Array\n",
      "2387. Median of a Row Wise Sorted Matrix\n",
      "2388. Change Null Values in a Table to the Previous Value\n",
      "2389. Longest Subsequence With Limited Sum\n",
      "2390. Removing Stars From a String\n",
      "2391. Minimum Amount of Time to Collect Garbage\n",
      "2392. Build a Matrix With Conditions\n",
      "2393. Count Strictly Increasing Subarrays\n",
      "2394. Employees With Deductions\n",
      "2395. Find Subarrays With Equal Sum\n",
      "2396. Strictly Palindromic Number\n",
      "2397. Maximum Rows Covered by Columns\n",
      "2398. Maximum Number of Robots Within Budget\n",
      "2399. Check Distances Between Same Letters\n",
      "2400. Number of Ways to Reach a Position After Exactly k Steps\n",
      "2401. Longest Nice Subarray\n",
      "2402. Meeting Rooms III\n",
      "2403. Minimum Time to Kill All Monsters\n",
      "2404. Most Frequent Even Element\n",
      "2405. Optimal Partition of String\n",
      "2406. Divide Intervals Into Minimum Number of Groups\n",
      "2407. Longest Increasing Subsequence II\n",
      "2408. Design SQL\n",
      "2409. Count Days Spent Together\n",
      "2410. Maximum Matching of Players With Trainers\n",
      "2411. Smallest Subarrays With Maximum Bitwise OR\n",
      "2412. Minimum Money Required Before Transactions\n",
      "2413. Smallest Even Multiple\n",
      "2414. Length of the Longest Alphabetical Continuous Substring\n",
      "2415. Reverse Odd Levels of Binary Tree\n",
      "2416. Sum of Prefix Scores of Strings\n",
      "2417. Closest Fair Integer\n",
      "2418. Sort the People\n",
      "2419. Longest Subarray With Maximum Bitwise AND\n",
      "2420. Find All Good Indices\n",
      "2421. Number of Good Paths\n",
      "2422. Merge Operations to Turn Array Into a Palindrome\n",
      "2423. Remove Letter To Equalize Frequency\n",
      "2424. Longest Uploaded Prefix\n",
      "2425. Bitwise XOR of All Pairings\n",
      "2426. Number of Pairs Satisfying Inequality\n",
      "2427. Number of Common Factors\n",
      "2428. Maximum Sum of an Hourglass\n",
      "2429. Minimize XOR\n",
      "2430. Maximum Deletions on a String\n",
      "2431. Maximize Total Tastiness of Purchased Fruits\n",
      "2432. The Employee That Worked on the Longest Task\n",
      "2433. Find The Original Array of Prefix Xor\n",
      "2434. Using a Robot to Print the Lexicographically Smallest String\n",
      "2435. Paths in Matrix Whose Sum Is Divisible by K\n",
      "2436. Minimum Split Into Subarrays With GCD Greater Than One\n",
      "2437. Number of Valid Clock Times\n",
      "2438. Range Product Queries of Powers\n",
      "2439. Minimize Maximum of Array\n",
      "2440. Create Components With Same Value\n",
      "2441. Largest Positive Integer That Exists With Its Negative\n",
      "2442. Count Number of Distinct Integers After Reverse Operations\n",
      "2443. Sum of Number and Its Reverse\n",
      "2444. Count Subarrays With Fixed Bounds\n",
      "2445. Number of Nodes With Value One\n",
      "2446. Determine if Two Events Have Conflict\n",
      "2447. Number of Subarrays With GCD Equal to K\n",
      "2448. Minimum Cost to Make Array Equal\n",
      "2449. Minimum Number of Operations to Make Arrays Similar\n",
      "2450. Number of Distinct Binary Strings After Applying Operations\n",
      "2451. Odd String Difference\n",
      "2452. Words Within Two Edits of Dictionary\n",
      "2453. Destroy Sequential Targets\n",
      "2454. Next Greater Element IV\n",
      "2455. Average Value of Even Numbers That Are Divisible by Three\n",
      "2456. Most Popular Video Creator\n",
      "2457. Minimum Addition to Make Integer Beautiful\n",
      "2458. Height of Binary Tree After Subtree Removal Queries\n",
      "2459. Sort Array by Moving Items to Empty Space\n",
      "2460. Apply Operations to an Array\n",
      "2461. Maximum Sum of Distinct Subarrays With Length K\n",
      "2462. Total Cost to Hire K Workers\n",
      "2463. Minimum Total Distance Traveled\n",
      "2464. Minimum Subarrays in a Valid Split\n",
      "2465. Number of Distinct Averages\n",
      "2466. Count Ways To Build Good Strings\n",
      "2467. Most Profitable Path in a Tree\n",
      "2468. Split Message Based on Limit\n",
      "2469. Convert the Temperature\n",
      "2470. Number of Subarrays With LCM Equal to K\n",
      "2471. Minimum Number of Operations to Sort a Binary Tree by Level\n",
      "2472. Maximum Number of Non-overlapping Palindrome Substrings\n",
      "2473. Minimum Cost to Buy Apples\n",
      "2474. Customers With Strictly Increasing Purchases\n",
      "2475. Number of Unequal Triplets in Array\n",
      "2476. Closest Nodes Queries in a Binary Search Tree\n",
      "2477. Minimum Fuel Cost to Report to the Capital\n",
      "2478. Number of Beautiful Partitions\n",
      "2479. Maximum XOR of Two Non-Overlapping Subtrees\n",
      "2480. Form a Chemical Bond\n",
      "2481. Minimum Cuts to Divide a Circle\n",
      "2482. Difference Between Ones and Zeros in Row and Column\n",
      "2483. Minimum Penalty for a Shop\n",
      "2484. Count Palindromic Subsequences\n",
      "2485. Find the Pivot Integer\n",
      "2486. Append Characters to String to Make Subsequence\n",
      "2487. Remove Nodes From Linked List\n",
      "2488. Count Subarrays With Median K\n",
      "2489. Number of Substrings With Fixed Ratio\n",
      "2490. Circular Sentence\n",
      "2491. Divide Players Into Teams of Equal Skill\n",
      "2492. Minimum Score of a Path Between Two Cities\n",
      "2493. Divide Nodes Into the Maximum Number of Groups\n",
      "2494. Merge Overlapping Events in the Same Hall\n",
      "2495. Number of Subarrays Having Even Product\n",
      "2496. Maximum Value of a String in an Array\n",
      "2497. Maximum Star Sum of a Graph\n",
      "2498. Frog Jump II\n",
      "2499. Minimum Total Cost to Make Arrays Unequal\n",
      "2500. Delete Greatest Value in Each Row\n",
      "2501. Longest Square Streak in an Array\n",
      "2502. Design Memory Allocator\n",
      "2503. Maximum Number of Points From Grid Queries\n",
      "2504. Concatenate the Name and the Profession\n",
      "2505. Bitwise OR of All Subsequence Sums\n",
      "2506. Count Pairs Of Similar Strings\n",
      "2507. Smallest Value After Replacing With Sum of Prime Factors\n",
      "2508. Add Edges to Make Degrees of All Nodes Even\n",
      "2509. Cycle Length Queries in a Tree\n",
      "2510. Check if There is a Path With Equal Number of 0's And 1's\n",
      "2511. Maximum Enemy Forts That Can Be Captured\n",
      "2512. Reward Top K Students\n",
      "2513. Minimize the Maximum of Two Arrays\n",
      "2514. Count Anagrams\n",
      "2515. Shortest Distance to Target String in a Circular Array\n",
      "2516. Take K of Each Character From Left and Right\n",
      "2517. Maximum Tastiness of Candy Basket\n",
      "2518. Number of Great Partitions\n",
      "2519. Count the Number of K-Big Indices\n",
      "2520. Count the Digits That Divide a Number\n",
      "2521. Distinct Prime Factors of Product of Array\n",
      "2522. Partition String Into Substrings With Values at Most K\n",
      "2523. Closest Prime Numbers in Range\n",
      "2524. Maximum Frequency Score of a Subarray\n",
      "2525. Categorize Box According to Criteria\n",
      "2526. Find Consecutive Integers from a Data Stream\n",
      "2527. Find Xor-Beauty of Array\n",
      "2528. Maximize the Minimum Powered City\n",
      "2529. Maximum Count of Positive Integer and Negative Integer\n",
      "2530. Maximal Score After Applying K Operations\n",
      "2531. Make Number of Distinct Characters Equal\n",
      "2532. Time to Cross a Bridge\n",
      "2533. Number of Good Binary Strings\n",
      "2534. Time Taken to Cross the Door\n",
      "2535. Difference Between Element Sum and Digit Sum of an Array\n",
      "2536. Increment Submatrices by One\n",
      "2537. Count the Number of Good Subarrays\n",
      "2538. Difference Between Maximum and Minimum Price Sum\n",
      "2539. Count the Number of Good Subsequences\n",
      "2540. Minimum Common Value\n",
      "2541. Minimum Operations to Make Array Equal II\n",
      "2542. Maximum Subsequence Score\n",
      "2543. Check if Point Is Reachable\n",
      "2544. Alternating Digit Sum\n",
      "2545. Sort the Students by Their Kth Score\n",
      "2546. Apply Bitwise Operations to Make Strings Equal\n",
      "2547. Minimum Cost to Split an Array\n",
      "2548. Maximum Price to Fill a Bag\n",
      "2549. Count Distinct Numbers on Board\n",
      "2550. Count Collisions of Monkeys on a Polygon\n",
      "2551. Put Marbles in Bags\n",
      "2552. Count Increasing Quadruplets\n",
      "2553. Separate the Digits in an Array\n",
      "2554. Maximum Number of Integers to Choose From a Range I\n",
      "2555. Maximize Win From Two Segments\n",
      "2556. Disconnect Path in a Binary Matrix by at Most One Flip\n",
      "2557. Maximum Number of Integers to Choose From a Range II\n",
      "2558. Take Gifts From the Richest Pile\n",
      "2559. Count Vowel Strings in Ranges\n",
      "2560. House Robber IV\n",
      "2561. Rearranging Fruits\n",
      "2562. Find the Array Concatenation Value\n",
      "2563. Count the Number of Fair Pairs\n",
      "2564. Substring XOR Queries\n",
      "2565. Subsequence With the Minimum Score\n",
      "2566. Maximum Difference by Remapping a Digit\n",
      "2567. Minimum Score by Changing Two Elements\n",
      "2568. Minimum Impossible OR\n",
      "2569. Handling Sum Queries After Update\n",
      "2570. Merge Two 2D Arrays by Summing Values\n",
      "2571. Minimum Operations to Reduce an Integer to 0\n",
      "2572. Count the Number of Square-Free Subsets\n",
      "2573. Find the String with LCP\n",
      "2574. Left and Right Sum Differences\n",
      "2575. Find the Divisibility Array of a String\n",
      "2576. Find the Maximum Number of Marked Indices\n",
      "2577. Minimum Time to Visit a Cell In a Grid\n",
      "2578. Split With Minimum Sum\n",
      "2579. Count Total Number of Colored Cells\n",
      "2580. Count Ways to Group Overlapping Ranges\n",
      "2581. Count Number of Possible Root Nodes\n",
      "2582. Pass the Pillow\n",
      "2583. Kth Largest Sum in a Binary Tree\n",
      "2584. Split the Array to Make Coprime Products\n",
      "2585. Number of Ways to Earn Points\n",
      "2586. Count the Number of Vowel Strings in Range\n",
      "2587. Rearrange Array to Maximize Prefix Score\n",
      "2588. Count the Number of Beautiful Subarrays\n",
      "2589. Minimum Time to Complete All Tasks\n",
      "2590. Design a Todo List\n",
      "2591. Distribute Money to Maximum Children\n",
      "2592. Maximize Greatness of an Array\n",
      "2593. Find Score of an Array After Marking All Elements\n",
      "2594. Minimum Time to Repair Cars\n",
      "2595. Number of Even and Odd Bits\n",
      "2596. Check Knight Tour Configuration\n",
      "2597. The Number of Beautiful Subsets\n",
      "2598. Smallest Missing Non-negative Integer After Operations\n",
      "2599. Make the Prefix Sum Non-negative\n",
      "2600. K Items With the Maximum Sum\n",
      "2601. Prime Subtraction Operation\n",
      "2602. Minimum Operations to Make All Array Elements Equal\n",
      "2603. Collect Coins in a Tree\n",
      "2604. Minimum Time to Eat All Grains\n",
      "2605. Form Smallest Number From Two Digit Arrays\n",
      "2606. Find the Substring With Maximum Cost\n",
      "2607. Make K-Subarray Sums Equal\n",
      "2608. Shortest Cycle in a Graph\n",
      "2609. Find the Longest Balanced Substring of a Binary String\n",
      "2610. Convert an Array Into a 2D Array With Conditions\n",
      "2611. Mice and Cheese\n",
      "2612. Minimum Reverse Operations\n",
      "2613. Beautiful Pairs\n",
      "2614. Prime In Diagonal\n",
      "2615. Sum of Distances\n",
      "2616. Minimize the Maximum Difference of Pairs\n",
      "2617. Minimum Number of Visited Cells in a Grid\n",
      "2618. Check if Object Instance of Class\n",
      "2619. Array Prototype Last\n",
      "2620. Counter\n",
      "2621. Sleep\n",
      "2622. Cache With Time Limit\n",
      "2623. Memoize\n",
      "2624. Snail Traversal\n",
      "2625. Flatten Deeply Nested Array\n",
      "2626. Array Reduce Transformation\n",
      "2627. Debounce\n",
      "2628. JSON Deep Equal\n",
      "2629. Function Composition\n",
      "2630. Memoize II\n",
      "2631. Group By\n",
      "2632. Curry\n",
      "2633. Convert Object to JSON String\n",
      "2634. Filter Elements from Array\n",
      "2635. Apply Transform Over Each Element in Array\n",
      "2636. Promise Pool\n",
      "2637. Promise Time Limit\n",
      "2638. Count the Number of K-Free Subsets\n",
      "2639. Find the Width of Columns of a Grid\n",
      "2640. Find the Score of All Prefixes of an Array\n",
      "2641. Cousins in Binary Tree II\n",
      "2642. Design Graph With Shortest Path Calculator\n",
      "2643. Row With Maximum Ones\n",
      "2644. Find the Maximum Divisibility Score\n",
      "2645. Minimum Additions to Make Valid String\n",
      "2646. Minimize the Total Price of the Trips\n",
      "2647. Color the Triangle Red\n",
      "2648. Generate Fibonacci Sequence\n",
      "2649. Nested Array Generator\n",
      "2650. Design Cancellable Function\n",
      "2651. Calculate Delayed Arrival Time\n",
      "2652. Sum Multiples\n",
      "2653. Sliding Subarray Beauty\n",
      "2654. Minimum Number of Operations to Make All Array Elements Equal to 1\n",
      "2655. Find Maximal Uncovered Ranges\n",
      "2656. Maximum Sum With Exactly K Elements\n",
      "2657. Find the Prefix Common Array of Two Arrays\n",
      "2658. Maximum Number of Fish in a Grid\n",
      "2659. Make Array Empty\n",
      "2660. Determine the Winner of a Bowling Game\n",
      "2661. First Completely Painted Row or Column\n",
      "2662. Minimum Cost of a Path With Special Roads\n",
      "2663. Lexicographically Smallest Beautiful String\n",
      "2664. The Knight’s Tour\n",
      "2665. Counter II\n",
      "2666. Allow One Function Call\n",
      "2667. Create Hello World Function\n",
      "2668. Find Latest Salaries\n",
      "2669. Count Artist Occurrences On Spotify Ranking List\n",
      "2670. Find the Distinct Difference Array\n",
      "2671. Frequency Tracker\n",
      "2672. Number of Adjacent Elements With the Same Color\n",
      "2673. Make Costs of Paths Equal in a Binary Tree\n",
      "2674. Split a Circular Linked List\n",
      "2675. Array of Objects to Matrix\n",
      "2676. Throttle\n",
      "2677. Chunk Array\n",
      "2678. Number of Senior Citizens\n",
      "2679. Sum in a Matrix\n",
      "2680. Maximum OR\n",
      "2681. Power of Heroes\n",
      "2682. Find the Losers of the Circular Game\n",
      "2683. Neighboring Bitwise XOR\n",
      "2684. Maximum Number of Moves in a Grid\n",
      "2685. Count the Number of Complete Components\n",
      "2686. Immediate Food Delivery III\n",
      "2687. Bikes Last Time Used\n",
      "2688. Find Active Users\n",
      "2689. Extract Kth Character From The Rope Tree\n",
      "2690. Infinite Method Object\n",
      "2691. Immutability Helper\n",
      "2692. Make Object Immutable\n",
      "2693. Call Function with Custom Context\n",
      "2694. Event Emitter\n",
      "2695. Array Wrapper\n",
      "2696. Minimum String Length After Removing Substrings\n",
      "2697. Lexicographically Smallest Palindrome\n"
     ]
    },
    {
     "name": "stdout",
     "output_type": "stream",
     "text": [
      "2698. Find the Punishment Number of an Integer\n",
      "2699. Modify Graph Edge Weights\n",
      "2700. Differences Between Two Objects\n",
      "2701. Consecutive Transactions with Increasing Amounts\n"
     ]
    }
   ],
   "source": []
  },
  {
   "cell_type": "code",
   "execution_count": null,
   "id": "545a8117",
   "metadata": {},
   "outputs": [],
   "source": []
  },
  {
   "cell_type": "code",
   "execution_count": null,
   "id": "74380398",
   "metadata": {},
   "outputs": [],
   "source": []
  },
  {
   "cell_type": "code",
   "execution_count": null,
   "id": "3154ddda",
   "metadata": {},
   "outputs": [],
   "source": []
  },
  {
   "cell_type": "code",
   "execution_count": 9,
   "id": "e3b93f3c",
   "metadata": {},
   "outputs": [],
   "source": [
    "df_new = pd.DataFrame(data, columns=[\"Type\"])"
   ]
  },
  {
   "cell_type": "code",
   "execution_count": 10,
   "id": "b551397b",
   "metadata": {},
   "outputs": [],
   "source": [
    "df_new.to_csv(\"type.csv\", index=False)"
   ]
  },
  {
   "cell_type": "code",
   "execution_count": null,
   "id": "69619ea6",
   "metadata": {},
   "outputs": [],
   "source": []
  }
 ],
 "metadata": {
  "kernelspec": {
   "display_name": "Python 3 (ipykernel)",
   "language": "python",
   "name": "python3"
  },
  "language_info": {
   "codemirror_mode": {
    "name": "ipython",
    "version": 3
   },
   "file_extension": ".py",
   "mimetype": "text/x-python",
   "name": "python",
   "nbconvert_exporter": "python",
   "pygments_lexer": "ipython3",
   "version": "3.10.10"
  }
 },
 "nbformat": 4,
 "nbformat_minor": 5
}
