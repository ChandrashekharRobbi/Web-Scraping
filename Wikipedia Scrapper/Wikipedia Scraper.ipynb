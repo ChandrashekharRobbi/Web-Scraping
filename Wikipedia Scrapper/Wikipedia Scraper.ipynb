{
 "cells": [
  {
   "cell_type": "markdown",
   "id": "ce8c95a4",
   "metadata": {},
   "source": [
    "# Wikipedia Scraper"
   ]
  },
  {
   "cell_type": "code",
   "execution_count": 1,
   "id": "8e72372c",
   "metadata": {},
   "outputs": [],
   "source": [
    "import requests\n",
    "from bs4 import BeautifulSoup\n",
    "import pandas as pd"
   ]
  },
  {
   "cell_type": "markdown",
   "id": "eb8db1c2",
   "metadata": {},
   "source": [
    "### Scraping the details of `Sundar Pichai Sir` from wikipedia\n",
    "\n",
    ">https://en.wikipedia.org/wiki/Sundar_Pichai"
   ]
  },
  {
   "cell_type": "code",
   "execution_count": 2,
   "id": "7a8dff91",
   "metadata": {},
   "outputs": [],
   "source": [
    "res = requests.get('https://en.wikipedia.org/wiki/Sundar_Pichai')"
   ]
  },
  {
   "cell_type": "code",
   "execution_count": 3,
   "id": "8d49c1b4",
   "metadata": {},
   "outputs": [],
   "source": [
    "soup = BeautifulSoup(res.text, 'html.parser')"
   ]
  },
  {
   "cell_type": "code",
   "execution_count": 4,
   "id": "c6befda2",
   "metadata": {},
   "outputs": [],
   "source": [
    "Title = soup.find('h1').text"
   ]
  },
  {
   "cell_type": "code",
   "execution_count": 5,
   "id": "56751e2c",
   "metadata": {},
   "outputs": [
    {
     "data": {
      "text/plain": [
       "'Sundar Pichai'"
      ]
     },
     "execution_count": 5,
     "metadata": {},
     "output_type": "execute_result"
    }
   ],
   "source": [
    "Title"
   ]
  },
  {
   "cell_type": "code",
   "execution_count": 12,
   "id": "3c4e7498",
   "metadata": {},
   "outputs": [],
   "source": [
    "corpus = ''\n",
    "\n",
    "for p in soup.find_all('p')[2:]:\n",
    "    corpus += p.text\n",
    "    corpus += '\\n'\n",
    "corpus = corpus.strip()"
   ]
  },
  {
   "cell_type": "code",
   "execution_count": 13,
   "id": "142aed5e",
   "metadata": {},
   "outputs": [
    {
     "name": "stdout",
     "output_type": "stream",
     "text": [
      "Pichai Sundararajan (born June 10, 1972[3][4][5]), better known as Sundar Pichai (/ˈsʊndɑːr pɪˈtʃaɪ/), is an Indian-American business executive.[6] He is the chief executive officer (CEO) of Alphabet Inc. and its subsidiary Google.[7]\n",
      "\n",
      "Born in Madurai, India,[4] Pichai earned his degree from IIT Kharagpur in metallurgical engineering. Moving to the United States, he attained an M.S. from Stanford University in materials science and engineering and further attained an MBA from the Wharton School of the University of Pennsylvania, where he was named a Siebel Scholar and a Palmer Scholar, respectively.[8]\n",
      "\n",
      "Pichai began his career as a materials engineer. Following a short stint at the management consulting firm McKinsey & Co., Pichai joined Google in 2004,[9] where he led the product management and innovation efforts for a suite of Google's client software products, including Google Chrome and ChromeOS, as well as being largely responsible for Google Drive. In addition, he went on to oversee the development of other applications such as Gmail and Google Maps. In 2010, Pichai also announced the open-sourcing of the new video codec VP8 by Google and introduced the new video format, WebM. The Chromebook was released in 2012. In 2013, Pichai added Android to the list of Google products that he oversaw.\n",
      "\n",
      "Pichai was selected to become the next CEO of Google on August 10, 2015, after previously being appointed Product Chief by CEO Larry Page. On October 24, 2015, he stepped into the new position at the completion of the formation of Alphabet Inc., the new holding company for the Google company family. He was appointed to the Alphabet Board of Directors in 2017.[10]\n",
      "\n",
      "Pichai was included in Time's annual list of the 100 most influential people in 2016[11] and 2020.[12]\n",
      "\n",
      "Pichai was born in Madurai, Tamil Nadu, India.[13][14][15] His mother, Lakshmi, was a stenographer, and his father, Regunatha Pichai, was an electrical engineer at GEC, the British conglomerate. His father also had a manufacturing plant that produced electrical components.[16][17]\n",
      "\n",
      "Pichai completed schooling in Jawahar Vidyalaya Senior Secondary School[18] in Ashok Nagar, Chennai and completed the Class XII from Vana Vani school at IIT Madras.[19][20] He earned his degree from IIT Kharagpur in metallurgical engineering and is a distinguished alumnus from that institution.[21] He holds an M.S. from Stanford University in materials science and engineering, and an MBA from the Wharton School of the University of Pennsylvania,[22] where he was named a Siebel Scholar and a Palmer Scholar, respectively.[3][23][24]\n",
      "\n",
      "Pichai worked in engineering and product management at Applied Materials and in management consulting at McKinsey & Company.[25] Pichai joined Google in 2004, where he led the product management and innovation efforts for a suite of Google's client software products, including Google Chrome[26] and ChromeOS, as well as being largely responsible for Google Drive. He went on to oversee the development of other applications such as Gmail and Google Maps.[27][28] On November 19, 2009, Pichai gave a demonstration of ChromeOS; the Chromebook was released for trial and testing in 2011, and released to the public in 2012.[29] On May 20, 2010, he announced the open-sourcing of the new video codec VP8 by Google and introduced the new video format, WebM.[30]\n",
      "\n",
      "On March 13, 2013, Pichai added Android to the list of Google products that he oversaw. Android was formerly managed by Andy Rubin.[31] He was a director of Jive Software from April 2011 to July 30, 2013.[32][33][34] Pichai was selected to become the next CEO of Google on August 10, 2015[35] after previously being appointed Product Chief by CEO, Larry Page. On October 24, 2015, he stepped into the new position at the completion of the formation of Alphabet Inc., the new holding company for the Google company family.[36][34][37]\n",
      "\n",
      "Pichai had been suggested as a contender for Microsoft's CEO in 2014, a position that was eventually given to Satya Nadella.[38][39]\n",
      "\n",
      "In August 2017, Pichai drew publicity for firing a Google employee who wrote a ten-page manifesto criticizing the company's diversity policies.[40][41][42][43][44]\n",
      "\n",
      "In December 2017, Pichai was a speaker at the World Internet Conference in China, where he stated that \"a lot of work Google does is to help Chinese companies. There are many small and medium-sized businesses in China who take advantage of Google to get their products to many other countries outside of China.\"[45][46]\n",
      "\n",
      "In December 2019, Pichai became the CEO of Alphabet Inc.[47][48]\n",
      "\n",
      "In December 2020, Pichai delivered a speech virtually at the Singapore FinTech Festival emphasizing inclusive digital economy.[49]\n",
      "\n",
      "Pichai said at the conclusion of his speech,\n",
      "\n",
      "On December 11, 2018, Sundar Pichai was questioned by the U.S. House Judiciary Committee on a range of Google-related issues such as possible political bias on Google's platforms, the company's alleged plans for a \"censored search app\" in China, and its privacy practices.[52] In response, Pichai informed the committee that Google employees cannot influence search results. He also stated that Google users can opt out of having their data collected and that \"there are no current plans for a censored search engine\" in China.[53]\n",
      "\n",
      "In October 2020, the United States Senate Committee on Commerce, Science, and Transportation unanimously voted in favor of, and on a bipartisan basis, to subpoena Pichai, along with the CEOs of Facebook and Twitter, to testify before the committee in response to lawmakers' concerns over the technology industry's exemption from Section 230 of the Communications Decency Act of 1934.[54]\n",
      "\n",
      "In 2022, Pichai received the Padma Bhushan from the Government of India, its third-highest civilian award.[55][56] On 3rd Dec 2022, Taranjit Singh Sandhu (India's Ambassador to the US) handed over the Padma Bhushan Award to Google and Alphabet CEO Sundar Pichai in San Francisco.[57]\n",
      "\n",
      "Pichai is married to Anjali Pichai and has two children.[58] His recreational interests include cricket and football.[59][60]\n"
     ]
    }
   ],
   "source": [
    "print(corpus)"
   ]
  },
  {
   "cell_type": "code",
   "execution_count": 20,
   "id": "68adf5f6",
   "metadata": {},
   "outputs": [],
   "source": [
    "# remove the numbers like [i]\n",
    "\n",
    "for i in range(3,61):\n",
    "    k = f'[{i}]'\n",
    "    corpus = corpus.replace(k, '')"
   ]
  },
  {
   "cell_type": "code",
   "execution_count": 21,
   "id": "5638b980",
   "metadata": {},
   "outputs": [
    {
     "name": "stdout",
     "output_type": "stream",
     "text": [
      "Pichai Sundararajan (born June 10, 1972), better known as Sundar Pichai (/ˈsʊndɑːr pɪˈtʃaɪ/), is an Indian-American business executive. He is the chief executive officer (CEO) of Alphabet Inc. and its subsidiary Google.\n",
      "\n",
      "Born in Madurai, India, Pichai earned his degree from IIT Kharagpur in metallurgical engineering. Moving to the United States, he attained an M.S. from Stanford University in materials science and engineering and further attained an MBA from the Wharton School of the University of Pennsylvania, where he was named a Siebel Scholar and a Palmer Scholar, respectively.\n",
      "\n",
      "Pichai began his career as a materials engineer. Following a short stint at the management consulting firm McKinsey & Co., Pichai joined Google in 2004, where he led the product management and innovation efforts for a suite of Google's client software products, including Google Chrome and ChromeOS, as well as being largely responsible for Google Drive. In addition, he went on to oversee the development of other applications such as Gmail and Google Maps. In 2010, Pichai also announced the open-sourcing of the new video codec VP8 by Google and introduced the new video format, WebM. The Chromebook was released in 2012. In 2013, Pichai added Android to the list of Google products that he oversaw.\n",
      "\n",
      "Pichai was selected to become the next CEO of Google on August 10, 2015, after previously being appointed Product Chief by CEO Larry Page. On October 24, 2015, he stepped into the new position at the completion of the formation of Alphabet Inc., the new holding company for the Google company family. He was appointed to the Alphabet Board of Directors in 2017.\n",
      "\n",
      "Pichai was included in Time's annual list of the 100 most influential people in 2016 and 2020.\n",
      "\n",
      "Pichai was born in Madurai, Tamil Nadu, India. His mother, Lakshmi, was a stenographer, and his father, Regunatha Pichai, was an electrical engineer at GEC, the British conglomerate. His father also had a manufacturing plant that produced electrical components.\n",
      "\n",
      "Pichai completed schooling in Jawahar Vidyalaya Senior Secondary School in Ashok Nagar, Chennai and completed the Class XII from Vana Vani school at IIT Madras. He earned his degree from IIT Kharagpur in metallurgical engineering and is a distinguished alumnus from that institution. He holds an M.S. from Stanford University in materials science and engineering, and an MBA from the Wharton School of the University of Pennsylvania, where he was named a Siebel Scholar and a Palmer Scholar, respectively.\n",
      "\n",
      "Pichai worked in engineering and product management at Applied Materials and in management consulting at McKinsey & Company. Pichai joined Google in 2004, where he led the product management and innovation efforts for a suite of Google's client software products, including Google Chrome and ChromeOS, as well as being largely responsible for Google Drive. He went on to oversee the development of other applications such as Gmail and Google Maps. On November 19, 2009, Pichai gave a demonstration of ChromeOS; the Chromebook was released for trial and testing in 2011, and released to the public in 2012. On May 20, 2010, he announced the open-sourcing of the new video codec VP8 by Google and introduced the new video format, WebM.\n",
      "\n",
      "On March 13, 2013, Pichai added Android to the list of Google products that he oversaw. Android was formerly managed by Andy Rubin. He was a director of Jive Software from April 2011 to July 30, 2013. Pichai was selected to become the next CEO of Google on August 10, 2015 after previously being appointed Product Chief by CEO, Larry Page. On October 24, 2015, he stepped into the new position at the completion of the formation of Alphabet Inc., the new holding company for the Google company family.\n",
      "\n",
      "Pichai had been suggested as a contender for Microsoft's CEO in 2014, a position that was eventually given to Satya Nadella.\n",
      "\n",
      "In August 2017, Pichai drew publicity for firing a Google employee who wrote a ten-page manifesto criticizing the company's diversity policies.\n",
      "\n",
      "In December 2017, Pichai was a speaker at the World Internet Conference in China, where he stated that \"a lot of work Google does is to help Chinese companies. There are many small and medium-sized businesses in China who take advantage of Google to get their products to many other countries outside of China.\"\n",
      "\n",
      "In December 2019, Pichai became the CEO of Alphabet Inc.\n",
      "\n",
      "In December 2020, Pichai delivered a speech virtually at the Singapore FinTech Festival emphasizing inclusive digital economy.\n",
      "\n",
      "Pichai said at the conclusion of his speech,\n",
      "\n",
      "On December 11, 2018, Sundar Pichai was questioned by the U.S. House Judiciary Committee on a range of Google-related issues such as possible political bias on Google's platforms, the company's alleged plans for a \"censored search app\" in China, and its privacy practices. In response, Pichai informed the committee that Google employees cannot influence search results. He also stated that Google users can opt out of having their data collected and that \"there are no current plans for a censored search engine\" in China.\n",
      "\n",
      "In October 2020, the United States Senate Committee on Commerce, Science, and Transportation unanimously voted in favor of, and on a bipartisan basis, to subpoena Pichai, along with the CEOs of Facebook and Twitter, to testify before the committee in response to lawmakers' concerns over the technology industry's exemption from Section 230 of the Communications Decency Act of 1934.\n",
      "\n",
      "In 2022, Pichai received the Padma Bhushan from the Government of India, its third-highest civilian award. On 3rd Dec 2022, Taranjit Singh Sandhu (India's Ambassador to the US) handed over the Padma Bhushan Award to Google and Alphabet CEO Sundar Pichai in San Francisco.\n",
      "\n",
      "Pichai is married to Anjali Pichai and has two children. His recreational interests include cricket and football.\n"
     ]
    }
   ],
   "source": [
    "print(corpus)"
   ]
  },
  {
   "cell_type": "code",
   "execution_count": 24,
   "id": "8dde1419",
   "metadata": {},
   "outputs": [],
   "source": [
    "# save the file in text format\n",
    "\n",
    "with open('Sunder Pichai.txt','w',encoding='utf-8') as fd:\n",
    "    fd.write(corpus)"
   ]
  },
  {
   "cell_type": "markdown",
   "id": "4b505f49",
   "metadata": {},
   "source": [
    "### Scraping the details of `Elon Musk Sir` from wikipedia\n",
    "\n",
    "> https://en.wikipedia.org/wiki/Elon_Musk"
   ]
  },
  {
   "cell_type": "code",
   "execution_count": 27,
   "id": "2c1e75d2",
   "metadata": {},
   "outputs": [],
   "source": [
    "res = requests.get('https://en.wikipedia.org/wiki/Elon_Musk')"
   ]
  },
  {
   "cell_type": "code",
   "execution_count": 28,
   "id": "1c7955c7",
   "metadata": {},
   "outputs": [],
   "source": [
    "soup = BeautifulSoup(res.text, 'html.parser')"
   ]
  },
  {
   "cell_type": "code",
   "execution_count": 42,
   "id": "320fb4ce",
   "metadata": {},
   "outputs": [],
   "source": [
    "Title = soup.find('h1').text"
   ]
  },
  {
   "cell_type": "code",
   "execution_count": 39,
   "id": "03318d90",
   "metadata": {},
   "outputs": [],
   "source": [
    "corpus = ''\n",
    "\n",
    "for p in soup.find_all('p')[2:]:\n",
    "    corpus += p.text\n",
    "    corpus += '\\n'\n",
    "    \n",
    "corpus = corpus.strip()"
   ]
  },
  {
   "cell_type": "code",
   "execution_count": 40,
   "id": "6f8303de",
   "metadata": {},
   "outputs": [],
   "source": [
    "for i in range(4,494):\n",
    "    k = f'[{i}]'\n",
    "    corpus = corpus.replace(k,'')"
   ]
  },
  {
   "cell_type": "code",
   "execution_count": 41,
   "id": "40fc8a25",
   "metadata": {},
   "outputs": [
    {
     "name": "stdout",
     "output_type": "stream",
     "text": [
      "Elon Reeve Musk FRS (/ˈiːlɒn/ EE-lon; born June 28, 1971) is a business magnate and investor. He is the founder, CEO and chief engineer of SpaceX; angel investor, CEO and product architect of Tesla, Inc.; owner and CEO of Twitter, Inc.; founder of The Boring Company; co-founder of Neuralink and OpenAI; and president of the philanthropic Musk Foundation. With an estimated net worth of around $139 billion as of December 23, 2022, primarily from his ownership stakes in Tesla and SpaceX, Musk is the second-wealthiest person in the world, according to both the Bloomberg Billionaires Index and Forbes's real-time billionaires list.\n",
      "\n",
      "Musk was born in Pretoria, South Africa, and briefly attended at the University of Pretoria before moving to Canada at age 18, acquiring citizenship through his Canadian-born mother. Two years later, he matriculated at Queen's University and transferred to the University of Pennsylvania, where he received bachelor's degrees in economics and physics. He moved to California in 1995 to attend Stanford University. After two days, he dropped out and with his brother Kimbal, co-founded the online city guide software company Zip2. In 1999, Zip2 was acquired by Compaq for $307 million and Musk co-founded X.com, a direct bank. X.com merged with Confinity in 2000 to form PayPal, which eBay acquired for $1.5 billion in 2002.\n",
      "\n",
      "With $175.8 million, Musk founded SpaceX in 2002, a spaceflight services company. In 2004, he was an early investor in the electric vehicle manufacturer Tesla Motors, Inc. (now Tesla, Inc.). He became its chairman and product architect, assuming the position of CEO in 2008. In 2006, he helped create SolarCity, a solar energy company that was later acquired by Tesla and became Tesla Energy. In 2015, he co-founded OpenAI, a nonprofit artificial intelligence research company. The following year, he co-founded Neuralink—a neurotechnology company developing brain–computer interfaces—and The Boring Company, a tunnel construction company. Musk has also proposed a hyperloop high-speed vactrain transportation system. In 2022, his acquisition of Twitter for $44 billion was completed. \n",
      "\n",
      "Musk has made controversial statements on politics and technology, particularly on Twitter, and is a polarizing figure. He has been criticized for making unscientific and misleading statements, including spreading COVID-19 misinformation. In 2018, the U.S. Securities and Exchange Commission (SEC) sued Musk for falsely tweeting that he had secured funding for a private takeover of Tesla. Musk stepped down as chairman of Tesla and paid a $20 million fine as part of a settlement agreement with the SEC.\n",
      "\n",
      "Elon Reeve Musk was born on June 28, 1971, in Pretoria, one of South Africa's capital cities. Musk has British and Pennsylvania Dutch ancestry. His mother is Maye Musk (née Haldeman), a model and dietitian born in Saskatchewan, Canada, and raised in South Africa. His father, Errol Musk, is a South African electromechanical engineer, pilot, sailor, consultant, and property developer, who was a half-owner of a Zambian emerald mine near Lake Tanganyika. Musk has a younger brother, Kimbal, and a younger sister, Tosca.\n",
      "\n",
      "Musk's family was wealthy during his youth. His father was elected to the Pretoria City Council as a representative of the anti-apartheid Progressive Party, with his children cited as sharing their father's dislike of apartheid. His maternal grandfather, Joshua Haldeman, was an adventurous American-born Canadian who took his family on record-breaking journeys to Africa and Australia in a single-engine Bellanca airplane. After his parents divorced in 1980, Musk chose to mostly live with his father. Musk regretted his decision and has become estranged from his father. He has a paternal half-sister and a half-brother.\n",
      "\n",
      "Ashlee Vance described Musk as an awkward and introverted child. At age ten, he developed an interest in computing and video games, teaching himself how to program from the VIC-20 user manual. At age twelve, he sold his BASIC-based game Blastar to PC and Office Technology magazine for approximately $500.\n",
      "\n",
      "Musk attended Waterkloof House Preparatory School, Bryanston High School, and Pretoria Boys High School, from which he graduated. Musk applied for a Canadian passport through his Canadian-born mother, knowing that it would be easier to immigrate to the United States this way. While waiting for his application to be processed, he attended the University of Pretoria for five months.\n",
      "\n",
      "Musk arrived in Canada in June 1989 and lived with a second cousin in Saskatchewan for a year, working odd jobs at a farm and lumber mill. In 1990, he entered Queen's University in Kingston, Ontario. Two years later, he transferred to the University of Pennsylvania (UPenn), where he completed studies for a Bachelor of Arts degree in physics and a Bachelor of Science degree in economics from the Wharton School. Although Musk claims he earned the degrees in 1995, UPenn maintains it awarded them in 1997. He reportedly hosted large, ticketed house parties to help pay for tuition, and wrote a business plan for an electronic book-scanning service similar to Google Books.\n",
      "\n",
      "In 1994, Musk held two internships in Silicon Valley: one at the energy storage startup Pinnacle Research Institute, which investigated electrolytic ultracapacitors for energy storage, and another at the Palo Alto–based startup Rocket Science Games. In 1995, he was accepted to a PhD program in materials science at Stanford University. However, Musk decided to join the Internet boom, instead dropping out two days after being accepted and applied for a job at Netscape, to which he reportedly never received a response.\n",
      "\n",
      "In 1995, Musk, his brother Kimbal, and Greg Kouri founded Zip2. Errol Musk provided them with $28,000 in funding. The company developed an Internet city guide with maps, directions, and yellow pages, and marketed it to newspapers. They worked at a small rented office in Palo Alto, Musk coding the website every night. Eventually, Zip2 obtained contracts with The New York Times and the Chicago Tribune. The brothers persuaded the board of directors to abandon a merger with CitySearch; however, Musk's attempts to become CEO were thwarted. Compaq acquired Zip2 for $307 million in cash in February 1999, and Musk received $22 million for his 7-percent share.\n",
      "\n",
      "Later in 1999, Musk co-founded X.com, an online financial services and e-mail payment company. X.com was one of the first federally insured online banks, and over 200,000 customers joined in its initial months of operation. Even though Musk founded the company, investors regarded him as inexperienced and replaced him with Intuit CEO Bill Harris by the end of the year.\n",
      "\n",
      "In 2000, X.com merged with online bank Confinity to avoid competition, as Confinity's money-transfer service PayPal was more popular than X.com's service. Musk then returned as CEO of the merged company. His preference for Microsoft over Unix-based software caused a rift among the company's employees, and led Peter Thiel, Confinity's founder, to resign. With the company suffering from compounding technological issues and the lack of a cohesive business model, the board ousted Musk and replaced him with Thiel in September 2000.[b] Under Thiel, the company focused on the money-transfer service and was renamed PayPal in 2001.\n",
      "\n",
      "In 2002, PayPal was acquired by eBay for $1.5 billion in stock, of which Musk—the largest shareholder with 11.72% of shares—received $175.8 million. In 2017, more than 15 years later, Musk purchased the X.com domain from PayPal for its sentimental value. In 2022, Musk discussed a goal of creating \"X, the everything app\".\n",
      "\n",
      "In early 2001, Musk became involved with the nonprofit Mars Society and discussed funding plans to place a growth-chamber for plants on Mars. In October of the same year, he traveled to Moscow with Jim Cantrell and Adeo Ressi to buy refurbished intercontinental ballistic missiles (ICBMs) that could send the greenhouse payloads into space. He met with the companies NPO Lavochkin and Kosmotras; however, Musk was seen as a novice and the group returned to the United States empty-handed. In February 2002, the group returned to Russia with Mike Griffin (president of In-Q-Tel) to look for three ICBMs. They had another meeting with Kosmotras and were offered one rocket for $8 million, which Musk rejected. He instead decided to start a company that could build affordable rockets. With $100 million of his own money, Musk founded SpaceX in May 2002 and became the company's CEO and Chief Engineer.\n",
      "\n",
      "SpaceX attempted its first launch of the Falcon 1 rocket in 2006. Though the rocket failed to reach Earth orbit, it was awarded a Commercial Orbital Transportation Services program contract from NASA Administrator (and former SpaceX consultant) Mike Griffin later that year. After two more failed attempts that nearly caused Musk and his companies to go bankrupt, SpaceX succeeded in launching the Falcon 1 into orbit in 2008. Later that year, SpaceX received a $1.6 billion Commercial Resupply Services contract from NASA for 12 flights of its Falcon 9 rocket and Dragon spacecraft to the International Space Station, replacing the Space Shuttle after its 2011 retirement. In 2012, the Dragon vehicle docked with the ISS, a first for a commercial spacecraft.\n",
      "\n",
      "Working towards its goal of reusable rockets, in 2015 SpaceX successfully landed the first stage of a Falcon 9 on an inland platform. Later landings were achieved on autonomous spaceport drone ships, an ocean-based recovery platform. In 2018, SpaceX launched the Falcon Heavy; the inaugural mission carried Musk's personal Tesla Roadster as a dummy payload. Since 2019, SpaceX has been developing Starship, a fully-reusable, super-heavy-lift launch vehicle intended to replace the Falcon 9 and the Falcon Heavy. In 2020, SpaceX launched its first crewed flight, the Demo-2, becoming the first private company to place astronauts into orbit and dock a crewed spacecraft with the ISS.\n",
      "\n",
      "In 2015, SpaceX began development of the Starlink constellation of low-Earth-orbit satellites to provide satellite Internet access, with the first two prototype satellites launched in February 2018. A second set of test satellites, and the first large deployment of a piece of the constellation, occurred in May 2019, when the first 60 operational satellites were launched. The total cost of the decade-long project to design, build, and deploy the constellation is estimated by SpaceX to be about $10 billion.[c] Some critics, including the International Astronomical Union, have alleged that Starlink blocks the view of the sky and poses a collision threat to spacecraft.\n",
      "\n",
      "During the 2022 Russian invasion of Ukraine, Musk sent Starlink terminals to Ukraine to provide Internet access and communication. However, Musk refused to block Russian state media on Starlink, declaring himself \"a free speech absolutist\". In October 2022, Musk stated that about 20,000 satellite terminals had been donated to Ukraine, together with free data transfer subscriptions, which cost SpaceX $80 million. After asking the United States Department of Defense to pay for further units and future subscriptions on behalf of Ukraine, Musk publicly stated that SpaceX would continue to provide Starlink to Ukraine for free, at a yearly cost to itself of $400 million.\n",
      "\n",
      "Tesla, Inc.—originally Tesla Motors—was incorporated in 2003 by Martin Eberhard and Marc Tarpenning, who financed the company until the Series A round of funding. Both men played active roles in the company's early development prior to Musk's involvement. Musk led the Series A round of investment in February 2004; he invested $6.5 million, became the majority shareholder, and joined Tesla's board of directors as chairman. Musk took an active role within the company and oversaw Roadster product design but was not deeply involved in day-to-day business operations.\n",
      "\n",
      "Following a series of escalating conflicts in 2007, and the financial crisis of 2007–2008, Eberhard was ousted from the firm.[page needed] Musk assumed leadership of the company as CEO and product architect in 2008. A 2009 lawsuit settlement with Eberhard designated Musk as a Tesla co-founder, along with Tarpenning and two others. As of 2019, Musk was the longest-tenured CEO of any automotive manufacturer globally. In 2021, Musk nominally changed his title to \"Technoking\" while retaining his position as CEO.\n",
      "\n",
      "Tesla first built an electric sports car, the Roadster, in 2008. With sales of about 2,500 vehicles, it was the first serial production all-electric car to use lithium-ion battery cells. Tesla began delivery of its four-door Model S sedan in 2012. A cross-over, the Model X was launched in 2015. A mass-market sedan, the Model 3, was released in 2017. The Model 3 is the all-time bestselling plug-in electric car worldwide, and in June 2021 it became the first electric car to sell 1 million units globally. A fifth vehicle, the Model Y crossover, was launched in 2020. The Cybertruck, an all-electric pickup truck, was unveiled in 2019. Under Musk, Tesla has also constructed multiple lithium-ion battery and electric vehicle factories, named Gigafactories.\n",
      "\n",
      "Since its initial public offering in 2010, Tesla stock has risen significantly; it became the most valuable carmaker in summer 2020, and it entered the S&P 500 later that year. In October 2021, it reached a market capitalization of $1 trillion, the sixth company in U.S. history to do so. In November 2021, Musk proposed, on Twitter, to sell 10% of his Tesla stock, since \"much is made lately of unrealized gains being a means of tax avoidance\". After more than 3.5 million Twitter accounts supported the sale, Musk sold $6.9 billion of Tesla stock within a week, and a total of $16.4 billion by year end, reaching the 10% target. In February 2022, The Wall Street Journal reported that both Elon and Kimbal Musk were under investigation by the SEC for possible insider trading related to the sale. In 2022, Musk unveiled a robot developed by Tesla, Optimus.\n",
      "\n",
      "In 2018, Musk was sued by the SEC for a tweet claiming that funding had been secured for potentially taking Tesla private.[d] The lawsuit characterized the tweet as false, misleading, and damaging to investors, and sought to bar Musk from serving as CEO of publicly traded companies. Two days later, Musk settled with the SEC, without admitting or denying the SEC's allegations. As a result, Musk and Tesla were fined $20 million each, and Musk was forced to step down for three years as Tesla chairman but was able to remain as CEO. Musk has stated in interviews that he does not regret posting the tweet that triggered the SEC investigation. In April 2022, the shareholder who sued Musk over the tweet, along with several Tesla shareholders, said that a federal judge had ruled that the tweet was false, although the ruling in question has not been unsealed.\n",
      "\n",
      "In 2019, Musk stated in a tweet that Tesla would build half a million cars that year. The SEC reacted to Musk's tweet by filing in court, asking the court to hold him in contempt for violating the terms of a settlement agreement with such a tweet; the accusation was disputed by Musk. This was eventually settled by a joint agreement between Musk and the SEC clarifying the previous agreement details. The agreement included a list of topics that Musk would need preclearance before tweeting about. In 2020, a judge prevented a lawsuit from proceeding that claimed a tweet by Musk regarding Tesla stock price (\"too high imo\") violated the agreement. FOIA-released records showed that the SEC itself concluded Musk has subsequently violated the agreement twice by tweeting regarding \"Tesla's solar roof production volumes and its stock price\".\n",
      "\n",
      "Musk provided the initial concept and financial capital for SolarCity, which his cousins Lyndon and Peter Rive founded in 2006. By 2013, SolarCity was the second largest provider of solar power systems in the United States. In 2014, Musk promoted the idea of SolarCity building an advanced production facility in Buffalo, New York, triple the size of the largest solar plant in the United States. Construction of the factory started in 2014 and was completed in 2017. It operated as a joint venture with Panasonic until early 2020.\n",
      "\n",
      "Tesla acquired SolarCity for over $2 billion in 2016 and merged it with its battery unit to create Tesla Energy. The deal's announcement resulted in a more than 10% drop in Tesla's stock price. At the time, SolarCity was facing liquidity issues. Multiple shareholder groups filed a lawsuit against Musk and Tesla's directors, claiming that the purchase of SolarCity was done solely to benefit Musk and came at the expense of Tesla and its shareholders. Tesla directors settled the lawsuit in January 2020, leaving Musk the sole remaining defendant. Two years later, the court ruled in Musk's favor.\n",
      "\n",
      "In 2016, Musk co-founded Neuralink, a neurotechnology startup company, with an investment of $100 million. Neuralink aims to integrate the human brain with artificial intelligence (AI) by creating devices that are embedded in the brain to facilitate its merging with machines. Such technology could enhance memory or allow the devices to communicate with software. The company also hopes to develop devices with which to treat neurological conditions such as Alzheimer's disease, dementia, and spinal cord injuries.\n",
      "\n",
      "In 2019, Musk announced work on a device akin to a sewing machine that could embed threads into a human brain. Musk is listed as the sole author of an October 2019 paper that details some of Neuralink's research, although Musk's being listed as such rankled the Neuralink team's researchers. At a 2020 live demonstration, Musk described one of their early devices as \"a Fitbit in your skull\" that could soon cure paralysis, deafness, blindness, and other disabilities. Many neuroscientists and publications criticized these claims, with MIT Technology Review describing them as \"highly speculative\" and \"neuroscience theater\". During the demonstration, Musk revealed a pig with a Neuralink implant that tracked neural activity related to smell. In 2022, Neuralink announced that clinical trials would begin by the end of the year.\n",
      "\n",
      "Neuralink has conducted further animal testing on macaque monkeys at the University of California, Davis' Primate Research Center. In 2021, the company released a video in which a Macaque played the video game Pong via a Neuralink implant. The company's animal trials—which have caused the deaths of some monkeys—have led to claims of animal cruelty. The Physicians Committee for Responsible Medicine has alleged that Neuralink's animal trials have violated the Animal Welfare Act. Employees have complained that pressure from Musk to accelerate development has led to botched experiments and unnecessary animal deaths. In 2022, a federal probe was launched into possible animal welfare violations by Neuralink.\n",
      "\n",
      "In 2017, Musk founded the Boring Company to construct tunnels and revealed plans for specialized, underground, high-occupancy vehicles that could travel up to 150 miles per hour (240 km/h) and thus circumvent above-ground traffic in major cities. Early in 2017, the company began discussions with regulatory bodies and initiated construction of a 30-foot (9.1 m) wide, 50-foot (15 m) long, and 15-foot (4.6 m) deep \"test trench\" on the premises of SpaceX's offices, as that required no permits. The Los Angeles tunnel, less than two miles (3.2 km) in length, debuted to journalists in 2018. It used Tesla Model X's and was reported to be a rough ride while traveling at suboptimal speeds.\n",
      "\n",
      "Two tunnel projects announced in 2018, in Chicago and West Los Angeles, have been canceled. However, a tunnel beneath the Las Vegas Convention Center was completed in early 2021. Local officials have approved further expansions of the tunnel system. In 2021, tunnel construction was approved for Fort Lauderdale, Florida.\n",
      "\n",
      "I made an offerhttps://sec.gov/Archives/edgar...\n",
      "\n",
      "April 14, 2022\n",
      "\n",
      "Musk expressed interest in buying Twitter as early as 2017, and had previously questioned the platform's commitment to freedom of speech. In January 2022, Musk started purchasing Twitter shares, reaching a 9.2% stake by April, making him the largest shareholder.[e] When this was publicly disclosed, Twitter shares experienced the largest intraday price surge since the company's 2013 IPO. On April 4, Musk agreed to a deal that would appoint him to Twitter's board of directors and prohibit him from acquiring more than 14.9% of the company. However, on April 13, Musk made a $43 billion offer to buy Twitter, launching a takeover bid to buy 100% of Twitter's stock at $54.20 per share. In response, Twitter's board adopted a \"poison pill\" shareholder rights plan to make it more expensive for any single investor to own more than 15% of the company without board approval. Nevertheless, by the end of the month Musk had successfully concluded his bid for approximately $44 billion. This included about $12.5 billion in loans against his Tesla stock and $21 billion in equity financing.\n",
      "\n",
      "Tesla's stock market value sank by over $100 billion the next day in reaction to the deal, causing Musk to lose around $30 billion of his net worth. He subsequently tweeted criticism of Twitter executive Vijaya Gadde's policies to his 86 million followers, which led to some of them engaging in sexist and racist harassment against her. Exactly a month after announcing the takeover, Musk stated that the deal was \"on hold\" following a report that 5% of Twitter's daily active users were spam accounts, causing Twitter shares to drop more than 10 percent. Although he initially affirmed his commitment to the acquisition, he sent notification of his termination of the deal in July; Twitter's Board of Directors responded that they were committed to holding him to the transaction. On July 12, 2022, Twitter formally sued Musk in the Chancery Court of Delaware for breaching a legally binding agreement to purchase Twitter. In October 2022, Musk reversed again, offering to purchase Twitter at $54.20 per share. The acquisition was officially completed on October 27.\n",
      "\n",
      "Immediately after the acquisition, Musk fired top Twitter executives like CEO Parag Agrawal, whom he replaced. He instituted an $8 monthly subscription for a \"blue check\", and laid off a significant portion of the company's staff. Musk lessened content moderation, and in December, Musk released internal documents relating to Twitter's moderation of Hunter Biden's laptop in the leadup to the 2020 presidential election. The Southern Poverty Law Center noted that Twitter has verified numerous extremists. A study of millions of tweets following the acquisition indicated that hate speech on the platform has become \"more visible\" under Musk's leadership.\n",
      "\n",
      "Within the first weeks of ownership, Musk made a series of short-lived decisions and changes that he quickly reversed, including introducing a paid blue checkmark, creating an \"official\" label and forbidding linking to one's profiles on other social media platforms.\n",
      "\n",
      "On December 18, Musk posted a poll to his Twitter account asking users to decide whether he should step down as the head of Twitter, with 57.5% out of the more than 17.5 million votes supporting that decision. Musk then announced that he would resign as CEO \"as soon as I find someone foolish enough to take the job\".\n",
      "\n",
      "Musk is often described as a micromanager and has called himself a \"nano-manager\". The New York Times has characterized his approach as absolutist. Musk does not make formal business plans; instead, he says he prefers to approach engineering problems[non sequitur] with an \"iterative design methodology\" and \"tolerance for failures\". He has forced employees to adopt the company's own jargon and launched ambitious, risky, and costly projects against his advisors' recommendations, such as removing front-facing radar from Tesla Autopilot. His insistence on vertical integration causes his companies to move most production in-house. While this resulted in saved costs for SpaceX's rocket, vertical integration has caused many usability problems for Tesla's software.\n",
      "\n",
      "Musk's handling of employees—whom he communicates with directly through mass emails—has been characterized as \"carrot and stick\", rewarding those \"who offer constructive criticism\" while also being known to impulsively threaten, swear at, and fire his employees. Musk said he expects his employees to work for long hours, sometimes for 80 hours per week. He has his new employees sign strict non-disclosure agreements and often fires in sprees, such as during the Model 3 \"production hell\" in 2018. In 2022, Musk revealed plans to fire 10 percent of Tesla's workforce, due to his concerns about the economy. That same month, he suspended remote work at SpaceX and Tesla and threatened to fire employees who do not work 40 hours per week in the office.\n",
      "\n",
      "Musk's leadership has been praised by some, who credit it with the success of Tesla and his other endeavors, and criticized by others, who see him as callous and his managerial decisions as \"show[ing] a lack of human understanding.\" The 2021 book Power Play contains anecdotes of Musk berating employees. The Wall Street Journal reported that, after Musk insisted on branding his vehicles as \"self-driving\", he faced criticism from his engineers for putting customer \"lives at risk\", with some employees resigning in consequence.\n",
      "\n",
      "Musk is the president of the Musk Foundation, whose stated purpose is to: provide solar-power energy systems in disaster areas; support research, development, and advocacy (for interests including human space exploration, pediatrics, renewable energy and \"safe artificial intelligence\"); and support science and engineering educational efforts. From 2002 to 2018, the foundation gave $25 million directly to non-profit organizations, nearly half of which went to Musk's OpenAI, which was at the time a non-profit.\n",
      "\n",
      "Since 2002, the foundation has made over 350 donations. Around half were to scientific research or education nonprofits. Notable beneficiaries include the Wikimedia Foundation, his alma mater the University of Pennsylvania, and his brother Kimbal's Big Green. In 2012, Musk took the Giving Pledge, thereby committing to give the majority of his wealth to charitable causes either during his lifetime or in his will. He has endowed prizes at the X Prize Foundation, including $100 million to reward improved carbon capture technology.\n",
      "\n",
      "Vox said \"the Musk Foundation is almost entertaining in its simplicity and yet is strikingly opaque\", noting that its website was only 33 words in plain-text. The foundation has been criticized for the relatively small amount of wealth donated. In 2020, Forbes gave Musk a philanthropy score of 1, because he had given away less than 1% of his net worth. In November 2021, Musk donated $5.7 billion of Tesla's shares to charity, according to regulatory filings; however, Bloomberg News noted that all of it went to his own foundation, bringing Musk Foundation's assets up to $9.4 billion at the end of 2021. The foundation disbursed $160 million to non-profits that year.\n",
      "\n",
      "In 2013, Musk announced plans for a version of a vactrain—a vacuum tube train—and assigned a dozen engineers from SpaceX and Tesla to establish the conceptual foundations and create initial designs. Later that year, Musk unveiled the concept, which he dubbed the hyperloop. The alpha design for the system was published in a whitepaper posted to the Tesla and SpaceX blogs. The document scoped out the technology and outlined a notional route where such a transport system could be built between the Greater Los Angeles Area and the San Francisco Bay Area, at an estimated cost of $6 billion. The proposal, if technologically feasible at the costs cited, would make Hyperloop travel cheaper than any other mode of transport for such long distances. Subsequently, Vance has claimed that the original purpose of Musk's Hyperloop proposal was to thwart a high-speed rail project in California.\n",
      "\n",
      "In 2015, Musk announced a design competition for students and others to build Hyperloop pods, to operate on a SpaceX-sponsored mile-long track, for a 2015–2017 Hyperloop pod competition. The track was used in January 2017, and Musk also announced that the company started a tunnel project, with Hawthorne airport as its destination. In July 2017, Musk claimed that he had received \"verbal government approval\" to build a hyperloop from New York City to Washington, D.C., with stops in both Philadelphia and Baltimore. Mention of the projected DC-to-Baltimore leg was removed from the Boring Company website in 2021. The tunnel project to Hawthorne was discontinued in 2022 and is cited to be converted into parking spots for SpaceX workers.\n",
      "\n",
      "In 2015, Musk founded OpenAI, a not-for-profit artificial intelligence (AI) research company aiming to develop artificial general intelligence intended to be safe and beneficial to humanity. A particular focus of the company is to democratize artificial superintelligence systems, against governments and corporations. In 2018, Musk left the OpenAI board to avoid possible future conflicts with his role as CEO of Tesla as the latter company increasingly became involved in AI through Tesla Autopilot. Since then, OpenAI has made significant advances in machine learning, producing neural networks such as GPT-3 (producing human-like text), and DALL-E (generating digital images from natural language descriptions).\n",
      "\n",
      "In July 2018, Musk arranged for his employees to build a mini-submarine to assist the rescue of children trapped in a flooded cavern in Thailand. Richard Stanton, leader of the international rescue diving team, urged Musk to facilitate the construction of the vehicle as a back-up, in case flooding worsened. Engineers at SpaceX and the Boring Company built the mini-submarine from a Falcon 9 liquid oxygen transfer tube in eight hours and personally delivered it to Thailand. By this time, however, eight of the 12 children, had already been rescued, the rescuers employing full face masks, oxygen, and anesthesia; consequently, Thai authorities declined to use the submarine. In March 2019, Musk was later one of the 187 people who received various honors conferred by the King of Thailand for involvement in the rescue effort.\n",
      "\n",
      "Soon after the rescue, Vernon Unsworth, a British recreational caver who had been exploring the cave for the previous six years and played a key advisory role in the operation, criticized the submarine on CNN as amounting to nothing more than a public relations effort with no chance of success, maintaining that Musk \"had no conception of what the cave passage was like\" and \"can stick his submarine where it hurts\". Musk asserted on Twitter that the device would have worked and referred to Unsworth as a \"pedo guy\". He deleted the tweets, and apologized, and he deleted his responses to critical tweets from Cher Scarlett, a software engineer, which had caused his followers to harass her. In an email to BuzzFeed News, Musk later called Unsworth a \"child rapist\" and said that he had married a child.\n",
      "\n",
      "In September, Unsworth filed a defamation suit in Los Angeles federal court. In his defense, Musk argued that \"'pedo guy' was a common insult used in South Africa when I was growing up ... synonymous with 'creepy old man' and is used to insult a person's appearance and demeanor\". The defamation case began in December 2019, with Unsworth seeking $190 million in damages. During the trial Musk apologized to Unsworth again for the tweet. On December 6, the jury found in favor of Musk and ruled he was not liable.\n",
      "\n",
      "In 2018, Musk appeared on The Joe Rogan Experience podcast and discussed various topics for over two hours. During the interview, Musk sampled a puff from a cigar consisting, the host claimed, of tobacco laced with cannabis. Tesla stock dropped after the incident, which coincided with the confirmation of the departure of Tesla's vice president of worldwide finance earlier that day. Fortune wondered if the cannabis use could have ramifications for SpaceX contracts with the United States Air Force, though an Air Force spokesperson told The Verge that there was no investigation and that the Air Force was still determining the facts. In 2022, Musk claimed that he and other Space-X employees were subjected to random drug tests for about a year following the incident. In a 60 Minutes interview, Musk said of the incident: \"I do not smoke pot. As anybody who watched that podcast could tell, I have no idea how to smoke pot.\"\n",
      "\n",
      "In 2019, Musk, through Emo G Records, released a rap track, \"RIP Harambe\", on SoundCloud. The track, which refers to the killing of Harambe the gorilla and the subsequent Internet sensationalism surrounding the event, was performed by Yung Jake, written by Yung Jake and Caroline Polachek, and produced by BloodPop. The following year, Musk released an EDM track, \"Don't Doubt Ur Vibe\", featuring his own lyrics and vocals. While Guardian critic Alexi Petridis described it as \"indistinguishable... from umpteen competent but unthrilling bits of bedroom electronica posted elsewhere on Soundcloud\", TechCrunch said it was \"not a bad representation of the genre\".\n",
      "\n",
      "Musk made $175.8 million when PayPal was sold to eBay in 2002. He was first listed on the Forbes Billionaires List in 2012, with a net worth of $2 billion.\n",
      "\n",
      "At the start of 2020, Musk had a net worth of $27 billion. By the year's end his net worth had increased by $150 billion, mostly driven by his ownership of around 20% of Tesla stock. During this period, Musk's net worth was often volatile. For example, it dropped $16.3 billion in September, the largest single-day plunge in Bloomberg Billionaires Index's history. In November of that year, Musk passed Facebook co-founder Mark Zuckerberg to become the third-richest person in the world; a week later he passed Microsoft co-founder Bill Gates to become the second-richest. In January 2021, Musk, with a net worth of $185 billion, surpassed Amazon founder Jeff Bezos to become the richest person in the world. Bezos reclaimed the top spot the following month. On September 27, 2021, after Tesla stock surged, Forbes announced that Musk had a net worth of over $200 billion, and was the richest person in the world. In November 2021, Musk became the first person worth over $300 billion. On December 30, 2022, it was reported that Musk had lost $200 billion from his net worth due to declining stock values in Tesla, becoming the first person in history to lose such a large sum of money.\n",
      "\n",
      "Around 75% of Musk's wealth derived from Tesla stock in November 2020, a proportion that fell to about 37% as of December 2022,[f] after selling nearly $40 billion in company shares since late 2021. Musk does not receive a salary from Tesla; he agreed with the board in 2018 to a compensation plan that ties his personal earnings to Tesla's valuation and revenue. The deal stipulated that Musk only receives the compensation if Tesla reaches certain market values. It was the largest such deal ever done between a CEO and a company board. In the first award, given in May 2020, he was eligible to purchase 1.69 million Tesla shares (about 1% of the company) at below-market prices, which was worth about $800 million.\n",
      "\n",
      "Musk paid $455 million in taxes on $1.52 billion of income between 2014 and 2018. According to ProPublica, Musk paid no federal income taxes in 2018. He claimed his 2021 tax bill was estimated at $12 billion based on his sale of $14 billion worth of Tesla stock.\n",
      "\n",
      "In 2003, Musk said his favorite plane he owned was an L-39 Albatros. He uses a private jet owned by Falcon Landing LLC, a SpaceX-linked company, and acquired a second jet in August 2020. The jet's heavy use of fossil fuels—it flew over 150,000 miles in 2018—has received criticism. His flight usage is tracked on social media through ElonJet. The Twitter iteration of the account was blocked in December 2022.\n",
      "\n",
      "Musk has repeatedly described himself as \"cash poor\", and has \"professed to have little interest in the material trappings of wealth\". In May 2020, he pledged to sell almost all physical possessions. Musk has defended his wealth by saying he is accumulating resources for humanity's outward expansion to space.\n",
      "\n",
      "In January 2022, Musk was recognised by Guinness World Records for experiencing the \"largest loss of personal fortune in history\" with regards to his financial losses since November 2021, which Guinness quoted a Forbes estimate of $182 billion.\n",
      "\n",
      "\n",
      "\n",
      "Since joining Twitter in 2009, Musk has been an active user and has over 100 million followers as of June 2022[update]. He posts memes, promotes business interests, and comments on contemporary political and cultural issues. Musk's statements have provoked controversy, such as for mocking preferred gender pronouns, and comparing Canadian prime minister Justin Trudeau to Adolf Hitler. The New York Times describes his contributions to international relations as \"chaotic\", and critics of Musk argue that there is a lack of separation between his opinions and his business interests.\n",
      "\n",
      "Musk has been described as believing in longtermism, emphasizing the needs of future populations. Accordingly, Musk has stated that artificial intelligence poses the greatest existential threat to humanity. He has warned of a \"Terminator-like\" AI apocalypse and suggested that the government should regulate its safe development. In 2015, Musk was a cosignatory, along with Stephen Hawking and hundreds of others, of the Open Letter on Artificial Intelligence, which called for the ban of autonomous weapons. Musk's AI stances have been called alarmist and sensationalist by critics such as computer scientist Yann LeCun and Meta CEO Mark Zuckerberg, and led the think tank Information Technology and Innovation Foundation to award Musk its Annual Luddite Award in 2016.\n",
      "\n",
      "Musk has described climate change as the greatest threat to humanity after AI, and has advocated for a carbon tax. Musk was a critic of President Donald Trump's stance on climate change, and resigned from two presidential business advisory councils following Trump's 2017 decision to withdraw the United States from the Paris Agreement.\n",
      "\n",
      "Musk has long promoted the colonization of Mars and argues that humanity should become a \"multiplanetary species\". He has suggested the use of nuclear weapons to terraform Mars. He envisioned establishing a direct democracy on Mars, with a system in which more votes would be required to create laws than remove them. Musk has also voiced concerns about human population decline, saying that \"Mars has zero human population. We need a lot of people to become a multiplanet civilization.\" Speaking at The Wall Street Journals's CEO Council session in 2021, Musk stated that a declining birth rate, and consequent population decline, is one of the biggest risks to human civilization.\n",
      "\n",
      "While often described as libertarian, Musk has called himself \"politically moderate\" and was a registered independent voter when he lived in California. The New York Times wrote that Musk \"expresses views that don't fit neatly into [the American] binary, left-right political framework\". Historically, Musk has donated to both Democrats and Republicans, many of whom are in states in which he has a vested interest. Beginning in the late 2010s, Musk's political contributions have shifted to almost entirely supporting Republicans.\n",
      "\n",
      "Musk voted for Hillary Clinton in the 2016 U.S. presidential election. In the 2020 Democratic Party presidential primaries, Musk endorsed candidate Andrew Yang and expressed support for his proposed universal basic income. He also endorsed Kanye West's 2020 presidential campaign. He said he voted for Joe Biden in the 2020 U.S. presidential election. In 2022, Musk said that he could \"no longer support\" the Democrats because they are the \"party of division & hate\", and wrote a tweet encouraging \"independent-minded voters\" to vote Republican in the 2022 U.S. elections, which was an outlier among social media executives who typically avoid partisan political advocacy. He also leaned towards supporting Republican Ron DeSantis in the 2024 U.S. presidential election if DeSantis were a candidate.\n",
      "\n",
      "Musk opposes a \"billionaire's tax\", and has argued with more left-leaning Democratic politicians such as Bernie Sanders, Alexandria Ocasio-Cortez, and Elizabeth Warren. He has stated that \"hands up, don't shoot\" (a rallying cry that arose after the 2014 shooting of an unarmed black teenager Michael Brown in Ferguson, Missouri) was based in \"fiction\", and has raised questions about the Black Lives Matter protests. Musk also promoted a baseless theory relating to the attack of Speaker Nancy Pelosi's husband, which Musk subsequently retracted by deleting his tweet.\n",
      "\n",
      "Musk has praised China and has been described as having mounted a \"charm offensive\" to woo the Chinese government and gain access to its markets for Tesla. In 2022, Musk wrote an article for China Cyberspace, the official publication of Cyberspace Administration of China, which enforces Internet censorship in China. His writing the article was described as conflicting with his advocacy for free speech. Musk later advocated for Taiwan to become a special administrative region of China which drew cross-party criticism from Taiwanese lawmakers. In October 2022, Musk posted a Twitter poll and \"peace plan\" to resolve the Russian invasion of Ukraine. It was reported that Musk allegedly spoke with Russian President Vladimir Putin prior to the proposal, which Musk denied.\n",
      "\n",
      "Musk was criticized for his public comments and conduct related to the COVID-19 pandemic. He spread misinformation about the virus, including promoting a widely discredited paper on the benefits of chloroquine and claiming that COVID-19 death statistics were inflated.\n",
      "\n",
      "In March 2020, Musk stated, \"The coronavirus panic is dumb.\" In an email to Tesla employees, Musk referred to COVID-19 as a \"specific form of the common cold\" and predicted that confirmed COVID-19 cases would not exceed 0.1% of the U.S. population. On March 19, 2020, Musk predicted that there would be \"probably close to zero new cases in [the U.S.] by end of April\". Politico labeled this statement one of \"the most audacious, confident, and spectacularly incorrect prognostications [of 2020]\". Musk also claimed falsely that children \"are essentially immune\" to COVID-19.\n",
      "\n",
      "Musk condemned COVID-19 lockdowns and initially refused to close the Tesla Fremont Factory in March 2020, defying the local shelter-in-place order. In May 2020, he reopened the Tesla factory, defying the local stay-at-home order, and warned workers that they would be unpaid, and their unemployment benefits might be jeopardized, if they did not report to work.\n",
      "\n",
      "In March 2020, Musk promised that Tesla would make ventilators for COVID-19 patients if there were a shortage. After figures like New York City mayor Bill de Blasio responded to Musk's offer, Musk offered to donate ventilators which Tesla would build or buy from a third party. However, Musk ended up buying and donating BiPAP and CPAP machines, which are non-invasive ventilators, rather than the much more expensive and sought-after invasive mechanical ventilator machines.\n",
      "\n",
      "In September 2020, Musk stated that he would not get the COVID-19 vaccine, because he and his children were \"not at risk for COVID\". Two months later, Musk contracted COVID-19 and suggested his COVID-19 rapid antigen test results were dubious, after which the phrase \"Space Karen\" trended on Twitter, in reference to Musk. However, in December 2021, Musk revealed that he and his eligible children had received the vaccine.\n",
      "\n",
      "In December 2022, Musk called to prosecute former NIAID director Anthony Fauci.\n",
      "\n",
      "Musk said that the U.S. government should not provide subsidies to companies, but impose a carbon tax to discourage poor behavior. The free market, in his view, would achieve the best solution, and producing environmentally unfriendly vehicles should have consequences. Tesla has received billions of dollars in subsidies. In addition, Tesla made large sums from government-initiated systems of zero-emissions credits offered in California and at the United States federal level, which facilitated initial consumer adoption of Tesla vehicles, as the tax credits given by governments enabled Tesla's battery electric vehicles to be price-competitive, in comparison with existing lower-priced internal combustion engine vehicles. Notably, Tesla generates some of its revenue from its sales of carbon credits granted to the company, by both the European Union Emissions Trading System and the Chinese national carbon trading scheme.\n",
      "\n",
      "Musk, a longtime opponent of short-selling, has repeatedly criticized the practice and argued it should be illegal. Wired magazine speculated that Musk's opposition to short-selling stems from how short sellers have an incentive to find and promote unfavorable information about his companies. In early 2021, he encouraged the GameStop short squeeze.\n",
      "\n",
      "In December 2022, Musk sold $3.6 billion of his stock in Tesla, equal to 22 million shares in the company.\n",
      "\n",
      "Musk has promoted cryptocurrencies and supports them over traditional government-issued fiat currencies. Given the influence of Musk's tweets in moving cryptocurrency markets, his statements about cryptocurrencies have been viewed as market manipulation by some, such as economist Nouriel Roubini. Musk's social media praising of Bitcoin and Dogecoin was credited for increasing their prices. Consequently, Tesla's 2021 announcement, against the backdrop of Musk's social media behavior, that it bought $1.5 billion worth of Bitcoin, raised questions. Tesla's announcement that it would accept Bitcoin for payment was criticized by environmentalists and investors, due to the environmental impact of cryptocurrency mining. A few months later, in response to the criticism, Musk announced on Twitter that Tesla would no longer accept payments in Bitcoin and would not engage in any Bitcoin transactions until the environmental issues are solved.\n",
      "\n",
      "Despite the Boring Company's involvement in building mass transit infrastructure, Musk has criticized public transport and promoted individualized transport (private vehicles). His comments have been called \"elitist\" and have sparked widespread criticism from both transportation and urban planning experts, who have pointed out that public transportation in dense urban areas is more economical, more energy efficient, and requires much less space than private cars.\n",
      "\n",
      "From the early 2000s until late 2020, Musk resided in California, where both Tesla and SpaceX were founded. In 2020, he moved to Texas, saying that California had become \"complacent\" about its economic success. While hosting Saturday Night Live in May 2021, Musk said that he has Asperger syndrome.\n",
      "\n",
      "Musk met his first wife, Canadian Justine Wilson, while attending Queen's University in Ontario, Canada; and they married in 2000. In 2002, their first child died of sudden infant death syndrome at the age of 10 weeks. After his death, the couple decided to use IVF to continue their family. They had twins in 2004 followed by triplets in 2006. The couple divorced in 2008 and shared custody of their children. In 2022, one of the twins officially changed her name to reflect her gender identity, and to use Wilson as her last name because she no longer wished to be associated with Musk. In an October 2022 interview with FT.com, Musk blamed the estrangement of his daughter on what the Financial Times characterized as \"the supposed takeover of elite schools and universities by neo-Marxists.\"\n",
      "\n",
      "In 2008, Musk began dating English actress Talulah Riley. They married two years later at Dornoch Cathedral in Scotland. In 2012, the couple divorced, before remarrying the following year. After briefly filing for divorce in 2014, Musk finalized a second divorce from Riley in 2016. Musk then dated Amber Heard for several months in 2017; he had reportedly been pursuing her since 2012. Musk was later accused by Johnny Depp of having an affair with Heard while she was still married to Depp. Musk and Heard both denied the affair.\n",
      "\n",
      "In 2018, Musk and Canadian musician Grimes revealed that they were dating. Grimes gave birth to their son in May 2020. According to Musk and Grimes, his name was \"X Æ A-12\"; however, the name would have violated California regulations as it contained characters that are not in the modern English alphabet, and was then changed to \"X Æ A-Xii\". This drew more confusion, as Æ is not a letter in the modern English alphabet. The child was eventually named X AE A-XII Musk, with \"X\" as a first name, \"AE A-XII\" as a middle name, and \"Musk\" as surname. In December 2021, Grimes and Musk had a second child, a daughter named Exa Dark Sideræl Musk (nicknamed \"Y\"), born via surrogacy.[1] Despite the pregnancy, Musk confirmed reports that the couple were \"semi-separated\" in September 2021; in an interview with Time in December 2021, he said he was single. In March 2022, Grimes said of her relationship with Musk: \"I would probably refer to him as my boyfriend, but we're very fluid.\"[1] Later that month, Grimes tweeted that she and Musk had broken up again but remained on good terms. In December 2022, Musk claimed that the couple's son had been harassed by a stalker. This led to Musk banning the ElonJet Twitter account as well as journalists that posted stories which according to Musk, equated to doxing. The police do not believe there is a link.\n",
      "\n",
      "In July 2022, Insider published court documents revealing that Musk had had twins with Shivon Zilis, director of operations and special projects at Neuralink, in November 2021.[3] They were born weeks before Musk and Grimes had their second child via surrogate in December. The news \"raise[d] questions about workplace ethics\", given that Zilis directly reported to Musk. Also in July 2022, The Wall Street Journal reported that Musk allegedly had an affair with Nicole Shanahan, the wife of Google co-founder Sergey Brin, in 2021, leading to their divorce the following year. Musk denied the report.\n",
      "\n",
      "In May 2022, Business Insider cited an anonymous friend of an unnamed SpaceX contract flight attendant, alleging that Musk engaged in sexual misconduct in 2016. The source stated that in November 2018, Musk, SpaceX, and the former flight attendant entered into a severance agreement granting the attendant a $250,000 payment in exchange for a promise not to sue over the claims. Musk responded, \"If I were inclined to engage in sexual harassment, this is unlikely to be the first time in my entire 30-year career that it comes to light\". He accused the article from Business Insider of being a \"politically motivated hit piece\". After the release of the Business Insider article, Tesla's stock fell by more than 6%, decreasing Musk's net worth by $10 billion. Barron's wrote \"...some investors considered key-man risk – the danger that a company could be badly hurt by the loss of one individual.\"\n",
      "\n",
      "Though Musk's ventures were influential within their own industries in the 2000s, Musk only became a public figure in the early 2010s. He is often described as an eccentric who makes spontaneous and controversial statements, contrary to other billionaires who prefer reclusiveness to protect their businesses.[citation needed] Celebrated by fans and hated by critics, Musk was described by Vance as having become very polarizing because of his \"part philosopher, part troll\" role on Twitter.\n",
      "\n",
      "With Steve Jobs and Donald Trump, Musk served as inspiration for the characterization of Tony Stark in the Marvel film Iron Man (2008). Musk had a cameo appearance in the 2010 sequel, Iron Man 2. Musk has made cameos and appearances in other films such as Machete Kills (2013), Why Him? (2016), and Men in Black: International (2019). Television series in which he has appeared include The Simpsons (\"The Musk Who Fell to Earth\", 2015), The Big Bang Theory (\"The Platonic Permutation\", 2015), South Park (\"Members Only\", 2016), Rick and Morty (\"One Crew over the Crewcoo's Morty\", 2019), Young Sheldon (\"A Patch, a Modem, and a Zantac®\", 2017), and Saturday Night Live (2021). He contributed interviews to the documentaries Racing Extinction (2015) and the Werner Herzog-directed Lo and Behold (2016).\n",
      "\n",
      "Musk was elected a Fellow of the Royal Society (FRS) in 2018. In 2015, he received an honorary doctorate in engineering and technology from Yale University and IEEE Honorary Membership. Awards for his contributions to the development of the Falcon rockets include the American Institute of Aeronautics and Astronautics George Low Transportation Award in 2008, the Fédération Aéronautique Internationale Gold Space Medal in 2010, and the Royal Aeronautical Society Gold Medal in 2012. He was listed among Time magazine's 100 Most Influential People in 2010, 2013, 2018, and 2021. Musk was selected as Time's \"Person of the Year\" for 2021. Time editor-in-chief Edward Felsenthal wrote that \"Person of the Year is a marker of influence, and few individuals have had more influence than Musk on life on Earth, and potentially life off Earth too\". In 2022, Musk was elected as a member of the National Academy of Engineering.\n"
     ]
    }
   ],
   "source": [
    "print(corpus)"
   ]
  },
  {
   "cell_type": "code",
   "execution_count": 43,
   "id": "9f077304",
   "metadata": {},
   "outputs": [],
   "source": [
    "with open(Title+'.txt','w',encoding='utf-8') as fd:\n",
    "    fd.write(corpus)"
   ]
  },
  {
   "cell_type": "code",
   "execution_count": null,
   "id": "ece84859",
   "metadata": {},
   "outputs": [],
   "source": []
  }
 ],
 "metadata": {
  "kernelspec": {
   "display_name": "Python 3 (ipykernel)",
   "language": "python",
   "name": "python3"
  },
  "language_info": {
   "codemirror_mode": {
    "name": "ipython",
    "version": 3
   },
   "file_extension": ".py",
   "mimetype": "text/x-python",
   "name": "python",
   "nbconvert_exporter": "python",
   "pygments_lexer": "ipython3",
   "version": "3.10.6"
  }
 },
 "nbformat": 4,
 "nbformat_minor": 5
}
