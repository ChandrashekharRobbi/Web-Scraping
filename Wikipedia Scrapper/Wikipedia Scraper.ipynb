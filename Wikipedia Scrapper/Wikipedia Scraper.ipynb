{
 "cells": [
  {
   "cell_type": "markdown",
   "id": "ce8c95a4",
   "metadata": {},
   "source": [
    "# Wikipedia Scraper"
   ]
  },
  {
   "cell_type": "code",
   "execution_count": 1,
   "id": "8e72372c",
   "metadata": {},
   "outputs": [],
   "source": [
    "import requests\n",
    "from bs4 import BeautifulSoup\n",
    "import pandas as pd"
   ]
  },
  {
   "cell_type": "code",
   "execution_count": 2,
   "id": "7a8dff91",
   "metadata": {},
   "outputs": [],
   "source": [
    "res = requests.get('https://en.wikipedia.org/wiki/Sundar_Pichai')"
   ]
  },
  {
   "cell_type": "code",
   "execution_count": 3,
   "id": "8d49c1b4",
   "metadata": {},
   "outputs": [],
   "source": [
    "soup = BeautifulSoup(res.text, 'html.parser')"
   ]
  },
  {
   "cell_type": "code",
   "execution_count": 4,
   "id": "c6befda2",
   "metadata": {},
   "outputs": [],
   "source": [
    "Title = soup.find('h1').text"
   ]
  },
  {
   "cell_type": "code",
   "execution_count": 5,
   "id": "56751e2c",
   "metadata": {},
   "outputs": [
    {
     "data": {
      "text/plain": [
       "'Sundar Pichai'"
      ]
     },
     "execution_count": 5,
     "metadata": {},
     "output_type": "execute_result"
    }
   ],
   "source": [
    "Title"
   ]
  },
  {
   "cell_type": "code",
   "execution_count": 12,
   "id": "3c4e7498",
   "metadata": {},
   "outputs": [],
   "source": [
    "corpus = ''\n",
    "\n",
    "for p in soup.find_all('p')[2:]:\n",
    "    corpus += p.text\n",
    "    corpus += '\\n'\n",
    "corpus = corpus.strip()"
   ]
  },
  {
   "cell_type": "code",
   "execution_count": 13,
   "id": "142aed5e",
   "metadata": {},
   "outputs": [
    {
     "name": "stdout",
     "output_type": "stream",
     "text": [
      "Pichai Sundararajan (born June 10, 1972[3][4][5]), better known as Sundar Pichai (/ˈsʊndɑːr pɪˈtʃaɪ/), is an Indian-American business executive.[6] He is the chief executive officer (CEO) of Alphabet Inc. and its subsidiary Google.[7]\n",
      "\n",
      "Born in Madurai, India,[4] Pichai earned his degree from IIT Kharagpur in metallurgical engineering. Moving to the United States, he attained an M.S. from Stanford University in materials science and engineering and further attained an MBA from the Wharton School of the University of Pennsylvania, where he was named a Siebel Scholar and a Palmer Scholar, respectively.[8]\n",
      "\n",
      "Pichai began his career as a materials engineer. Following a short stint at the management consulting firm McKinsey & Co., Pichai joined Google in 2004,[9] where he led the product management and innovation efforts for a suite of Google's client software products, including Google Chrome and ChromeOS, as well as being largely responsible for Google Drive. In addition, he went on to oversee the development of other applications such as Gmail and Google Maps. In 2010, Pichai also announced the open-sourcing of the new video codec VP8 by Google and introduced the new video format, WebM. The Chromebook was released in 2012. In 2013, Pichai added Android to the list of Google products that he oversaw.\n",
      "\n",
      "Pichai was selected to become the next CEO of Google on August 10, 2015, after previously being appointed Product Chief by CEO Larry Page. On October 24, 2015, he stepped into the new position at the completion of the formation of Alphabet Inc., the new holding company for the Google company family. He was appointed to the Alphabet Board of Directors in 2017.[10]\n",
      "\n",
      "Pichai was included in Time's annual list of the 100 most influential people in 2016[11] and 2020.[12]\n",
      "\n",
      "Pichai was born in Madurai, Tamil Nadu, India.[13][14][15] His mother, Lakshmi, was a stenographer, and his father, Regunatha Pichai, was an electrical engineer at GEC, the British conglomerate. His father also had a manufacturing plant that produced electrical components.[16][17]\n",
      "\n",
      "Pichai completed schooling in Jawahar Vidyalaya Senior Secondary School[18] in Ashok Nagar, Chennai and completed the Class XII from Vana Vani school at IIT Madras.[19][20] He earned his degree from IIT Kharagpur in metallurgical engineering and is a distinguished alumnus from that institution.[21] He holds an M.S. from Stanford University in materials science and engineering, and an MBA from the Wharton School of the University of Pennsylvania,[22] where he was named a Siebel Scholar and a Palmer Scholar, respectively.[3][23][24]\n",
      "\n",
      "Pichai worked in engineering and product management at Applied Materials and in management consulting at McKinsey & Company.[25] Pichai joined Google in 2004, where he led the product management and innovation efforts for a suite of Google's client software products, including Google Chrome[26] and ChromeOS, as well as being largely responsible for Google Drive. He went on to oversee the development of other applications such as Gmail and Google Maps.[27][28] On November 19, 2009, Pichai gave a demonstration of ChromeOS; the Chromebook was released for trial and testing in 2011, and released to the public in 2012.[29] On May 20, 2010, he announced the open-sourcing of the new video codec VP8 by Google and introduced the new video format, WebM.[30]\n",
      "\n",
      "On March 13, 2013, Pichai added Android to the list of Google products that he oversaw. Android was formerly managed by Andy Rubin.[31] He was a director of Jive Software from April 2011 to July 30, 2013.[32][33][34] Pichai was selected to become the next CEO of Google on August 10, 2015[35] after previously being appointed Product Chief by CEO, Larry Page. On October 24, 2015, he stepped into the new position at the completion of the formation of Alphabet Inc., the new holding company for the Google company family.[36][34][37]\n",
      "\n",
      "Pichai had been suggested as a contender for Microsoft's CEO in 2014, a position that was eventually given to Satya Nadella.[38][39]\n",
      "\n",
      "In August 2017, Pichai drew publicity for firing a Google employee who wrote a ten-page manifesto criticizing the company's diversity policies.[40][41][42][43][44]\n",
      "\n",
      "In December 2017, Pichai was a speaker at the World Internet Conference in China, where he stated that \"a lot of work Google does is to help Chinese companies. There are many small and medium-sized businesses in China who take advantage of Google to get their products to many other countries outside of China.\"[45][46]\n",
      "\n",
      "In December 2019, Pichai became the CEO of Alphabet Inc.[47][48]\n",
      "\n",
      "In December 2020, Pichai delivered a speech virtually at the Singapore FinTech Festival emphasizing inclusive digital economy.[49]\n",
      "\n",
      "Pichai said at the conclusion of his speech,\n",
      "\n",
      "On December 11, 2018, Sundar Pichai was questioned by the U.S. House Judiciary Committee on a range of Google-related issues such as possible political bias on Google's platforms, the company's alleged plans for a \"censored search app\" in China, and its privacy practices.[52] In response, Pichai informed the committee that Google employees cannot influence search results. He also stated that Google users can opt out of having their data collected and that \"there are no current plans for a censored search engine\" in China.[53]\n",
      "\n",
      "In October 2020, the United States Senate Committee on Commerce, Science, and Transportation unanimously voted in favor of, and on a bipartisan basis, to subpoena Pichai, along with the CEOs of Facebook and Twitter, to testify before the committee in response to lawmakers' concerns over the technology industry's exemption from Section 230 of the Communications Decency Act of 1934.[54]\n",
      "\n",
      "In 2022, Pichai received the Padma Bhushan from the Government of India, its third-highest civilian award.[55][56] On 3rd Dec 2022, Taranjit Singh Sandhu (India's Ambassador to the US) handed over the Padma Bhushan Award to Google and Alphabet CEO Sundar Pichai in San Francisco.[57]\n",
      "\n",
      "Pichai is married to Anjali Pichai and has two children.[58] His recreational interests include cricket and football.[59][60]\n"
     ]
    }
   ],
   "source": [
    "print(corpus)"
   ]
  },
  {
   "cell_type": "code",
   "execution_count": 20,
   "id": "3e5bf0e2",
   "metadata": {},
   "outputs": [],
   "source": [
    "# remove the numbers like [i]\n",
    "\n",
    "for i in range(3,61):\n",
    "    k = f'[{i}]'\n",
    "    corpus = corpus.replace(k, '')"
   ]
  },
  {
   "cell_type": "code",
   "execution_count": 21,
   "id": "23584df6",
   "metadata": {},
   "outputs": [
    {
     "name": "stdout",
     "output_type": "stream",
     "text": [
      "Pichai Sundararajan (born June 10, 1972), better known as Sundar Pichai (/ˈsʊndɑːr pɪˈtʃaɪ/), is an Indian-American business executive. He is the chief executive officer (CEO) of Alphabet Inc. and its subsidiary Google.\n",
      "\n",
      "Born in Madurai, India, Pichai earned his degree from IIT Kharagpur in metallurgical engineering. Moving to the United States, he attained an M.S. from Stanford University in materials science and engineering and further attained an MBA from the Wharton School of the University of Pennsylvania, where he was named a Siebel Scholar and a Palmer Scholar, respectively.\n",
      "\n",
      "Pichai began his career as a materials engineer. Following a short stint at the management consulting firm McKinsey & Co., Pichai joined Google in 2004, where he led the product management and innovation efforts for a suite of Google's client software products, including Google Chrome and ChromeOS, as well as being largely responsible for Google Drive. In addition, he went on to oversee the development of other applications such as Gmail and Google Maps. In 2010, Pichai also announced the open-sourcing of the new video codec VP8 by Google and introduced the new video format, WebM. The Chromebook was released in 2012. In 2013, Pichai added Android to the list of Google products that he oversaw.\n",
      "\n",
      "Pichai was selected to become the next CEO of Google on August 10, 2015, after previously being appointed Product Chief by CEO Larry Page. On October 24, 2015, he stepped into the new position at the completion of the formation of Alphabet Inc., the new holding company for the Google company family. He was appointed to the Alphabet Board of Directors in 2017.\n",
      "\n",
      "Pichai was included in Time's annual list of the 100 most influential people in 2016 and 2020.\n",
      "\n",
      "Pichai was born in Madurai, Tamil Nadu, India. His mother, Lakshmi, was a stenographer, and his father, Regunatha Pichai, was an electrical engineer at GEC, the British conglomerate. His father also had a manufacturing plant that produced electrical components.\n",
      "\n",
      "Pichai completed schooling in Jawahar Vidyalaya Senior Secondary School in Ashok Nagar, Chennai and completed the Class XII from Vana Vani school at IIT Madras. He earned his degree from IIT Kharagpur in metallurgical engineering and is a distinguished alumnus from that institution. He holds an M.S. from Stanford University in materials science and engineering, and an MBA from the Wharton School of the University of Pennsylvania, where he was named a Siebel Scholar and a Palmer Scholar, respectively.\n",
      "\n",
      "Pichai worked in engineering and product management at Applied Materials and in management consulting at McKinsey & Company. Pichai joined Google in 2004, where he led the product management and innovation efforts for a suite of Google's client software products, including Google Chrome and ChromeOS, as well as being largely responsible for Google Drive. He went on to oversee the development of other applications such as Gmail and Google Maps. On November 19, 2009, Pichai gave a demonstration of ChromeOS; the Chromebook was released for trial and testing in 2011, and released to the public in 2012. On May 20, 2010, he announced the open-sourcing of the new video codec VP8 by Google and introduced the new video format, WebM.\n",
      "\n",
      "On March 13, 2013, Pichai added Android to the list of Google products that he oversaw. Android was formerly managed by Andy Rubin. He was a director of Jive Software from April 2011 to July 30, 2013. Pichai was selected to become the next CEO of Google on August 10, 2015 after previously being appointed Product Chief by CEO, Larry Page. On October 24, 2015, he stepped into the new position at the completion of the formation of Alphabet Inc., the new holding company for the Google company family.\n",
      "\n",
      "Pichai had been suggested as a contender for Microsoft's CEO in 2014, a position that was eventually given to Satya Nadella.\n",
      "\n",
      "In August 2017, Pichai drew publicity for firing a Google employee who wrote a ten-page manifesto criticizing the company's diversity policies.\n",
      "\n",
      "In December 2017, Pichai was a speaker at the World Internet Conference in China, where he stated that \"a lot of work Google does is to help Chinese companies. There are many small and medium-sized businesses in China who take advantage of Google to get their products to many other countries outside of China.\"\n",
      "\n",
      "In December 2019, Pichai became the CEO of Alphabet Inc.\n",
      "\n",
      "In December 2020, Pichai delivered a speech virtually at the Singapore FinTech Festival emphasizing inclusive digital economy.\n",
      "\n",
      "Pichai said at the conclusion of his speech,\n",
      "\n",
      "On December 11, 2018, Sundar Pichai was questioned by the U.S. House Judiciary Committee on a range of Google-related issues such as possible political bias on Google's platforms, the company's alleged plans for a \"censored search app\" in China, and its privacy practices. In response, Pichai informed the committee that Google employees cannot influence search results. He also stated that Google users can opt out of having their data collected and that \"there are no current plans for a censored search engine\" in China.\n",
      "\n",
      "In October 2020, the United States Senate Committee on Commerce, Science, and Transportation unanimously voted in favor of, and on a bipartisan basis, to subpoena Pichai, along with the CEOs of Facebook and Twitter, to testify before the committee in response to lawmakers' concerns over the technology industry's exemption from Section 230 of the Communications Decency Act of 1934.\n",
      "\n",
      "In 2022, Pichai received the Padma Bhushan from the Government of India, its third-highest civilian award. On 3rd Dec 2022, Taranjit Singh Sandhu (India's Ambassador to the US) handed over the Padma Bhushan Award to Google and Alphabet CEO Sundar Pichai in San Francisco.\n",
      "\n",
      "Pichai is married to Anjali Pichai and has two children. His recreational interests include cricket and football.\n"
     ]
    }
   ],
   "source": [
    "print(corpus)"
   ]
  },
  {
   "cell_type": "code",
   "execution_count": 22,
   "id": "fb7a15e7",
   "metadata": {},
   "outputs": [
    {
     "ename": "UnicodeEncodeError",
     "evalue": "'charmap' codec can't encode character '\\u02c8' in position 74: character maps to <undefined>",
     "output_type": "error",
     "traceback": [
      "\u001b[1;31m---------------------------------------------------------------------------\u001b[0m",
      "\u001b[1;31mUnicodeEncodeError\u001b[0m                        Traceback (most recent call last)",
      "Cell \u001b[1;32mIn [22], line 4\u001b[0m\n\u001b[0;32m      1\u001b[0m \u001b[38;5;66;03m# save the file in text format\u001b[39;00m\n\u001b[0;32m      3\u001b[0m \u001b[38;5;28;01mwith\u001b[39;00m \u001b[38;5;28mopen\u001b[39m(\u001b[38;5;124m'\u001b[39m\u001b[38;5;124mheading.txt\u001b[39m\u001b[38;5;124m'\u001b[39m,\u001b[38;5;124m'\u001b[39m\u001b[38;5;124mw\u001b[39m\u001b[38;5;124m'\u001b[39m) \u001b[38;5;28;01mas\u001b[39;00m fd:\n\u001b[1;32m----> 4\u001b[0m     \u001b[43mfd\u001b[49m\u001b[38;5;241;43m.\u001b[39;49m\u001b[43mwrite\u001b[49m\u001b[43m(\u001b[49m\u001b[43mcorpus\u001b[49m\u001b[43m)\u001b[49m\n",
      "File \u001b[1;32mC:\\GFG_DataScience\\env\\lib\\encodings\\cp1252.py:19\u001b[0m, in \u001b[0;36mIncrementalEncoder.encode\u001b[1;34m(self, input, final)\u001b[0m\n\u001b[0;32m     18\u001b[0m \u001b[38;5;28;01mdef\u001b[39;00m \u001b[38;5;21mencode\u001b[39m(\u001b[38;5;28mself\u001b[39m, \u001b[38;5;28minput\u001b[39m, final\u001b[38;5;241m=\u001b[39m\u001b[38;5;28;01mFalse\u001b[39;00m):\n\u001b[1;32m---> 19\u001b[0m     \u001b[38;5;28;01mreturn\u001b[39;00m \u001b[43mcodecs\u001b[49m\u001b[38;5;241;43m.\u001b[39;49m\u001b[43mcharmap_encode\u001b[49m\u001b[43m(\u001b[49m\u001b[38;5;28;43minput\u001b[39;49m\u001b[43m,\u001b[49m\u001b[38;5;28;43mself\u001b[39;49m\u001b[38;5;241;43m.\u001b[39;49m\u001b[43merrors\u001b[49m\u001b[43m,\u001b[49m\u001b[43mencoding_table\u001b[49m\u001b[43m)\u001b[49m[\u001b[38;5;241m0\u001b[39m]\n",
      "\u001b[1;31mUnicodeEncodeError\u001b[0m: 'charmap' codec can't encode character '\\u02c8' in position 74: character maps to <undefined>"
     ]
    }
   ],
   "source": [
    "# save the file in text format\n",
    "\n",
    "with open('heading.txt','w',encoding=) as fd:\n",
    "    fd.write(corpus)"
   ]
  },
  {
   "cell_type": "code",
   "execution_count": null,
   "id": "0cdda9f4",
   "metadata": {},
   "outputs": [],
   "source": []
  }
 ],
 "metadata": {
  "kernelspec": {
   "display_name": "Python 3 (ipykernel)",
   "language": "python",
   "name": "python3"
  },
  "language_info": {
   "codemirror_mode": {
    "name": "ipython",
    "version": 3
   },
   "file_extension": ".py",
   "mimetype": "text/x-python",
   "name": "python",
   "nbconvert_exporter": "python",
   "pygments_lexer": "ipython3",
   "version": "3.10.6"
  }
 },
 "nbformat": 4,
 "nbformat_minor": 5
}
