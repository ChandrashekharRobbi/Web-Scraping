{
 "cells": [
  {
   "cell_type": "code",
   "execution_count": 2,
   "id": "c96ccc31",
   "metadata": {},
   "outputs": [],
   "source": [
    "import requests\n",
    "from bs4 import BeautifulSoup"
   ]
  },
  {
   "cell_type": "code",
   "execution_count": 31,
   "id": "7cbea249",
   "metadata": {},
   "outputs": [
    {
     "name": "stdout",
     "output_type": "stream",
     "text": [
      "Enter the title to scrape the website Trivikram\n",
      "https://en.wikipedia.org/wiki/Trivikram_Srinivas\n"
     ]
    }
   ],
   "source": [
    "title = input(\"Enter the title to scrape the website \").replace(' ','+')\n",
    "\n",
    "link = 'https://www.google.com/search?q=' + title + '+wikipedia'\n",
    "# print(link)\n",
    "\n",
    "res = requests.get(link)\n",
    "soup = BeautifulSoup(res.text, 'html.parser')\n",
    "\n",
    "for sp in soup.find_all('div'):\n",
    "    try:\n",
    "        link = sp.find('a').get('href')\n",
    "        if 'en.wikipedia.org' in link:\n",
    "           # print(link)\n",
    "            break\n",
    "    except:\n",
    "        pass\n",
    "    \n",
    "print(link[7:].split('&')[0])"
   ]
  },
  {
   "cell_type": "code",
   "execution_count": 32,
   "id": "d02c2f1b",
   "metadata": {},
   "outputs": [],
   "source": [
    "def getWikiByTitle(title):\n",
    "    title = title.replace(' ','+')\n",
    "\n",
    "    link = 'https://www.google.com/search?q=' + title + '+wikipedia'\n",
    "    # print(link)\n",
    "\n",
    "    res = requests.get(link)\n",
    "    soup = BeautifulSoup(res.text, 'html.parser')\n",
    "\n",
    "    for sp in soup.find_all('div'):\n",
    "        try:\n",
    "            link = sp.find('a').get('href')\n",
    "            if 'en.wikipedia.org' in link:\n",
    "               # print(link)\n",
    "                break\n",
    "        except:\n",
    "            pass\n",
    "\n",
    "    print(link[7:].split('&')[0])"
   ]
  },
  {
   "cell_type": "code",
   "execution_count": 33,
   "id": "83ea889f",
   "metadata": {},
   "outputs": [
    {
     "name": "stdout",
     "output_type": "stream",
     "text": [
      "https://en.wikipedia.org/wiki/Steve_Jobs\n"
     ]
    }
   ],
   "source": [
    "getWikiByTitle('Steve Jobs')"
   ]
  },
  {
   "cell_type": "code",
   "execution_count": 35,
   "id": "ee582a32",
   "metadata": {},
   "outputs": [
    {
     "name": "stdout",
     "output_type": "stream",
     "text": [
      "https://en.wikipedia.org/wiki/Elon_Musk\n"
     ]
    }
   ],
   "source": [
    "getWikiByTitle('Elon')"
   ]
  },
  {
   "cell_type": "code",
   "execution_count": 36,
   "id": "6c88cb0f",
   "metadata": {},
   "outputs": [
    {
     "name": "stdout",
     "output_type": "stream",
     "text": [
      "https://en.wikipedia.org/wiki/Sundar_Pichai\n"
     ]
    }
   ],
   "source": [
    "getWikiByTitle('Sundar Google CEO')"
   ]
  },
  {
   "cell_type": "code",
   "execution_count": 37,
   "id": "51cecdac",
   "metadata": {},
   "outputs": [
    {
     "name": "stdout",
     "output_type": "stream",
     "text": [
      "https://en.wikipedia.org/wiki/Sachin_Tendulkar\n"
     ]
    }
   ],
   "source": [
    "getWikiByTitle('Sachin Cricketer')"
   ]
  },
  {
   "cell_type": "code",
   "execution_count": null,
   "id": "b7e785c4",
   "metadata": {},
   "outputs": [],
   "source": []
  }
 ],
 "metadata": {
  "kernelspec": {
   "display_name": "Python 3 (ipykernel)",
   "language": "python",
   "name": "python3"
  },
  "language_info": {
   "codemirror_mode": {
    "name": "ipython",
    "version": 3
   },
   "file_extension": ".py",
   "mimetype": "text/x-python",
   "name": "python",
   "nbconvert_exporter": "python",
   "pygments_lexer": "ipython3",
   "version": "3.10.6"
  }
 },
 "nbformat": 4,
 "nbformat_minor": 5
}
