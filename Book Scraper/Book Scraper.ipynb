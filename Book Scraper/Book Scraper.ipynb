{
 "cells": [
  {
   "cell_type": "markdown",
   "id": "128d462f",
   "metadata": {},
   "source": [
    "# Book Scraper\n",
    "\n",
    "> https://books.toscrape.com/"
   ]
  },
  {
   "cell_type": "markdown",
   "id": "e9a49faa",
   "metadata": {},
   "source": [
    "### Extract all books and their prices from all pages"
   ]
  },
  {
   "cell_type": "code",
   "execution_count": 6,
   "id": "66e7a1e6",
   "metadata": {},
   "outputs": [],
   "source": [
    "import pandas as pd\n",
    "from tqdm import tqdm\n",
    "import requests\n",
    "from bs4 import BeautifulSoup"
   ]
  },
  {
   "cell_type": "code",
   "execution_count": 130,
   "id": "54adcb66",
   "metadata": {},
   "outputs": [
    {
     "name": "stderr",
     "output_type": "stream",
     "text": [
      "100%|█████████████████████████████████████████████████████████████████████████████████████████████████████████████████| 50/50 [01:00<00:00,  1.20s/it]\n"
     ]
    }
   ],
   "source": [
    "data = []\n",
    "for i in tqdm(range(1,51)):\n",
    "    link = 'https://books.toscrape.com/catalogue/page-'\n",
    "    link1 = link + str(i) + '.html'  # it total has 50 pages\n",
    "    res = requests.get(link1)\n",
    "    soup = BeautifulSoup(res.text, 'html.parser')\n",
    "    link2 = 'https://books.toscrape.com'\n",
    "    link3 = 'https://books.toscrape.com/catalogue/'\n",
    "    \n",
    "    for i in soup.find_all('article',class_='product_pod'):\n",
    "        # title name\n",
    "        title = i.find_all('a')[-1].get('title')\n",
    "        # href\n",
    "        href_get = i.find_all('a')[-1].get('href')\n",
    "        \n",
    "        href = link3 + href_get\n",
    "        # price\n",
    "        price = i.find('p', class_='price_color').text[1:]\n",
    "        \n",
    "        # star rating classes\n",
    "        star_class = i.find('p')['class']\n",
    "        # star rating\n",
    "        star_rating = star_class[1]\n",
    "        \n",
    "        # stock\n",
    "        stock = i.find('p', class_='instock').text.strip()\n",
    "        # image source\n",
    "        image_src = i.find('img', class_='thumbnail')['src'][2:]\n",
    "        \n",
    "        \n",
    "        # image link\n",
    "        image_link = link2 + image_src\n",
    "        data.append([title, href, price, star_rating, stock, image_link])"
   ]
  },
  {
   "cell_type": "code",
   "execution_count": 131,
   "id": "570a731b",
   "metadata": {},
   "outputs": [
    {
     "data": {
      "text/plain": [
       "[['A Light in the Attic',\n",
       "  'https://books.toscrape.com/catalogue/a-light-in-the-attic_1000/index.html',\n",
       "  '£51.77',\n",
       "  'Three',\n",
       "  'In stock',\n",
       "  'https://books.toscrape.com/media/cache/2c/da/2cdad67c44b002e7ead0cc35693c0e8b.jpg'],\n",
       " ['Tipping the Velvet',\n",
       "  'https://books.toscrape.com/catalogue/tipping-the-velvet_999/index.html',\n",
       "  '£53.74',\n",
       "  'One',\n",
       "  'In stock',\n",
       "  'https://books.toscrape.com/media/cache/26/0c/260c6ae16bce31c8f8c95daddd9f4a1c.jpg'],\n",
       " ['Soumission',\n",
       "  'https://books.toscrape.com/catalogue/soumission_998/index.html',\n",
       "  '£50.10',\n",
       "  'One',\n",
       "  'In stock',\n",
       "  'https://books.toscrape.com/media/cache/3e/ef/3eef99c9d9adef34639f510662022830.jpg'],\n",
       " ['Sharp Objects',\n",
       "  'https://books.toscrape.com/catalogue/sharp-objects_997/index.html',\n",
       "  '£47.82',\n",
       "  'Four',\n",
       "  'In stock',\n",
       "  'https://books.toscrape.com/media/cache/32/51/3251cf3a3412f53f339e42cac2134093.jpg'],\n",
       " ['Sapiens: A Brief History of Humankind',\n",
       "  'https://books.toscrape.com/catalogue/sapiens-a-brief-history-of-humankind_996/index.html',\n",
       "  '£54.23',\n",
       "  'Five',\n",
       "  'In stock',\n",
       "  'https://books.toscrape.com/media/cache/be/a5/bea5697f2534a2f86a3ef27b5a8c12a6.jpg']]"
      ]
     },
     "execution_count": 131,
     "metadata": {},
     "output_type": "execute_result"
    }
   ],
   "source": [
    "data[:5]"
   ]
  },
  {
   "cell_type": "code",
   "execution_count": 132,
   "id": "525fdb8a",
   "metadata": {},
   "outputs": [
    {
     "data": {
      "text/plain": [
       "1000"
      ]
     },
     "execution_count": 132,
     "metadata": {},
     "output_type": "execute_result"
    }
   ],
   "source": [
    "len(data)"
   ]
  },
  {
   "cell_type": "code",
   "execution_count": 133,
   "id": "412e3fd7",
   "metadata": {},
   "outputs": [],
   "source": [
    "df = pd.DataFrame(data, columns=[\"Title\", \"Href\",\"Prices\", \"Star Rating (out of 5)\",\"Stock\",\"Image Links\"])"
   ]
  },
  {
   "cell_type": "code",
   "execution_count": 134,
   "id": "47bb70d8",
   "metadata": {},
   "outputs": [
    {
     "data": {
      "text/html": [
       "<div>\n",
       "<style scoped>\n",
       "    .dataframe tbody tr th:only-of-type {\n",
       "        vertical-align: middle;\n",
       "    }\n",
       "\n",
       "    .dataframe tbody tr th {\n",
       "        vertical-align: top;\n",
       "    }\n",
       "\n",
       "    .dataframe thead th {\n",
       "        text-align: right;\n",
       "    }\n",
       "</style>\n",
       "<table border=\"1\" class=\"dataframe\">\n",
       "  <thead>\n",
       "    <tr style=\"text-align: right;\">\n",
       "      <th></th>\n",
       "      <th>Title</th>\n",
       "      <th>Href</th>\n",
       "      <th>Prices</th>\n",
       "      <th>Star Rating (out of 5)</th>\n",
       "      <th>Stock</th>\n",
       "      <th>Image Links</th>\n",
       "    </tr>\n",
       "  </thead>\n",
       "  <tbody>\n",
       "    <tr>\n",
       "      <th>0</th>\n",
       "      <td>A Light in the Attic</td>\n",
       "      <td>https://books.toscrape.com/catalogue/a-light-i...</td>\n",
       "      <td>£51.77</td>\n",
       "      <td>Three</td>\n",
       "      <td>In stock</td>\n",
       "      <td>https://books.toscrape.com/media/cache/2c/da/2...</td>\n",
       "    </tr>\n",
       "    <tr>\n",
       "      <th>1</th>\n",
       "      <td>Tipping the Velvet</td>\n",
       "      <td>https://books.toscrape.com/catalogue/tipping-t...</td>\n",
       "      <td>£53.74</td>\n",
       "      <td>One</td>\n",
       "      <td>In stock</td>\n",
       "      <td>https://books.toscrape.com/media/cache/26/0c/2...</td>\n",
       "    </tr>\n",
       "    <tr>\n",
       "      <th>2</th>\n",
       "      <td>Soumission</td>\n",
       "      <td>https://books.toscrape.com/catalogue/soumissio...</td>\n",
       "      <td>£50.10</td>\n",
       "      <td>One</td>\n",
       "      <td>In stock</td>\n",
       "      <td>https://books.toscrape.com/media/cache/3e/ef/3...</td>\n",
       "    </tr>\n",
       "    <tr>\n",
       "      <th>3</th>\n",
       "      <td>Sharp Objects</td>\n",
       "      <td>https://books.toscrape.com/catalogue/sharp-obj...</td>\n",
       "      <td>£47.82</td>\n",
       "      <td>Four</td>\n",
       "      <td>In stock</td>\n",
       "      <td>https://books.toscrape.com/media/cache/32/51/3...</td>\n",
       "    </tr>\n",
       "    <tr>\n",
       "      <th>4</th>\n",
       "      <td>Sapiens: A Brief History of Humankind</td>\n",
       "      <td>https://books.toscrape.com/catalogue/sapiens-a...</td>\n",
       "      <td>£54.23</td>\n",
       "      <td>Five</td>\n",
       "      <td>In stock</td>\n",
       "      <td>https://books.toscrape.com/media/cache/be/a5/b...</td>\n",
       "    </tr>\n",
       "    <tr>\n",
       "      <th>...</th>\n",
       "      <td>...</td>\n",
       "      <td>...</td>\n",
       "      <td>...</td>\n",
       "      <td>...</td>\n",
       "      <td>...</td>\n",
       "      <td>...</td>\n",
       "    </tr>\n",
       "    <tr>\n",
       "      <th>995</th>\n",
       "      <td>Alice in Wonderland (Alice's Adventures in Won...</td>\n",
       "      <td>https://books.toscrape.com/catalogue/alice-in-...</td>\n",
       "      <td>£55.53</td>\n",
       "      <td>One</td>\n",
       "      <td>In stock</td>\n",
       "      <td>https://books.toscrape.com/media/cache/96/ee/9...</td>\n",
       "    </tr>\n",
       "    <tr>\n",
       "      <th>996</th>\n",
       "      <td>Ajin: Demi-Human, Volume 1 (Ajin: Demi-Human #1)</td>\n",
       "      <td>https://books.toscrape.com/catalogue/ajin-demi...</td>\n",
       "      <td>£57.06</td>\n",
       "      <td>Four</td>\n",
       "      <td>In stock</td>\n",
       "      <td>https://books.toscrape.com/media/cache/09/7c/0...</td>\n",
       "    </tr>\n",
       "    <tr>\n",
       "      <th>997</th>\n",
       "      <td>A Spy's Devotion (The Regency Spies of London #1)</td>\n",
       "      <td>https://books.toscrape.com/catalogue/a-spys-de...</td>\n",
       "      <td>£16.97</td>\n",
       "      <td>Five</td>\n",
       "      <td>In stock</td>\n",
       "      <td>https://books.toscrape.com/media/cache/1b/5f/1...</td>\n",
       "    </tr>\n",
       "    <tr>\n",
       "      <th>998</th>\n",
       "      <td>1st to Die (Women's Murder Club #1)</td>\n",
       "      <td>https://books.toscrape.com/catalogue/1st-to-di...</td>\n",
       "      <td>£53.98</td>\n",
       "      <td>One</td>\n",
       "      <td>In stock</td>\n",
       "      <td>https://books.toscrape.com/media/cache/2b/41/2...</td>\n",
       "    </tr>\n",
       "    <tr>\n",
       "      <th>999</th>\n",
       "      <td>1,000 Places to See Before You Die</td>\n",
       "      <td>https://books.toscrape.com/catalogue/1000-plac...</td>\n",
       "      <td>£26.08</td>\n",
       "      <td>Five</td>\n",
       "      <td>In stock</td>\n",
       "      <td>https://books.toscrape.com/media/cache/d7/0f/d...</td>\n",
       "    </tr>\n",
       "  </tbody>\n",
       "</table>\n",
       "<p>1000 rows × 6 columns</p>\n",
       "</div>"
      ],
      "text/plain": [
       "                                                 Title  \\\n",
       "0                                 A Light in the Attic   \n",
       "1                                   Tipping the Velvet   \n",
       "2                                           Soumission   \n",
       "3                                        Sharp Objects   \n",
       "4                Sapiens: A Brief History of Humankind   \n",
       "..                                                 ...   \n",
       "995  Alice in Wonderland (Alice's Adventures in Won...   \n",
       "996   Ajin: Demi-Human, Volume 1 (Ajin: Demi-Human #1)   \n",
       "997  A Spy's Devotion (The Regency Spies of London #1)   \n",
       "998                1st to Die (Women's Murder Club #1)   \n",
       "999                 1,000 Places to See Before You Die   \n",
       "\n",
       "                                                  Href  Prices  \\\n",
       "0    https://books.toscrape.com/catalogue/a-light-i...  £51.77   \n",
       "1    https://books.toscrape.com/catalogue/tipping-t...  £53.74   \n",
       "2    https://books.toscrape.com/catalogue/soumissio...  £50.10   \n",
       "3    https://books.toscrape.com/catalogue/sharp-obj...  £47.82   \n",
       "4    https://books.toscrape.com/catalogue/sapiens-a...  £54.23   \n",
       "..                                                 ...     ...   \n",
       "995  https://books.toscrape.com/catalogue/alice-in-...  £55.53   \n",
       "996  https://books.toscrape.com/catalogue/ajin-demi...  £57.06   \n",
       "997  https://books.toscrape.com/catalogue/a-spys-de...  £16.97   \n",
       "998  https://books.toscrape.com/catalogue/1st-to-di...  £53.98   \n",
       "999  https://books.toscrape.com/catalogue/1000-plac...  £26.08   \n",
       "\n",
       "    Star Rating (out of 5)     Stock  \\\n",
       "0                    Three  In stock   \n",
       "1                      One  In stock   \n",
       "2                      One  In stock   \n",
       "3                     Four  In stock   \n",
       "4                     Five  In stock   \n",
       "..                     ...       ...   \n",
       "995                    One  In stock   \n",
       "996                   Four  In stock   \n",
       "997                   Five  In stock   \n",
       "998                    One  In stock   \n",
       "999                   Five  In stock   \n",
       "\n",
       "                                           Image Links  \n",
       "0    https://books.toscrape.com/media/cache/2c/da/2...  \n",
       "1    https://books.toscrape.com/media/cache/26/0c/2...  \n",
       "2    https://books.toscrape.com/media/cache/3e/ef/3...  \n",
       "3    https://books.toscrape.com/media/cache/32/51/3...  \n",
       "4    https://books.toscrape.com/media/cache/be/a5/b...  \n",
       "..                                                 ...  \n",
       "995  https://books.toscrape.com/media/cache/96/ee/9...  \n",
       "996  https://books.toscrape.com/media/cache/09/7c/0...  \n",
       "997  https://books.toscrape.com/media/cache/1b/5f/1...  \n",
       "998  https://books.toscrape.com/media/cache/2b/41/2...  \n",
       "999  https://books.toscrape.com/media/cache/d7/0f/d...  \n",
       "\n",
       "[1000 rows x 6 columns]"
      ]
     },
     "execution_count": 134,
     "metadata": {},
     "output_type": "execute_result"
    }
   ],
   "source": [
    "df"
   ]
  },
  {
   "cell_type": "code",
   "execution_count": null,
   "id": "c586e134",
   "metadata": {},
   "outputs": [],
   "source": []
  },
  {
   "cell_type": "code",
   "execution_count": null,
   "id": "34372237",
   "metadata": {},
   "outputs": [],
   "source": []
  }
 ],
 "metadata": {
  "kernelspec": {
   "display_name": "Python 3 (ipykernel)",
   "language": "python",
   "name": "python3"
  },
  "language_info": {
   "codemirror_mode": {
    "name": "ipython",
    "version": 3
   },
   "file_extension": ".py",
   "mimetype": "text/x-python",
   "name": "python",
   "nbconvert_exporter": "python",
   "pygments_lexer": "ipython3",
   "version": "3.10.8"
  }
 },
 "nbformat": 4,
 "nbformat_minor": 5
}
