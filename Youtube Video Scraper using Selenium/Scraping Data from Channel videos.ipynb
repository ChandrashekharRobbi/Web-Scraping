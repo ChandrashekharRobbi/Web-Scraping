{
 "cells": [
  {
   "cell_type": "code",
   "execution_count": 189,
   "id": "c0293988",
   "metadata": {},
   "outputs": [],
   "source": [
    "import requests\n",
    "from bs4 import BeautifulSoup\n",
    "from selenium import webdriver\n",
    "from selenium.webdriver.common.by import By\n",
    "from tqdm import tqdm\n",
    "import pandas as pd"
   ]
  },
  {
   "cell_type": "code",
   "execution_count": 17,
   "id": "f465f3f3",
   "metadata": {},
   "outputs": [],
   "source": [
    "driver = '../chromedriver_win32/chromedriver' # linux"
   ]
  },
  {
   "cell_type": "markdown",
   "id": "850a80c1",
   "metadata": {},
   "source": [
    "driver = '../chromedriver_win32/chromedriver.exe' # windows"
   ]
  },
  {
   "cell_type": "code",
   "execution_count": 120,
   "id": "4a279eaf",
   "metadata": {},
   "outputs": [
    {
     "name": "stderr",
     "output_type": "stream",
     "text": [
      "/tmp/ipykernel_12200/4176045484.py:1: DeprecationWarning: executable_path has been deprecated, please pass in a Service object\n",
      "  browser = webdriver.Chrome(driver)\n"
     ]
    }
   ],
   "source": [
    "browser = webdriver.Chrome(driver)"
   ]
  },
  {
   "cell_type": "code",
   "execution_count": 121,
   "id": "98262688",
   "metadata": {},
   "outputs": [],
   "source": [
    "browser.get('https://www.youtube.com/@3blue1brown/videos')"
   ]
  },
  {
   "cell_type": "code",
   "execution_count": 122,
   "id": "7422db8f",
   "metadata": {},
   "outputs": [],
   "source": [
    "browser.maximize_window()"
   ]
  },
  {
   "cell_type": "code",
   "execution_count": 129,
   "id": "fbee5c31",
   "metadata": {},
   "outputs": [],
   "source": [
    "elem = browser.find_elements(By.XPATH,'//*[@id=\"contents\"]')"
   ]
  },
  {
   "cell_type": "code",
   "execution_count": 130,
   "id": "2bbe7bb0",
   "metadata": {},
   "outputs": [
    {
     "data": {
      "text/plain": [
       "[<selenium.webdriver.remote.webelement.WebElement (session=\"4b45bdcd84c86665947ec216f3629c72\", element=\"89fac03c-3795-4a72-8b3d-e365203d785d\")>,\n",
       " <selenium.webdriver.remote.webelement.WebElement (session=\"4b45bdcd84c86665947ec216f3629c72\", element=\"50063b01-d88b-4492-92cf-63be7c58005a\")>,\n",
       " <selenium.webdriver.remote.webelement.WebElement (session=\"4b45bdcd84c86665947ec216f3629c72\", element=\"469a9c56-bd77-4ee4-96f0-7f012280899c\")>,\n",
       " <selenium.webdriver.remote.webelement.WebElement (session=\"4b45bdcd84c86665947ec216f3629c72\", element=\"4dd6b711-11f9-4f05-9fb8-08c3e602b567\")>,\n",
       " <selenium.webdriver.remote.webelement.WebElement (session=\"4b45bdcd84c86665947ec216f3629c72\", element=\"8921747c-82af-471c-8c63-4a9ef6c6f3db\")>,\n",
       " <selenium.webdriver.remote.webelement.WebElement (session=\"4b45bdcd84c86665947ec216f3629c72\", element=\"192e997d-5a43-4c05-a016-83f301062f06\")>,\n",
       " <selenium.webdriver.remote.webelement.WebElement (session=\"4b45bdcd84c86665947ec216f3629c72\", element=\"a332c4e7-707f-44f9-9d72-a085beb4c377\")>,\n",
       " <selenium.webdriver.remote.webelement.WebElement (session=\"4b45bdcd84c86665947ec216f3629c72\", element=\"7b21b728-df5f-4fd2-9fd1-c51292eec731\")>]"
      ]
     },
     "execution_count": 130,
     "metadata": {},
     "output_type": "execute_result"
    }
   ],
   "source": [
    "elem"
   ]
  },
  {
   "cell_type": "code",
   "execution_count": 131,
   "id": "94c0fab3",
   "metadata": {},
   "outputs": [
    {
     "data": {
      "text/plain": [
       "<selenium.webdriver.remote.webelement.WebElement (session=\"4b45bdcd84c86665947ec216f3629c72\", element=\"89fac03c-3795-4a72-8b3d-e365203d785d\")>"
      ]
     },
     "execution_count": 131,
     "metadata": {},
     "output_type": "execute_result"
    }
   ],
   "source": [
    "elem[0]"
   ]
  },
  {
   "cell_type": "code",
   "execution_count": 148,
   "id": "971c49ba",
   "metadata": {},
   "outputs": [
    {
     "data": {
      "text/plain": [
       "'\\n  <yt-image alt=\"\" ftl-eligible=\"\" notify-on-loaded=\"\" notify-on-unloaded=\"\" class=\"style-scope ytd-thumbnail\"><img alt=\"\" style=\"background-color: transparent;\" class=\"yt-core-image--fill-parent-height yt-core-image--fill-parent-width yt-core-image yt-core-image--content-mode-scale-aspect-fill yt-core-image--loaded\" src=\"https://i.ytimg.com/vi/KuXjwB4LzSA/hqdefault.jpg?sqp=-oaymwEcCNACELwBSFXyq4qpAw4IARUAAIhCGAFwAcABBg==&amp;rs=AOn4CLCw2iAx-HmJN075_pQGHGzyy1w1bg\"></yt-image>\\n  \\n  <div id=\"overlays\" class=\"style-scope ytd-thumbnail\"><ytd-thumbnail-overlay-time-status-renderer class=\"style-scope ytd-thumbnail\" overlay-style=\"DEFAULT\"><!--css-build:shady--><yt-icon size=\"16\" class=\"style-scope ytd-thumbnail-overlay-time-status-renderer\" disable-upgrade=\"\" hidden=\"\"></yt-icon><span id=\"text\" class=\"style-scope ytd-thumbnail-overlay-time-status-renderer\" aria-label=\"23 minutes, 1 second\">\\n  23:01\\n</span></ytd-thumbnail-overlay-time-status-renderer><ytd-thumbnail-overlay-now-playing-renderer class=\"style-scope ytd-thumbnail\"><!--css-build:shady--><span id=\"overlay-text\" class=\"style-scope ytd-thumbnail-overlay-now-playing-renderer\">Now playing</span>\\n<ytd-thumbnail-overlay-equalizer class=\"style-scope ytd-thumbnail-overlay-now-playing-renderer\"><!--css-build:shady--><svg xmlns=\"http://www.w3.org/2000/svg\" id=\"equalizer\" viewBox=\"0 0 55 95\" class=\"style-scope ytd-thumbnail-overlay-equalizer\">\\n  <g class=\"style-scope ytd-thumbnail-overlay-equalizer\">\\n    <rect class=\"bar style-scope ytd-thumbnail-overlay-equalizer\" x=\"0\"></rect>\\n    <rect class=\"bar style-scope ytd-thumbnail-overlay-equalizer\" x=\"20\"></rect>\\n    <rect class=\"bar style-scope ytd-thumbnail-overlay-equalizer\" x=\"40\"></rect>\\n  </g>\\n</svg>\\n</ytd-thumbnail-overlay-equalizer>\\n</ytd-thumbnail-overlay-now-playing-renderer></div>\\n  <div id=\"mouseover-overlay\" class=\"style-scope ytd-thumbnail\"></div>\\n  <div id=\"hover-overlays\" class=\"style-scope ytd-thumbnail\"></div>\\n'"
      ]
     },
     "execution_count": 148,
     "metadata": {},
     "output_type": "execute_result"
    }
   ],
   "source": [
    "elem[0].find_elements(By.TAG_NAME,'a')[0].get_attribute('innerHTML')"
   ]
  },
  {
   "cell_type": "code",
   "execution_count": 151,
   "id": "25102098",
   "metadata": {},
   "outputs": [
    {
     "data": {
      "text/plain": [
       "'\\n  23:01\\n'"
      ]
     },
     "execution_count": 151,
     "metadata": {},
     "output_type": "execute_result"
    }
   ],
   "source": [
    "elem[0].find_elements(By.TAG_NAME,'span')[0].get_attribute('innerHTML')"
   ]
  },
  {
   "cell_type": "code",
   "execution_count": 185,
   "id": "2b79469f",
   "metadata": {},
   "outputs": [
    {
     "name": "stderr",
     "output_type": "stream",
     "text": [
      "100%|█████████████████████████████████████████| 117/117 [01:00<00:00,  1.95it/s]\n"
     ]
    }
   ],
   "source": [
    "data = []\n",
    "for i in tqdm(range(len(elem[0].find_elements(By.XPATH, '//*[@id=\"metadata-line\"]/span[1]')))):\n",
    "    \n",
    "    title = elem[0].find_elements(By.XPATH,'//*[@id=\"video-title\"]')[i].text\n",
    "\n",
    "    video_link = elem[0].find_elements(By.XPATH,'//*[@id=\"video-title-link\"]')[i].get_attribute('href')\n",
    "\n",
    "    views = elem[0].find_elements(By.XPATH, '//*[@id=\"metadata-line\"]/span[1]')[i].text\n",
    "    \n",
    "    date = elem[0].find_elements(By.XPATH, '//*[@id=\"metadata-line\"]/span[2]')[i].text\n",
    "\n",
    "    thumbnail_link = elem[0].find_elements(By.XPATH, '//*[@id=\"thumbnail\"]/yt-image/img')[i].get_attribute('src')\n",
    "\n",
    "    data.append([title, views, date, video_link, thumbnail_link.split('?')[0]])\n",
    "    "
   ]
  },
  {
   "cell_type": "code",
   "execution_count": 187,
   "id": "d676f1b7",
   "metadata": {},
   "outputs": [],
   "source": [
    "index = 0"
   ]
  },
  {
   "cell_type": "code",
   "execution_count": 188,
   "id": "67f20f79",
   "metadata": {},
   "outputs": [
    {
     "name": "stdout",
     "output_type": "stream",
     "text": [
      "Title: But what is a convolution?\n",
      "Views: 1.2M views\n",
      "Date Streamed: 2 months ago\n",
      "Video Link: https://www.youtube.com/watch?v=KuXjwB4LzSA\n",
      "Thumbnail Link: https://i.ytimg.com/vi/KuXjwB4LzSA/hqdefault.jpg\n"
     ]
    }
   ],
   "source": [
    "print(f'Title: {data[index][0]}\\n\\\n",
    "Views: {data[index][1]}\\n\\\n",
    "Date Streamed: {data[index][2]}\\n\\\n",
    "Video Link: {data[index][3]}\\n\\\n",
    "Thumbnail Link: {data[index][4]}')"
   ]
  },
  {
   "cell_type": "code",
   "execution_count": 192,
   "id": "f9dded72",
   "metadata": {},
   "outputs": [],
   "source": [
    "df = pd.DataFrame(data, columns=['Title', 'Views', 'Date Streamed','Video Link','Thumbnail Link'])"
   ]
  },
  {
   "cell_type": "code",
   "execution_count": 193,
   "id": "eab0e0c5",
   "metadata": {},
   "outputs": [
    {
     "data": {
      "text/html": [
       "<div>\n",
       "<style scoped>\n",
       "    .dataframe tbody tr th:only-of-type {\n",
       "        vertical-align: middle;\n",
       "    }\n",
       "\n",
       "    .dataframe tbody tr th {\n",
       "        vertical-align: top;\n",
       "    }\n",
       "\n",
       "    .dataframe thead th {\n",
       "        text-align: right;\n",
       "    }\n",
       "</style>\n",
       "<table border=\"1\" class=\"dataframe\">\n",
       "  <thead>\n",
       "    <tr style=\"text-align: right;\">\n",
       "      <th></th>\n",
       "      <th>Title</th>\n",
       "      <th>Views</th>\n",
       "      <th>Date Streamed</th>\n",
       "      <th>Video Link</th>\n",
       "      <th>Thumbnail Link</th>\n",
       "    </tr>\n",
       "  </thead>\n",
       "  <tbody>\n",
       "    <tr>\n",
       "      <th>0</th>\n",
       "      <td>But what is a convolution?</td>\n",
       "      <td>1.2M views</td>\n",
       "      <td>2 months ago</td>\n",
       "      <td>https://www.youtube.com/watch?v=KuXjwB4LzSA</td>\n",
       "      <td>https://i.ytimg.com/vi/KuXjwB4LzSA/hqdefault.jpg</td>\n",
       "    </tr>\n",
       "    <tr>\n",
       "      <th>1</th>\n",
       "      <td>Researchers thought this was a bug (Borwein in...</td>\n",
       "      <td>1.4M views</td>\n",
       "      <td>2 months ago</td>\n",
       "      <td>https://www.youtube.com/watch?v=851U557j6HE</td>\n",
       "      <td>https://i.ytimg.com/vi/851U557j6HE/hqdefault.jpg</td>\n",
       "    </tr>\n",
       "    <tr>\n",
       "      <th>2</th>\n",
       "      <td>We ran a contest for math explainers, here are...</td>\n",
       "      <td>653K views</td>\n",
       "      <td>3 months ago</td>\n",
       "      <td>https://www.youtube.com/watch?v=cDofhN-RJqg</td>\n",
       "      <td>https://i.ytimg.com/vi/cDofhN-RJqg/hqdefault.jpg</td>\n",
       "    </tr>\n",
       "    <tr>\n",
       "      <th>3</th>\n",
       "      <td>How to lie using visual proofs</td>\n",
       "      <td>1.8M views</td>\n",
       "      <td>6 months ago</td>\n",
       "      <td>https://www.youtube.com/watch?v=VYQVlVoWoPY</td>\n",
       "      <td>https://i.ytimg.com/vi/VYQVlVoWoPY/hqdefault.jpg</td>\n",
       "    </tr>\n",
       "    <tr>\n",
       "      <th>4</th>\n",
       "      <td>Summer of Math Exposition 2 Invitation</td>\n",
       "      <td>251K views</td>\n",
       "      <td>7 months ago</td>\n",
       "      <td>https://www.youtube.com/watch?v=hZuYICAEN9Y</td>\n",
       "      <td>https://i.ytimg.com/vi/hZuYICAEN9Y/hqdefault.jpg</td>\n",
       "    </tr>\n",
       "    <tr>\n",
       "      <th>...</th>\n",
       "      <td>...</td>\n",
       "      <td>...</td>\n",
       "      <td>...</td>\n",
       "      <td>...</td>\n",
       "      <td>...</td>\n",
       "    </tr>\n",
       "    <tr>\n",
       "      <th>112</th>\n",
       "      <td>Euler's Formula and Graph Duality</td>\n",
       "      <td>425K views</td>\n",
       "      <td>7 years ago</td>\n",
       "      <td>https://www.youtube.com/watch?v=-9OUyo8NFZg</td>\n",
       "      <td>https://i.ytimg.com/vi/-9OUyo8NFZg/hqdefault.jpg</td>\n",
       "    </tr>\n",
       "    <tr>\n",
       "      <th>113</th>\n",
       "      <td>Circle Division Solution</td>\n",
       "      <td>524K views</td>\n",
       "      <td>7 years ago</td>\n",
       "      <td>https://www.youtube.com/watch?v=K8P8uFahAgc</td>\n",
       "      <td>https://i.ytimg.com/vi/K8P8uFahAgc/hqdefault.jpg</td>\n",
       "    </tr>\n",
       "    <tr>\n",
       "      <th>114</th>\n",
       "      <td>A Curious Pattern Indeed</td>\n",
       "      <td>512K views</td>\n",
       "      <td>7 years ago</td>\n",
       "      <td>https://www.youtube.com/watch?v=84hEmGHw3J8</td>\n",
       "      <td>https://i.ytimg.com/vi/84hEmGHw3J8/hqdefault.jpg</td>\n",
       "    </tr>\n",
       "    <tr>\n",
       "      <th>115</th>\n",
       "      <td>Euler's Formula Poem</td>\n",
       "      <td>146K views</td>\n",
       "      <td>7 years ago</td>\n",
       "      <td>https://www.youtube.com/watch?v=zLzLxVeqdQg</td>\n",
       "      <td>https://i.ytimg.com/vi/zLzLxVeqdQg/hqdefault.jpg</td>\n",
       "    </tr>\n",
       "    <tr>\n",
       "      <th>116</th>\n",
       "      <td>e to the pi i, a nontraditional take (old vers...</td>\n",
       "      <td>2.5M views</td>\n",
       "      <td>7 years ago</td>\n",
       "      <td>https://www.youtube.com/watch?v=F_0yfvm0UoU</td>\n",
       "      <td>https://i.ytimg.com/vi/F_0yfvm0UoU/hqdefault.jpg</td>\n",
       "    </tr>\n",
       "  </tbody>\n",
       "</table>\n",
       "<p>117 rows × 5 columns</p>\n",
       "</div>"
      ],
      "text/plain": [
       "                                                 Title       Views  \\\n",
       "0                           But what is a convolution?  1.2M views   \n",
       "1    Researchers thought this was a bug (Borwein in...  1.4M views   \n",
       "2    We ran a contest for math explainers, here are...  653K views   \n",
       "3                       How to lie using visual proofs  1.8M views   \n",
       "4               Summer of Math Exposition 2 Invitation  251K views   \n",
       "..                                                 ...         ...   \n",
       "112                  Euler's Formula and Graph Duality  425K views   \n",
       "113                           Circle Division Solution  524K views   \n",
       "114                           A Curious Pattern Indeed  512K views   \n",
       "115                               Euler's Formula Poem  146K views   \n",
       "116  e to the pi i, a nontraditional take (old vers...  2.5M views   \n",
       "\n",
       "    Date Streamed                                   Video Link  \\\n",
       "0    2 months ago  https://www.youtube.com/watch?v=KuXjwB4LzSA   \n",
       "1    2 months ago  https://www.youtube.com/watch?v=851U557j6HE   \n",
       "2    3 months ago  https://www.youtube.com/watch?v=cDofhN-RJqg   \n",
       "3    6 months ago  https://www.youtube.com/watch?v=VYQVlVoWoPY   \n",
       "4    7 months ago  https://www.youtube.com/watch?v=hZuYICAEN9Y   \n",
       "..            ...                                          ...   \n",
       "112   7 years ago  https://www.youtube.com/watch?v=-9OUyo8NFZg   \n",
       "113   7 years ago  https://www.youtube.com/watch?v=K8P8uFahAgc   \n",
       "114   7 years ago  https://www.youtube.com/watch?v=84hEmGHw3J8   \n",
       "115   7 years ago  https://www.youtube.com/watch?v=zLzLxVeqdQg   \n",
       "116   7 years ago  https://www.youtube.com/watch?v=F_0yfvm0UoU   \n",
       "\n",
       "                                       Thumbnail Link  \n",
       "0    https://i.ytimg.com/vi/KuXjwB4LzSA/hqdefault.jpg  \n",
       "1    https://i.ytimg.com/vi/851U557j6HE/hqdefault.jpg  \n",
       "2    https://i.ytimg.com/vi/cDofhN-RJqg/hqdefault.jpg  \n",
       "3    https://i.ytimg.com/vi/VYQVlVoWoPY/hqdefault.jpg  \n",
       "4    https://i.ytimg.com/vi/hZuYICAEN9Y/hqdefault.jpg  \n",
       "..                                                ...  \n",
       "112  https://i.ytimg.com/vi/-9OUyo8NFZg/hqdefault.jpg  \n",
       "113  https://i.ytimg.com/vi/K8P8uFahAgc/hqdefault.jpg  \n",
       "114  https://i.ytimg.com/vi/84hEmGHw3J8/hqdefault.jpg  \n",
       "115  https://i.ytimg.com/vi/zLzLxVeqdQg/hqdefault.jpg  \n",
       "116  https://i.ytimg.com/vi/F_0yfvm0UoU/hqdefault.jpg  \n",
       "\n",
       "[117 rows x 5 columns]"
      ]
     },
     "execution_count": 193,
     "metadata": {},
     "output_type": "execute_result"
    }
   ],
   "source": [
    "df"
   ]
  },
  {
   "cell_type": "code",
   "execution_count": 194,
   "id": "2ed5a9e0",
   "metadata": {},
   "outputs": [
    {
     "data": {
      "text/plain": [
       "Title             0\n",
       "Views             0\n",
       "Date Streamed     0\n",
       "Video Link        0\n",
       "Thumbnail Link    0\n",
       "dtype: int64"
      ]
     },
     "execution_count": 194,
     "metadata": {},
     "output_type": "execute_result"
    }
   ],
   "source": [
    "df.isnull().sum()"
   ]
  },
  {
   "cell_type": "code",
   "execution_count": 195,
   "id": "48693058",
   "metadata": {},
   "outputs": [],
   "source": [
    "df.to_csv('Youtube Scraped Data of Channel 3Blue1Brown.csv',index=False)"
   ]
  }
 ],
 "metadata": {
  "kernelspec": {
   "display_name": "Python 3 (ipykernel)",
   "language": "python",
   "name": "python3"
  },
  "language_info": {
   "codemirror_mode": {
    "name": "ipython",
    "version": 3
   },
   "file_extension": ".py",
   "mimetype": "text/x-python",
   "name": "python",
   "nbconvert_exporter": "python",
   "pygments_lexer": "ipython3",
   "version": "3.10.6"
  }
 },
 "nbformat": 4,
 "nbformat_minor": 5
}
