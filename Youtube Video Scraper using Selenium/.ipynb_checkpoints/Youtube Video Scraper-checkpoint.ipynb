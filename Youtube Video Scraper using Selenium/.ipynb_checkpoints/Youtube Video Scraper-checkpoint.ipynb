{
 "cells": [
  {
   "cell_type": "code",
   "execution_count": 1,
   "id": "7487b024",
   "metadata": {},
   "outputs": [],
   "source": [
    "import requests\n",
    "from bs4 import BeautifulSoup\n",
    "from selenium import webdriver\n",
    "from selenium.webdriver.common.by import By"
   ]
  },
  {
   "cell_type": "code",
   "execution_count": 2,
   "id": "82807052",
   "metadata": {},
   "outputs": [],
   "source": [
    "driver = '../chromedriver_win32/chromedriver.exe' # windows"
   ]
  },
  {
   "cell_type": "code",
   "execution_count": 3,
   "id": "815e0c84",
   "metadata": {},
   "outputs": [
    {
     "name": "stderr",
     "output_type": "stream",
     "text": [
      "C:\\Users\\Chandrashekhar\\AppData\\Local\\Temp\\ipykernel_17104\\4176045484.py:1: DeprecationWarning: executable_path has been deprecated, please pass in a Service object\n",
      "  browser = webdriver.Chrome(driver)\n"
     ]
    }
   ],
   "source": [
    "browser = webdriver.Chrome(driver)"
   ]
  },
  {
   "cell_type": "code",
   "execution_count": 4,
   "id": "d323699b",
   "metadata": {},
   "outputs": [],
   "source": [
    "browser.get('https://www.youtube.com/@3blue1brown/videos')"
   ]
  },
  {
   "cell_type": "code",
   "execution_count": 5,
   "id": "a15450da",
   "metadata": {},
   "outputs": [],
   "source": [
    "browser.maximize_window()"
   ]
  },
  {
   "cell_type": "code",
   "execution_count": 12,
   "id": "2167d0d6",
   "metadata": {},
   "outputs": [],
   "source": [
    "elem = browser.find_elements(By.XPATH,'//*[@id=\"contents\"]')"
   ]
  },
  {
   "cell_type": "code",
   "execution_count": 13,
   "id": "b96e01ca",
   "metadata": {},
   "outputs": [
    {
     "data": {
      "text/plain": [
       "[<selenium.webdriver.remote.webelement.WebElement (session=\"80d64e7d72951797c9664a9c82b03464\", element=\"2bc47c0d-489e-4744-a716-312be275d684\")>,\n",
       " <selenium.webdriver.remote.webelement.WebElement (session=\"80d64e7d72951797c9664a9c82b03464\", element=\"6059a43d-36c9-4d0a-ace8-7168097cb2aa\")>,\n",
       " <selenium.webdriver.remote.webelement.WebElement (session=\"80d64e7d72951797c9664a9c82b03464\", element=\"dfbecee1-f3ef-4a9b-8d05-a76219e515d2\")>,\n",
       " <selenium.webdriver.remote.webelement.WebElement (session=\"80d64e7d72951797c9664a9c82b03464\", element=\"f4b98c5b-3d0f-4d95-98f3-3f2f255c67e1\")>,\n",
       " <selenium.webdriver.remote.webelement.WebElement (session=\"80d64e7d72951797c9664a9c82b03464\", element=\"7b783a7b-1f27-425f-aa27-b71608da268d\")>,\n",
       " <selenium.webdriver.remote.webelement.WebElement (session=\"80d64e7d72951797c9664a9c82b03464\", element=\"32e88bd5-34f6-448d-b3ed-97c8dd6a4296\")>,\n",
       " <selenium.webdriver.remote.webelement.WebElement (session=\"80d64e7d72951797c9664a9c82b03464\", element=\"d235ec48-b595-46ba-8e8b-aa342a5d1f58\")>,\n",
       " <selenium.webdriver.remote.webelement.WebElement (session=\"80d64e7d72951797c9664a9c82b03464\", element=\"f05cbc2e-098e-4f26-918a-82684f552730\")>]"
      ]
     },
     "execution_count": 13,
     "metadata": {},
     "output_type": "execute_result"
    }
   ],
   "source": [
    "elem"
   ]
  },
  {
   "cell_type": "code",
   "execution_count": 21,
   "id": "ba419a54",
   "metadata": {},
   "outputs": [
    {
     "data": {
      "text/plain": [
       "<selenium.webdriver.remote.webelement.WebElement (session=\"80d64e7d72951797c9664a9c82b03464\", element=\"2bc47c0d-489e-4744-a716-312be275d684\")>"
      ]
     },
     "execution_count": 21,
     "metadata": {},
     "output_type": "execute_result"
    }
   ],
   "source": [
    "elem[0]"
   ]
  },
  {
   "cell_type": "code",
   "execution_count": 25,
   "id": "7154a21b",
   "metadata": {},
   "outputs": [
    {
     "name": "stdout",
     "output_type": "stream",
     "text": [
      "23:01\n",
      "NOW PLAYING\n",
      "\n",
      "But what is a convolution?\n",
      "17:26\n",
      "NOW PLAYING\n",
      "\n",
      "Researchers thought this was a bug (Borwein integrals)\n",
      "17:01\n",
      "NOW PLAYING\n",
      "\n",
      "We ran a contest for math explainers, here are the results (SoME2)\n",
      "18:49\n",
      "NOW PLAYING\n",
      "\n",
      "How to lie using visual proofs\n",
      "7:14\n",
      "NOW PLAYING\n",
      "\n",
      "Summer of Math Exposition 2 Invitation\n",
      "34:36\n",
      "NOW PLAYING\n",
      "\n",
      "Olympiad level counting: How many subsets of {1,…,2000} have a sum divisible by 5?\n",
      "10:53\n",
      "NOW PLAYING\n",
      "\n",
      "Oh, wait, actually the best Wordle opener is not “crane”…\n",
      "30:38\n",
      "NOW PLAYING\n",
      "\n",
      "Solving Wordle using information theory\n",
      "NOW PLAYING\n",
      "\n",
      "Alice, Bob, and the average area of a cube's shadow\n",
      "NOW PLAYING\n",
      "\n",
      "2021 Summer of Math Exposition results\n",
      "NOW PLAYING\n",
      "\n",
      "Beyond the Mandelbrot set, an intro to holomorphic dynamics\n",
      "NOW PLAYING\n",
      "\n",
      "From Newton’s method to Newton’s fractal (which Newton knew nothing about)\n",
      "NOW PLAYING\n",
      "\n",
      "The Summer of Math Exposition\n",
      "NOW PLAYING\n",
      "\n",
      "A quick trick for computing eigenvalues | Chapter 15, Essence of linear algebra\n",
      "NOW PLAYING\n",
      "\n",
      "How (and why) to raise e to the power of a matrix | DE6\n",
      "NOW PLAYING\n",
      "\n",
      "The medical test paradox, and redesigning Bayes' rule\n",
      "NOW PLAYING\n",
      "\n",
      "Hamming codes part 2, the elegance of it all\n",
      "NOW PLAYING\n",
      "\n",
      "How to send a self-correcting message (Hamming codes)\n",
      "NOW PLAYING\n",
      "\n",
      "Group theory, abstraction, and the 196,883-dimensional monster\n",
      "NOW PLAYING\n",
      "\n",
      "The impossible chessboard puzzle\n",
      "NOW PLAYING\n",
      "\n",
      "The DP-3T algorithm for contact tracing (via Nicky Case)\n",
      "NOW PLAYING\n",
      "\n",
      "Lockdown math announcement\n",
      "NOW PLAYING\n",
      "\n",
      "Why “probability of 0” does not mean “impossible” | Probabilities of probabilities, part 2\n",
      "NOW PLAYING\n",
      "\n",
      "Simulating an epidemic\n",
      "NOW PLAYING\n",
      "\n",
      "Binomial distributions | Probabilities of probabilities, part 1\n",
      "NOW PLAYING\n",
      "\n",
      "Exponential growth and epidemics\n",
      "NOW PLAYING\n",
      "\n",
      "The quick proof of Bayes' theorem\n",
      "NOW PLAYING\n",
      "\n",
      "Bayes theorem, the geometry of changing beliefs\n"
     ]
    }
   ],
   "source": [
    "for i in elem[0].find_elements(By.TAG_NAME,'a'):\n",
    "    print(i.text)"
   ]
  },
  {
   "cell_type": "code",
   "execution_count": 27,
   "id": "eaf2115b",
   "metadata": {},
   "outputs": [
    {
     "name": "stdout",
     "output_type": "stream",
     "text": [
      "23:01\n",
      "NOW PLAYING\n",
      "\n",
      "1.2M views\n",
      "2 months ago\n",
      "17:26\n",
      "NOW PLAYING\n",
      "\n",
      "1.4M views\n",
      "2 months ago\n",
      "17:01\n",
      "NOW PLAYING\n",
      "\n",
      "652K views\n",
      "3 months ago\n",
      "18:49\n",
      "NOW PLAYING\n",
      "\n",
      "1.8M views\n",
      "6 months ago\n",
      "7:14\n",
      "NOW PLAYING\n",
      "\n",
      "251K views\n",
      "7 months ago\n",
      "34:36\n",
      "NOW PLAYING\n",
      "\n",
      "1.3M views\n",
      "7 months ago\n",
      "10:53\n",
      "NOW PLAYING\n",
      "\n",
      "5M views\n",
      "11 months ago\n",
      "30:38\n",
      "NOW PLAYING\n",
      "\n",
      "9.4M views\n",
      "11 months ago\n",
      "\n",
      "NOW PLAYING\n",
      "\n",
      "2M views\n",
      "1 year ago\n",
      "\n",
      "NOW PLAYING\n",
      "\n",
      "748K views\n",
      "1 year ago\n",
      "\n",
      "NOW PLAYING\n",
      "\n",
      "1.1M views\n",
      "1 year ago\n",
      "\n",
      "NOW PLAYING\n",
      "EXPLAINERS\n",
      "\n",
      "2.3M views\n",
      "1 year ago\n",
      "\n",
      "NOW PLAYING\n",
      "\n",
      "691K views\n",
      "1 year ago\n",
      "\n",
      "NOW PLAYING\n",
      "3BLUE1BROWN SERIES  S1 E15\n",
      "\n",
      "758K views\n",
      "1 year ago\n",
      "\n",
      "NOW PLAYING\n",
      "3BLUE1BROWN SERIES  S4 E6\n",
      "\n",
      "1.9M views\n",
      "1 year ago\n",
      "\n",
      "NOW PLAYING\n",
      "\n",
      "957K views\n",
      "2 years ago\n",
      "\n",
      "NOW PLAYING\n",
      "\n",
      "706K views\n",
      "2 years ago\n",
      "\n",
      "NOW PLAYING\n",
      "EXPLAINERS\n",
      "\n",
      "1.7M views\n",
      "2 years ago\n",
      "\n",
      "NOW PLAYING\n",
      "EXPLAINERS\n",
      "\n",
      "2.4M views\n",
      "2 years ago\n",
      "\n",
      "NOW PLAYING\n",
      "NEAT PROOFS/PERSPECTIVES\n",
      "\n",
      "1.1M views\n",
      "2 years ago\n",
      "\n",
      "NOW PLAYING\n",
      "\n",
      "343K views\n",
      "2 years ago\n",
      "\n",
      "NOW PLAYING\n",
      "LOCKDOWN MATH\n",
      "\n",
      "812K views\n",
      "2 years ago\n",
      "\n",
      "NOW PLAYING\n",
      "\n",
      "2.1M views\n",
      "2 years ago\n",
      "\n",
      "NOW PLAYING\n",
      "\n",
      "5M views\n",
      "2 years ago\n",
      "\n",
      "NOW PLAYING\n",
      "\n",
      "1.8M views\n",
      "2 years ago\n",
      "\n",
      "NOW PLAYING\n",
      "\n",
      "5.9M views\n",
      "2 years ago\n",
      "\n",
      "NOW PLAYING\n",
      "\n",
      "440K views\n",
      "3 years ago\n",
      "\n",
      "NOW PLAYING\n",
      "EXPLAINERS\n",
      "\n",
      "3.1M views\n",
      "3 years ago\n"
     ]
    }
   ],
   "source": [
    "for i in elem[0].find_elements(By.TAG_NAME,'span'):\n",
    "    print(i.text)"
   ]
  },
  {
   "cell_type": "code",
   "execution_count": null,
   "id": "a0bfa192",
   "metadata": {},
   "outputs": [],
   "source": []
  }
 ],
 "metadata": {
  "kernelspec": {
   "display_name": "Python 3 (ipykernel)",
   "language": "python",
   "name": "python3"
  },
  "language_info": {
   "codemirror_mode": {
    "name": "ipython",
    "version": 3
   },
   "file_extension": ".py",
   "mimetype": "text/x-python",
   "name": "python",
   "nbconvert_exporter": "python",
   "pygments_lexer": "ipython3",
   "version": "3.10.6"
  }
 },
 "nbformat": 4,
 "nbformat_minor": 5
}
