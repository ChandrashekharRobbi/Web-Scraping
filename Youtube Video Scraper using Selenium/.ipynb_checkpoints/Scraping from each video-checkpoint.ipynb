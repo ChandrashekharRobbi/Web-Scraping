{
 "cells": [
  {
   "cell_type": "code",
   "execution_count": 1,
   "id": "2c2b1e27",
   "metadata": {},
   "outputs": [],
   "source": [
    "import requests \n",
    "import pandas as pd\n",
    "import numpy as np\n",
    "from tqdm import tqdm\n",
    "from selenium import webdriver\n",
    "from selenium.webdriver.common.by import By"
   ]
  },
  {
   "cell_type": "code",
   "execution_count": 2,
   "id": "6ac18d72",
   "metadata": {},
   "outputs": [],
   "source": [
    "driver = '../chromedriver_win32/chromedriver' # linux"
   ]
  },
  {
   "cell_type": "markdown",
   "id": "0ba4a5b9",
   "metadata": {},
   "source": [
    "driver = '../chromedriver_win32/chromedriver.exe' # windows"
   ]
  },
  {
   "cell_type": "code",
   "execution_count": 3,
   "id": "f3b639b3",
   "metadata": {},
   "outputs": [
    {
     "name": "stderr",
     "output_type": "stream",
     "text": [
      "/tmp/ipykernel_15620/4176045484.py:1: DeprecationWarning: executable_path has been deprecated, please pass in a Service object\n",
      "  browser = webdriver.Chrome(driver)\n"
     ]
    }
   ],
   "source": [
    "browser = webdriver.Chrome(driver)"
   ]
  },
  {
   "cell_type": "code",
   "execution_count": 4,
   "id": "24e2bf7d",
   "metadata": {},
   "outputs": [],
   "source": [
    "browser.get('https://www.youtube.com/@3blue1brown/videos')"
   ]
  },
  {
   "cell_type": "code",
   "execution_count": 7,
   "id": "6c18e525",
   "metadata": {},
   "outputs": [],
   "source": [
    "df = pd.read_csv('Youtube Scraped Data of Channel -> 3Blue1Brown.csv')"
   ]
  },
  {
   "cell_type": "code",
   "execution_count": 8,
   "id": "c1e6ab91",
   "metadata": {},
   "outputs": [
    {
     "data": {
      "text/html": [
       "<div>\n",
       "<style scoped>\n",
       "    .dataframe tbody tr th:only-of-type {\n",
       "        vertical-align: middle;\n",
       "    }\n",
       "\n",
       "    .dataframe tbody tr th {\n",
       "        vertical-align: top;\n",
       "    }\n",
       "\n",
       "    .dataframe thead th {\n",
       "        text-align: right;\n",
       "    }\n",
       "</style>\n",
       "<table border=\"1\" class=\"dataframe\">\n",
       "  <thead>\n",
       "    <tr style=\"text-align: right;\">\n",
       "      <th></th>\n",
       "      <th>Title</th>\n",
       "      <th>Views</th>\n",
       "      <th>Date Streamed</th>\n",
       "      <th>Video Link</th>\n",
       "      <th>Thumbnail Link</th>\n",
       "    </tr>\n",
       "  </thead>\n",
       "  <tbody>\n",
       "    <tr>\n",
       "      <th>0</th>\n",
       "      <td>But what is a convolution?</td>\n",
       "      <td>1.2M views</td>\n",
       "      <td>2 months ago</td>\n",
       "      <td>https://www.youtube.com/watch?v=KuXjwB4LzSA</td>\n",
       "      <td>https://i.ytimg.com/vi/KuXjwB4LzSA/hqdefault.jpg</td>\n",
       "    </tr>\n",
       "    <tr>\n",
       "      <th>1</th>\n",
       "      <td>Researchers thought this was a bug (Borwein in...</td>\n",
       "      <td>1.4M views</td>\n",
       "      <td>2 months ago</td>\n",
       "      <td>https://www.youtube.com/watch?v=851U557j6HE</td>\n",
       "      <td>https://i.ytimg.com/vi/851U557j6HE/hqdefault.jpg</td>\n",
       "    </tr>\n",
       "    <tr>\n",
       "      <th>2</th>\n",
       "      <td>We ran a contest for math explainers, here are...</td>\n",
       "      <td>653K views</td>\n",
       "      <td>3 months ago</td>\n",
       "      <td>https://www.youtube.com/watch?v=cDofhN-RJqg</td>\n",
       "      <td>https://i.ytimg.com/vi/cDofhN-RJqg/hqdefault.jpg</td>\n",
       "    </tr>\n",
       "    <tr>\n",
       "      <th>3</th>\n",
       "      <td>How to lie using visual proofs</td>\n",
       "      <td>1.8M views</td>\n",
       "      <td>6 months ago</td>\n",
       "      <td>https://www.youtube.com/watch?v=VYQVlVoWoPY</td>\n",
       "      <td>https://i.ytimg.com/vi/VYQVlVoWoPY/hqdefault.jpg</td>\n",
       "    </tr>\n",
       "    <tr>\n",
       "      <th>4</th>\n",
       "      <td>Summer of Math Exposition 2 Invitation</td>\n",
       "      <td>251K views</td>\n",
       "      <td>7 months ago</td>\n",
       "      <td>https://www.youtube.com/watch?v=hZuYICAEN9Y</td>\n",
       "      <td>https://i.ytimg.com/vi/hZuYICAEN9Y/hqdefault.jpg</td>\n",
       "    </tr>\n",
       "    <tr>\n",
       "      <th>...</th>\n",
       "      <td>...</td>\n",
       "      <td>...</td>\n",
       "      <td>...</td>\n",
       "      <td>...</td>\n",
       "      <td>...</td>\n",
       "    </tr>\n",
       "    <tr>\n",
       "      <th>112</th>\n",
       "      <td>Euler's Formula and Graph Duality</td>\n",
       "      <td>425K views</td>\n",
       "      <td>7 years ago</td>\n",
       "      <td>https://www.youtube.com/watch?v=-9OUyo8NFZg</td>\n",
       "      <td>https://i.ytimg.com/vi/-9OUyo8NFZg/hqdefault.jpg</td>\n",
       "    </tr>\n",
       "    <tr>\n",
       "      <th>113</th>\n",
       "      <td>Circle Division Solution</td>\n",
       "      <td>524K views</td>\n",
       "      <td>7 years ago</td>\n",
       "      <td>https://www.youtube.com/watch?v=K8P8uFahAgc</td>\n",
       "      <td>https://i.ytimg.com/vi/K8P8uFahAgc/hqdefault.jpg</td>\n",
       "    </tr>\n",
       "    <tr>\n",
       "      <th>114</th>\n",
       "      <td>A Curious Pattern Indeed</td>\n",
       "      <td>512K views</td>\n",
       "      <td>7 years ago</td>\n",
       "      <td>https://www.youtube.com/watch?v=84hEmGHw3J8</td>\n",
       "      <td>https://i.ytimg.com/vi/84hEmGHw3J8/hqdefault.jpg</td>\n",
       "    </tr>\n",
       "    <tr>\n",
       "      <th>115</th>\n",
       "      <td>Euler's Formula Poem</td>\n",
       "      <td>146K views</td>\n",
       "      <td>7 years ago</td>\n",
       "      <td>https://www.youtube.com/watch?v=zLzLxVeqdQg</td>\n",
       "      <td>https://i.ytimg.com/vi/zLzLxVeqdQg/hqdefault.jpg</td>\n",
       "    </tr>\n",
       "    <tr>\n",
       "      <th>116</th>\n",
       "      <td>e to the pi i, a nontraditional take (old vers...</td>\n",
       "      <td>2.5M views</td>\n",
       "      <td>7 years ago</td>\n",
       "      <td>https://www.youtube.com/watch?v=F_0yfvm0UoU</td>\n",
       "      <td>https://i.ytimg.com/vi/F_0yfvm0UoU/hqdefault.jpg</td>\n",
       "    </tr>\n",
       "  </tbody>\n",
       "</table>\n",
       "<p>117 rows × 5 columns</p>\n",
       "</div>"
      ],
      "text/plain": [
       "                                                 Title       Views  \\\n",
       "0                           But what is a convolution?  1.2M views   \n",
       "1    Researchers thought this was a bug (Borwein in...  1.4M views   \n",
       "2    We ran a contest for math explainers, here are...  653K views   \n",
       "3                       How to lie using visual proofs  1.8M views   \n",
       "4               Summer of Math Exposition 2 Invitation  251K views   \n",
       "..                                                 ...         ...   \n",
       "112                  Euler's Formula and Graph Duality  425K views   \n",
       "113                           Circle Division Solution  524K views   \n",
       "114                           A Curious Pattern Indeed  512K views   \n",
       "115                               Euler's Formula Poem  146K views   \n",
       "116  e to the pi i, a nontraditional take (old vers...  2.5M views   \n",
       "\n",
       "    Date Streamed                                   Video Link  \\\n",
       "0    2 months ago  https://www.youtube.com/watch?v=KuXjwB4LzSA   \n",
       "1    2 months ago  https://www.youtube.com/watch?v=851U557j6HE   \n",
       "2    3 months ago  https://www.youtube.com/watch?v=cDofhN-RJqg   \n",
       "3    6 months ago  https://www.youtube.com/watch?v=VYQVlVoWoPY   \n",
       "4    7 months ago  https://www.youtube.com/watch?v=hZuYICAEN9Y   \n",
       "..            ...                                          ...   \n",
       "112   7 years ago  https://www.youtube.com/watch?v=-9OUyo8NFZg   \n",
       "113   7 years ago  https://www.youtube.com/watch?v=K8P8uFahAgc   \n",
       "114   7 years ago  https://www.youtube.com/watch?v=84hEmGHw3J8   \n",
       "115   7 years ago  https://www.youtube.com/watch?v=zLzLxVeqdQg   \n",
       "116   7 years ago  https://www.youtube.com/watch?v=F_0yfvm0UoU   \n",
       "\n",
       "                                       Thumbnail Link  \n",
       "0    https://i.ytimg.com/vi/KuXjwB4LzSA/hqdefault.jpg  \n",
       "1    https://i.ytimg.com/vi/851U557j6HE/hqdefault.jpg  \n",
       "2    https://i.ytimg.com/vi/cDofhN-RJqg/hqdefault.jpg  \n",
       "3    https://i.ytimg.com/vi/VYQVlVoWoPY/hqdefault.jpg  \n",
       "4    https://i.ytimg.com/vi/hZuYICAEN9Y/hqdefault.jpg  \n",
       "..                                                ...  \n",
       "112  https://i.ytimg.com/vi/-9OUyo8NFZg/hqdefault.jpg  \n",
       "113  https://i.ytimg.com/vi/K8P8uFahAgc/hqdefault.jpg  \n",
       "114  https://i.ytimg.com/vi/84hEmGHw3J8/hqdefault.jpg  \n",
       "115  https://i.ytimg.com/vi/zLzLxVeqdQg/hqdefault.jpg  \n",
       "116  https://i.ytimg.com/vi/F_0yfvm0UoU/hqdefault.jpg  \n",
       "\n",
       "[117 rows x 5 columns]"
      ]
     },
     "execution_count": 8,
     "metadata": {},
     "output_type": "execute_result"
    }
   ],
   "source": [
    "df"
   ]
  },
  {
   "cell_type": "code",
   "execution_count": 70,
   "id": "9fa5b2a6",
   "metadata": {},
   "outputs": [],
   "source": [
    "import time"
   ]
  },
  {
   "cell_type": "code",
   "execution_count": 115,
   "id": "230fdb54",
   "metadata": {},
   "outputs": [
    {
     "data": {
      "text/plain": [
       "'Show more'"
      ]
     },
     "execution_count": 115,
     "metadata": {},
     "output_type": "execute_result"
    }
   ],
   "source": []
  },
  {
   "cell_type": "code",
   "execution_count": 116,
   "id": "1df67a8e",
   "metadata": {},
   "outputs": [
    {
     "data": {
      "text/plain": [
       "'Show more'"
      ]
     },
     "execution_count": 116,
     "metadata": {},
     "output_type": "execute_result"
    }
   ],
   "source": [
    "browser.find_element(By.XPATH,'//*[@id=\"expand\"]').text"
   ]
  },
  {
   "cell_type": "code",
   "execution_count": null,
   "id": "82aeae6b",
   "metadata": {},
   "outputs": [
    {
     "name": "stderr",
     "output_type": "stream",
     "text": [
      " 53%|██████████████████████▎                   | 62/117 [18:05<20:00, 21.82s/it]"
     ]
    }
   ],
   "source": [
    "data = []\n",
    "for link in tqdm(df[\"Video Link\"]):\n",
    "    browser.get(link)\n",
    "    time.sleep(5)\n",
    "                                    \n",
    "    browser.find_element(By.XPATH,'//*[@id=\"description-inner\"]').find_element(By.XPATH,'//*[@id=\"expand\"]').click()\n",
    "    title = browser.find_element(By.XPATH, '//*[@id=\"title\"]/h1/yt-formatted-string').text\n",
    "    views = browser.find_element(By.XPATH, '//*[@id=\"info\"]/span[1]').text\n",
    "    date  = browser.find_element(By.XPATH, '//*[@id=\"info\"]/span[3]').text\n",
    "    likes = browser.find_element(By.XPATH, '//*[@id=\"segmented-like-button\"]/ytd-toggle-button-renderer/yt-button-shape/button/div[2]/span').text\n",
    "    description = browser.find_element(By.XPATH,'//*[@id=\"description-inline-expander\"]/yt-formatted-string/span[1]').text\n",
    "    data.append([title, date, likes, views, description])"
   ]
  },
  {
   "cell_type": "code",
   "execution_count": 89,
   "id": "b44cb81f",
   "metadata": {},
   "outputs": [],
   "source": [
    "link = \"https://www.youtube.com/watch?v=F3Qixy-r_rQ\""
   ]
  },
  {
   "cell_type": "code",
   "execution_count": 90,
   "id": "b77fca4b",
   "metadata": {},
   "outputs": [],
   "source": [
    "browser.get(link)\n",
    "time.sleep(4)\n",
    "\n",
    "browser.find_element(By.XPATH,'//*[@id=\"expand\"]').click()\n",
    "title = browser.find_element(By.XPATH, '//*[@id=\"title\"]/h1/yt-formatted-string').text\n",
    "views = browser.find_element(By.XPATH, '//*[@id=\"info\"]/span[1]').text\n",
    "date  = browser.find_element(By.XPATH, '//*[@id=\"info\"]/span[3]').text\n",
    "likes = browser.find_element(By.XPATH, '//*[@id=\"segmented-like-button\"]/ytd-toggle-button-renderer/yt-button-shape/button/div[2]/span').text\n",
    "description = browser.find_element(By.XPATH,'//*[@id=\"description-inline-expander\"]/yt-formatted-string/span[1]').text\n",
    "data.append([title, date, likes, views, description])"
   ]
  },
  {
   "cell_type": "code",
   "execution_count": null,
   "id": "40095ac2",
   "metadata": {},
   "outputs": [],
   "source": []
  }
 ],
 "metadata": {
  "kernelspec": {
   "display_name": "Python 3 (ipykernel)",
   "language": "python",
   "name": "python3"
  },
  "language_info": {
   "codemirror_mode": {
    "name": "ipython",
    "version": 3
   },
   "file_extension": ".py",
   "mimetype": "text/x-python",
   "name": "python",
   "nbconvert_exporter": "python",
   "pygments_lexer": "ipython3",
   "version": "3.10.8"
  }
 },
 "nbformat": 4,
 "nbformat_minor": 5
}
