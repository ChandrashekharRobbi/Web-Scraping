{
 "cells": [
  {
   "cell_type": "code",
   "execution_count": 2,
   "id": "2c2b1e27",
   "metadata": {},
   "outputs": [],
   "source": [
    "import time\n",
    "import requests \n",
    "import pandas as pd\n",
    "import numpy as np\n",
    "from tqdm import tqdm\n",
    "from selenium import webdriver\n",
    "from selenium.webdriver.common.by import By"
   ]
  },
  {
   "cell_type": "markdown",
   "id": "3f123a30",
   "metadata": {},
   "source": [
    "driver = '../chromedriver_win32/chromedriver' # linux"
   ]
  },
  {
   "cell_type": "code",
   "execution_count": 3,
   "id": "929c6b43",
   "metadata": {},
   "outputs": [],
   "source": [
    "driver = '../chromedriver_win32/chromedriver.exe' # windows"
   ]
  },
  {
   "cell_type": "code",
   "execution_count": 4,
   "id": "f3b639b3",
   "metadata": {},
   "outputs": [],
   "source": [
    "browser = webdriver.Chrome(driver)"
   ]
  },
  {
   "cell_type": "code",
   "execution_count": 5,
   "id": "24e2bf7d",
   "metadata": {},
   "outputs": [],
   "source": [
    "browser.get('https://www.youtube.com/@3blue1brown/videos')"
   ]
  },
  {
   "cell_type": "code",
   "execution_count": 6,
   "id": "6c18e525",
   "metadata": {},
   "outputs": [],
   "source": [
    "df = pd.read_csv('exported data/Youtube Scraped Data of Channel 3Blue1Brown.csv')"
   ]
  },
  {
   "cell_type": "code",
   "execution_count": 7,
   "id": "c1e6ab91",
   "metadata": {},
   "outputs": [
    {
     "data": {
      "text/html": [
       "<div>\n",
       "<style scoped>\n",
       "    .dataframe tbody tr th:only-of-type {\n",
       "        vertical-align: middle;\n",
       "    }\n",
       "\n",
       "    .dataframe tbody tr th {\n",
       "        vertical-align: top;\n",
       "    }\n",
       "\n",
       "    .dataframe thead th {\n",
       "        text-align: right;\n",
       "    }\n",
       "</style>\n",
       "<table border=\"1\" class=\"dataframe\">\n",
       "  <thead>\n",
       "    <tr style=\"text-align: right;\">\n",
       "      <th></th>\n",
       "      <th>Title</th>\n",
       "      <th>Views</th>\n",
       "      <th>Date Streamed</th>\n",
       "      <th>Video Link</th>\n",
       "      <th>Thumbnail Link</th>\n",
       "    </tr>\n",
       "  </thead>\n",
       "  <tbody>\n",
       "    <tr>\n",
       "      <th>0</th>\n",
       "      <td>But what is a convolution?</td>\n",
       "      <td>1.2M views</td>\n",
       "      <td>2 months ago</td>\n",
       "      <td>https://www.youtube.com/watch?v=KuXjwB4LzSA</td>\n",
       "      <td>https://i.ytimg.com/vi/KuXjwB4LzSA/hqdefault.jpg</td>\n",
       "    </tr>\n",
       "    <tr>\n",
       "      <th>1</th>\n",
       "      <td>Researchers thought this was a bug (Borwein in...</td>\n",
       "      <td>1.4M views</td>\n",
       "      <td>2 months ago</td>\n",
       "      <td>https://www.youtube.com/watch?v=851U557j6HE</td>\n",
       "      <td>https://i.ytimg.com/vi/851U557j6HE/hqdefault.jpg</td>\n",
       "    </tr>\n",
       "    <tr>\n",
       "      <th>2</th>\n",
       "      <td>We ran a contest for math explainers, here are...</td>\n",
       "      <td>653K views</td>\n",
       "      <td>3 months ago</td>\n",
       "      <td>https://www.youtube.com/watch?v=cDofhN-RJqg</td>\n",
       "      <td>https://i.ytimg.com/vi/cDofhN-RJqg/hqdefault.jpg</td>\n",
       "    </tr>\n",
       "    <tr>\n",
       "      <th>3</th>\n",
       "      <td>How to lie using visual proofs</td>\n",
       "      <td>1.8M views</td>\n",
       "      <td>6 months ago</td>\n",
       "      <td>https://www.youtube.com/watch?v=VYQVlVoWoPY</td>\n",
       "      <td>https://i.ytimg.com/vi/VYQVlVoWoPY/hqdefault.jpg</td>\n",
       "    </tr>\n",
       "    <tr>\n",
       "      <th>4</th>\n",
       "      <td>Summer of Math Exposition 2 Invitation</td>\n",
       "      <td>251K views</td>\n",
       "      <td>7 months ago</td>\n",
       "      <td>https://www.youtube.com/watch?v=hZuYICAEN9Y</td>\n",
       "      <td>https://i.ytimg.com/vi/hZuYICAEN9Y/hqdefault.jpg</td>\n",
       "    </tr>\n",
       "    <tr>\n",
       "      <th>...</th>\n",
       "      <td>...</td>\n",
       "      <td>...</td>\n",
       "      <td>...</td>\n",
       "      <td>...</td>\n",
       "      <td>...</td>\n",
       "    </tr>\n",
       "    <tr>\n",
       "      <th>112</th>\n",
       "      <td>Euler's Formula and Graph Duality</td>\n",
       "      <td>425K views</td>\n",
       "      <td>7 years ago</td>\n",
       "      <td>https://www.youtube.com/watch?v=-9OUyo8NFZg</td>\n",
       "      <td>https://i.ytimg.com/vi/-9OUyo8NFZg/hqdefault.jpg</td>\n",
       "    </tr>\n",
       "    <tr>\n",
       "      <th>113</th>\n",
       "      <td>Circle Division Solution</td>\n",
       "      <td>524K views</td>\n",
       "      <td>7 years ago</td>\n",
       "      <td>https://www.youtube.com/watch?v=K8P8uFahAgc</td>\n",
       "      <td>https://i.ytimg.com/vi/K8P8uFahAgc/hqdefault.jpg</td>\n",
       "    </tr>\n",
       "    <tr>\n",
       "      <th>114</th>\n",
       "      <td>A Curious Pattern Indeed</td>\n",
       "      <td>512K views</td>\n",
       "      <td>7 years ago</td>\n",
       "      <td>https://www.youtube.com/watch?v=84hEmGHw3J8</td>\n",
       "      <td>https://i.ytimg.com/vi/84hEmGHw3J8/hqdefault.jpg</td>\n",
       "    </tr>\n",
       "    <tr>\n",
       "      <th>115</th>\n",
       "      <td>Euler's Formula Poem</td>\n",
       "      <td>146K views</td>\n",
       "      <td>7 years ago</td>\n",
       "      <td>https://www.youtube.com/watch?v=zLzLxVeqdQg</td>\n",
       "      <td>https://i.ytimg.com/vi/zLzLxVeqdQg/hqdefault.jpg</td>\n",
       "    </tr>\n",
       "    <tr>\n",
       "      <th>116</th>\n",
       "      <td>e to the pi i, a nontraditional take (old vers...</td>\n",
       "      <td>2.5M views</td>\n",
       "      <td>7 years ago</td>\n",
       "      <td>https://www.youtube.com/watch?v=F_0yfvm0UoU</td>\n",
       "      <td>https://i.ytimg.com/vi/F_0yfvm0UoU/hqdefault.jpg</td>\n",
       "    </tr>\n",
       "  </tbody>\n",
       "</table>\n",
       "<p>117 rows × 5 columns</p>\n",
       "</div>"
      ],
      "text/plain": [
       "                                                 Title       Views  \\\n",
       "0                           But what is a convolution?  1.2M views   \n",
       "1    Researchers thought this was a bug (Borwein in...  1.4M views   \n",
       "2    We ran a contest for math explainers, here are...  653K views   \n",
       "3                       How to lie using visual proofs  1.8M views   \n",
       "4               Summer of Math Exposition 2 Invitation  251K views   \n",
       "..                                                 ...         ...   \n",
       "112                  Euler's Formula and Graph Duality  425K views   \n",
       "113                           Circle Division Solution  524K views   \n",
       "114                           A Curious Pattern Indeed  512K views   \n",
       "115                               Euler's Formula Poem  146K views   \n",
       "116  e to the pi i, a nontraditional take (old vers...  2.5M views   \n",
       "\n",
       "    Date Streamed                                   Video Link  \\\n",
       "0    2 months ago  https://www.youtube.com/watch?v=KuXjwB4LzSA   \n",
       "1    2 months ago  https://www.youtube.com/watch?v=851U557j6HE   \n",
       "2    3 months ago  https://www.youtube.com/watch?v=cDofhN-RJqg   \n",
       "3    6 months ago  https://www.youtube.com/watch?v=VYQVlVoWoPY   \n",
       "4    7 months ago  https://www.youtube.com/watch?v=hZuYICAEN9Y   \n",
       "..            ...                                          ...   \n",
       "112   7 years ago  https://www.youtube.com/watch?v=-9OUyo8NFZg   \n",
       "113   7 years ago  https://www.youtube.com/watch?v=K8P8uFahAgc   \n",
       "114   7 years ago  https://www.youtube.com/watch?v=84hEmGHw3J8   \n",
       "115   7 years ago  https://www.youtube.com/watch?v=zLzLxVeqdQg   \n",
       "116   7 years ago  https://www.youtube.com/watch?v=F_0yfvm0UoU   \n",
       "\n",
       "                                       Thumbnail Link  \n",
       "0    https://i.ytimg.com/vi/KuXjwB4LzSA/hqdefault.jpg  \n",
       "1    https://i.ytimg.com/vi/851U557j6HE/hqdefault.jpg  \n",
       "2    https://i.ytimg.com/vi/cDofhN-RJqg/hqdefault.jpg  \n",
       "3    https://i.ytimg.com/vi/VYQVlVoWoPY/hqdefault.jpg  \n",
       "4    https://i.ytimg.com/vi/hZuYICAEN9Y/hqdefault.jpg  \n",
       "..                                                ...  \n",
       "112  https://i.ytimg.com/vi/-9OUyo8NFZg/hqdefault.jpg  \n",
       "113  https://i.ytimg.com/vi/K8P8uFahAgc/hqdefault.jpg  \n",
       "114  https://i.ytimg.com/vi/84hEmGHw3J8/hqdefault.jpg  \n",
       "115  https://i.ytimg.com/vi/zLzLxVeqdQg/hqdefault.jpg  \n",
       "116  https://i.ytimg.com/vi/F_0yfvm0UoU/hqdefault.jpg  \n",
       "\n",
       "[117 rows x 5 columns]"
      ]
     },
     "execution_count": 7,
     "metadata": {},
     "output_type": "execute_result"
    }
   ],
   "source": [
    "df"
   ]
  },
  {
   "cell_type": "code",
   "execution_count": 8,
   "id": "82aeae6b",
   "metadata": {},
   "outputs": [
    {
     "name": "stderr",
     "output_type": "stream",
     "text": [
      "  0%|                                                                                                                              | 0/117 [00:03<?, ?it/s]\n"
     ]
    },
    {
     "ename": "NoSuchWindowException",
     "evalue": "Message: no such window: target window already closed\nfrom unknown error: web view not found\n  (Session info: chrome=111.0.5563.147)\n",
     "output_type": "error",
     "traceback": [
      "\u001b[1;31m---------------------------------------------------------------------------\u001b[0m",
      "\u001b[1;31mNoSuchWindowException\u001b[0m                     Traceback (most recent call last)",
      "Cell \u001b[1;32mIn[8], line 6\u001b[0m\n\u001b[0;32m      3\u001b[0m browser\u001b[38;5;241m.\u001b[39mget(link)\n\u001b[0;32m      4\u001b[0m time\u001b[38;5;241m.\u001b[39msleep(\u001b[38;5;241m2\u001b[39m)\n\u001b[1;32m----> 6\u001b[0m \u001b[43mbrowser\u001b[49m\u001b[38;5;241;43m.\u001b[39;49m\u001b[43mfind_element\u001b[49m\u001b[43m(\u001b[49m\u001b[43mBy\u001b[49m\u001b[38;5;241;43m.\u001b[39;49m\u001b[43mXPATH\u001b[49m\u001b[43m,\u001b[49m\u001b[38;5;124;43m'\u001b[39;49m\u001b[38;5;124;43m//*[@id=\u001b[39;49m\u001b[38;5;124;43m\"\u001b[39;49m\u001b[38;5;124;43mdescription-inner\u001b[39;49m\u001b[38;5;124;43m\"\u001b[39;49m\u001b[38;5;124;43m]\u001b[39;49m\u001b[38;5;124;43m'\u001b[39;49m\u001b[43m)\u001b[49m\u001b[38;5;241m.\u001b[39mfind_element(By\u001b[38;5;241m.\u001b[39mXPATH,\u001b[38;5;124m'\u001b[39m\u001b[38;5;124m//*[@id=\u001b[39m\u001b[38;5;124m\"\u001b[39m\u001b[38;5;124mexpand\u001b[39m\u001b[38;5;124m\"\u001b[39m\u001b[38;5;124m]\u001b[39m\u001b[38;5;124m'\u001b[39m)\u001b[38;5;241m.\u001b[39mclick()\n\u001b[0;32m      7\u001b[0m title \u001b[38;5;241m=\u001b[39m browser\u001b[38;5;241m.\u001b[39mfind_element(By\u001b[38;5;241m.\u001b[39mXPATH, \u001b[38;5;124m'\u001b[39m\u001b[38;5;124m//*[@id=\u001b[39m\u001b[38;5;124m\"\u001b[39m\u001b[38;5;124mtitle\u001b[39m\u001b[38;5;124m\"\u001b[39m\u001b[38;5;124m]/h1/yt-formatted-string\u001b[39m\u001b[38;5;124m'\u001b[39m)\u001b[38;5;241m.\u001b[39mtext\n\u001b[0;32m      8\u001b[0m views \u001b[38;5;241m=\u001b[39m browser\u001b[38;5;241m.\u001b[39mfind_element(By\u001b[38;5;241m.\u001b[39mXPATH, \u001b[38;5;124m'\u001b[39m\u001b[38;5;124m//*[@id=\u001b[39m\u001b[38;5;124m\"\u001b[39m\u001b[38;5;124minfo\u001b[39m\u001b[38;5;124m\"\u001b[39m\u001b[38;5;124m]/span[1]\u001b[39m\u001b[38;5;124m'\u001b[39m)\u001b[38;5;241m.\u001b[39mtext\n",
      "File \u001b[1;32mC:\\GFG_DataScience\\env\\lib\\site-packages\\selenium\\webdriver\\remote\\webdriver.py:976\u001b[0m, in \u001b[0;36mWebDriver.find_element\u001b[1;34m(self, by, value)\u001b[0m\n\u001b[0;32m    974\u001b[0m         by \u001b[38;5;241m=\u001b[39m By\u001b[38;5;241m.\u001b[39mCSS_SELECTOR\n\u001b[0;32m    975\u001b[0m         value \u001b[38;5;241m=\u001b[39m \u001b[38;5;124m'\u001b[39m\u001b[38;5;124m[name=\u001b[39m\u001b[38;5;124m\"\u001b[39m\u001b[38;5;132;01m%s\u001b[39;00m\u001b[38;5;124m\"\u001b[39m\u001b[38;5;124m]\u001b[39m\u001b[38;5;124m'\u001b[39m \u001b[38;5;241m%\u001b[39m value\n\u001b[1;32m--> 976\u001b[0m \u001b[38;5;28;01mreturn\u001b[39;00m \u001b[38;5;28;43mself\u001b[39;49m\u001b[38;5;241;43m.\u001b[39;49m\u001b[43mexecute\u001b[49m\u001b[43m(\u001b[49m\u001b[43mCommand\u001b[49m\u001b[38;5;241;43m.\u001b[39;49m\u001b[43mFIND_ELEMENT\u001b[49m\u001b[43m,\u001b[49m\u001b[43m \u001b[49m\u001b[43m{\u001b[49m\n\u001b[0;32m    977\u001b[0m \u001b[43m    \u001b[49m\u001b[38;5;124;43m'\u001b[39;49m\u001b[38;5;124;43musing\u001b[39;49m\u001b[38;5;124;43m'\u001b[39;49m\u001b[43m:\u001b[49m\u001b[43m \u001b[49m\u001b[43mby\u001b[49m\u001b[43m,\u001b[49m\n\u001b[0;32m    978\u001b[0m \u001b[43m    \u001b[49m\u001b[38;5;124;43m'\u001b[39;49m\u001b[38;5;124;43mvalue\u001b[39;49m\u001b[38;5;124;43m'\u001b[39;49m\u001b[43m:\u001b[49m\u001b[43m \u001b[49m\u001b[43mvalue\u001b[49m\u001b[43m}\u001b[49m\u001b[43m)\u001b[49m[\u001b[38;5;124m'\u001b[39m\u001b[38;5;124mvalue\u001b[39m\u001b[38;5;124m'\u001b[39m]\n",
      "File \u001b[1;32mC:\\GFG_DataScience\\env\\lib\\site-packages\\selenium\\webdriver\\remote\\webdriver.py:321\u001b[0m, in \u001b[0;36mWebDriver.execute\u001b[1;34m(self, driver_command, params)\u001b[0m\n\u001b[0;32m    319\u001b[0m response \u001b[38;5;241m=\u001b[39m \u001b[38;5;28mself\u001b[39m\u001b[38;5;241m.\u001b[39mcommand_executor\u001b[38;5;241m.\u001b[39mexecute(driver_command, params)\n\u001b[0;32m    320\u001b[0m \u001b[38;5;28;01mif\u001b[39;00m response:\n\u001b[1;32m--> 321\u001b[0m     \u001b[38;5;28;43mself\u001b[39;49m\u001b[38;5;241;43m.\u001b[39;49m\u001b[43merror_handler\u001b[49m\u001b[38;5;241;43m.\u001b[39;49m\u001b[43mcheck_response\u001b[49m\u001b[43m(\u001b[49m\u001b[43mresponse\u001b[49m\u001b[43m)\u001b[49m\n\u001b[0;32m    322\u001b[0m     response[\u001b[38;5;124m'\u001b[39m\u001b[38;5;124mvalue\u001b[39m\u001b[38;5;124m'\u001b[39m] \u001b[38;5;241m=\u001b[39m \u001b[38;5;28mself\u001b[39m\u001b[38;5;241m.\u001b[39m_unwrap_value(\n\u001b[0;32m    323\u001b[0m         response\u001b[38;5;241m.\u001b[39mget(\u001b[38;5;124m'\u001b[39m\u001b[38;5;124mvalue\u001b[39m\u001b[38;5;124m'\u001b[39m, \u001b[38;5;28;01mNone\u001b[39;00m))\n\u001b[0;32m    324\u001b[0m     \u001b[38;5;28;01mreturn\u001b[39;00m response\n",
      "File \u001b[1;32mC:\\GFG_DataScience\\env\\lib\\site-packages\\selenium\\webdriver\\remote\\errorhandler.py:242\u001b[0m, in \u001b[0;36mErrorHandler.check_response\u001b[1;34m(self, response)\u001b[0m\n\u001b[0;32m    240\u001b[0m         alert_text \u001b[38;5;241m=\u001b[39m value[\u001b[38;5;124m'\u001b[39m\u001b[38;5;124malert\u001b[39m\u001b[38;5;124m'\u001b[39m]\u001b[38;5;241m.\u001b[39mget(\u001b[38;5;124m'\u001b[39m\u001b[38;5;124mtext\u001b[39m\u001b[38;5;124m'\u001b[39m)\n\u001b[0;32m    241\u001b[0m     \u001b[38;5;28;01mraise\u001b[39;00m exception_class(message, screen, stacktrace, alert_text)\n\u001b[1;32m--> 242\u001b[0m \u001b[38;5;28;01mraise\u001b[39;00m exception_class(message, screen, stacktrace)\n",
      "\u001b[1;31mNoSuchWindowException\u001b[0m: Message: no such window: target window already closed\nfrom unknown error: web view not found\n  (Session info: chrome=111.0.5563.147)\n"
     ]
    }
   ],
   "source": [
    "data = []\n",
    "for link in tqdm(df[\"Video Link\"]):\n",
    "    browser.get(link)\n",
    "    time.sleep(2)\n",
    "                                    \n",
    "    browser.find_element(By.XPATH,'//*[@id=\"description-inner\"]').find_element(By.XPATH,'//*[@id=\"expand\"]').click()\n",
    "    title = browser.find_element(By.XPATH, '//*[@id=\"title\"]/h1/yt-formatted-string').text\n",
    "    views = browser.find_element(By.XPATH, '//*[@id=\"info\"]/span[1]').text\n",
    "    date  = browser.find_element(By.XPATH, '//*[@id=\"info\"]/span[3]').text\n",
    "    likes = browser.find_element(By.XPATH, '//*[@id=\"segmented-like-button\"]/ytd-toggle-button-renderer/yt-button-shape/button/div[2]/span').text\n",
    "    try:\n",
    "        description = browser.find_element(By.XPATH,'//*[@id=\"description-inline-expander\"]/yt-formatted-string/span[1]').text\n",
    "    except:\n",
    "        description = browser.find_element(By.XPATH,'//*[@id=\"description-inline-expander\"]/yt-formatted-string').text\n",
    "    data.append([title, date, likes, views, description])"
   ]
  },
  {
   "cell_type": "code",
   "execution_count": null,
   "id": "a98b9376",
   "metadata": {},
   "outputs": [],
   "source": [
    "data"
   ]
  },
  {
   "cell_type": "code",
   "execution_count": null,
   "id": "ba1da590",
   "metadata": {},
   "outputs": [],
   "source": [
    "df = pd.DataFrame(data, columns=[\"Title\",\"Date Uploaded\",\"Total Likes\", \"Total Views\",\"Description\"])"
   ]
  },
  {
   "cell_type": "code",
   "execution_count": null,
   "id": "9fcba0d1",
   "metadata": {},
   "outputs": [],
   "source": [
    "df"
   ]
  },
  {
   "cell_type": "code",
   "execution_count": null,
   "id": "a99503db",
   "metadata": {},
   "outputs": [],
   "source": [
    "df.isnull().sum()"
   ]
  },
  {
   "cell_type": "code",
   "execution_count": null,
   "id": "5452bcca",
   "metadata": {},
   "outputs": [],
   "source": [
    "df.to_csv('exported data/3Blue1Brown.csv',index=False)"
   ]
  }
 ],
 "metadata": {
  "kernelspec": {
   "display_name": "Python 3 (ipykernel)",
   "language": "python",
   "name": "python3"
  },
  "language_info": {
   "codemirror_mode": {
    "name": "ipython",
    "version": 3
   },
   "file_extension": ".py",
   "mimetype": "text/x-python",
   "name": "python",
   "nbconvert_exporter": "python",
   "pygments_lexer": "ipython3",
   "version": "3.10.10"
  }
 },
 "nbformat": 4,
 "nbformat_minor": 5
}
