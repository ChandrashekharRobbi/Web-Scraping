{
 "cells": [
  {
   "cell_type": "markdown",
   "id": "2c5f00cb",
   "metadata": {},
   "source": [
    "#### https://selenium-python.readthedocs.io/locating-elements.html#locating-elements"
   ]
  },
  {
   "cell_type": "code",
   "execution_count": 14,
   "id": "c0293988",
   "metadata": {},
   "outputs": [],
   "source": [
    "import requests\n",
    "from bs4 import BeautifulSoup\n",
    "from selenium import webdriver\n",
    "from selenium.webdriver.common.by import By"
   ]
  },
  {
   "cell_type": "code",
   "execution_count": 17,
   "id": "f465f3f3",
   "metadata": {},
   "outputs": [],
   "source": [
    "driver = '../chromedriver_win32/chromedriver' # linux"
   ]
  },
  {
   "cell_type": "markdown",
   "id": "e68d6e1b",
   "metadata": {},
   "source": [
    "driver = '../chromedriver_win32/chromedriver.exe' # windows"
   ]
  },
  {
   "cell_type": "code",
   "execution_count": 18,
   "id": "4a279eaf",
   "metadata": {},
   "outputs": [
    {
     "name": "stderr",
     "output_type": "stream",
     "text": [
      "/tmp/ipykernel_12200/4176045484.py:1: DeprecationWarning: executable_path has been deprecated, please pass in a Service object\n",
      "  browser = webdriver.Chrome(driver)\n"
     ]
    }
   ],
   "source": [
    "browser = webdriver.Chrome(driver)"
   ]
  },
  {
   "cell_type": "code",
   "execution_count": 19,
   "id": "98262688",
   "metadata": {},
   "outputs": [],
   "source": [
    "browser.get('https://www.youtube.com/@3blue1brown/videos')"
   ]
  },
  {
   "cell_type": "code",
   "execution_count": 20,
   "id": "7422db8f",
   "metadata": {},
   "outputs": [],
   "source": [
    "browser.maximize_window()"
   ]
  },
  {
   "cell_type": "code",
   "execution_count": 21,
   "id": "fbee5c31",
   "metadata": {},
   "outputs": [],
   "source": [
    "elem = browser.find_elements(By.XPATH,'//*[@id=\"contents\"]')"
   ]
  },
  {
   "cell_type": "code",
   "execution_count": 22,
   "id": "2bbe7bb0",
   "metadata": {},
   "outputs": [
    {
     "data": {
      "text/plain": [
       "[<selenium.webdriver.remote.webelement.WebElement (session=\"0d31d6921579387ad4af58553cb4e816\", element=\"6a209fd2-d5b4-4eae-a1a1-42ad2710c87e\")>,\n",
       " <selenium.webdriver.remote.webelement.WebElement (session=\"0d31d6921579387ad4af58553cb4e816\", element=\"887da65e-d341-4c67-87aa-450464750ab4\")>,\n",
       " <selenium.webdriver.remote.webelement.WebElement (session=\"0d31d6921579387ad4af58553cb4e816\", element=\"c98a6002-4c50-4d6b-99d8-6584c67e2d7c\")>,\n",
       " <selenium.webdriver.remote.webelement.WebElement (session=\"0d31d6921579387ad4af58553cb4e816\", element=\"15353a24-789b-421c-b452-dfe8c7568291\")>,\n",
       " <selenium.webdriver.remote.webelement.WebElement (session=\"0d31d6921579387ad4af58553cb4e816\", element=\"dc0bc146-483e-47c9-897a-e2a6fa1f08fc\")>,\n",
       " <selenium.webdriver.remote.webelement.WebElement (session=\"0d31d6921579387ad4af58553cb4e816\", element=\"1637e5c4-a078-4da7-9521-188985fbe862\")>,\n",
       " <selenium.webdriver.remote.webelement.WebElement (session=\"0d31d6921579387ad4af58553cb4e816\", element=\"d65cce08-944e-4ada-9dd2-f754c0bc7430\")>,\n",
       " <selenium.webdriver.remote.webelement.WebElement (session=\"0d31d6921579387ad4af58553cb4e816\", element=\"1e6e334f-1bd3-404f-9ffc-e800a6466b0a\")>,\n",
       " <selenium.webdriver.remote.webelement.WebElement (session=\"0d31d6921579387ad4af58553cb4e816\", element=\"fe3890e8-757e-44b7-848d-59f07dbcabd4\")>,\n",
       " <selenium.webdriver.remote.webelement.WebElement (session=\"0d31d6921579387ad4af58553cb4e816\", element=\"f3b9c98e-5842-408b-9e63-d98eb20758c4\")>,\n",
       " <selenium.webdriver.remote.webelement.WebElement (session=\"0d31d6921579387ad4af58553cb4e816\", element=\"d92eaae2-bfec-4658-8ac0-27effe293a00\")>,\n",
       " <selenium.webdriver.remote.webelement.WebElement (session=\"0d31d6921579387ad4af58553cb4e816\", element=\"a4a64f77-cf16-4ea5-a5f7-c196286ee5d4\")>,\n",
       " <selenium.webdriver.remote.webelement.WebElement (session=\"0d31d6921579387ad4af58553cb4e816\", element=\"fe729086-57aa-4827-80b3-bd4489222f93\")>,\n",
       " <selenium.webdriver.remote.webelement.WebElement (session=\"0d31d6921579387ad4af58553cb4e816\", element=\"7cdd6ac7-1294-49e2-89a3-578064782638\")>,\n",
       " <selenium.webdriver.remote.webelement.WebElement (session=\"0d31d6921579387ad4af58553cb4e816\", element=\"6f100209-955a-4c99-b660-70738a824dd5\")>,\n",
       " <selenium.webdriver.remote.webelement.WebElement (session=\"0d31d6921579387ad4af58553cb4e816\", element=\"91692c69-ce52-47b6-a65a-6cf8d726112d\")>]"
      ]
     },
     "execution_count": 22,
     "metadata": {},
     "output_type": "execute_result"
    }
   ],
   "source": [
    "elem"
   ]
  },
  {
   "cell_type": "code",
   "execution_count": 23,
   "id": "94c0fab3",
   "metadata": {},
   "outputs": [
    {
     "data": {
      "text/plain": [
       "<selenium.webdriver.remote.webelement.WebElement (session=\"0d31d6921579387ad4af58553cb4e816\", element=\"6a209fd2-d5b4-4eae-a1a1-42ad2710c87e\")>"
      ]
     },
     "execution_count": 23,
     "metadata": {},
     "output_type": "execute_result"
    }
   ],
   "source": [
    "elem[0]"
   ]
  },
  {
   "cell_type": "code",
   "execution_count": 24,
   "id": "971c49ba",
   "metadata": {},
   "outputs": [
    {
     "name": "stdout",
     "output_type": "stream",
     "text": [
      "23:01\n",
      "\n",
      "But what is a convolution?\n",
      "17:26\n",
      "\n",
      "Researchers thought this was a bug (Borwein integrals)\n",
      "17:01\n",
      "\n",
      "We ran a contest for math explainers, here are the results (SoME2)\n",
      "18:49\n",
      "\n",
      "How to lie using visual proofs\n",
      "\n",
      "\n",
      "Summer of Math Exposition 2 Invitation\n",
      "\n",
      "\n",
      "Olympiad level counting: How many subsets of {1,…,2000} have a sum divisible by 5?\n",
      "\n",
      "\n",
      "Oh, wait, actually the best Wordle opener is not “crane”…\n",
      "\n",
      "\n",
      "Solving Wordle using information theory\n",
      "\n",
      "\n",
      "Alice, Bob, and the average area of a cube's shadow\n",
      "\n",
      "\n",
      "2021 Summer of Math Exposition results\n",
      "\n",
      "\n",
      "Beyond the Mandelbrot set, an intro to holomorphic dynamics\n",
      "\n",
      "\n",
      "From Newton’s method to Newton’s fractal (which Newton knew nothing about)\n",
      "\n",
      "\n",
      "The Summer of Math Exposition\n",
      "\n",
      "\n",
      "A quick trick for computing eigenvalues | Chapter 15, Essence of linear algebra\n",
      "\n",
      "\n",
      "How (and why) to raise e to the power of a matrix | DE6\n",
      "\n",
      "\n",
      "The medical test paradox, and redesigning Bayes' rule\n",
      "\n",
      "\n",
      "Hamming codes part 2, the elegance of it all\n",
      "\n",
      "\n",
      "How to send a self-correcting message (Hamming codes)\n",
      "\n",
      "\n",
      "Group theory, abstraction, and the 196,883-dimensional monster\n",
      "\n",
      "\n",
      "The impossible chessboard puzzle\n",
      "\n",
      "\n",
      "The DP-3T algorithm for contact tracing (via Nicky Case)\n",
      "\n",
      "\n",
      "Lockdown math announcement\n",
      "\n",
      "\n",
      "Why “probability of 0” does not mean “impossible” | Probabilities of probabilities, part 2\n",
      "\n",
      "\n",
      "Simulating an epidemic\n",
      "\n",
      "\n",
      "Binomial distributions | Probabilities of probabilities, part 1\n",
      "\n",
      "\n",
      "Exponential growth and epidemics\n",
      "\n",
      "\n",
      "The quick proof of Bayes' theorem\n",
      "\n",
      "\n",
      "Bayes theorem, the geometry of changing beliefs\n"
     ]
    }
   ],
   "source": [
    "for i in elem[0].find_elements(By.TAG_NAME,'a'):\n",
    "    print(i.text)"
   ]
  },
  {
   "cell_type": "code",
   "execution_count": 25,
   "id": "25102098",
   "metadata": {},
   "outputs": [
    {
     "name": "stdout",
     "output_type": "stream",
     "text": [
      "23:01\n",
      "\n",
      "\n",
      "1.2M views\n",
      "2 months ago\n",
      "17:26\n",
      "\n",
      "\n",
      "1.4M views\n",
      "2 months ago\n",
      "17:01\n",
      "\n",
      "\n",
      "653K views\n",
      "3 months ago\n",
      "18:49\n",
      "\n",
      "\n",
      "1.8M views\n",
      "6 months ago\n",
      "\n",
      "\n",
      "\n",
      "251K views\n",
      "7 months ago\n",
      "\n",
      "\n",
      "\n",
      "1.3M views\n",
      "8 months ago\n",
      "\n",
      "\n",
      "\n",
      "5M views\n",
      "11 months ago\n",
      "\n",
      "\n",
      "\n",
      "9.4M views\n",
      "11 months ago\n",
      "\n",
      "\n",
      "\n",
      "2M views\n",
      "1 year ago\n",
      "\n",
      "\n",
      "\n",
      "748K views\n",
      "1 year ago\n",
      "\n",
      "\n",
      "\n",
      "1.1M views\n",
      "1 year ago\n",
      "\n",
      "\n",
      "EXPLAINERS\n",
      "\n",
      "2.3M views\n",
      "1 year ago\n",
      "\n",
      "\n",
      "\n",
      "692K views\n",
      "1 year ago\n",
      "\n",
      "\n",
      "3BLUE1BROWN SERIES  S1 E15\n",
      "\n",
      "760K views\n",
      "1 year ago\n",
      "\n",
      "\n",
      "3BLUE1BROWN SERIES  S4 E6\n",
      "\n",
      "1.9M views\n",
      "1 year ago\n",
      "\n",
      "\n",
      "\n",
      "958K views\n",
      "2 years ago\n",
      "\n",
      "\n",
      "\n",
      "707K views\n",
      "2 years ago\n",
      "\n",
      "\n",
      "EXPLAINERS\n",
      "\n",
      "1.7M views\n",
      "2 years ago\n",
      "\n",
      "\n",
      "EXPLAINERS\n",
      "\n",
      "2.4M views\n",
      "2 years ago\n",
      "\n",
      "\n",
      "NEAT PROOFS/PERSPECTIVES\n",
      "\n",
      "1.1M views\n",
      "2 years ago\n",
      "\n",
      "\n",
      "\n",
      "343K views\n",
      "2 years ago\n",
      "\n",
      "\n",
      "LOCKDOWN MATH\n",
      "\n",
      "812K views\n",
      "2 years ago\n",
      "\n",
      "\n",
      "\n",
      "2.1M views\n",
      "2 years ago\n",
      "\n",
      "\n",
      "\n",
      "5M views\n",
      "2 years ago\n",
      "\n",
      "\n",
      "\n",
      "1.8M views\n",
      "2 years ago\n",
      "\n",
      "\n",
      "\n",
      "5.9M views\n",
      "2 years ago\n",
      "\n",
      "\n",
      "\n",
      "441K views\n",
      "3 years ago\n",
      "\n",
      "\n",
      "EXPLAINERS\n",
      "\n",
      "3.1M views\n",
      "3 years ago\n"
     ]
    }
   ],
   "source": [
    "for i in elem[0].find_elements(By.TAG_NAME,'span'):\n",
    "    print(i.text)"
   ]
  },
  {
   "cell_type": "code",
   "execution_count": null,
   "id": "e11e5f20",
   "metadata": {},
   "outputs": [],
   "source": []
  }
 ],
 "metadata": {
  "kernelspec": {
   "display_name": "Python 3 (ipykernel)",
   "language": "python",
   "name": "python3"
  },
  "language_info": {
   "codemirror_mode": {
    "name": "ipython",
    "version": 3
   },
   "file_extension": ".py",
   "mimetype": "text/x-python",
   "name": "python",
   "nbconvert_exporter": "python",
   "pygments_lexer": "ipython3",
   "version": "3.10.8"
  }
 },
 "nbformat": 4,
 "nbformat_minor": 5
}
