{
 "cells": [
  {
   "cell_type": "markdown",
   "id": "056164f6",
   "metadata": {},
   "source": [
    "# Youtube Video Scraper Using Selenium \n",
    "\n",
    "We are gonna scraper the videos from my favourite channel `3Blue1Brown`\n",
    "\n",
    "> [3Blue1Brown](https://www.youtube.com/@3blue1brown/videos) \n"
   ]
  },
  {
   "cell_type": "code",
   "execution_count": 2,
   "id": "38ebde93",
   "metadata": {},
   "outputs": [],
   "source": [
    "import requests\n",
    "from bs4 import BeautifulSoup"
   ]
  },
  {
   "cell_type": "code",
   "execution_count": 4,
   "id": "70666164",
   "metadata": {},
   "outputs": [],
   "source": [
    "res = requests.get('https://www.youtube.com/@3blue1brown/videos')"
   ]
  },
  {
   "cell_type": "code",
   "execution_count": 5,
   "id": "df3ac9b9",
   "metadata": {},
   "outputs": [],
   "source": [
    "soup = BeautifulSoup(res.text, 'html.parser')"
   ]
  },
  {
   "cell_type": "code",
   "execution_count": 7,
   "id": "a18ac56e",
   "metadata": {},
   "outputs": [
    {
     "data": {
      "text/plain": [
       "'AboutPressCopyrightContact usCreatorAdvertiseDevelopersTermsPrivacyPolicy & SafetyHow YouTube worksTest new features© 2023 Google LLC3Blue1Brown - YouTube'"
      ]
     },
     "execution_count": 7,
     "metadata": {},
     "output_type": "execute_result"
    }
   ],
   "source": [
    "soup.text"
   ]
  },
  {
   "cell_type": "markdown",
   "id": "dcbeeeb0",
   "metadata": {},
   "source": [
    "#### oops now we have to use the Selenium "
   ]
  },
  {
   "cell_type": "markdown",
   "id": "12abda63",
   "metadata": {},
   "source": [
    "!conda install -c conda-forge selenium"
   ]
  },
  {
   "cell_type": "code",
   "execution_count": null,
   "id": "52829861",
   "metadata": {},
   "outputs": [],
   "source": [
    " "
   ]
  }
 ],
 "metadata": {
  "kernelspec": {
   "display_name": "Python 3 (ipykernel)",
   "language": "python",
   "name": "python3"
  },
  "language_info": {
   "codemirror_mode": {
    "name": "ipython",
    "version": 3
   },
   "file_extension": ".py",
   "mimetype": "text/x-python",
   "name": "python",
   "nbconvert_exporter": "python",
   "pygments_lexer": "ipython3",
   "version": "3.10.8"
  }
 },
 "nbformat": 4,
 "nbformat_minor": 5
}
