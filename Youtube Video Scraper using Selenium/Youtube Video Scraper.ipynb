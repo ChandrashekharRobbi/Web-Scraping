{
 "cells": [
  {
   "cell_type": "markdown",
   "id": "2c5f00cb",
   "metadata": {},
   "source": [
    "#### https://selenium-python.readthedocs.io/locating-elements.html#locating-elements"
   ]
  },
  {
   "cell_type": "code",
   "execution_count": 118,
   "id": "c0293988",
   "metadata": {},
   "outputs": [],
   "source": [
    "import requests\n",
    "from bs4 import BeautifulSoup\n",
    "from selenium import webdriver\n",
    "from selenium.webdriver.common.by import By\n",
    "from tqdm import tqdm"
   ]
  },
  {
   "cell_type": "code",
   "execution_count": 17,
   "id": "f465f3f3",
   "metadata": {},
   "outputs": [],
   "source": [
    "driver = '../chromedriver_win32/chromedriver' # linux"
   ]
  },
  {
   "cell_type": "markdown",
   "id": "7502b36c",
   "metadata": {},
   "source": [
    "driver = '../chromedriver_win32/chromedriver.exe' # windows"
   ]
  },
  {
   "cell_type": "code",
   "execution_count": 120,
   "id": "4a279eaf",
   "metadata": {},
   "outputs": [
    {
     "name": "stderr",
     "output_type": "stream",
     "text": [
      "/tmp/ipykernel_12200/4176045484.py:1: DeprecationWarning: executable_path has been deprecated, please pass in a Service object\n",
      "  browser = webdriver.Chrome(driver)\n"
     ]
    }
   ],
   "source": [
    "browser = webdriver.Chrome(driver)"
   ]
  },
  {
   "cell_type": "code",
   "execution_count": 121,
   "id": "98262688",
   "metadata": {},
   "outputs": [],
   "source": [
    "browser.get('https://www.youtube.com/@3blue1brown/videos')"
   ]
  },
  {
   "cell_type": "code",
   "execution_count": 122,
   "id": "7422db8f",
   "metadata": {},
   "outputs": [],
   "source": [
    "browser.maximize_window()"
   ]
  },
  {
   "cell_type": "code",
   "execution_count": 129,
   "id": "fbee5c31",
   "metadata": {},
   "outputs": [],
   "source": [
    "elem = browser.find_elements(By.XPATH,'//*[@id=\"contents\"]')"
   ]
  },
  {
   "cell_type": "code",
   "execution_count": 130,
   "id": "2bbe7bb0",
   "metadata": {},
   "outputs": [
    {
     "data": {
      "text/plain": [
       "[<selenium.webdriver.remote.webelement.WebElement (session=\"4b45bdcd84c86665947ec216f3629c72\", element=\"89fac03c-3795-4a72-8b3d-e365203d785d\")>,\n",
       " <selenium.webdriver.remote.webelement.WebElement (session=\"4b45bdcd84c86665947ec216f3629c72\", element=\"50063b01-d88b-4492-92cf-63be7c58005a\")>,\n",
       " <selenium.webdriver.remote.webelement.WebElement (session=\"4b45bdcd84c86665947ec216f3629c72\", element=\"469a9c56-bd77-4ee4-96f0-7f012280899c\")>,\n",
       " <selenium.webdriver.remote.webelement.WebElement (session=\"4b45bdcd84c86665947ec216f3629c72\", element=\"4dd6b711-11f9-4f05-9fb8-08c3e602b567\")>,\n",
       " <selenium.webdriver.remote.webelement.WebElement (session=\"4b45bdcd84c86665947ec216f3629c72\", element=\"8921747c-82af-471c-8c63-4a9ef6c6f3db\")>,\n",
       " <selenium.webdriver.remote.webelement.WebElement (session=\"4b45bdcd84c86665947ec216f3629c72\", element=\"192e997d-5a43-4c05-a016-83f301062f06\")>,\n",
       " <selenium.webdriver.remote.webelement.WebElement (session=\"4b45bdcd84c86665947ec216f3629c72\", element=\"a332c4e7-707f-44f9-9d72-a085beb4c377\")>,\n",
       " <selenium.webdriver.remote.webelement.WebElement (session=\"4b45bdcd84c86665947ec216f3629c72\", element=\"7b21b728-df5f-4fd2-9fd1-c51292eec731\")>]"
      ]
     },
     "execution_count": 130,
     "metadata": {},
     "output_type": "execute_result"
    }
   ],
   "source": [
    "elem"
   ]
  },
  {
   "cell_type": "code",
   "execution_count": 131,
   "id": "94c0fab3",
   "metadata": {},
   "outputs": [
    {
     "data": {
      "text/plain": [
       "<selenium.webdriver.remote.webelement.WebElement (session=\"4b45bdcd84c86665947ec216f3629c72\", element=\"89fac03c-3795-4a72-8b3d-e365203d785d\")>"
      ]
     },
     "execution_count": 131,
     "metadata": {},
     "output_type": "execute_result"
    }
   ],
   "source": [
    "elem[0]"
   ]
  },
  {
   "cell_type": "code",
   "execution_count": 148,
   "id": "971c49ba",
   "metadata": {},
   "outputs": [
    {
     "data": {
      "text/plain": [
       "'\\n  <yt-image alt=\"\" ftl-eligible=\"\" notify-on-loaded=\"\" notify-on-unloaded=\"\" class=\"style-scope ytd-thumbnail\"><img alt=\"\" style=\"background-color: transparent;\" class=\"yt-core-image--fill-parent-height yt-core-image--fill-parent-width yt-core-image yt-core-image--content-mode-scale-aspect-fill yt-core-image--loaded\" src=\"https://i.ytimg.com/vi/KuXjwB4LzSA/hqdefault.jpg?sqp=-oaymwEcCNACELwBSFXyq4qpAw4IARUAAIhCGAFwAcABBg==&amp;rs=AOn4CLCw2iAx-HmJN075_pQGHGzyy1w1bg\"></yt-image>\\n  \\n  <div id=\"overlays\" class=\"style-scope ytd-thumbnail\"><ytd-thumbnail-overlay-time-status-renderer class=\"style-scope ytd-thumbnail\" overlay-style=\"DEFAULT\"><!--css-build:shady--><yt-icon size=\"16\" class=\"style-scope ytd-thumbnail-overlay-time-status-renderer\" disable-upgrade=\"\" hidden=\"\"></yt-icon><span id=\"text\" class=\"style-scope ytd-thumbnail-overlay-time-status-renderer\" aria-label=\"23 minutes, 1 second\">\\n  23:01\\n</span></ytd-thumbnail-overlay-time-status-renderer><ytd-thumbnail-overlay-now-playing-renderer class=\"style-scope ytd-thumbnail\"><!--css-build:shady--><span id=\"overlay-text\" class=\"style-scope ytd-thumbnail-overlay-now-playing-renderer\">Now playing</span>\\n<ytd-thumbnail-overlay-equalizer class=\"style-scope ytd-thumbnail-overlay-now-playing-renderer\"><!--css-build:shady--><svg xmlns=\"http://www.w3.org/2000/svg\" id=\"equalizer\" viewBox=\"0 0 55 95\" class=\"style-scope ytd-thumbnail-overlay-equalizer\">\\n  <g class=\"style-scope ytd-thumbnail-overlay-equalizer\">\\n    <rect class=\"bar style-scope ytd-thumbnail-overlay-equalizer\" x=\"0\"></rect>\\n    <rect class=\"bar style-scope ytd-thumbnail-overlay-equalizer\" x=\"20\"></rect>\\n    <rect class=\"bar style-scope ytd-thumbnail-overlay-equalizer\" x=\"40\"></rect>\\n  </g>\\n</svg>\\n</ytd-thumbnail-overlay-equalizer>\\n</ytd-thumbnail-overlay-now-playing-renderer></div>\\n  <div id=\"mouseover-overlay\" class=\"style-scope ytd-thumbnail\"></div>\\n  <div id=\"hover-overlays\" class=\"style-scope ytd-thumbnail\"></div>\\n'"
      ]
     },
     "execution_count": 148,
     "metadata": {},
     "output_type": "execute_result"
    }
   ],
   "source": [
    "elem[0].find_elements(By.TAG_NAME,'a')[0].get_attribute('innerHTML')"
   ]
  },
  {
   "cell_type": "code",
   "execution_count": 151,
   "id": "25102098",
   "metadata": {},
   "outputs": [
    {
     "data": {
      "text/plain": [
       "'\\n  23:01\\n'"
      ]
     },
     "execution_count": 151,
     "metadata": {},
     "output_type": "execute_result"
    }
   ],
   "source": [
    "elem[0].find_elements(By.TAG_NAME,'span')[0].get_attribute('innerHTML')"
   ]
  },
  {
   "cell_type": "code",
   "execution_count": null,
   "id": "018e9d1d",
   "metadata": {},
   "outputs": [
    {
     "name": "stderr",
     "output_type": "stream",
     "text": [
      " 88%|████████████████████████████████████     | 103/117 [00:54<00:07,  1.89it/s]"
     ]
    }
   ],
   "source": [
    "data = []\n",
    "for i in tqdm(range(len(elem[0].find_elements(By.XPATH, '//*[@id=\"metadata-line\"]/span[1]')))):\n",
    "    \n",
    "    title = elem[0].find_elements(By.XPATH,'//*[@id=\"video-title\"]')[i].text\n",
    "\n",
    "    video_link = elem[0].find_elements(By.XPATH,'//*[@id=\"video-title-link\"]')[i].get_attribute('href')\n",
    "\n",
    "    views = elem[0].find_elements(By.XPATH, '//*[@id=\"metadata-line\"]/span[1]')[i].text\n",
    "    \n",
    "    date = elem[0].find_elements(By.XPATH, '//*[@id=\"metadata-line\"]/span[2]')[i].text\n",
    "\n",
    "    thumbnail_link = elem[0].find_elements(By.XPATH, '//*[@id=\"thumbnail\"]/yt-image/img')[i].get_attribute('src')\n",
    "\n",
    "    data.append([title, views, date, video_link, thumbnail_link])\n",
    "\n",
    "    "
   ]
  },
  {
   "cell_type": "code",
   "execution_count": null,
   "id": "67be32a9",
   "metadata": {},
   "outputs": [],
   "source": [
    "data"
   ]
  },
  {
   "cell_type": "code",
   "execution_count": null,
   "id": "ebd04486",
   "metadata": {},
   "outputs": [],
   "source": []
  }
 ],
 "metadata": {
  "kernelspec": {
   "display_name": "Python 3 (ipykernel)",
   "language": "python",
   "name": "python3"
  },
  "language_info": {
   "codemirror_mode": {
    "name": "ipython",
    "version": 3
   },
   "file_extension": ".py",
   "mimetype": "text/x-python",
   "name": "python",
   "nbconvert_exporter": "python",
   "pygments_lexer": "ipython3",
   "version": "3.10.8"
  }
 },
 "nbformat": 4,
 "nbformat_minor": 5
}
