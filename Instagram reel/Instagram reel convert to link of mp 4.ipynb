{
 "cells": [
  {
   "cell_type": "code",
   "execution_count": 34,
   "id": "6f8f181f",
   "metadata": {
    "ExecuteTime": {
     "end_time": "2023-09-14T16:38:40.083270Z",
     "start_time": "2023-09-14T16:38:40.072259Z"
    }
   },
   "outputs": [],
   "source": [
    "import time\n",
    "import requests \n",
    "import pandas as pd\n",
    "import numpy as np\n",
    "from tqdm import tqdm\n",
    "from selenium import webdriver\n",
    "from IPython.display import display, HTML, Markdown\n",
    "from selenium.webdriver.common.by import By"
   ]
  },
  {
   "cell_type": "code",
   "execution_count": 35,
   "id": "2d061e4d",
   "metadata": {
    "ExecuteTime": {
     "end_time": "2023-09-14T16:38:40.270572Z",
     "start_time": "2023-09-14T16:38:40.261572Z"
    }
   },
   "outputs": [],
   "source": [
    "driver = '../chromedriver-win64/chromedriver.exe' # windows"
   ]
  },
  {
   "cell_type": "code",
   "execution_count": 36,
   "id": "41674b86",
   "metadata": {
    "ExecuteTime": {
     "end_time": "2023-09-14T16:38:41.736206Z",
     "start_time": "2023-09-14T16:38:40.453070Z"
    }
   },
   "outputs": [],
   "source": [
    "browser = webdriver.Chrome(driver)"
   ]
  },
  {
   "cell_type": "code",
   "execution_count": 37,
   "id": "f9a388ff",
   "metadata": {
    "ExecuteTime": {
     "end_time": "2023-09-14T16:38:41.751560Z",
     "start_time": "2023-09-14T16:38:41.738204Z"
    }
   },
   "outputs": [],
   "source": [
    "s = ['https://www.instagram.com/reel/CspQKWisDC4/?utm_source=ig_web_copy_link',\n",
    "     'https://www.instagram.com/reel/Cu9bnFcp8b7/?utm_source=ig_web_copy_link',\n",
    "     'https://www.instagram.com/reel/CtO9X6UJTYu/?utm_source=ig_web_copy_link',\n",
    "     'https://www.instagram.com/reel/CvGxPy6N0XP/?utm_source=ig_web_copy_link',\n",
    "     'https://www.instagram.com/reel/CutaxzkoXHi/?utm_source=ig_web_copy_link',\n",
    "     'https://www.instagram.com/reel/CuKMPbWoJ0T/?utm_source=ig_web_copy_link',\n",
    "     'https://www.instagram.com/reel/Cvr8WZzJhId/?utm_source=ig_web_copy_link',\n",
    "     'https://www.instagram.com/reel/CvfZwUnLLRy/?utm_source=ig_web_copy_link',\n",
    "     'https://www.instagram.com/reel/CunleGRgu0h/?utm_source=ig_web_copy_link',\n",
    "     'https://www.instagram.com/reel/Ct6f2ZbB71n/?utm_source=ig_web_copy_link',\n",
    "     'https://www.instagram.com/reel/Cu6ZALEs5k8/?utm_source=ig_web_copy_link',\n",
    "     'https://www.instagram.com/reel/CtgwD6NAChh/?utm_source=ig_web_copy_link',\n",
    "     'https://www.instagram.com/reel/CvxOInSItGY/?utm_source=ig_web_copy_link',\n",
    "     'https://www.instagram.com/reel/Cw7l6QcpcQe/?utm_source=ig_web_copy_link']"
   ]
  },
  {
   "cell_type": "code",
   "execution_count": 32,
   "id": "ebc65ac2",
   "metadata": {
    "ExecuteTime": {
     "end_time": "2023-09-14T16:38:36.036142Z",
     "start_time": "2023-09-14T16:38:36.030942Z"
    }
   },
   "outputs": [],
   "source": [
    "val = []"
   ]
  },
  {
   "cell_type": "code",
   "execution_count": 39,
   "id": "9c4aafd6",
   "metadata": {
    "ExecuteTime": {
     "end_time": "2023-09-14T16:40:52.588843Z",
     "start_time": "2023-09-14T16:39:32.055192Z"
    }
   },
   "outputs": [
    {
     "name": "stdout",
     "output_type": "stream",
     "text": [
      "https://scontent.cdninstagram.com/o1/v/t16/f1/m82/0948759DD1B9A5BC59FAD01AA3CAE68A_video_dashinit.mp4?efg=eyJxZV9ncm91cHMiOiJbXCJpZ193ZWJfZGVsaXZlcnlfdnRzX290ZlwiXSIsInZlbmNvZGVfdGFnIjoidnRzX3ZvZF91cmxnZW4uNzIwLmNsaXBzLmJhc2VsaW5lLmMyIn0&_nc_ht=scontent.cdninstagram.com&_nc_cat=111&vs=936882720796910_2365793478&_nc_vs=HBksFQIYT2lnX3hwdl9yZWVsc19wZXJtYW5lbnRfcHJvZC8wOTQ4NzU5REQxQjlBNUJDNTlGQUQwMUFBM0NBRTY4QV92aWRlb19kYXNoaW5pdC5tcDQVAALIAQAVABgkR0p6MndoU0IzNzluWTFNREFFRG92N0JETnVnM2JxX0VBQUFGFQICyAEAKAAYABsAFQAAJuqIvL2JgJ1BFQIoAkMzLBdARvMzMzMzMxgSZGFzaF9iYXNlbGluZV8xX3YxEQB1%2FgcA&_nc_rid=28c6181a54&ccb=9-4&oh=00_AfB2n6rYQhKJe5rL-E3MeiIaQBDI3S0UAN8KFWJoBe6YtA&oe=6504D7E9&_nc_sid=10d13b.mp4\n",
      "https://scontent.cdninstagram.com/v/t66.30100-16/334146682_231124472659342_3925267057915329679_n.mp4?_nc_ht=scontent.cdninstagram.com&_nc_cat=110&_nc_ohc=7DM7gz-8WH4AX_F1d2V&edm=APs17CUBAAAA&ccb=7-5&oh=00_AfABXvCbj8cnCfuPlL15jMxlppz0lweL0-bMP10MM3cTnw&oe=6504C0AF&_nc_sid=10d13b.mp4\n",
      "https://scontent.cdninstagram.com/o1/v/t16/f1/m82/EE416FE60EC38F044C55E381D93A6692_video_dashinit.mp4?efg=eyJxZV9ncm91cHMiOiJbXCJpZ193ZWJfZGVsaXZlcnlfdnRzX290ZlwiXSIsInZlbmNvZGVfdGFnIjoidnRzX3ZvZF91cmxnZW4uNzIwLmNsaXBzLmJhc2VsaW5lLmMyIn0&_nc_ht=scontent.cdninstagram.com&_nc_cat=106&vs=637994751585122_2069351633&_nc_vs=HBksFQIYT2lnX3hwdl9yZWVsc19wZXJtYW5lbnRfcHJvZC9FRTQxNkZFNjBFQzM4RjA0NEM1NUUzODFEOTNBNjY5Ml92aWRlb19kYXNoaW5pdC5tcDQVAALIAQAVABgkR0poakF4VThaTDZMVVlZREFKZmVfVVdHVkMwZGJxX0VBQUFGFQICyAEAKAAYABsAFQAAJuqX%2F%2B33we0%2FFQIoAkMzLBdAUWZmZmZmZhgSZGFzaF9iYXNlbGluZV8xX3YxEQB1%2FgcA&_nc_rid=d6065dbccb&ccb=9-4&oh=00_AfCZjruXHIOjpAMBoJMELNcjKtEqQlriWPc5k3DLWu71lA&oe=6504CE33&_nc_sid=10d13b.mp4\n",
      "https://scontent.cdninstagram.com/v/t66.30100-16/332673054_183920601348921_2143217601206789152_n.mp4?_nc_ht=scontent.cdninstagram.com&_nc_cat=109&_nc_ohc=K2xML7PsA2UAX_IRpMx&edm=APs17CUBAAAA&ccb=7-5&oh=00_AfArX7PxWmTGqinh9U5XGGN6GQ0nbgMZNzT4Tz10cReJMA&oe=6504E6D1&_nc_sid=10d13b.mp4\n",
      "https://scontent.cdninstagram.com/v/t66.30100-16/10000000_258790050120077_5654476526871260269_n.mp4?_nc_ht=scontent.cdninstagram.com&_nc_cat=105&_nc_ohc=3xuo21AKwZQAX8XCTMn&edm=APs17CUBAAAA&ccb=7-5&oh=00_AfBG9P0M0zsU2K6JXcWNWwR7W5QkkIjf9YMbgx92_mJRdA&oe=6504B6D6&_nc_sid=10d13b.mp4\n",
      "https://scontent.cdninstagram.com/v/t66.30100-16/121641395_238422382314107_5578132959405780082_n.mp4?_nc_ht=scontent.cdninstagram.com&_nc_cat=111&_nc_ohc=wcYEASsX-HYAX9IW63v&edm=APs17CUBAAAA&ccb=7-5&oh=00_AfC0UnaNDJ-dizSVJk-UBKhXccUBZukk4aoQZwwsqb5CyA&oe=65049AC9&_nc_sid=10d13b.mp4\n",
      "https://scontent.cdninstagram.com/v/t66.30100-16/334166998_268766432562148_3099416200757628770_n.mp4?_nc_ht=scontent.cdninstagram.com&_nc_cat=104&_nc_ohc=2QvBgMBjamQAX-Soqk0&edm=APs17CUBAAAA&ccb=7-5&oh=00_AfDFWfLQ8tNLJk7GFpTdf6PMdfIeM4t6qmz0qc0JouGSFQ&oe=6504AD6A&_nc_sid=10d13b.mp4\n",
      "https://scontent.cdninstagram.com/v/t66.30100-16/311343069_3517012471962072_6110732276065847935_n.mp4?_nc_ht=scontent.cdninstagram.com&_nc_cat=100&_nc_ohc=GkFU5Ek03_AAX-pbRNK&edm=APs17CUBAAAA&ccb=7-5&oh=00_AfBqwIQ0RGyIZEqLV7qucRHRTcy0uOfY8cvdn_F0w1DspQ&oe=65049607&_nc_sid=10d13b.mp4\n",
      "https://scontent.cdninstagram.com/v/t66.30100-16/317044418_1036784294371581_3524886537778735300_n.mp4?_nc_ht=scontent.cdninstagram.com&_nc_cat=109&_nc_ohc=CMW-Mc7OL8gAX85Rlre&edm=APs17CUBAAAA&ccb=7-5&oh=00_AfB1Q_TLHokx-9w3goN3SU4NERUm0NjXzecaq2mxNXmO8A&oe=6504EADB&_nc_sid=10d13b.mp4\n",
      "https://scontent.cdninstagram.com/v/t66.30100-16/10000000_632425885264577_8700747901464529962_n.mp4?_nc_ht=scontent.cdninstagram.com&_nc_cat=105&_nc_ohc=f9rV2_3GW7MAX8y5y1C&edm=APs17CUBAAAA&ccb=7-5&oh=00_AfDM6PPtCk8E_AkJfxvBP4PNGAr9hWTGjpIberWjCED6hQ&oe=65052961&_nc_sid=10d13b.mp4\n",
      "https://scontent.cdninstagram.com/v/t66.30100-16/316918773_549581323900153_5891967782444121010_n.mp4?_nc_ht=scontent.cdninstagram.com&_nc_cat=101&_nc_ohc=cS_f67QjeyIAX9MdrIu&edm=APs17CUBAAAA&ccb=7-5&oh=00_AfArcqxSwU1iLlEYynUG9Rfhq54Yo85aNniPUmxULtIm4Q&oe=6504C2A4&_nc_sid=10d13b.mp4\n",
      "https://scontent.cdninstagram.com/o1/v/t16/f1/m82/434BA85A4C1D7A03E1EDABEEFAB398B7_video_dashinit.mp4?efg=eyJxZV9ncm91cHMiOiJbXCJpZ193ZWJfZGVsaXZlcnlfdnRzX290ZlwiXSIsInZlbmNvZGVfdGFnIjoidnRzX3ZvZF91cmxnZW4uNzIwLmNsaXBzLmJhc2VsaW5lLmMyIn0&_nc_ht=scontent.cdninstagram.com&_nc_cat=100&vs=947810356488582_2140269916&_nc_vs=HBksFQIYT2lnX3hwdl9yZWVsc19wZXJtYW5lbnRfcHJvZC80MzRCQTg1QTRDMUQ3QTAzRTFFREFCRUVGQUIzOThCN192aWRlb19kYXNoaW5pdC5tcDQVAALIAQAVABgkR0MtMEh4WFQ4QXJ0OXM4Q0FCbi1KbmxvaW84TWJxX0VBQUFGFQICyAEAKAAYABsAFQAAJujB8p%2F5%2FNA%2FFQIoAkMzLBdAReIMSbpeNRgSZGFzaF9iYXNlbGluZV8xX3YxEQB1%2FgcA&_nc_rid=6f0a0dea5f&ccb=9-4&oh=00_AfB4c5yPo58odKqt7uCDP1sI4zGSj0Pk2qqSWH5b7TrN7w&oe=6504DAD5&_nc_sid=10d13b.mp4\n",
      "https://scontent.cdninstagram.com/v/t66.30100-16/320133158_312180304593458_807264606183624048_n.mp4?_nc_ht=scontent.cdninstagram.com&_nc_cat=102&_nc_ohc=bWMHlaiOnTEAX-NA7L9&edm=APs17CUBAAAA&ccb=7-5&oh=00_AfC_xLlOnpziz444d46RZUdwbzq9XWPyJ8dN2O0K-sL9Yw&oe=6504FD63&_nc_sid=10d13b.mp4\n",
      "https://scontent.cdninstagram.com/v/t66.30100-16/46738136_267797386074846_2391603150259601475_n.mp4?_nc_ht=scontent.cdninstagram.com&_nc_cat=106&_nc_ohc=7XGzlM91DHUAX-EBkx3&edm=APs17CUBAAAA&ccb=7-5&oh=00_AfBEZIOC1KkGal7YmXXm7-znnmEzGKiL9v9tmvROcXvBzQ&oe=6504B3B5&_nc_sid=10d13b.mp4\n"
     ]
    }
   ],
   "source": [
    "for i in s:\n",
    "    browser.get(i)\n",
    "    time.sleep(5)\n",
    "    link = browser.find_element(By.XPATH, '/html/body/div[2]/div/div/div[2]/div/div/div/div[1]/section/main/div[1]/div[1]/article/div/div[1]/div/div/div/div/div/div/div/video').get_attribute('src')\n",
    "    link = link + '.mp4'\n",
    "    print(link)\n",
    "    val.append(link)"
   ]
  },
  {
   "cell_type": "code",
   "execution_count": 40,
   "id": "e7739c29",
   "metadata": {
    "ExecuteTime": {
     "end_time": "2023-09-14T16:41:00.367752Z",
     "start_time": "2023-09-14T16:41:00.346485Z"
    }
   },
   "outputs": [
    {
     "data": {
      "text/plain": [
       "['https://scontent.cdninstagram.com/o1/v/t16/f1/m82/0948759DD1B9A5BC59FAD01AA3CAE68A_video_dashinit.mp4?efg=eyJxZV9ncm91cHMiOiJbXCJpZ193ZWJfZGVsaXZlcnlfdnRzX290ZlwiXSIsInZlbmNvZGVfdGFnIjoidnRzX3ZvZF91cmxnZW4uNzIwLmNsaXBzLmJhc2VsaW5lLmMyIn0&_nc_ht=scontent.cdninstagram.com&_nc_cat=111&vs=936882720796910_2365793478&_nc_vs=HBksFQIYT2lnX3hwdl9yZWVsc19wZXJtYW5lbnRfcHJvZC8wOTQ4NzU5REQxQjlBNUJDNTlGQUQwMUFBM0NBRTY4QV92aWRlb19kYXNoaW5pdC5tcDQVAALIAQAVABgkR0p6MndoU0IzNzluWTFNREFFRG92N0JETnVnM2JxX0VBQUFGFQICyAEAKAAYABsAFQAAJuqIvL2JgJ1BFQIoAkMzLBdARvMzMzMzMxgSZGFzaF9iYXNlbGluZV8xX3YxEQB1%2FgcA&_nc_rid=a0a7709567&ccb=9-4&oh=00_AfB2n6rYQhKJe5rL-E3MeiIaQBDI3S0UAN8KFWJoBe6YtA&oe=6504D7E9&_nc_sid=10d13b.mp4',\n",
       " 'https://scontent.cdninstagram.com/v/t66.30100-16/334146682_231124472659342_3925267057915329679_n.mp4?_nc_ht=scontent.cdninstagram.com&_nc_cat=110&_nc_ohc=7DM7gz-8WH4AX_Nm6-0&edm=APs17CUBAAAA&ccb=7-5&oh=00_AfC4VzUde6Epkx4ELRmu7Q06hOGXE8X07YO2QgUlhWgOZA&oe=6504C0AF&_nc_sid=10d13b.mp4',\n",
       " 'https://scontent.cdninstagram.com/o1/v/t16/f1/m82/EE416FE60EC38F044C55E381D93A6692_video_dashinit.mp4?efg=eyJxZV9ncm91cHMiOiJbXCJpZ193ZWJfZGVsaXZlcnlfdnRzX290ZlwiXSIsInZlbmNvZGVfdGFnIjoidnRzX3ZvZF91cmxnZW4uNzIwLmNsaXBzLmJhc2VsaW5lLmMyIn0&_nc_ht=scontent.cdninstagram.com&_nc_cat=106&vs=637994751585122_2069351633&_nc_vs=HBksFQIYT2lnX3hwdl9yZWVsc19wZXJtYW5lbnRfcHJvZC9FRTQxNkZFNjBFQzM4RjA0NEM1NUUzODFEOTNBNjY5Ml92aWRlb19kYXNoaW5pdC5tcDQVAALIAQAVABgkR0poakF4VThaTDZMVVlZREFKZmVfVVdHVkMwZGJxX0VBQUFGFQICyAEAKAAYABsAFQAAJuqX%2F%2B33we0%2FFQIoAkMzLBdAUWZmZmZmZhgSZGFzaF9iYXNlbGluZV8xX3YxEQB1%2FgcA&_nc_rid=0485956b50&ccb=9-4&oh=00_AfCZjruXHIOjpAMBoJMELNcjKtEqQlriWPc5k3DLWu71lA&oe=6504CE33&_nc_sid=10d13b.mp4',\n",
       " 'https://scontent.cdninstagram.com/v/t66.30100-16/332673054_183920601348921_2143217601206789152_n.mp4?_nc_ht=scontent.cdninstagram.com&_nc_cat=109&_nc_ohc=K2xML7PsA2UAX--ZYBd&edm=APs17CUBAAAA&ccb=7-5&oh=00_AfBEt71KJPBqngLp9Foqxj1yiTa_aTt_Q0JX8zbSdTKvPA&oe=6504E6D1&_nc_sid=10d13b.mp4',\n",
       " 'https://scontent.cdninstagram.com/v/t66.30100-16/10000000_258790050120077_5654476526871260269_n.mp4?_nc_ht=scontent.cdninstagram.com&_nc_cat=105&_nc_ohc=3xuo21AKwZQAX_o9tfc&edm=APs17CUBAAAA&ccb=7-5&oh=00_AfD54Dqn7kEK6EAD2uvC4CG6bvhWpmo4X8JgZv3pUWK3Jg&oe=6504B6D6&_nc_sid=10d13b.mp4',\n",
       " 'https://scontent.cdninstagram.com/v/t66.30100-16/121641395_238422382314107_5578132959405780082_n.mp4?_nc_ht=scontent.cdninstagram.com&_nc_cat=111&_nc_ohc=wcYEASsX-HYAX9VfQAU&edm=APs17CUBAAAA&ccb=7-5&oh=00_AfAeIfYLNE7JAXovDT-qPzzfjeiaGncLTMtWLBZAbOKQqQ&oe=65049AC9&_nc_sid=10d13b.mp4',\n",
       " 'https://scontent.cdninstagram.com/o1/v/t16/f1/m82/0948759DD1B9A5BC59FAD01AA3CAE68A_video_dashinit.mp4?efg=eyJxZV9ncm91cHMiOiJbXCJpZ193ZWJfZGVsaXZlcnlfdnRzX290ZlwiXSIsInZlbmNvZGVfdGFnIjoidnRzX3ZvZF91cmxnZW4uNzIwLmNsaXBzLmJhc2VsaW5lLmMyIn0&_nc_ht=scontent.cdninstagram.com&_nc_cat=111&vs=936882720796910_2365793478&_nc_vs=HBksFQIYT2lnX3hwdl9yZWVsc19wZXJtYW5lbnRfcHJvZC8wOTQ4NzU5REQxQjlBNUJDNTlGQUQwMUFBM0NBRTY4QV92aWRlb19kYXNoaW5pdC5tcDQVAALIAQAVABgkR0p6MndoU0IzNzluWTFNREFFRG92N0JETnVnM2JxX0VBQUFGFQICyAEAKAAYABsAFQAAJuqIvL2JgJ1BFQIoAkMzLBdARvMzMzMzMxgSZGFzaF9iYXNlbGluZV8xX3YxEQB1%2FgcA&_nc_rid=28c6181a54&ccb=9-4&oh=00_AfB2n6rYQhKJe5rL-E3MeiIaQBDI3S0UAN8KFWJoBe6YtA&oe=6504D7E9&_nc_sid=10d13b.mp4',\n",
       " 'https://scontent.cdninstagram.com/v/t66.30100-16/334146682_231124472659342_3925267057915329679_n.mp4?_nc_ht=scontent.cdninstagram.com&_nc_cat=110&_nc_ohc=7DM7gz-8WH4AX_F1d2V&edm=APs17CUBAAAA&ccb=7-5&oh=00_AfABXvCbj8cnCfuPlL15jMxlppz0lweL0-bMP10MM3cTnw&oe=6504C0AF&_nc_sid=10d13b.mp4',\n",
       " 'https://scontent.cdninstagram.com/o1/v/t16/f1/m82/EE416FE60EC38F044C55E381D93A6692_video_dashinit.mp4?efg=eyJxZV9ncm91cHMiOiJbXCJpZ193ZWJfZGVsaXZlcnlfdnRzX290ZlwiXSIsInZlbmNvZGVfdGFnIjoidnRzX3ZvZF91cmxnZW4uNzIwLmNsaXBzLmJhc2VsaW5lLmMyIn0&_nc_ht=scontent.cdninstagram.com&_nc_cat=106&vs=637994751585122_2069351633&_nc_vs=HBksFQIYT2lnX3hwdl9yZWVsc19wZXJtYW5lbnRfcHJvZC9FRTQxNkZFNjBFQzM4RjA0NEM1NUUzODFEOTNBNjY5Ml92aWRlb19kYXNoaW5pdC5tcDQVAALIAQAVABgkR0poakF4VThaTDZMVVlZREFKZmVfVVdHVkMwZGJxX0VBQUFGFQICyAEAKAAYABsAFQAAJuqX%2F%2B33we0%2FFQIoAkMzLBdAUWZmZmZmZhgSZGFzaF9iYXNlbGluZV8xX3YxEQB1%2FgcA&_nc_rid=d6065dbccb&ccb=9-4&oh=00_AfCZjruXHIOjpAMBoJMELNcjKtEqQlriWPc5k3DLWu71lA&oe=6504CE33&_nc_sid=10d13b.mp4',\n",
       " 'https://scontent.cdninstagram.com/v/t66.30100-16/332673054_183920601348921_2143217601206789152_n.mp4?_nc_ht=scontent.cdninstagram.com&_nc_cat=109&_nc_ohc=K2xML7PsA2UAX_IRpMx&edm=APs17CUBAAAA&ccb=7-5&oh=00_AfArX7PxWmTGqinh9U5XGGN6GQ0nbgMZNzT4Tz10cReJMA&oe=6504E6D1&_nc_sid=10d13b.mp4',\n",
       " 'https://scontent.cdninstagram.com/v/t66.30100-16/10000000_258790050120077_5654476526871260269_n.mp4?_nc_ht=scontent.cdninstagram.com&_nc_cat=105&_nc_ohc=3xuo21AKwZQAX8XCTMn&edm=APs17CUBAAAA&ccb=7-5&oh=00_AfBG9P0M0zsU2K6JXcWNWwR7W5QkkIjf9YMbgx92_mJRdA&oe=6504B6D6&_nc_sid=10d13b.mp4',\n",
       " 'https://scontent.cdninstagram.com/v/t66.30100-16/121641395_238422382314107_5578132959405780082_n.mp4?_nc_ht=scontent.cdninstagram.com&_nc_cat=111&_nc_ohc=wcYEASsX-HYAX9IW63v&edm=APs17CUBAAAA&ccb=7-5&oh=00_AfC0UnaNDJ-dizSVJk-UBKhXccUBZukk4aoQZwwsqb5CyA&oe=65049AC9&_nc_sid=10d13b.mp4',\n",
       " 'https://scontent.cdninstagram.com/v/t66.30100-16/334166998_268766432562148_3099416200757628770_n.mp4?_nc_ht=scontent.cdninstagram.com&_nc_cat=104&_nc_ohc=2QvBgMBjamQAX-Soqk0&edm=APs17CUBAAAA&ccb=7-5&oh=00_AfDFWfLQ8tNLJk7GFpTdf6PMdfIeM4t6qmz0qc0JouGSFQ&oe=6504AD6A&_nc_sid=10d13b.mp4',\n",
       " 'https://scontent.cdninstagram.com/v/t66.30100-16/311343069_3517012471962072_6110732276065847935_n.mp4?_nc_ht=scontent.cdninstagram.com&_nc_cat=100&_nc_ohc=GkFU5Ek03_AAX-pbRNK&edm=APs17CUBAAAA&ccb=7-5&oh=00_AfBqwIQ0RGyIZEqLV7qucRHRTcy0uOfY8cvdn_F0w1DspQ&oe=65049607&_nc_sid=10d13b.mp4',\n",
       " 'https://scontent.cdninstagram.com/v/t66.30100-16/317044418_1036784294371581_3524886537778735300_n.mp4?_nc_ht=scontent.cdninstagram.com&_nc_cat=109&_nc_ohc=CMW-Mc7OL8gAX85Rlre&edm=APs17CUBAAAA&ccb=7-5&oh=00_AfB1Q_TLHokx-9w3goN3SU4NERUm0NjXzecaq2mxNXmO8A&oe=6504EADB&_nc_sid=10d13b.mp4',\n",
       " 'https://scontent.cdninstagram.com/v/t66.30100-16/10000000_632425885264577_8700747901464529962_n.mp4?_nc_ht=scontent.cdninstagram.com&_nc_cat=105&_nc_ohc=f9rV2_3GW7MAX8y5y1C&edm=APs17CUBAAAA&ccb=7-5&oh=00_AfDM6PPtCk8E_AkJfxvBP4PNGAr9hWTGjpIberWjCED6hQ&oe=65052961&_nc_sid=10d13b.mp4',\n",
       " 'https://scontent.cdninstagram.com/v/t66.30100-16/316918773_549581323900153_5891967782444121010_n.mp4?_nc_ht=scontent.cdninstagram.com&_nc_cat=101&_nc_ohc=cS_f67QjeyIAX9MdrIu&edm=APs17CUBAAAA&ccb=7-5&oh=00_AfArcqxSwU1iLlEYynUG9Rfhq54Yo85aNniPUmxULtIm4Q&oe=6504C2A4&_nc_sid=10d13b.mp4',\n",
       " 'https://scontent.cdninstagram.com/o1/v/t16/f1/m82/434BA85A4C1D7A03E1EDABEEFAB398B7_video_dashinit.mp4?efg=eyJxZV9ncm91cHMiOiJbXCJpZ193ZWJfZGVsaXZlcnlfdnRzX290ZlwiXSIsInZlbmNvZGVfdGFnIjoidnRzX3ZvZF91cmxnZW4uNzIwLmNsaXBzLmJhc2VsaW5lLmMyIn0&_nc_ht=scontent.cdninstagram.com&_nc_cat=100&vs=947810356488582_2140269916&_nc_vs=HBksFQIYT2lnX3hwdl9yZWVsc19wZXJtYW5lbnRfcHJvZC80MzRCQTg1QTRDMUQ3QTAzRTFFREFCRUVGQUIzOThCN192aWRlb19kYXNoaW5pdC5tcDQVAALIAQAVABgkR0MtMEh4WFQ4QXJ0OXM4Q0FCbi1KbmxvaW84TWJxX0VBQUFGFQICyAEAKAAYABsAFQAAJujB8p%2F5%2FNA%2FFQIoAkMzLBdAReIMSbpeNRgSZGFzaF9iYXNlbGluZV8xX3YxEQB1%2FgcA&_nc_rid=6f0a0dea5f&ccb=9-4&oh=00_AfB4c5yPo58odKqt7uCDP1sI4zGSj0Pk2qqSWH5b7TrN7w&oe=6504DAD5&_nc_sid=10d13b.mp4',\n",
       " 'https://scontent.cdninstagram.com/v/t66.30100-16/320133158_312180304593458_807264606183624048_n.mp4?_nc_ht=scontent.cdninstagram.com&_nc_cat=102&_nc_ohc=bWMHlaiOnTEAX-NA7L9&edm=APs17CUBAAAA&ccb=7-5&oh=00_AfC_xLlOnpziz444d46RZUdwbzq9XWPyJ8dN2O0K-sL9Yw&oe=6504FD63&_nc_sid=10d13b.mp4',\n",
       " 'https://scontent.cdninstagram.com/v/t66.30100-16/46738136_267797386074846_2391603150259601475_n.mp4?_nc_ht=scontent.cdninstagram.com&_nc_cat=106&_nc_ohc=7XGzlM91DHUAX-EBkx3&edm=APs17CUBAAAA&ccb=7-5&oh=00_AfBEZIOC1KkGal7YmXXm7-znnmEzGKiL9v9tmvROcXvBzQ&oe=6504B3B5&_nc_sid=10d13b.mp4']"
      ]
     },
     "execution_count": 40,
     "metadata": {},
     "output_type": "execute_result"
    }
   ],
   "source": [
    "val"
   ]
  },
  {
   "cell_type": "code",
   "execution_count": 27,
   "id": "49879b3f",
   "metadata": {
    "ExecuteTime": {
     "end_time": "2023-09-14T16:22:35.286187Z",
     "start_time": "2023-09-14T16:21:34.044152Z"
    }
   },
   "outputs": [],
   "source": [
    "for i in val:\n",
    "    browser.get(i)\n",
    "    time.sleep(4)"
   ]
  },
  {
   "cell_type": "code",
   "execution_count": 29,
   "id": "6fa393a7",
   "metadata": {
    "ExecuteTime": {
     "end_time": "2023-09-14T16:23:09.336423Z",
     "start_time": "2023-09-14T16:23:09.317265Z"
    }
   },
   "outputs": [
    {
     "data": {
      "text/plain": [
       "['https://scontent.cdninstagram.com/o1/v/t16/f1/m82/0948759DD1B9A5BC59FAD01AA3CAE68A_video_dashinit.mp4?efg=eyJxZV9ncm91cHMiOiJbXCJpZ193ZWJfZGVsaXZlcnlfdnRzX290ZlwiXSIsInZlbmNvZGVfdGFnIjoidnRzX3ZvZF91cmxnZW4uNzIwLmNsaXBzLmJhc2VsaW5lLmMyIn0&_nc_ht=scontent.cdninstagram.com&_nc_cat=111&vs=936882720796910_2365793478&_nc_vs=HBksFQIYT2lnX3hwdl9yZWVsc19wZXJtYW5lbnRfcHJvZC8wOTQ4NzU5REQxQjlBNUJDNTlGQUQwMUFBM0NBRTY4QV92aWRlb19kYXNoaW5pdC5tcDQVAALIAQAVABgkR0p6MndoU0IzNzluWTFNREFFRG92N0JETnVnM2JxX0VBQUFGFQICyAEAKAAYABsAFQAAJuqIvL2JgJ1BFQIoAkMzLBdARvMzMzMzMxgSZGFzaF9iYXNlbGluZV8xX3YxEQB1%2FgcA&_nc_rid=8523b22769&ccb=9-4&oh=00_AfB2n6rYQhKJe5rL-E3MeiIaQBDI3S0UAN8KFWJoBe6YtA&oe=6504D7E9&_nc_sid=10d13b.mp4',\n",
       " 'https://scontent.cdninstagram.com/v/t66.30100-16/334146682_231124472659342_3925267057915329679_n.mp4?_nc_ht=scontent.cdninstagram.com&_nc_cat=110&_nc_ohc=7DM7gz-8WH4AX9eCnSj&edm=APs17CUBAAAA&ccb=7-5&oh=00_AfBQeOcYy_3HUoYqjb0ptWQ0eZPDuKyzYpb0V9YQfjpP1A&oe=6504C0AF&_nc_sid=10d13b.mp4',\n",
       " 'https://scontent.cdninstagram.com/o1/v/t16/f1/m82/EE416FE60EC38F044C55E381D93A6692_video_dashinit.mp4?efg=eyJxZV9ncm91cHMiOiJbXCJpZ193ZWJfZGVsaXZlcnlfdnRzX290ZlwiXSIsInZlbmNvZGVfdGFnIjoidnRzX3ZvZF91cmxnZW4uNzIwLmNsaXBzLmJhc2VsaW5lLmMyIn0&_nc_ht=scontent.cdninstagram.com&_nc_cat=106&vs=637994751585122_2069351633&_nc_vs=HBksFQIYT2lnX3hwdl9yZWVsc19wZXJtYW5lbnRfcHJvZC9FRTQxNkZFNjBFQzM4RjA0NEM1NUUzODFEOTNBNjY5Ml92aWRlb19kYXNoaW5pdC5tcDQVAALIAQAVABgkR0poakF4VThaTDZMVVlZREFKZmVfVVdHVkMwZGJxX0VBQUFGFQICyAEAKAAYABsAFQAAJuqX%2F%2B33we0%2FFQIoAkMzLBdAUWZmZmZmZhgSZGFzaF9iYXNlbGluZV8xX3YxEQB1%2FgcA&_nc_rid=97e184a2e5&ccb=9-4&oh=00_AfCZjruXHIOjpAMBoJMELNcjKtEqQlriWPc5k3DLWu71lA&oe=6504CE33&_nc_sid=10d13b.mp4',\n",
       " 'https://scontent.cdninstagram.com/v/t66.30100-16/332673054_183920601348921_2143217601206789152_n.mp4?_nc_ht=scontent.cdninstagram.com&_nc_cat=109&_nc_ohc=K2xML7PsA2UAX9moQlS&edm=APs17CUBAAAA&ccb=7-5&oh=00_AfAopqlEovpYXQGndY3H2ZpGNKuK9zrYN3pVgKBs7-3I1w&oe=6504E6D1&_nc_sid=10d13b.mp4',\n",
       " 'https://scontent.cdninstagram.com/v/t66.30100-16/10000000_258790050120077_5654476526871260269_n.mp4?_nc_ht=scontent.cdninstagram.com&_nc_cat=105&_nc_ohc=3xuo21AKwZQAX-KoVi1&edm=APs17CUBAAAA&ccb=7-5&oh=00_AfDssFHHfKCGVpW4K1z3BW1d4FVu7fnTEuSfcM3A2BJY0w&oe=6504B6D6&_nc_sid=10d13b.mp4',\n",
       " 'https://scontent.cdninstagram.com/v/t66.30100-16/121641395_238422382314107_5578132959405780082_n.mp4?_nc_ht=scontent.cdninstagram.com&_nc_cat=111&_nc_ohc=wcYEASsX-HYAX_7mzRJ&edm=APs17CUBAAAA&ccb=7-5&oh=00_AfDowLT4nlz5gK5kOBUITOB8L3uiyZHdJPbeAdRYf0l1EQ&oe=65049AC9&_nc_sid=10d13b.mp4',\n",
       " 'https://scontent.cdninstagram.com/v/t66.30100-16/334166998_268766432562148_3099416200757628770_n.mp4?_nc_ht=scontent.cdninstagram.com&_nc_cat=104&_nc_ohc=2QvBgMBjamQAX9S_ImH&edm=APs17CUBAAAA&ccb=7-5&oh=00_AfDmXy0h6DSF5Tx4ejEvgxRAuEw363KrjuQ-PgUF4GARPw&oe=6504AD6A&_nc_sid=10d13b.mp4',\n",
       " 'https://scontent.cdninstagram.com/v/t66.30100-16/311343069_3517012471962072_6110732276065847935_n.mp4?_nc_ht=scontent.cdninstagram.com&_nc_cat=100&_nc_ohc=GkFU5Ek03_AAX-tB87K&edm=APs17CUBAAAA&ccb=7-5&oh=00_AfDdvgr6HBzGFiRPKZok5SXkNP4ynESkagpMcdneaGXw5g&oe=65049607&_nc_sid=10d13b.mp4',\n",
       " 'https://scontent.cdninstagram.com/v/t66.30100-16/317044418_1036784294371581_3524886537778735300_n.mp4?_nc_ht=scontent.cdninstagram.com&_nc_cat=109&_nc_ohc=CMW-Mc7OL8gAX-2tkQS&edm=APs17CUBAAAA&ccb=7-5&oh=00_AfAtB8PjP5Qry9H3kLmxl5NWB0WkDOhFE2Ndpc7Nh8Ycgw&oe=6504EADB&_nc_sid=10d13b.mp4',\n",
       " 'https://scontent.cdninstagram.com/v/t66.30100-16/10000000_632425885264577_8700747901464529962_n.mp4?_nc_ht=scontent.cdninstagram.com&_nc_cat=105&_nc_ohc=f9rV2_3GW7MAX8dTRnr&edm=APs17CUBAAAA&ccb=7-5&oh=00_AfAoZaEogn2Td8--MOMQ48GI9qydMaGsVyiWUi87tvr7gw&oe=65052961&_nc_sid=10d13b.mp4',\n",
       " 'https://scontent.cdninstagram.com/v/t66.30100-16/316918773_549581323900153_5891967782444121010_n.mp4?_nc_ht=scontent.cdninstagram.com&_nc_cat=101&_nc_ohc=cS_f67QjeyIAX8pE70i&edm=APs17CUBAAAA&ccb=7-5&oh=00_AfA3B0gWQrYH2pRzDL_yv6DGAnzVh93HwDwb8-B4WknEkw&oe=6504C2A4&_nc_sid=10d13b.mp4',\n",
       " 'https://scontent.cdninstagram.com/o1/v/t16/f1/m82/434BA85A4C1D7A03E1EDABEEFAB398B7_video_dashinit.mp4?efg=eyJxZV9ncm91cHMiOiJbXCJpZ193ZWJfZGVsaXZlcnlfdnRzX290ZlwiXSIsInZlbmNvZGVfdGFnIjoidnRzX3ZvZF91cmxnZW4uNzIwLmNsaXBzLmJhc2VsaW5lLmMyIn0&_nc_ht=scontent.cdninstagram.com&_nc_cat=100&vs=947810356488582_2140269916&_nc_vs=HBksFQIYT2lnX3hwdl9yZWVsc19wZXJtYW5lbnRfcHJvZC80MzRCQTg1QTRDMUQ3QTAzRTFFREFCRUVGQUIzOThCN192aWRlb19kYXNoaW5pdC5tcDQVAALIAQAVABgkR0MtMEh4WFQ4QXJ0OXM4Q0FCbi1KbmxvaW84TWJxX0VBQUFGFQICyAEAKAAYABsAFQAAJujB8p%2F5%2FNA%2FFQIoAkMzLBdAReIMSbpeNRgSZGFzaF9iYXNlbGluZV8xX3YxEQB1%2FgcA&_nc_rid=cef140e617&ccb=9-4&oh=00_AfB4c5yPo58odKqt7uCDP1sI4zGSj0Pk2qqSWH5b7TrN7w&oe=6504DAD5&_nc_sid=10d13b.mp4',\n",
       " 'https://scontent.cdninstagram.com/v/t66.30100-16/320133158_312180304593458_807264606183624048_n.mp4?_nc_ht=scontent.cdninstagram.com&_nc_cat=102&_nc_ohc=bWMHlaiOnTEAX_U4uds&edm=APs17CUBAAAA&ccb=7-5&oh=00_AfA0AQGrQjiUi8WAk0WV1NXnKbMgSKzW4vtVTZTLIEk0Lg&oe=6504FD63&_nc_sid=10d13b.mp4',\n",
       " 'https://scontent.cdninstagram.com/v/t66.30100-16/46738136_267797386074846_2391603150259601475_n.mp4?_nc_ht=scontent.cdninstagram.com&_nc_cat=106&_nc_ohc=7XGzlM91DHUAX9NG5Hw&edm=APs17CUBAAAA&ccb=7-5&oh=00_AfCC89jZah17drH8PNbD2dytEIPRXrjJFzwH3bwa9Fep-g&oe=6504B3B5&_nc_sid=10d13b.mp4']"
      ]
     },
     "execution_count": 29,
     "metadata": {},
     "output_type": "execute_result"
    }
   ],
   "source": [
    "val"
   ]
  },
  {
   "cell_type": "code",
   "execution_count": null,
   "id": "a57ed32c",
   "metadata": {},
   "outputs": [],
   "source": []
  }
 ],
 "metadata": {
  "kernelspec": {
   "display_name": "Python 3 (ipykernel)",
   "language": "python",
   "name": "python3"
  },
  "language_info": {
   "codemirror_mode": {
    "name": "ipython",
    "version": 3
   },
   "file_extension": ".py",
   "mimetype": "text/x-python",
   "name": "python",
   "nbconvert_exporter": "python",
   "pygments_lexer": "ipython3",
   "version": "3.10.10"
  },
  "toc": {
   "base_numbering": 1,
   "nav_menu": {},
   "number_sections": true,
   "sideBar": true,
   "skip_h1_title": false,
   "title_cell": "Table of Contents",
   "title_sidebar": "Contents",
   "toc_cell": false,
   "toc_position": {},
   "toc_section_display": true,
   "toc_window_display": false
  }
 },
 "nbformat": 4,
 "nbformat_minor": 5
}
