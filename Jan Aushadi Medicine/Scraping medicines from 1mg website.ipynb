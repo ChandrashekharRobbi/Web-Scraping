{
 "cells": [
  {
   "cell_type": "code",
   "execution_count": 1,
   "id": "31d59e52",
   "metadata": {
    "ExecuteTime": {
     "end_time": "2023-10-12T19:41:43.307238Z",
     "start_time": "2023-10-12T19:41:42.353838Z"
    }
   },
   "outputs": [],
   "source": [
    "import requests\n",
    "import time\n",
    "import pandas as pd\n",
    "from tqdm import tqdm\n",
    "from selenium.webdriver.common.keys import Keys\n",
    "from bs4 import BeautifulSoup\n",
    "from selenium import webdriver\n",
    "from selenium.webdriver.common.by import By\n",
    "from selenium.webdriver.support.ui import Select"
   ]
  },
  {
   "cell_type": "code",
   "execution_count": 5,
   "id": "7bd2b2cf",
   "metadata": {
    "ExecuteTime": {
     "end_time": "2023-10-12T19:42:36.263158Z",
     "start_time": "2023-10-12T19:42:36.251158Z"
    }
   },
   "outputs": [],
   "source": [
    "driver = \"../chromedriver-win64/chromedriver.exe\""
   ]
  },
  {
   "cell_type": "code",
   "execution_count": 9,
   "id": "a3bb4db7",
   "metadata": {
    "ExecuteTime": {
     "end_time": "2023-10-12T19:43:55.024628Z",
     "start_time": "2023-10-12T19:43:54.980192Z"
    }
   },
   "outputs": [],
   "source": [
    "df = pd.read_csv('Jan aushadi Medicine List.csv')"
   ]
  },
  {
   "cell_type": "code",
   "execution_count": 10,
   "id": "a08f4b36",
   "metadata": {
    "ExecuteTime": {
     "end_time": "2023-10-12T19:43:55.597348Z",
     "start_time": "2023-10-12T19:43:55.581334Z"
    }
   },
   "outputs": [
    {
     "data": {
      "text/plain": [
       "'Sulfasalazine Gastro-resistant Tablets 1000mg'"
      ]
     },
     "execution_count": 10,
     "metadata": {},
     "output_type": "execute_result"
    }
   ],
   "source": [
    "df['Generic Name'][2]"
   ]
  },
  {
   "cell_type": "code",
   "execution_count": 24,
   "id": "4c72939c",
   "metadata": {
    "ExecuteTime": {
     "end_time": "2023-10-12T19:52:03.690730Z",
     "start_time": "2023-10-12T19:52:02.628773Z"
    }
   },
   "outputs": [],
   "source": []
  },
  {
   "cell_type": "code",
   "execution_count": 100,
   "id": "5ffa7ebc",
   "metadata": {
    "ExecuteTime": {
     "end_time": "2023-10-12T19:34:09.323309Z",
     "start_time": "2023-10-12T19:34:09.306977Z"
    }
   },
   "outputs": [
    {
     "data": {
      "text/plain": [
       "'Ispaghula Husk IP'"
      ]
     },
     "execution_count": 100,
     "metadata": {},
     "output_type": "execute_result"
    }
   ],
   "source": [
    "df[\"Generic Name\"][3]"
   ]
  },
  {
   "cell_type": "code",
   "execution_count": 3,
   "id": "e048e5bf",
   "metadata": {
    "ExecuteTime": {
     "end_time": "2023-10-12T19:42:09.441451Z",
     "start_time": "2023-10-12T19:42:02.778950Z"
    }
   },
   "outputs": [
    {
     "name": "stdout",
     "output_type": "stream",
     "text": [
      "Looking in indexes: https://pypi.org/simple, https://pypi.ngc.nvidia.com\n",
      "Collecting fake-useragent\n",
      "  Downloading fake_useragent-1.3.0-py3-none-any.whl (15 kB)\n",
      "Installing collected packages: fake-useragent\n",
      "Successfully installed fake-useragent-1.3.0\n"
     ]
    },
    {
     "name": "stderr",
     "output_type": "stream",
     "text": [
      "\n",
      "[notice] A new release of pip is available: 23.1 -> 23.2.1\n",
      "[notice] To update, run: python.exe -m pip install --upgrade pip\n"
     ]
    }
   ],
   "source": [
    "!pip install fake-useragent"
   ]
  },
  {
   "cell_type": "code",
   "execution_count": 7,
   "id": "5c8ff065",
   "metadata": {
    "ExecuteTime": {
     "end_time": "2023-10-12T19:42:53.989677Z",
     "start_time": "2023-10-12T19:42:52.923006Z"
    }
   },
   "outputs": [
    {
     "name": "stdout",
     "output_type": "stream",
     "text": [
      "Mozilla/5.0 (Windows NT 10.0; rv:109.0) Gecko/20100101 Firefox/118.0\n"
     ]
    }
   ],
   "source": [
    "from selenium import webdriver\n",
    "from selenium.webdriver.chrome.options import Options\n",
    "from fake_useragent import UserAgent\n",
    "\n",
    "options = Options()\n",
    "ua = UserAgent()\n",
    "user_agent = ua.random\n",
    "print(user_agent)\n",
    "\n",
    "options.add_argument(f'--user-agent={user_agent}')\n",
    "browser = webdriver.Chrome(options=options, executable_path=driver)\n"
   ]
  },
  {
   "cell_type": "code",
   "execution_count": 28,
   "id": "27d65bce",
   "metadata": {
    "ExecuteTime": {
     "end_time": "2023-10-12T19:54:15.465941Z",
     "start_time": "2023-10-12T19:54:14.425209Z"
    }
   },
   "outputs": [],
   "source": [
    "browser = webdriver.Chrome(driver)"
   ]
  },
  {
   "cell_type": "code",
   "execution_count": 29,
   "id": "394191f9",
   "metadata": {
    "ExecuteTime": {
     "end_time": "2023-10-12T19:55:43.339397Z",
     "start_time": "2023-10-12T19:54:18.617276Z"
    }
   },
   "outputs": [
    {
     "name": "stderr",
     "output_type": "stream",
     "text": [
      "\r",
      "  0%|                                                                                                                               | 0/13 [00:00<?, ?it/s]"
     ]
    },
    {
     "name": "stdout",
     "output_type": "stream",
     "text": [
      "q\n"
     ]
    },
    {
     "name": "stderr",
     "output_type": "stream",
     "text": [
      "  0%|                                                                                                                               | 0/13 [01:24<?, ?it/s]\n"
     ]
    },
    {
     "ename": "NoSuchWindowException",
     "evalue": "Message: no such window: target window already closed\nfrom unknown error: web view not found\n  (Session info: chrome=117.0.5938.150)\n",
     "output_type": "error",
     "traceback": [
      "\u001b[1;31m---------------------------------------------------------------------------\u001b[0m",
      "\u001b[1;31mNoSuchWindowException\u001b[0m                     Traceback (most recent call last)",
      "Cell \u001b[1;32mIn[29], line 38\u001b[0m\n\u001b[0;32m     36\u001b[0m         price \u001b[38;5;241m=\u001b[39m \u001b[38;5;28;01mNone\u001b[39;00m\n\u001b[0;32m     37\u001b[0m data\u001b[38;5;241m.\u001b[39mappend([text, product_information, price])\n\u001b[1;32m---> 38\u001b[0m card_element \u001b[38;5;241m=\u001b[39m \u001b[43mbrowser\u001b[49m\u001b[38;5;241;43m.\u001b[39;49m\u001b[43mfind_element\u001b[49m\u001b[43m(\u001b[49m\u001b[43mBy\u001b[49m\u001b[38;5;241;43m.\u001b[39;49m\u001b[43mXPATH\u001b[49m\u001b[43m,\u001b[49m\u001b[43m \u001b[49m\u001b[38;5;124;43m'\u001b[39;49m\u001b[38;5;124;43m//*[@id=\u001b[39;49m\u001b[38;5;124;43m\"\u001b[39;49m\u001b[38;5;124;43mcontainer\u001b[39;49m\u001b[38;5;124;43m\"\u001b[39;49m\u001b[38;5;124;43m]/div/div/div[2]/div[2]/div/div\u001b[39;49m\u001b[38;5;124;43m'\u001b[39;49m\u001b[43m)\u001b[49m\n\u001b[0;32m     39\u001b[0m \u001b[38;5;28;01mfor\u001b[39;00m each_element \u001b[38;5;129;01min\u001b[39;00m card_element\u001b[38;5;241m.\u001b[39mfind_elements(By\u001b[38;5;241m.\u001b[39mCLASS_NAME, \u001b[38;5;124m'\u001b[39m\u001b[38;5;124mGenericSaltStyle__repeatBox___3NhJ2\u001b[39m\u001b[38;5;124m'\u001b[39m):\n\u001b[0;32m     40\u001b[0m     \u001b[38;5;28mprint\u001b[39m(each_element\u001b[38;5;241m.\u001b[39mfind_element(By\u001b[38;5;241m.\u001b[39mCLASS_NAME, \u001b[38;5;124m'\u001b[39m\u001b[38;5;124mGenericSaltStyle__brandColor___1Papj\u001b[39m\u001b[38;5;124m'\u001b[39m)\u001b[38;5;241m.\u001b[39mtext)\n",
      "File \u001b[1;32mC:\\GFG_DataScience\\env\\lib\\site-packages\\selenium\\webdriver\\remote\\webdriver.py:976\u001b[0m, in \u001b[0;36mWebDriver.find_element\u001b[1;34m(self, by, value)\u001b[0m\n\u001b[0;32m    974\u001b[0m         by \u001b[38;5;241m=\u001b[39m By\u001b[38;5;241m.\u001b[39mCSS_SELECTOR\n\u001b[0;32m    975\u001b[0m         value \u001b[38;5;241m=\u001b[39m \u001b[38;5;124m'\u001b[39m\u001b[38;5;124m[name=\u001b[39m\u001b[38;5;124m\"\u001b[39m\u001b[38;5;132;01m%s\u001b[39;00m\u001b[38;5;124m\"\u001b[39m\u001b[38;5;124m]\u001b[39m\u001b[38;5;124m'\u001b[39m \u001b[38;5;241m%\u001b[39m value\n\u001b[1;32m--> 976\u001b[0m \u001b[38;5;28;01mreturn\u001b[39;00m \u001b[38;5;28;43mself\u001b[39;49m\u001b[38;5;241;43m.\u001b[39;49m\u001b[43mexecute\u001b[49m\u001b[43m(\u001b[49m\u001b[43mCommand\u001b[49m\u001b[38;5;241;43m.\u001b[39;49m\u001b[43mFIND_ELEMENT\u001b[49m\u001b[43m,\u001b[49m\u001b[43m \u001b[49m\u001b[43m{\u001b[49m\n\u001b[0;32m    977\u001b[0m \u001b[43m    \u001b[49m\u001b[38;5;124;43m'\u001b[39;49m\u001b[38;5;124;43musing\u001b[39;49m\u001b[38;5;124;43m'\u001b[39;49m\u001b[43m:\u001b[49m\u001b[43m \u001b[49m\u001b[43mby\u001b[49m\u001b[43m,\u001b[49m\n\u001b[0;32m    978\u001b[0m \u001b[43m    \u001b[49m\u001b[38;5;124;43m'\u001b[39;49m\u001b[38;5;124;43mvalue\u001b[39;49m\u001b[38;5;124;43m'\u001b[39;49m\u001b[43m:\u001b[49m\u001b[43m \u001b[49m\u001b[43mvalue\u001b[49m\u001b[43m}\u001b[49m\u001b[43m)\u001b[49m[\u001b[38;5;124m'\u001b[39m\u001b[38;5;124mvalue\u001b[39m\u001b[38;5;124m'\u001b[39m]\n",
      "File \u001b[1;32mC:\\GFG_DataScience\\env\\lib\\site-packages\\selenium\\webdriver\\remote\\webdriver.py:321\u001b[0m, in \u001b[0;36mWebDriver.execute\u001b[1;34m(self, driver_command, params)\u001b[0m\n\u001b[0;32m    319\u001b[0m response \u001b[38;5;241m=\u001b[39m \u001b[38;5;28mself\u001b[39m\u001b[38;5;241m.\u001b[39mcommand_executor\u001b[38;5;241m.\u001b[39mexecute(driver_command, params)\n\u001b[0;32m    320\u001b[0m \u001b[38;5;28;01mif\u001b[39;00m response:\n\u001b[1;32m--> 321\u001b[0m     \u001b[38;5;28;43mself\u001b[39;49m\u001b[38;5;241;43m.\u001b[39;49m\u001b[43merror_handler\u001b[49m\u001b[38;5;241;43m.\u001b[39;49m\u001b[43mcheck_response\u001b[49m\u001b[43m(\u001b[49m\u001b[43mresponse\u001b[49m\u001b[43m)\u001b[49m\n\u001b[0;32m    322\u001b[0m     response[\u001b[38;5;124m'\u001b[39m\u001b[38;5;124mvalue\u001b[39m\u001b[38;5;124m'\u001b[39m] \u001b[38;5;241m=\u001b[39m \u001b[38;5;28mself\u001b[39m\u001b[38;5;241m.\u001b[39m_unwrap_value(\n\u001b[0;32m    323\u001b[0m         response\u001b[38;5;241m.\u001b[39mget(\u001b[38;5;124m'\u001b[39m\u001b[38;5;124mvalue\u001b[39m\u001b[38;5;124m'\u001b[39m, \u001b[38;5;28;01mNone\u001b[39;00m))\n\u001b[0;32m    324\u001b[0m     \u001b[38;5;28;01mreturn\u001b[39;00m response\n",
      "File \u001b[1;32mC:\\GFG_DataScience\\env\\lib\\site-packages\\selenium\\webdriver\\remote\\errorhandler.py:242\u001b[0m, in \u001b[0;36mErrorHandler.check_response\u001b[1;34m(self, response)\u001b[0m\n\u001b[0;32m    240\u001b[0m         alert_text \u001b[38;5;241m=\u001b[39m value[\u001b[38;5;124m'\u001b[39m\u001b[38;5;124malert\u001b[39m\u001b[38;5;124m'\u001b[39m]\u001b[38;5;241m.\u001b[39mget(\u001b[38;5;124m'\u001b[39m\u001b[38;5;124mtext\u001b[39m\u001b[38;5;124m'\u001b[39m)\n\u001b[0;32m    241\u001b[0m     \u001b[38;5;28;01mraise\u001b[39;00m exception_class(message, screen, stacktrace, alert_text)\n\u001b[1;32m--> 242\u001b[0m \u001b[38;5;28;01mraise\u001b[39;00m exception_class(message, screen, stacktrace)\n",
      "\u001b[1;31mNoSuchWindowException\u001b[0m: Message: no such window: target window already closed\nfrom unknown error: web view not found\n  (Session info: chrome=117.0.5938.150)\n"
     ]
    }
   ],
   "source": [
    "data = []\n",
    "#enter search text\n",
    "for i in tqdm(df[\"Generic Name\"][2:15]):\n",
    "#     options = Options()\n",
    "#     ua = UserAgent()\n",
    "#     user_agent = ua.random\n",
    "#     print(user_agent)\n",
    "\n",
    "#     options.add_argument(f'--user-agent={user_agent}')\n",
    "#     browser = webdriver.Chrome(options=options, executable_path=driver)\n",
    "    browser.get(\"https://www.google.com/\")\n",
    "    m = browser.find_element_by_name(\"q\")\n",
    "    m.send_keys(f\"{i} site:https://www.1mg.com/\")\n",
    "    time.sleep(0.2)\n",
    "    #perform Google search with Keys.ENTER\n",
    "    m.send_keys(Keys.ENTER)\n",
    "#     time.sleep(20)\n",
    "    url = browser.current_url \n",
    "    if 'sorry' in browser.current_url:\n",
    "        k = input()\n",
    "        time.sleep(1)\n",
    "    else:\n",
    "        time.sleep(1)\n",
    "        try:\n",
    "            browser.find_element(By.XPATH, '//*[@id=\"rso\"]/div[1]/div/div/div[1]/div/div/span/a/h3').click()\n",
    "        except:\n",
    "            browser.find_element(By.XPATH, '//*[@id=\"rso\"]/div[1]/div/div/div/div[1]/div/div/span/a/h3').click()\n",
    "        time.sleep(1)\n",
    "        try:\n",
    "            text = browser.find_element(By.XPATH, '//*[@id=\"drug_header\"]/div/div/div[2]/div/div[1]/h1').text\n",
    "            product_information = browser.find_element(By.XPATH, '//*[@id=\"overview\"]/div/div/div/div').text\n",
    "            price = browser.find_element(By.XPATH, '//*[@id=\"atc-content\"]/div/div[2]/div[1]/div[1]/div[2]/span[1]').text\n",
    "        except:\n",
    "            text = None\n",
    "            product_information = None\n",
    "            price = None\n",
    "    data.append([text, product_information, price])\n",
    "    card_element = browser.find_element(By.XPATH, '//*[@id=\"container\"]/div/div/div[2]/div[2]/div/div')\n",
    "    for each_element in card_element.find_elements(By.CLASS_NAME, 'GenericSaltStyle__repeatBox___3NhJ2'):\n",
    "        print(each_element.find_element(By.CLASS_NAME, 'GenericSaltStyle__brandColor___1Papj').text)\n",
    "        print(each_element.find_elements(By.TAG_NAME, 'span')[1].text)\n",
    "        print(each_element.find_elements(By.TAG_NAME, 'span')[2].text)\n",
    "        print(each_element.find_elements(By.TAG_NAME, 'span')[3].text)\n",
    "    #     print(each_element.text)\n",
    "        print()\n",
    "#     browser.close()"
   ]
  },
  {
   "cell_type": "code",
   "execution_count": 76,
   "id": "771fcbb0",
   "metadata": {
    "ExecuteTime": {
     "end_time": "2023-10-12T19:11:00.560624Z",
     "start_time": "2023-10-12T19:11:00.502938Z"
    }
   },
   "outputs": [
    {
     "data": {
      "text/plain": [
       "[['Tetanus Vaccine Adsorbed 0.5ml',\n",
       "  'Tetanus Vaccine Adsorbed 0.5ml is used as a vaccination to prevent tetanus (also known as lockjaw). During childhood, five doses are recommended, with a sixth given during adolescence. Additional doses every 10 years are recommended.\\n\\nTetanus Vaccine Adsorbed 0.5ml is administered by a healthcare professional and should not be self-administered. It is important that the child receives all the vaccination doses. For the vaccine to be most effective, it is important to get the vaccination booster injection every 10 years.\\n\\nSome of the common side effects of this medicine include reactions at the site of vaccination injection (such as pain, swelling, and redness), fever, and loss of appetite. If these side effects do not go away with time or get worse, let the doctor know. The doctor may help with ways to reduce or prevent these symptoms.\\n\\nTo make sure the vaccine is safe, before receiving the vaccine, it is important to let the doctor know if you have any other illnesses. You should also tell the doctor about all the medicines you are taking.',\n",
       "  '₹96.3'],\n",
       " ['Betnovate-C Cream',\n",
       "  'Betnovate-C Cream is a combination of two different medicines. It is used in the treatment of bacterial and fungal infections of the skin. It also helps to treat inflammatory skin conditions by relieving symptoms like redness, swelling, and itching.\\n\\nBetnovate-C Cream is only meant for external use and should be used as advised by your doctor. A thin layer of the medicine should be applied only to the affected areas of the skin with clean and dry hands. If it gets into your eyes, nose, mouth, or vagina rinse with water. It may take several days to weeks for your symptoms to improve, but you should keep using this medicine regularly. The course of the treatment should be completed to ensure better efficacy of the medicine. If your condition does not improve or gets worse, you should talk to your doctor.\\n\\nThe most common side effects of this medicine include itching, dryness, redness, and burning sensation at the application site. These are usually self-limiting. Serious side effects are rare. You must consult the doctor if you experience any allergic reaction (rashes, itching, swelling, shortness of breath, etc.).\\n\\nBefore taking this medicine, it is important to tell your doctor if you are taking or have recently taken any other medicines for the same disease or other diseases. Pregnant and breastfeeding women should take this medicine with proper consultation and caution. If you are a known allergic to the medicine, you must refrain from using this medicine. You should consult the doctor about prescribing an alternative medicine for your condition.',\n",
       "  '₹53.91'],\n",
       " [None, None, None],\n",
       " [None, None, None],\n",
       " [None, None, None],\n",
       " [None, None, None],\n",
       " [None, None, None],\n",
       " [None, None, None],\n",
       " [None, None, None],\n",
       " [None, None, None],\n",
       " [None, None, None],\n",
       " [None, None, None],\n",
       " [None, None, None],\n",
       " [None, None, None],\n",
       " [None, None, None],\n",
       " [None, None, None],\n",
       " ['Invokana 100mg Tablet',\n",
       "  'Invokana 100mg Tablet is used alone or in combination with other medicines to treat type 2 diabetes mellitus. It helps control the high blood sugar levels seen in diabetes. This reduces the chances of serious complications of diabetes and also helps prevent heart disease.\\n\\nInvokana 100mg Tablet can be taken with or without food at any time of day but you should try to take it at the same time every day. The dose will be decided by your doctor. Do not stop taking it without asking your doctor. If you do, your blood sugar levels may increase and put you at risk of serious complications like kidney damage and blindness. This medicine is only part of a treatment program that should include a healthy diet, regular exercise, and weight reduction as advised by your doctor.\\n\\nThe most common side effects of this medicine include fungal infection of the vagina, urinary tract infection, and frequent urge to urinate. It may cause the body to lose too much water. Drink plenty of fluids to prevent dehydration. Maintaining good hygiene can help prevent fungal infections in the genital area.\\n\\nBefore taking this medicine, inform your doctor if you have any kidney or liver problems or a urinary tract infection or if you are on water pills (diuretics). Pregnant or breastfeeding women should also consult their doctor before taking it. Avoid excessive alcohol intake while taking it as this may increase the risk of developing some side effects. Monitor your blood sugar levels regularly while taking this medicine.',\n",
       "  '₹499.5'],\n",
       " ['Inderal 40 Tablet',\n",
       "  'Inderal 40 Tablet helps decrease anxiety and relieve tremors. It is also used to help prevent migraine, heart-related chest pain (angina), and bleeding in the stomach caused by high blood pressure in the liver (portal hypertension).\\n\\nInderal 40 Tablet may also be used to treat high blood pressure and some types of abnormal heartbeat (arrhythmia). The dose will depend on what you are being treated for and how you respond to the medicine. You should always take it as prescribed by the doctor. It should be taken on an empty stomach and at about the same time each day. You should keep taking it even if you feel well, as you are still getting the benefits. If you stop taking it suddenly, your condition may worsen.\\n\\nThe most common side effects are tiredness, weakness cold fingers and toes (Raynaud phenomenon), irregular or slow heartbeat, numbness in your fingers, and breathlessness. You may also experience nausea, vomiting, and diarrhea. Talk to your doctor if the side effects bother you or do not go away. Most side effects are short-lived and improve as your body gets used to the medicine.\\n\\nYou should not use this medicine if you have asthma, very slow or uneven heartbeats, or a serious heart condition, including heart failure. Talk to your doctor before taking it if you have kidney or liver problems or chronic obstructive pulmonary disease (COPD). In terms of lifestyle, alcohol may affect the way this medicine works and should be avoided. You should not drive if this medicine makes you feel dizzy. Ask your doctor whether it is safe to take this medicine if you are pregnant or breastfeeding.',\n",
       "  '₹44.64'],\n",
       " [None, None, None],\n",
       " [None, None, None],\n",
       " [None, None, None]]"
      ]
     },
     "execution_count": 76,
     "metadata": {},
     "output_type": "execute_result"
    }
   ],
   "source": [
    "data"
   ]
  },
  {
   "cell_type": "code",
   "execution_count": 48,
   "id": "a32e0eef",
   "metadata": {
    "ExecuteTime": {
     "end_time": "2023-10-12T18:43:27.757570Z",
     "start_time": "2023-10-12T18:43:27.036879Z"
    }
   },
   "outputs": [],
   "source": [
    "browser.get(\"https://google.com/\")"
   ]
  },
  {
   "cell_type": "code",
   "execution_count": 49,
   "id": "af6fb157",
   "metadata": {
    "ExecuteTime": {
     "end_time": "2023-10-12T18:43:28.516637Z",
     "start_time": "2023-10-12T18:43:27.760572Z"
    }
   },
   "outputs": [],
   "source": [
    "m = browser.find_element_by_name('q')\n",
    "m.send_keys(f\"Betamethasone Valerate 0.12%w/w and Clioquinol 3%w/w Cream site:https://www.1mg.com/\")\n",
    "time.sleep(0.2)\n",
    "\n",
    "m.send_keys(Keys.ENTER)\n"
   ]
  },
  {
   "cell_type": "code",
   "execution_count": null,
   "id": "9aaee20a",
   "metadata": {},
   "outputs": [],
   "source": [
    "Tetanus Vaccine IP"
   ]
  },
  {
   "cell_type": "code",
   "execution_count": null,
   "id": "82848294",
   "metadata": {},
   "outputs": [],
   "source": [
    "Sulfasalazine Gastro-resistant Tablets 1000mg"
   ]
  },
  {
   "cell_type": "code",
   "execution_count": 101,
   "id": "45232df7",
   "metadata": {
    "ExecuteTime": {
     "end_time": "2023-10-12T19:34:47.407253Z",
     "start_time": "2023-10-12T19:34:42.315598Z"
    }
   },
   "outputs": [],
   "source": [
    "browser.get(\"https://www.google.com/\")\n",
    "m = browser.find_element_by_name(\"q\")\n",
    "m.send_keys(f\"{df['Generic Name'][3]} site:https://www.1mg.com/\")\n",
    "time.sleep(0.2)\n",
    "#perform Google search with Keys.ENTER\n",
    "m.send_keys(Keys.ENTER)\n",
    "#     time.sleep(20)\n",
    "url = browser.current_url \n",
    "if 'sorry' in browser.current_url:\n",
    "    k = input()\n",
    "else:\n",
    "    time.sleep(1)\n",
    "    try:\n",
    "        browser.find_element(By.XPATH, '//*[@id=\"rso\"]/div[1]/div/div/div[1]/div/div/span/a/h3').click()\n",
    "    except:\n",
    "        browser.find_element(By.XPATH, '//*[@id=\"rso\"]/div[1]/div/div/div/div[1]/div/div/span/a/h3').click()\n",
    "    time.sleep(1)\n",
    "    try:\n",
    "        text = browser.find_element(By.XPATH, '//*[@id=\"drug_header\"]/div/div/div[2]/div/div[1]/h1').text\n",
    "        product_information = browser.find_element(By.XPATH, '//*[@id=\"overview\"]/div/div/div/div').text\n",
    "        price = browser.find_element(By.XPATH, '//*[@id=\"atc-content\"]/div/div[2]/div[1]/div[1]/div[2]/span[1]').text\n",
    "    except:\n",
    "        text = None\n",
    "        product_information = None\n",
    "        price = None"
   ]
  },
  {
   "cell_type": "code",
   "execution_count": 84,
   "id": "ea8b4390",
   "metadata": {
    "ExecuteTime": {
     "end_time": "2023-10-12T19:24:19.460880Z",
     "start_time": "2023-10-12T19:24:19.424937Z"
    }
   },
   "outputs": [],
   "source": []
  },
  {
   "cell_type": "code",
   "execution_count": 102,
   "id": "15f102df",
   "metadata": {
    "ExecuteTime": {
     "end_time": "2023-10-12T19:34:50.322102Z",
     "start_time": "2023-10-12T19:34:49.516279Z"
    }
   },
   "outputs": [
    {
     "name": "stdout",
     "output_type": "stream",
     "text": [
      "Lactifiber\n",
      "Sun Pharmaceutical Industries Ltd\n",
      "₹32 to ₹415\n",
      "4 variant(s)\n",
      "\n",
      "Freego\n",
      "Alembic Pharmaceuticals Ltd\n",
      "₹259 to ₹380\n",
      "2 variant(s)\n",
      "\n",
      "Eva Q\n",
      "Medley Pharmaceuticals\n",
      "₹158 to ₹670\n",
      "6 variant(s)\n",
      "\n",
      "Ezivac\n",
      "Galpha Laboratories Ltd\n",
      "₹41 to ₹160\n",
      "4 variant(s)\n",
      "\n",
      "Torbulk\n",
      "Torrent Pharmaceuticals Ltd\n",
      "₹299 to ₹473\n",
      "2 variant(s)\n",
      "\n",
      "Gutclear-IG\n",
      "Zuventus Healthcare Ltd\n",
      "₹215 to ₹428\n",
      "2 variant(s)\n",
      "\n",
      "Looz Fibre\n",
      "Intas Pharmaceuticals Ltd\n",
      "₹323 to ₹529\n",
      "2 variant(s)\n",
      "\n",
      "Laxovel\n",
      "Kinedex Healthcare Pvt Ltd\n",
      "₹113 to ₹388\n",
      "6 variant(s)\n",
      "\n",
      "Laxitol Husk\n",
      "Macleods Pharmaceuticals Pvt Ltd\n",
      "₹272\n",
      "1 variant(s)\n",
      "\n",
      "Gudlax NF\n",
      "Mankind Pharma Ltd\n",
      "₹200\n",
      "1 variant(s)\n",
      "\n"
     ]
    }
   ],
   "source": [
    "card_element = browser.find_element(By.XPATH, '//*[@id=\"container\"]/div/div/div[2]/div[2]/div/div')\n",
    "for each_element in card_element.find_elements(By.CLASS_NAME, 'GenericSaltStyle__repeatBox___3NhJ2'):\n",
    "    print(each_element.find_element(By.CLASS_NAME, 'GenericSaltStyle__brandColor___1Papj').text)\n",
    "    print(each_element.find_elements(By.TAG_NAME, 'span')[1].text)\n",
    "    print(each_element.find_elements(By.TAG_NAME, 'span')[2].text)\n",
    "    print(each_element.find_elements(By.TAG_NAME, 'span')[3].text)\n",
    "#     print(each_element.text)\n",
    "    print()"
   ]
  },
  {
   "cell_type": "code",
   "execution_count": null,
   "id": "c3db159e",
   "metadata": {},
   "outputs": [],
   "source": []
  },
  {
   "cell_type": "code",
   "execution_count": null,
   "id": "498dc4c7",
   "metadata": {},
   "outputs": [],
   "source": []
  },
  {
   "cell_type": "code",
   "execution_count": null,
   "id": "fe92e90b",
   "metadata": {},
   "outputs": [],
   "source": []
  }
 ],
 "metadata": {
  "kernelspec": {
   "display_name": "Python 3 (ipykernel)",
   "language": "python",
   "name": "python3"
  },
  "language_info": {
   "codemirror_mode": {
    "name": "ipython",
    "version": 3
   },
   "file_extension": ".py",
   "mimetype": "text/x-python",
   "name": "python",
   "nbconvert_exporter": "python",
   "pygments_lexer": "ipython3",
   "version": "3.10.10"
  },
  "toc": {
   "base_numbering": 1,
   "nav_menu": {},
   "number_sections": true,
   "sideBar": true,
   "skip_h1_title": false,
   "title_cell": "Table of Contents",
   "title_sidebar": "Contents",
   "toc_cell": false,
   "toc_position": {},
   "toc_section_display": true,
   "toc_window_display": false
  }
 },
 "nbformat": 4,
 "nbformat_minor": 5
}
