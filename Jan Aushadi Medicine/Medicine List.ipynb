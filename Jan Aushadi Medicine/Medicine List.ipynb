{
 "cells": [
  {
   "cell_type": "markdown",
   "id": "32167550",
   "metadata": {},
   "source": [
    "# Janaushadi Medicine List\n",
    "\n",
    "Here i will be scraping Medicine's list from [Janaushadi Website](http://janaushadhi.gov.in/SortingView.aspx) "
   ]
  },
  {
   "cell_type": "code",
   "execution_count": 62,
   "id": "c8e4e672",
   "metadata": {},
   "outputs": [],
   "source": [
    "import requests\n",
    "import pandas as pd\n",
    "from tqdm import tqdm\n",
    "from bs4 import BeautifulSoup\n",
    "from selenium import webdriver\n",
    "from selenium.webdriver.common.by import By\n",
    "from selenium.webdriver.support.ui import Select"
   ]
  },
  {
   "cell_type": "code",
   "execution_count": 63,
   "id": "c9cd5323",
   "metadata": {},
   "outputs": [],
   "source": [
    "driver = \"../chromedriver_win32/chromedriver\""
   ]
  },
  {
   "cell_type": "code",
   "execution_count": 64,
   "id": "e76ac7f7",
   "metadata": {},
   "outputs": [
    {
     "name": "stderr",
     "output_type": "stream",
     "text": [
      "/tmp/ipykernel_3705/4176045484.py:1: DeprecationWarning: executable_path has been deprecated, please pass in a Service object\n",
      "  browser = webdriver.Chrome(driver)\n"
     ]
    }
   ],
   "source": [
    "browser = webdriver.Chrome(driver)"
   ]
  },
  {
   "cell_type": "code",
   "execution_count": 65,
   "id": "20ba87e8",
   "metadata": {},
   "outputs": [],
   "source": [
    "browser.get('http://janaushadhi.gov.in/SortingView.aspx')"
   ]
  },
  {
   "cell_type": "code",
   "execution_count": 66,
   "id": "f07c804a",
   "metadata": {},
   "outputs": [],
   "source": [
    "mrp = Select(browser.find_element(By.ID, 'Bppi_body_ddlProduct'))"
   ]
  },
  {
   "cell_type": "code",
   "execution_count": 67,
   "id": "7218cd37",
   "metadata": {},
   "outputs": [],
   "source": [
    "mrp.select_by_visible_text(text=\"MRP Lowest to Highest\")"
   ]
  },
  {
   "cell_type": "code",
   "execution_count": 68,
   "id": "a8e9fac4",
   "metadata": {},
   "outputs": [],
   "source": [
    "browser.find_element(By.ID,'Bppi_body_btnSearch').click()"
   ]
  },
  {
   "cell_type": "code",
   "execution_count": 56,
   "id": "fe9ce55a",
   "metadata": {},
   "outputs": [
    {
     "name": "stderr",
     "output_type": "stream",
     "text": [
      "100%|█████████████████████████████████████████████████████████████████████████████████████████████████████████████| 2026/2026 [13:02<00:00,  2.59it/s]\n"
     ]
    }
   ],
   "source": [
    "data = []\n",
    "\n",
    "for i in tqdm(browser.find_elements(By.TAG_NAME, 'tr')[1:]):\n",
    "    drug_code    = i.find_elements(By.TAG_NAME,'td')[1].text\n",
    "    Generic_name = i.find_elements(By.TAG_NAME,'td')[2].text\n",
    "    Unit_size    = i.find_elements(By.TAG_NAME,'td')[3].text\n",
    "    Mrp          = i.find_elements(By.TAG_NAME,'td')[4].text\n",
    "    group_name   = i.find_elements(By.TAG_NAME,'td')[5].text\n",
    "    data.append([drug_code, Generic_name, Unit_size,Mrp, group_name])"
   ]
  },
  {
   "cell_type": "code",
   "execution_count": 58,
   "id": "c11cdfff",
   "metadata": {},
   "outputs": [],
   "source": [
    "df = pd.DataFrame(data, columns=[\"Drug Code\", \"Generic Name\", \"Unit Size\",\"Mrp\",\"Group Name\"])"
   ]
  },
  {
   "cell_type": "code",
   "execution_count": 60,
   "id": "39806ade",
   "metadata": {},
   "outputs": [],
   "source": [
    "df.to_csv(\"Jan aushadi Medicine List.csv\", index=False)"
   ]
  },
  {
   "cell_type": "code",
   "execution_count": 69,
   "id": "5c6664fb",
   "metadata": {},
   "outputs": [],
   "source": [
    "browser.close()"
   ]
  }
 ],
 "metadata": {
  "kernelspec": {
   "display_name": "Python 3 (ipykernel)",
   "language": "python",
   "name": "python3"
  },
  "language_info": {
   "codemirror_mode": {
    "name": "ipython",
    "version": 3
   },
   "file_extension": ".py",
   "mimetype": "text/x-python",
   "name": "python",
   "nbconvert_exporter": "python",
   "pygments_lexer": "ipython3",
   "version": "3.10.10"
  },
  "toc": {
   "base_numbering": 1,
   "nav_menu": {},
   "number_sections": true,
   "sideBar": true,
   "skip_h1_title": false,
   "title_cell": "Table of Contents",
   "title_sidebar": "Contents",
   "toc_cell": false,
   "toc_position": {},
   "toc_section_display": true,
   "toc_window_display": false
  }
 },
 "nbformat": 4,
 "nbformat_minor": 5
}
