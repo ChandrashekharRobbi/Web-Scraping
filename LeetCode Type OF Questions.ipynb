{
 "cells": [
  {
   "cell_type": "code",
   "execution_count": 2,
   "id": "b040b6c4",
   "metadata": {},
   "outputs": [],
   "source": [
    "import time\n",
    "import requests \n",
    "import pandas as pd\n",
    "import numpy as np\n",
    "from tqdm import tqdm\n",
    "from selenium import webdriver\n",
    "from selenium.webdriver.common.by import By"
   ]
  },
  {
   "cell_type": "code",
   "execution_count": 6,
   "id": "a776f6d1",
   "metadata": {},
   "outputs": [],
   "source": [
    "driver = 'chromedriver_win32/chromedriver.exe' # windows"
   ]
  },
  {
   "cell_type": "code",
   "execution_count": 8,
   "id": "e73ad549",
   "metadata": {},
   "outputs": [],
   "source": [
    "browser = webdriver.Chrome(driver)"
   ]
  },
  {
   "cell_type": "code",
   "execution_count": 21,
   "id": "9f287011",
   "metadata": {},
   "outputs": [],
   "source": [
    "df = pd.read_csv('leetlinks.csv')"
   ]
  },
  {
   "cell_type": "code",
   "execution_count": 22,
   "id": "db86b297",
   "metadata": {},
   "outputs": [
    {
     "data": {
      "text/html": [
       "<div>\n",
       "<style scoped>\n",
       "    .dataframe tbody tr th:only-of-type {\n",
       "        vertical-align: middle;\n",
       "    }\n",
       "\n",
       "    .dataframe tbody tr th {\n",
       "        vertical-align: top;\n",
       "    }\n",
       "\n",
       "    .dataframe thead th {\n",
       "        text-align: right;\n",
       "    }\n",
       "</style>\n",
       "<table border=\"1\" class=\"dataframe\">\n",
       "  <thead>\n",
       "    <tr style=\"text-align: right;\">\n",
       "      <th></th>\n",
       "      <th>leet_links</th>\n",
       "    </tr>\n",
       "  </thead>\n",
       "  <tbody>\n",
       "    <tr>\n",
       "      <th>0</th>\n",
       "      <td>https://leetcode.com/problems/binary-search</td>\n",
       "    </tr>\n",
       "    <tr>\n",
       "      <th>1</th>\n",
       "      <td>https://leetcode.com/problems/first-bad-version</td>\n",
       "    </tr>\n",
       "    <tr>\n",
       "      <th>2</th>\n",
       "      <td>https://leetcode.com/problems/search-insert-po...</td>\n",
       "    </tr>\n",
       "    <tr>\n",
       "      <th>3</th>\n",
       "      <td>https://leetcode.com/problems/squares-of-a-sor...</td>\n",
       "    </tr>\n",
       "    <tr>\n",
       "      <th>4</th>\n",
       "      <td>https://leetcode.com/problems/rotate-array</td>\n",
       "    </tr>\n",
       "    <tr>\n",
       "      <th>5</th>\n",
       "      <td>https://leetcode.com/problems/move-zeroes</td>\n",
       "    </tr>\n",
       "    <tr>\n",
       "      <th>6</th>\n",
       "      <td>https://leetcode.com/problems/two-sum-ii-input...</td>\n",
       "    </tr>\n",
       "    <tr>\n",
       "      <th>7</th>\n",
       "      <td>https://leetcode.com/problems/reverse-string</td>\n",
       "    </tr>\n",
       "    <tr>\n",
       "      <th>8</th>\n",
       "      <td>https://leetcode.com/problems/reverse-words-in...</td>\n",
       "    </tr>\n",
       "    <tr>\n",
       "      <th>9</th>\n",
       "      <td>https://leetcode.com/problems/middle-of-the-li...</td>\n",
       "    </tr>\n",
       "    <tr>\n",
       "      <th>10</th>\n",
       "      <td>https://leetcode.com/problems/remove-nth-node-...</td>\n",
       "    </tr>\n",
       "    <tr>\n",
       "      <th>11</th>\n",
       "      <td>https://leetcode.com/problems/longest-substrin...</td>\n",
       "    </tr>\n",
       "    <tr>\n",
       "      <th>12</th>\n",
       "      <td>https://leetcode.com/problems/permutation-in-s...</td>\n",
       "    </tr>\n",
       "    <tr>\n",
       "      <th>13</th>\n",
       "      <td>https://leetcode.com/problems/flood-fill</td>\n",
       "    </tr>\n",
       "    <tr>\n",
       "      <th>14</th>\n",
       "      <td>https://leetcode.com/problems/max-area-of-island</td>\n",
       "    </tr>\n",
       "    <tr>\n",
       "      <th>15</th>\n",
       "      <td>https://leetcode.com/problems/merge-two-binary...</td>\n",
       "    </tr>\n",
       "    <tr>\n",
       "      <th>16</th>\n",
       "      <td>https://leetcode.com/problems/populating-next-...</td>\n",
       "    </tr>\n",
       "    <tr>\n",
       "      <th>17</th>\n",
       "      <td>https://leetcode.com/problems/01-matrix</td>\n",
       "    </tr>\n",
       "    <tr>\n",
       "      <th>18</th>\n",
       "      <td>https://leetcode.com/problems/rotting-oranges</td>\n",
       "    </tr>\n",
       "    <tr>\n",
       "      <th>19</th>\n",
       "      <td>https://leetcode.com/problems/merge-two-sorted...</td>\n",
       "    </tr>\n",
       "    <tr>\n",
       "      <th>20</th>\n",
       "      <td>https://leetcode.com/problems/reverse-linked-list</td>\n",
       "    </tr>\n",
       "    <tr>\n",
       "      <th>21</th>\n",
       "      <td>https://leetcode.com/problems/combinations</td>\n",
       "    </tr>\n",
       "    <tr>\n",
       "      <th>22</th>\n",
       "      <td>https://leetcode.com/problems/permutations</td>\n",
       "    </tr>\n",
       "    <tr>\n",
       "      <th>23</th>\n",
       "      <td>https://leetcode.com/problems/letter-case-perm...</td>\n",
       "    </tr>\n",
       "    <tr>\n",
       "      <th>24</th>\n",
       "      <td>https://leetcode.com/problems/climbing-stairs</td>\n",
       "    </tr>\n",
       "    <tr>\n",
       "      <th>25</th>\n",
       "      <td>https://leetcode.com/problems/house-robber</td>\n",
       "    </tr>\n",
       "    <tr>\n",
       "      <th>26</th>\n",
       "      <td>https://leetcode.com/problems/triangle</td>\n",
       "    </tr>\n",
       "    <tr>\n",
       "      <th>27</th>\n",
       "      <td>https://leetcode.com/problems/power-of-two</td>\n",
       "    </tr>\n",
       "    <tr>\n",
       "      <th>28</th>\n",
       "      <td>https://leetcode.com/problems/number-of-1-bits</td>\n",
       "    </tr>\n",
       "    <tr>\n",
       "      <th>29</th>\n",
       "      <td>https://leetcode.com/problems/reverse-bits</td>\n",
       "    </tr>\n",
       "    <tr>\n",
       "      <th>30</th>\n",
       "      <td>https://leetcode.com/problems/single-number</td>\n",
       "    </tr>\n",
       "  </tbody>\n",
       "</table>\n",
       "</div>"
      ],
      "text/plain": [
       "                                           leet_links\n",
       "0         https://leetcode.com/problems/binary-search\n",
       "1     https://leetcode.com/problems/first-bad-version\n",
       "2   https://leetcode.com/problems/search-insert-po...\n",
       "3   https://leetcode.com/problems/squares-of-a-sor...\n",
       "4          https://leetcode.com/problems/rotate-array\n",
       "5           https://leetcode.com/problems/move-zeroes\n",
       "6   https://leetcode.com/problems/two-sum-ii-input...\n",
       "7        https://leetcode.com/problems/reverse-string\n",
       "8   https://leetcode.com/problems/reverse-words-in...\n",
       "9   https://leetcode.com/problems/middle-of-the-li...\n",
       "10  https://leetcode.com/problems/remove-nth-node-...\n",
       "11  https://leetcode.com/problems/longest-substrin...\n",
       "12  https://leetcode.com/problems/permutation-in-s...\n",
       "13           https://leetcode.com/problems/flood-fill\n",
       "14   https://leetcode.com/problems/max-area-of-island\n",
       "15  https://leetcode.com/problems/merge-two-binary...\n",
       "16  https://leetcode.com/problems/populating-next-...\n",
       "17            https://leetcode.com/problems/01-matrix\n",
       "18      https://leetcode.com/problems/rotting-oranges\n",
       "19  https://leetcode.com/problems/merge-two-sorted...\n",
       "20  https://leetcode.com/problems/reverse-linked-list\n",
       "21         https://leetcode.com/problems/combinations\n",
       "22         https://leetcode.com/problems/permutations\n",
       "23  https://leetcode.com/problems/letter-case-perm...\n",
       "24      https://leetcode.com/problems/climbing-stairs\n",
       "25         https://leetcode.com/problems/house-robber\n",
       "26             https://leetcode.com/problems/triangle\n",
       "27         https://leetcode.com/problems/power-of-two\n",
       "28     https://leetcode.com/problems/number-of-1-bits\n",
       "29         https://leetcode.com/problems/reverse-bits\n",
       "30        https://leetcode.com/problems/single-number"
      ]
     },
     "execution_count": 22,
     "metadata": {},
     "output_type": "execute_result"
    }
   ],
   "source": [
    "df"
   ]
  },
  {
   "cell_type": "code",
   "execution_count": 23,
   "id": "5fc116e3",
   "metadata": {},
   "outputs": [],
   "source": [
    "browser.get(df[\"leet_links\"][0])"
   ]
  },
  {
   "cell_type": "code",
   "execution_count": 25,
   "id": "38666028",
   "metadata": {
    "scrolled": true
   },
   "outputs": [
    {
     "name": "stderr",
     "output_type": "stream",
     "text": [
      "100%|██████████████████████████████████████████████████████████████████████████████████████████████████████████████████████| 31/31 [01:33<00:00,  3.01s/it]\n"
     ]
    }
   ],
   "source": [
    "data = []\n",
    "for link in tqdm(df[\"leet_links\"]):\n",
    "    browser.get(link)\n",
    "    time.sleep(2)\n",
    "    val = browser.find_element(By.XPATH, '//*[@id=\"qd-content\"]/div[1]/div/div/div/div[2]/div/div/div[1]/div/div[2]/div[1]')\n",
    "#     print(val.text)\n",
    "    data.append(val.text)"
   ]
  },
  {
   "cell_type": "code",
   "execution_count": 26,
   "id": "28d66ef2",
   "metadata": {},
   "outputs": [
    {
     "data": {
      "text/plain": [
       "['Easy',\n",
       " 'Easy',\n",
       " 'Easy',\n",
       " 'Easy',\n",
       " 'Medium',\n",
       " 'Easy',\n",
       " 'Medium',\n",
       " 'Easy',\n",
       " 'Easy',\n",
       " 'Easy',\n",
       " 'Medium',\n",
       " 'Medium',\n",
       " 'Medium',\n",
       " 'Easy',\n",
       " 'Medium',\n",
       " 'Easy',\n",
       " 'Medium',\n",
       " 'Medium',\n",
       " 'Medium',\n",
       " 'Easy',\n",
       " 'Easy',\n",
       " 'Medium',\n",
       " 'Medium',\n",
       " 'Medium',\n",
       " 'Easy',\n",
       " 'Medium',\n",
       " 'Medium',\n",
       " 'Easy',\n",
       " 'Easy',\n",
       " 'Easy',\n",
       " 'Easy']"
      ]
     },
     "execution_count": 26,
     "metadata": {},
     "output_type": "execute_result"
    }
   ],
   "source": [
    "data"
   ]
  },
  {
   "cell_type": "code",
   "execution_count": 28,
   "id": "5bcaa10b",
   "metadata": {},
   "outputs": [],
   "source": [
    "df_new = pd.DataFrame(data, columns=[\"Type\"])"
   ]
  },
  {
   "cell_type": "code",
   "execution_count": 29,
   "id": "a35f0bdd",
   "metadata": {},
   "outputs": [],
   "source": [
    "df_new.to_csv(\"type.csv\", index=False)"
   ]
  },
  {
   "cell_type": "code",
   "execution_count": null,
   "id": "cd2cb7c3",
   "metadata": {},
   "outputs": [],
   "source": []
  }
 ],
 "metadata": {
  "kernelspec": {
   "display_name": "Python 3 (ipykernel)",
   "language": "python",
   "name": "python3"
  },
  "language_info": {
   "codemirror_mode": {
    "name": "ipython",
    "version": 3
   },
   "file_extension": ".py",
   "mimetype": "text/x-python",
   "name": "python",
   "nbconvert_exporter": "python",
   "pygments_lexer": "ipython3",
   "version": "3.10.10"
  }
 },
 "nbformat": 4,
 "nbformat_minor": 5
}
