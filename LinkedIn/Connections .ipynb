{
 "cells": [
  {
   "cell_type": "code",
   "execution_count": 1,
   "id": "076ac537",
   "metadata": {
    "ExecuteTime": {
     "end_time": "2023-09-29T17:42:39.363019Z",
     "start_time": "2023-09-29T17:42:35.935476Z"
    }
   },
   "outputs": [],
   "source": [
    "import requests\n",
    "import time\n",
    "import pandas as pd\n",
    "from tqdm import tqdm\n",
    "from bs4 import BeautifulSoup\n",
    "from selenium import webdriver\n",
    "from selenium.webdriver.common.by import By\n",
    "from selenium.webdriver.support.ui import Select"
   ]
  },
  {
   "cell_type": "code",
   "execution_count": 3,
   "id": "ef8dfcd3",
   "metadata": {
    "ExecuteTime": {
     "end_time": "2023-09-29T17:43:16.586867Z",
     "start_time": "2023-09-29T17:43:14.327146Z"
    }
   },
   "outputs": [],
   "source": [
    "browser = webdriver.Chrome(\"../chromedriver-win64/chromedriver.exe\")"
   ]
  },
  {
   "cell_type": "code",
   "execution_count": 4,
   "id": "fed49850",
   "metadata": {
    "ExecuteTime": {
     "end_time": "2023-09-29T17:43:44.462420Z",
     "start_time": "2023-09-29T17:43:43.108805Z"
    }
   },
   "outputs": [],
   "source": [
    "browser.get(\"https://www.linkedin.com/in/ChandrashekharRobbi/\")"
   ]
  },
  {
   "cell_type": "code",
   "execution_count": 5,
   "id": "b0791aec",
   "metadata": {
    "ExecuteTime": {
     "end_time": "2023-09-29T17:46:42.790458Z",
     "start_time": "2023-09-29T17:46:42.391256Z"
    }
   },
   "outputs": [],
   "source": [
    "browser.find_element(By.XPATH, '//*[@id=\"rDQEeeu9TeSlm7LqpZZ9lQ==\"]/div/ul/li[1]/div/div/div[2]/div[1]/div[1]/div/span[1]/span/a/span/span[1]').click()"
   ]
  },
  {
   "cell_type": "code",
   "execution_count": 6,
   "id": "7d6aadfd",
   "metadata": {
    "ExecuteTime": {
     "end_time": "2023-09-29T17:47:27.531882Z",
     "start_time": "2023-09-29T17:47:27.164650Z"
    }
   },
   "outputs": [],
   "source": [
    "browser.find_element(By.XPATH, '//*[@id=\"ember528\"]/span').click()"
   ]
  },
  {
   "cell_type": "code",
   "execution_count": 9,
   "id": "d6c4db01",
   "metadata": {
    "ExecuteTime": {
     "end_time": "2023-09-29T17:53:34.369079Z",
     "start_time": "2023-09-29T17:53:34.278476Z"
    }
   },
   "outputs": [],
   "source": [
    "ul_list = browser.find_elements(By.CLASS_NAME, 'reusable-search__entity-result-list')"
   ]
  },
  {
   "cell_type": "code",
   "execution_count": 10,
   "id": "cded5f07",
   "metadata": {
    "ExecuteTime": {
     "end_time": "2023-09-29T17:53:34.962385Z",
     "start_time": "2023-09-29T17:53:34.946550Z"
    }
   },
   "outputs": [
    {
     "data": {
      "text/plain": [
       "[<selenium.webdriver.remote.webelement.WebElement (session=\"3091329e5ddd11220c73ca64adc8e130\", element=\"51E4E7A1BA5865F0650CFC4E27AE3591_element_1030\")>,\n",
       " <selenium.webdriver.remote.webelement.WebElement (session=\"3091329e5ddd11220c73ca64adc8e130\", element=\"51E4E7A1BA5865F0650CFC4E27AE3591_element_1586\")>]"
      ]
     },
     "execution_count": 10,
     "metadata": {},
     "output_type": "execute_result"
    }
   ],
   "source": [
    "ul_list"
   ]
  },
  {
   "cell_type": "code",
   "execution_count": 31,
   "id": "c5787936",
   "metadata": {
    "ExecuteTime": {
     "end_time": "2023-09-29T18:01:23.844612Z",
     "start_time": "2023-09-29T18:01:23.531010Z"
    },
    "collapsed": true
   },
   "outputs": [
    {
     "name": "stdout",
     "output_type": "stream",
     "text": [
      "https://www.linkedin.com/in/pranali-kapse-447933211?miniProfileUrn=urn%3Ali%3Afs_miniProfile%3AACoAADW1hbcBeYW5Uq88YarVmJtfBK6uC87lB7A\n",
      "https://www.linkedin.com/in/harshal-pawar-77344a216?miniProfileUrn=urn%3Ali%3Afs_miniProfile%3AACoAADaG28cBNATPUL2MVjmiUc6eur4SLoqG5N0\n",
      "https://www.linkedin.com/in/razzan-tambe-b11171212?miniProfileUrn=urn%3Ali%3Afs_miniProfile%3AACoAADXF7_0BhATn58jYmFMsDJVRJBriVNNX1og\n",
      "https://www.linkedin.com/in/vedant-bhosale-b40b3a20b?miniProfileUrn=urn%3Ali%3Afs_miniProfile%3AACoAADViMOABoldY8x0Io134QQG4c1juSLlbI9M\n",
      "https://www.linkedin.com/in/maaz-shaikh-818130217?miniProfileUrn=urn%3Ali%3Afs_miniProfile%3AACoAADaoc5QB13SKfzKdMaXloBRGyYQrPycOI_w\n",
      "https://www.linkedin.com/in/avishkar-patil-9759bb211?miniProfileUrn=urn%3Ali%3Afs_miniProfile%3AACoAADW4RqkB0AoJ_xmT2CMP7TVtImDyyuIbfH8\n",
      "https://www.linkedin.com/in/sachinugale?miniProfileUrn=urn%3Ali%3Afs_miniProfile%3AACoAAC0Zot0BY7n1FTiHRQcewk2wdmtvo0GoJS8\n",
      "https://www.linkedin.com/in/deepak-tetame-198932211?miniProfileUrn=urn%3Ali%3Afs_miniProfile%3AACoAADW1fYQBb8zIZEJSJt8NToYxSNdwwTGeEBw\n",
      "https://www.linkedin.com/in/ritesh-kumar-singh-33b760224?miniProfileUrn=urn%3Ali%3Afs_miniProfile%3AACoAADhaO98BiVH_nlO8Juw5WjnetsXWpPH2SfY\n",
      "https://www.linkedin.com/in/poonam-s-5256a218b?miniProfileUrn=urn%3Ali%3Afs_miniProfile%3AACoAACzGMm0BG0BFwLmw8WJ2ZSO9nEab0gR7nMQ\n"
     ]
    }
   ],
   "source": [
    "for i in ul_list[0].find_elements(By.CLASS_NAME, \"reusable-search__result-container\"):\n",
    "    print(i.find_element(By.CLASS_NAME, \"app-aware-link \").get_attribute('href'))\n",
    "#         print(j.get_attribute('href'))"
   ]
  },
  {
   "cell_type": "code",
   "execution_count": 18,
   "id": "c9292826",
   "metadata": {
    "ExecuteTime": {
     "end_time": "2023-09-29T17:55:39.637205Z",
     "start_time": "2023-09-29T17:55:39.543343Z"
    }
   },
   "outputs": [
    {
     "data": {
      "text/plain": [
       "'https://www.linkedin.com/in/pranali-kapse-447933211?miniProfileUrn=urn%3Ali%3Afs_miniProfile%3AACoAADW1hbcBeYW5Uq88YarVmJtfBK6uC87lB7A'"
      ]
     },
     "execution_count": 18,
     "metadata": {},
     "output_type": "execute_result"
    }
   ],
   "source": [
    "ul_list[0].find_element(By.CLASS_NAME, \"app-aware-link \").get_attribute('href')"
   ]
  },
  {
   "cell_type": "code",
   "execution_count": null,
   "id": "ea3ac13b",
   "metadata": {},
   "outputs": [],
   "source": [
    "link = []\n",
    "while True:\n",
    "    for i in ul_list[0].find_elements(By.CLASS_NAME, \"reusable-search__result-container\"):\n",
    "        link.append(i.find_element(By.CLASS_NAME, \"app-aware-link \").get_attribute('href'))\n",
    "    "
   ]
  },
  {
   "cell_type": "markdown",
   "id": "6a03fa41",
   "metadata": {
    "ExecuteTime": {
     "end_time": "2023-09-29T18:03:03.801844Z",
     "start_time": "2023-09-29T18:03:03.788844Z"
    }
   },
   "source": [
    "//*[@id=\"ember114\"]/span\n",
    "\n",
    "//*[@id=\"ember198\"]/span\n",
    "\n"
   ]
  },
  {
   "cell_type": "markdown",
   "id": "8f6d9e6b",
   "metadata": {},
   "source": [
    "# for iterating every page"
   ]
  },
  {
   "cell_type": "code",
   "execution_count": 33,
   "id": "3cdf24a6",
   "metadata": {
    "ExecuteTime": {
     "end_time": "2023-09-29T18:09:32.977965Z",
     "start_time": "2023-09-29T18:06:38.635740Z"
    }
   },
   "outputs": [],
   "source": [
    "for i in range(57):\n",
    "    browser.get(f'https://www.linkedin.com/search/results/people/?network=%5B%22F%22%5D&origin=MEMBER_PROFILE_CANNED_SEARCH&page={i}&sid=9_P')"
   ]
  },
  {
   "cell_type": "code",
   "execution_count": 34,
   "id": "5d6a9f9c",
   "metadata": {
    "ExecuteTime": {
     "end_time": "2023-09-29T18:15:56.313233Z",
     "start_time": "2023-09-29T18:15:56.224536Z"
    }
   },
   "outputs": [],
   "source": [
    "def apply_red_border_to_element_by_class_name(driver, class_name):\n",
    "    \"\"\"Applies a red border to an element by its class name.\"\"\"\n",
    "    element = driver.find_element_by_class_name(class_name)\n",
    "    driver.execute_script(\"arguments[0].style.border = '3px solid red'\", element)"
   ]
  },
  {
   "cell_type": "code",
   "execution_count": 35,
   "id": "4dde69d6",
   "metadata": {
    "ExecuteTime": {
     "end_time": "2023-09-29T18:16:25.837038Z",
     "start_time": "2023-09-29T18:16:25.644374Z"
    }
   },
   "outputs": [],
   "source": [
    "apply_red_border_to_element_by_class_name(browser, 'entity-result')"
   ]
  },
  {
   "cell_type": "code",
   "execution_count": 41,
   "id": "b0724636",
   "metadata": {
    "ExecuteTime": {
     "end_time": "2023-09-29T18:22:06.677066Z",
     "start_time": "2023-09-29T18:22:06.283008Z"
    }
   },
   "outputs": [
    {
     "ename": "NoSuchElementException",
     "evalue": "Message: no such element: Unable to locate element: {\"method\":\"css selector\",\"selector\":\".entity-result\"}\n  (Session info: chrome=117.0.5938.132)\n",
     "output_type": "error",
     "traceback": [
      "\u001b[1;31m---------------------------------------------------------------------------\u001b[0m",
      "\u001b[1;31mNoSuchElementException\u001b[0m                    Traceback (most recent call last)",
      "Cell \u001b[1;32mIn[41], line 2\u001b[0m\n\u001b[0;32m      1\u001b[0m \u001b[38;5;28;01mfor\u001b[39;00m i \u001b[38;5;129;01min\u001b[39;00m browser\u001b[38;5;241m.\u001b[39mfind_elements(By\u001b[38;5;241m.\u001b[39mCLASS_NAME, \u001b[38;5;124m'\u001b[39m\u001b[38;5;124mreusable-search__result-container\u001b[39m\u001b[38;5;124m'\u001b[39m):\n\u001b[1;32m----> 2\u001b[0m     \u001b[43mapply_red_border_to_element_by_class_name\u001b[49m\u001b[43m(\u001b[49m\u001b[43mi\u001b[49m\u001b[38;5;241;43m.\u001b[39;49m\u001b[43mfind_element\u001b[49m\u001b[43m(\u001b[49m\u001b[43mBy\u001b[49m\u001b[38;5;241;43m.\u001b[39;49m\u001b[43mCLASS_NAME\u001b[49m\u001b[43m,\u001b[49m\u001b[43m \u001b[49m\u001b[38;5;124;43m'\u001b[39;49m\u001b[38;5;124;43mentity-result\u001b[39;49m\u001b[38;5;124;43m'\u001b[39;49m\u001b[43m)\u001b[49m\u001b[43m,\u001b[49m\u001b[43m \u001b[49m\u001b[38;5;124;43m'\u001b[39;49m\u001b[38;5;124;43mentity-result\u001b[39;49m\u001b[38;5;124;43m'\u001b[39;49m\u001b[43m)\u001b[49m\n",
      "Cell \u001b[1;32mIn[34], line 3\u001b[0m, in \u001b[0;36mapply_red_border_to_element_by_class_name\u001b[1;34m(driver, class_name)\u001b[0m\n\u001b[0;32m      1\u001b[0m \u001b[38;5;28;01mdef\u001b[39;00m \u001b[38;5;21mapply_red_border_to_element_by_class_name\u001b[39m(driver, class_name):\n\u001b[0;32m      2\u001b[0m \u001b[38;5;250m    \u001b[39m\u001b[38;5;124;03m\"\"\"Applies a red border to an element by its class name.\"\"\"\u001b[39;00m\n\u001b[1;32m----> 3\u001b[0m     element \u001b[38;5;241m=\u001b[39m \u001b[43mdriver\u001b[49m\u001b[38;5;241;43m.\u001b[39;49m\u001b[43mfind_element_by_class_name\u001b[49m\u001b[43m(\u001b[49m\u001b[43mclass_name\u001b[49m\u001b[43m)\u001b[49m\n\u001b[0;32m      4\u001b[0m     driver\u001b[38;5;241m.\u001b[39mexecute_script(\u001b[38;5;124m\"\u001b[39m\u001b[38;5;124marguments[0].style.border = \u001b[39m\u001b[38;5;124m'\u001b[39m\u001b[38;5;124m3px solid red\u001b[39m\u001b[38;5;124m'\u001b[39m\u001b[38;5;124m\"\u001b[39m, element)\n",
      "File \u001b[1;32mC:\\GFG_DataScience\\env\\lib\\site-packages\\selenium\\webdriver\\remote\\webelement.py:398\u001b[0m, in \u001b[0;36mWebElement.find_element_by_class_name\u001b[1;34m(self, name)\u001b[0m\n\u001b[0;32m    383\u001b[0m \u001b[38;5;28;01mdef\u001b[39;00m \u001b[38;5;21mfind_element_by_class_name\u001b[39m(\u001b[38;5;28mself\u001b[39m, name):\n\u001b[0;32m    384\u001b[0m \u001b[38;5;250m    \u001b[39m\u001b[38;5;124;03m\"\"\"Finds element within this element's children by class name.\u001b[39;00m\n\u001b[0;32m    385\u001b[0m \n\u001b[0;32m    386\u001b[0m \u001b[38;5;124;03m    :Args:\u001b[39;00m\n\u001b[1;32m   (...)\u001b[0m\n\u001b[0;32m    396\u001b[0m \u001b[38;5;124;03m        element = element.find_element_by_class_name('foo')\u001b[39;00m\n\u001b[0;32m    397\u001b[0m \u001b[38;5;124;03m    \"\"\"\u001b[39;00m\n\u001b[1;32m--> 398\u001b[0m     \u001b[38;5;28;01mreturn\u001b[39;00m \u001b[38;5;28;43mself\u001b[39;49m\u001b[38;5;241;43m.\u001b[39;49m\u001b[43mfind_element\u001b[49m\u001b[43m(\u001b[49m\u001b[43mby\u001b[49m\u001b[38;5;241;43m=\u001b[39;49m\u001b[43mBy\u001b[49m\u001b[38;5;241;43m.\u001b[39;49m\u001b[43mCLASS_NAME\u001b[49m\u001b[43m,\u001b[49m\u001b[43m \u001b[49m\u001b[43mvalue\u001b[49m\u001b[38;5;241;43m=\u001b[39;49m\u001b[43mname\u001b[49m\u001b[43m)\u001b[49m\n",
      "File \u001b[1;32mC:\\GFG_DataScience\\env\\lib\\site-packages\\selenium\\webdriver\\remote\\webelement.py:658\u001b[0m, in \u001b[0;36mWebElement.find_element\u001b[1;34m(self, by, value)\u001b[0m\n\u001b[0;32m    655\u001b[0m         by \u001b[38;5;241m=\u001b[39m By\u001b[38;5;241m.\u001b[39mCSS_SELECTOR\n\u001b[0;32m    656\u001b[0m         value \u001b[38;5;241m=\u001b[39m \u001b[38;5;124m'\u001b[39m\u001b[38;5;124m[name=\u001b[39m\u001b[38;5;124m\"\u001b[39m\u001b[38;5;132;01m%s\u001b[39;00m\u001b[38;5;124m\"\u001b[39m\u001b[38;5;124m]\u001b[39m\u001b[38;5;124m'\u001b[39m \u001b[38;5;241m%\u001b[39m value\n\u001b[1;32m--> 658\u001b[0m \u001b[38;5;28;01mreturn\u001b[39;00m \u001b[38;5;28;43mself\u001b[39;49m\u001b[38;5;241;43m.\u001b[39;49m\u001b[43m_execute\u001b[49m\u001b[43m(\u001b[49m\u001b[43mCommand\u001b[49m\u001b[38;5;241;43m.\u001b[39;49m\u001b[43mFIND_CHILD_ELEMENT\u001b[49m\u001b[43m,\u001b[49m\n\u001b[0;32m    659\u001b[0m \u001b[43m                     \u001b[49m\u001b[43m{\u001b[49m\u001b[38;5;124;43m\"\u001b[39;49m\u001b[38;5;124;43musing\u001b[39;49m\u001b[38;5;124;43m\"\u001b[39;49m\u001b[43m:\u001b[49m\u001b[43m \u001b[49m\u001b[43mby\u001b[49m\u001b[43m,\u001b[49m\u001b[43m \u001b[49m\u001b[38;5;124;43m\"\u001b[39;49m\u001b[38;5;124;43mvalue\u001b[39;49m\u001b[38;5;124;43m\"\u001b[39;49m\u001b[43m:\u001b[49m\u001b[43m \u001b[49m\u001b[43mvalue\u001b[49m\u001b[43m}\u001b[49m\u001b[43m)\u001b[49m[\u001b[38;5;124m'\u001b[39m\u001b[38;5;124mvalue\u001b[39m\u001b[38;5;124m'\u001b[39m]\n",
      "File \u001b[1;32mC:\\GFG_DataScience\\env\\lib\\site-packages\\selenium\\webdriver\\remote\\webelement.py:633\u001b[0m, in \u001b[0;36mWebElement._execute\u001b[1;34m(self, command, params)\u001b[0m\n\u001b[0;32m    631\u001b[0m     params \u001b[38;5;241m=\u001b[39m {}\n\u001b[0;32m    632\u001b[0m params[\u001b[38;5;124m'\u001b[39m\u001b[38;5;124mid\u001b[39m\u001b[38;5;124m'\u001b[39m] \u001b[38;5;241m=\u001b[39m \u001b[38;5;28mself\u001b[39m\u001b[38;5;241m.\u001b[39m_id\n\u001b[1;32m--> 633\u001b[0m \u001b[38;5;28;01mreturn\u001b[39;00m \u001b[38;5;28;43mself\u001b[39;49m\u001b[38;5;241;43m.\u001b[39;49m\u001b[43m_parent\u001b[49m\u001b[38;5;241;43m.\u001b[39;49m\u001b[43mexecute\u001b[49m\u001b[43m(\u001b[49m\u001b[43mcommand\u001b[49m\u001b[43m,\u001b[49m\u001b[43m \u001b[49m\u001b[43mparams\u001b[49m\u001b[43m)\u001b[49m\n",
      "File \u001b[1;32mC:\\GFG_DataScience\\env\\lib\\site-packages\\selenium\\webdriver\\remote\\webdriver.py:321\u001b[0m, in \u001b[0;36mWebDriver.execute\u001b[1;34m(self, driver_command, params)\u001b[0m\n\u001b[0;32m    319\u001b[0m response \u001b[38;5;241m=\u001b[39m \u001b[38;5;28mself\u001b[39m\u001b[38;5;241m.\u001b[39mcommand_executor\u001b[38;5;241m.\u001b[39mexecute(driver_command, params)\n\u001b[0;32m    320\u001b[0m \u001b[38;5;28;01mif\u001b[39;00m response:\n\u001b[1;32m--> 321\u001b[0m     \u001b[38;5;28;43mself\u001b[39;49m\u001b[38;5;241;43m.\u001b[39;49m\u001b[43merror_handler\u001b[49m\u001b[38;5;241;43m.\u001b[39;49m\u001b[43mcheck_response\u001b[49m\u001b[43m(\u001b[49m\u001b[43mresponse\u001b[49m\u001b[43m)\u001b[49m\n\u001b[0;32m    322\u001b[0m     response[\u001b[38;5;124m'\u001b[39m\u001b[38;5;124mvalue\u001b[39m\u001b[38;5;124m'\u001b[39m] \u001b[38;5;241m=\u001b[39m \u001b[38;5;28mself\u001b[39m\u001b[38;5;241m.\u001b[39m_unwrap_value(\n\u001b[0;32m    323\u001b[0m         response\u001b[38;5;241m.\u001b[39mget(\u001b[38;5;124m'\u001b[39m\u001b[38;5;124mvalue\u001b[39m\u001b[38;5;124m'\u001b[39m, \u001b[38;5;28;01mNone\u001b[39;00m))\n\u001b[0;32m    324\u001b[0m     \u001b[38;5;28;01mreturn\u001b[39;00m response\n",
      "File \u001b[1;32mC:\\GFG_DataScience\\env\\lib\\site-packages\\selenium\\webdriver\\remote\\errorhandler.py:242\u001b[0m, in \u001b[0;36mErrorHandler.check_response\u001b[1;34m(self, response)\u001b[0m\n\u001b[0;32m    240\u001b[0m         alert_text \u001b[38;5;241m=\u001b[39m value[\u001b[38;5;124m'\u001b[39m\u001b[38;5;124malert\u001b[39m\u001b[38;5;124m'\u001b[39m]\u001b[38;5;241m.\u001b[39mget(\u001b[38;5;124m'\u001b[39m\u001b[38;5;124mtext\u001b[39m\u001b[38;5;124m'\u001b[39m)\n\u001b[0;32m    241\u001b[0m     \u001b[38;5;28;01mraise\u001b[39;00m exception_class(message, screen, stacktrace, alert_text)\n\u001b[1;32m--> 242\u001b[0m \u001b[38;5;28;01mraise\u001b[39;00m exception_class(message, screen, stacktrace)\n",
      "\u001b[1;31mNoSuchElementException\u001b[0m: Message: no such element: Unable to locate element: {\"method\":\"css selector\",\"selector\":\".entity-result\"}\n  (Session info: chrome=117.0.5938.132)\n"
     ]
    }
   ],
   "source": [
    "for i in browser.find_elements(By.CLASS_NAME, 'reusable-search__result-container'):\n",
    "    apply_red_border_to_element_by_class_name(i.find_element(By.CLASS_NAME, 'entity-result'), 'entity-result')"
   ]
  },
  {
   "cell_type": "code",
   "execution_count": 40,
   "id": "13989a5b",
   "metadata": {
    "ExecuteTime": {
     "end_time": "2023-09-29T18:20:07.182289Z",
     "start_time": "2023-09-29T18:20:07.138577Z"
    }
   },
   "outputs": [
    {
     "data": {
      "text/plain": [
       "[<selenium.webdriver.remote.webelement.WebElement (session=\"3091329e5ddd11220c73ca64adc8e130\", element=\"E6EDF2BC43756E0165C4A492F1D21398_element_9549\")>,\n",
       " <selenium.webdriver.remote.webelement.WebElement (session=\"3091329e5ddd11220c73ca64adc8e130\", element=\"E6EDF2BC43756E0165C4A492F1D21398_element_9551\")>,\n",
       " <selenium.webdriver.remote.webelement.WebElement (session=\"3091329e5ddd11220c73ca64adc8e130\", element=\"E6EDF2BC43756E0165C4A492F1D21398_element_9553\")>,\n",
       " <selenium.webdriver.remote.webelement.WebElement (session=\"3091329e5ddd11220c73ca64adc8e130\", element=\"E6EDF2BC43756E0165C4A492F1D21398_element_9555\")>,\n",
       " <selenium.webdriver.remote.webelement.WebElement (session=\"3091329e5ddd11220c73ca64adc8e130\", element=\"E6EDF2BC43756E0165C4A492F1D21398_element_9557\")>,\n",
       " <selenium.webdriver.remote.webelement.WebElement (session=\"3091329e5ddd11220c73ca64adc8e130\", element=\"E6EDF2BC43756E0165C4A492F1D21398_element_9559\")>,\n",
       " <selenium.webdriver.remote.webelement.WebElement (session=\"3091329e5ddd11220c73ca64adc8e130\", element=\"E6EDF2BC43756E0165C4A492F1D21398_element_9561\")>,\n",
       " <selenium.webdriver.remote.webelement.WebElement (session=\"3091329e5ddd11220c73ca64adc8e130\", element=\"E6EDF2BC43756E0165C4A492F1D21398_element_9563\")>,\n",
       " <selenium.webdriver.remote.webelement.WebElement (session=\"3091329e5ddd11220c73ca64adc8e130\", element=\"E6EDF2BC43756E0165C4A492F1D21398_element_9565\")>,\n",
       " <selenium.webdriver.remote.webelement.WebElement (session=\"3091329e5ddd11220c73ca64adc8e130\", element=\"E6EDF2BC43756E0165C4A492F1D21398_element_9567\")>]"
      ]
     },
     "execution_count": 40,
     "metadata": {},
     "output_type": "execute_result"
    }
   ],
   "source": [
    "browser.find_elements(By.CLASS_NAME, 'reusable-search__result-container')"
   ]
  },
  {
   "cell_type": "code",
   "execution_count": 44,
   "id": "27854f71",
   "metadata": {
    "ExecuteTime": {
     "end_time": "2023-09-29T18:24:47.341471Z",
     "start_time": "2023-09-29T18:24:26.608348Z"
    }
   },
   "outputs": [],
   "source": [
    "from selenium import webdriver\n",
    "from selenium.webdriver.common.by import By\n",
    "import time\n",
    "\n",
    "def highlight_element(element, browser, duration=2):\n",
    "    \"\"\"Highlights a Selenium WebElement for a specified duration and then reverts its style.\"\"\"\n",
    "    original_style = element.get_attribute('style')\n",
    "    browser.execute_script(\"arguments[0].style.border = '3px solid red'\", element)\n",
    "    time.sleep(duration)  # highlight duration\n",
    "    browser.execute_script(\"arguments[0].setAttribute('style', arguments[1])\", element, original_style)\n",
    "\n",
    "\n",
    "# Loop over each 'reusable-search__result-container' element\n",
    "for container in browser.find_elements(By.CLASS_NAME, 'reusable-search__result-container'):\n",
    "    # Find the 'entity-result' child of the container and highlight it\n",
    "    entity = container.find_element(By.CLASS_NAME, 'entity-result')\n",
    "    highlight_element(entity, browser)\n",
    "\n",
    "# Keep the browser window open to visually inspect the changes.\n",
    "# Close it manually or add browser.quit() to close it programmatically.\n",
    "\n",
    "# browser.quit()\n"
   ]
  },
  {
   "cell_type": "markdown",
   "id": "e720ddf1",
   "metadata": {},
   "source": [
    "# each page iterating div"
   ]
  },
  {
   "cell_type": "code",
   "execution_count": 87,
   "id": "4a73e6a8",
   "metadata": {
    "ExecuteTime": {
     "end_time": "2023-09-29T19:15:33.512529Z",
     "start_time": "2023-09-29T19:15:30.391334Z"
    }
   },
   "outputs": [
    {
     "ename": "AttributeError",
     "evalue": "'WebDriver' object has no attribute 'scroll'",
     "output_type": "error",
     "traceback": [
      "\u001b[1;31m---------------------------------------------------------------------------\u001b[0m",
      "\u001b[1;31mAttributeError\u001b[0m                            Traceback (most recent call last)",
      "Cell \u001b[1;32mIn[87], line 9\u001b[0m\n\u001b[0;32m      7\u001b[0m         message_window \u001b[38;5;241m=\u001b[39m container\u001b[38;5;241m.\u001b[39mfind_element(By\u001b[38;5;241m.\u001b[39mCLASS_NAME, \u001b[38;5;124mf\u001b[39m\u001b[38;5;124m'\u001b[39m\u001b[38;5;124martdeco-button\u001b[39m\u001b[38;5;124m'\u001b[39m)\u001b[38;5;241m.\u001b[39mclick()\n\u001b[0;32m      8\u001b[0m         time\u001b[38;5;241m.\u001b[39msleep(\u001b[38;5;241m1\u001b[39m)\n\u001b[1;32m----> 9\u001b[0m         \u001b[43mbrowser\u001b[49m\u001b[38;5;241;43m.\u001b[39;49m\u001b[43mscroll\u001b[49m()\n\u001b[0;32m     10\u001b[0m \u001b[38;5;66;03m#         cross_button = browser.find_element(By.CSS_SELECTOR, '.msg-overlay-bubble-header__control.artdeco-button.artdeco-button--circle.artdeco-button--muted.artdeco-button--1.artdeco-button--tertiary').click()\u001b[39;00m\n\u001b[0;32m     11\u001b[0m \u001b[38;5;66;03m#         highlight_element(cross_button, browser,duration=0.5)\u001b[39;00m\n\u001b[0;32m     12\u001b[0m \u001b[38;5;66;03m#         cross_button\u001b[39;00m\n\u001b[0;32m     13\u001b[0m         time\u001b[38;5;241m.\u001b[39msleep(\u001b[38;5;241m2\u001b[39m)\n",
      "\u001b[1;31mAttributeError\u001b[0m: 'WebDriver' object has no attribute 'scroll'"
     ]
    }
   ],
   "source": [
    "for i in range(2, 57):\n",
    "    page_count = 1\n",
    "    time.sleep(2)\n",
    "    for container in browser.find_elements(By.CLASS_NAME, 'reusable-search__result-container'):\n",
    "        # Find the 'entity-result' child of the container and highlight it\n",
    "        entity = container.find_element(By.CLASS_NAME, 'entity-result')\n",
    "        message_window = container.find_element(By.CLASS_NAME, f'artdeco-button').click()\n",
    "#         time.sleep(1)\n",
    "#         cross_button = browser.find_element(By.CSS_SELECTOR, '.msg-overlay-bubble-header__control.artdeco-button.artdeco-button--circle.artdeco-button--muted.artdeco-button--1.artdeco-button--tertiary').click()\n",
    "#         highlight_element(cross_button, browser,duration=0.5)\n",
    "#         cross_button\n",
    "#         time.sleep(2)\n",
    "    browser.get(f'https://www.linkedin.com/search/results/people/?network=%5B%22F%22%5D&origin=MEMBER_PROFILE_CANNED_SEARCH&page={i}&sid=9_P')"
   ]
  },
  {
   "cell_type": "code",
   "execution_count": 59,
   "id": "f0b28bef",
   "metadata": {
    "ExecuteTime": {
     "end_time": "2023-09-29T18:47:47.512531Z",
     "start_time": "2023-09-29T18:47:47.429715Z"
    }
   },
   "outputs": [],
   "source": [
    "browser.find_elements(By.CLASS_NAME, 'reusable-search__result-container')[0].find_element(By.CLASS_NAME, 'artdeco-button').click()"
   ]
  },
  {
   "cell_type": "code",
   "execution_count": 79,
   "id": "a2a23ac4",
   "metadata": {
    "ExecuteTime": {
     "end_time": "2023-09-29T19:09:25.019442Z",
     "start_time": "2023-09-29T19:09:24.968015Z"
    }
   },
   "outputs": [
    {
     "data": {
      "text/plain": [
       "<selenium.webdriver.remote.webelement.WebElement (session=\"3091329e5ddd11220c73ca64adc8e130\", element=\"753DC135FB9EA8740825548CD638AB54_element_20471\")>"
      ]
     },
     "execution_count": 79,
     "metadata": {},
     "output_type": "execute_result"
    }
   ],
   "source": [
    "browser.find_element(By.CSS_SELECTOR, '.msg-overlay-bubble-header__control.artdeco-button.artdeco-button--circle.artdeco-button--muted.artdeco-button--1.artdeco-button--tertiary.ember-view')\n"
   ]
  },
  {
   "cell_type": "code",
   "execution_count": null,
   "id": "4d71b42e",
   "metadata": {},
   "outputs": [],
   "source": [
    "# stuck on closing the message window"
   ]
  }
 ],
 "metadata": {
  "kernelspec": {
   "display_name": "Python 3 (ipykernel)",
   "language": "python",
   "name": "python3"
  },
  "language_info": {
   "codemirror_mode": {
    "name": "ipython",
    "version": 3
   },
   "file_extension": ".py",
   "mimetype": "text/x-python",
   "name": "python",
   "nbconvert_exporter": "python",
   "pygments_lexer": "ipython3",
   "version": "3.10.10"
  },
  "toc": {
   "base_numbering": 1,
   "nav_menu": {},
   "number_sections": true,
   "sideBar": true,
   "skip_h1_title": false,
   "title_cell": "Table of Contents",
   "title_sidebar": "Contents",
   "toc_cell": false,
   "toc_position": {},
   "toc_section_display": true,
   "toc_window_display": false
  }
 },
 "nbformat": 4,
 "nbformat_minor": 5
}
